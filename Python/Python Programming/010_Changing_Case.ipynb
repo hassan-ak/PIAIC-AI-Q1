{
  "cells": [
    {
      "cell_type": "markdown",
      "metadata": {
        "id": "96tzyk5meCDE"
      },
      "source": [
        "# Changing case\n",
        "Changing case is recquired mostly in case of user input"
      ]
    },
    {
      "cell_type": "code",
      "execution_count": 1,
      "metadata": {
        "colab": {
          "base_uri": "https://localhost:8080/"
        },
        "id": "nPG96l0feCDK",
        "outputId": "3d53479f-0d2b-4ce1-8041-fce0cefb5b19"
      },
      "outputs": [
        {
          "output_type": "execute_result",
          "data": {
            "text/plain": [
              "str"
            ]
          },
          "metadata": {},
          "execution_count": 1
        }
      ],
      "source": [
        "name = \"PaKiStAn\"\n",
        "type(name)"
      ]
    },
    {
      "cell_type": "code",
      "execution_count": 2,
      "metadata": {
        "colab": {
          "base_uri": "https://localhost:8080/"
        },
        "id": "6toSvwg7eCDM",
        "outputId": "59393f0e-15dc-4561-83da-ffdb805ab186"
      },
      "outputs": [
        {
          "output_type": "stream",
          "name": "stdout",
          "text": [
            "pakistan\n",
            "PAKISTAN\n",
            "Pakistan\n"
          ]
        }
      ],
      "source": [
        "print(name.lower())\n",
        "print(name.upper())\n",
        "print(name.title())"
      ]
    },
    {
      "cell_type": "markdown",
      "metadata": {
        "id": "Kh0VH4kBeCDN"
      },
      "source": [
        "Example"
      ]
    },
    {
      "cell_type": "code",
      "execution_count": 3,
      "metadata": {
        "colab": {
          "base_uri": "https://localhost:8080/"
        },
        "id": "nVO-rjB5eCDO",
        "outputId": "ce6353ae-8759-43f2-8765-778b2f74253b"
      },
      "outputs": [
        {
          "output_type": "stream",
          "name": "stdout",
          "text": [
            "i am a human\n",
            "I AM A HUMAN\n",
            "I Am A Human\n"
          ]
        }
      ],
      "source": [
        "str_data = \"i AM A hUMAN\"\n",
        "print(str_data.lower())\n",
        "print(str_data.upper())\n",
        "print(str_data.title())"
      ]
    },
    {
      "cell_type": "markdown",
      "metadata": {
        "id": "kgh0IXeDeCDP"
      },
      "source": [
        "Example"
      ]
    },
    {
      "cell_type": "code",
      "execution_count": 4,
      "metadata": {
        "colab": {
          "base_uri": "https://localhost:8080/"
        },
        "id": "CpHBhUX-eCDP",
        "outputId": "c58daa93-0f4f-4efc-9be1-a4af41141464"
      },
      "outputs": [
        {
          "output_type": "execute_result",
          "data": {
            "text/plain": [
              "['Cheyenne', 'cheyenne', 'Santa Fe', 'santa fe', 'Tucson', 'tucson']"
            ]
          },
          "metadata": {},
          "execution_count": 4
        }
      ],
      "source": [
        "cleanest_cities = [\"Cheyenne\", \"cheyenne\", \"Santa Fe\", \"santa fe\", \"Tucson\", \"tucson\"]\n",
        "cleanest_cities"
      ]
    },
    {
      "cell_type": "code",
      "execution_count": 5,
      "metadata": {
        "colab": {
          "base_uri": "https://localhost:8080/"
        },
        "id": "3-O56ApPeCDR",
        "outputId": "4e4c379a-5371-4c76-eeb1-270a8e38bcef"
      },
      "outputs": [
        {
          "output_type": "stream",
          "name": "stdout",
          "text": [
            "Enter your city: TuCsOn\n",
            "It's one of the cleanest cities\n",
            "Great news! Tucson is one of the cleanest cities.\n"
          ]
        }
      ],
      "source": [
        "city_to_check = input(\"Enter your city: \")\n",
        "city_to_check = city_to_check.lower()\n",
        "cleanest_cities = [\"cheyenne\", \"santa fe\", \"tucson\", \"great falls\", \"honolulu\"]\n",
        "for a_clean_city in cleanest_cities:\n",
        "    if city_to_check == a_clean_city:\n",
        "        print(\"It's one of the cleanest cities\")\n",
        "        city_to_check = city_to_check.title()\n",
        "        break\n",
        "city_to_check = city_to_check.title()\n",
        "print(\"Great news! \" + city_to_check + \" is one of the cleanest cities.\")"
      ]
    },
    {
      "cell_type": "markdown",
      "metadata": {
        "id": "n2JEVhNoeCDS"
      },
      "source": [
        "[<--- Previous Page](README.md)"
      ]
    }
  ],
  "metadata": {
    "kernelspec": {
      "display_name": "Python 3",
      "language": "python",
      "name": "python3"
    },
    "language_info": {
      "codemirror_mode": {
        "name": "ipython",
        "version": 3
      },
      "file_extension": ".py",
      "mimetype": "text/x-python",
      "name": "python",
      "nbconvert_exporter": "python",
      "pygments_lexer": "ipython3",
      "version": "3.10.1"
    },
    "colab": {
      "name": "010_Changing_Case.ipynb",
      "provenance": []
    }
  },
  "nbformat": 4,
  "nbformat_minor": 0
}