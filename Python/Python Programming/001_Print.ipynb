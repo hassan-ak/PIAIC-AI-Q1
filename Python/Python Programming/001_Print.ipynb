{
  "cells": [
    {
      "cell_type": "markdown",
      "metadata": {
        "id": "Q8MOehROHoBQ"
      },
      "source": [
        "# Print\n",
        "- The print function in Python is a function that outputs to your console window whatever you say you want to print out.\n",
        "- On your first look, it might appear that the print function is rather useless for programming, but it is actually one of the most widely used function in all of python\n",
        "- `print()` always use `()` with a function. we can also identify a function due to presense of `()`"
      ]
    },
    {
      "cell_type": "code",
      "execution_count": 1,
      "metadata": {
        "colab": {
          "base_uri": "https://localhost:8080/"
        },
        "id": "3PsdN0KWHoBZ",
        "outputId": "918bc4ee-4c88-4493-c249-c09e48adb040"
      },
      "outputs": [
        {
          "output_type": "stream",
          "name": "stdout",
          "text": [
            "\n"
          ]
        }
      ],
      "source": [
        "print()"
      ]
    },
    {
      "cell_type": "markdown",
      "metadata": {
        "id": "KymxEIvVHoBb"
      },
      "source": [
        "- python is a case senstive language\n",
        "- check spells\n",
        "- `Print()` ---> it gives a traceback / error, python is a case senstive language always check spells"
      ]
    },
    {
      "cell_type": "code",
      "execution_count": 2,
      "metadata": {
        "scrolled": true,
        "colab": {
          "base_uri": "https://localhost:8080/",
          "height": 165
        },
        "id": "c47QutLnHoBc",
        "outputId": "9ef1ba26-29af-449f-b93e-41ef62ee7f59"
      },
      "outputs": [
        {
          "output_type": "error",
          "ename": "NameError",
          "evalue": "ignored",
          "traceback": [
            "\u001b[0;31m---------------------------------------------------------------------------\u001b[0m",
            "\u001b[0;31mNameError\u001b[0m                                 Traceback (most recent call last)",
            "\u001b[0;32m<ipython-input-2-6053d2c589ce>\u001b[0m in \u001b[0;36m<module>\u001b[0;34m()\u001b[0m\n\u001b[0;32m----> 1\u001b[0;31m \u001b[0mPrint\u001b[0m\u001b[0;34m(\u001b[0m\u001b[0;34m)\u001b[0m\u001b[0;34m\u001b[0m\u001b[0;34m\u001b[0m\u001b[0m\n\u001b[0m",
            "\u001b[0;31mNameError\u001b[0m: name 'Print' is not defined"
          ]
        }
      ],
      "source": [
        "Print() "
      ]
    },
    {
      "cell_type": "markdown",
      "metadata": {
        "id": "zR3lYRSZHoBd"
      },
      "source": [
        "- numbers can be written diretly in the function"
      ]
    },
    {
      "cell_type": "code",
      "execution_count": 3,
      "metadata": {
        "colab": {
          "base_uri": "https://localhost:8080/"
        },
        "id": "FiLIKWi8HoBe",
        "outputId": "ea3583ae-b17c-4710-92e6-71f54bc18956"
      },
      "outputs": [
        {
          "output_type": "stream",
          "name": "stdout",
          "text": [
            "217\n"
          ]
        }
      ],
      "source": [
        "print(217)"
      ]
    },
    {
      "cell_type": "markdown",
      "metadata": {
        "id": "MvDnEgfUHoBf"
      },
      "source": [
        "- we can use print command on multiple entries too\n",
        "- always seprate multiple entries with a comma\n",
        "- comma automaticaly place a space between entries"
      ]
    },
    {
      "cell_type": "code",
      "execution_count": 4,
      "metadata": {
        "colab": {
          "base_uri": "https://localhost:8080/"
        },
        "id": "FbF0exY4HoBh",
        "outputId": "3b24e2e7-872a-43ad-ee05-58f4eccd94cf"
      },
      "outputs": [
        {
          "output_type": "stream",
          "name": "stdout",
          "text": [
            "123 456\n"
          ]
        }
      ],
      "source": [
        "print (123,456)"
      ]
    },
    {
      "cell_type": "markdown",
      "metadata": {
        "id": "fkMquEOQHoBi"
      },
      "source": [
        "- we can print numbers\n",
        "  - integers\n",
        "  - float or decimal"
      ]
    },
    {
      "cell_type": "code",
      "execution_count": 5,
      "metadata": {
        "colab": {
          "base_uri": "https://localhost:8080/"
        },
        "id": "5gsa4whlHoBj",
        "outputId": "bd7497b1-91bf-42e7-cda6-e6287a1b6ec0"
      },
      "outputs": [
        {
          "output_type": "stream",
          "name": "stdout",
          "text": [
            "123 12.3\n"
          ]
        }
      ],
      "source": [
        "print(123,12.3)"
      ]
    },
    {
      "cell_type": "markdown",
      "metadata": {
        "id": "EeNDlm_pHoBk"
      },
      "source": [
        "- we can print text too\n",
        "    - string\n",
        "    - while printing text need to use \"\" or ''"
      ]
    },
    {
      "cell_type": "code",
      "execution_count": 6,
      "metadata": {
        "colab": {
          "base_uri": "https://localhost:8080/"
        },
        "id": "fhjJoa0VHoBl",
        "outputId": "4586c8af-58fa-464b-fd81-4a943200a164"
      },
      "outputs": [
        {
          "output_type": "stream",
          "name": "stdout",
          "text": [
            "Hello World\n",
            "python\n",
            "python\n"
          ]
        }
      ],
      "source": [
        "print(\"Hello World\")\n",
        "print(\"python\")\n",
        "print('python')"
      ]
    },
    {
      "cell_type": "markdown",
      "metadata": {
        "id": "P8JMjmVYHoBm"
      },
      "source": [
        "- every thing enclossed in a \"\" or '' is a string"
      ]
    },
    {
      "cell_type": "code",
      "execution_count": 7,
      "metadata": {
        "colab": {
          "base_uri": "https://localhost:8080/"
        },
        "id": "CjLpSiiVHoBn",
        "outputId": "fe01b6e4-69c7-4b64-8da6-5621c95225dc"
      },
      "outputs": [
        {
          "output_type": "stream",
          "name": "stdout",
          "text": [
            "12\n",
            "12\n"
          ]
        }
      ],
      "source": [
        "print('12')\n",
        "print(\"12\")"
      ]
    },
    {
      "cell_type": "markdown",
      "metadata": {
        "id": "Q1YiZ88uHoBn"
      },
      "source": [
        "- Alpha numeric data"
      ]
    },
    {
      "cell_type": "code",
      "execution_count": 8,
      "metadata": {
        "colab": {
          "base_uri": "https://localhost:8080/"
        },
        "id": "jismfWB2HoBo",
        "outputId": "07fde72f-748d-44d6-ea93-e805394689e3"
      },
      "outputs": [
        {
          "output_type": "stream",
          "name": "stdout",
          "text": [
            "123 Pakistan\n"
          ]
        }
      ],
      "source": [
        "print('123 Pakistan')"
      ]
    },
    {
      "cell_type": "markdown",
      "metadata": {
        "id": "qYSV5h5NHoBo"
      },
      "source": [
        "- **Note** \n",
        "    - write any function\n",
        "        - place curser b/w ()\n",
        "        - press shift+tab\n",
        "        - it opens up the signature of the function"
      ]
    },
    {
      "cell_type": "markdown",
      "metadata": {
        "id": "IK9MNSA2HoBp"
      },
      "source": [
        "**Seprater** \n",
        "- by default sep=' '"
      ]
    },
    {
      "cell_type": "code",
      "execution_count": 9,
      "metadata": {
        "colab": {
          "base_uri": "https://localhost:8080/"
        },
        "id": "aQ0o_AYVHoBq",
        "outputId": "d13ac3bd-113a-430a-91fe-7fc4a30f2ba1"
      },
      "outputs": [
        {
          "output_type": "stream",
          "name": "stdout",
          "text": [
            "long live pakistan\n",
            "long live pakistan\n"
          ]
        }
      ],
      "source": [
        "print('long','live','pakistan')\n",
        "print('long','live','pakistan',sep=' ')"
      ]
    },
    {
      "cell_type": "code",
      "execution_count": 10,
      "metadata": {
        "colab": {
          "base_uri": "https://localhost:8080/"
        },
        "id": "KT_gAKGAHoBr",
        "outputId": "4b447c41-34f1-4030-e307-04300be7fab0"
      },
      "outputs": [
        {
          "output_type": "stream",
          "name": "stdout",
          "text": [
            "longlivepakistan\n",
            "long---pindi---live---pindi---pakistan\n"
          ]
        }
      ],
      "source": [
        "print('long','live','pakistan',sep='')\n",
        "print('long','live','pakistan',sep='---pindi---')"
      ]
    },
    {
      "cell_type": "markdown",
      "metadata": {
        "id": "jLyggkhaHoBr"
      },
      "source": [
        "**end line**\n",
        "- by default end = '\\n'\n",
        "- \\n is known as escape character\n",
        "- we can use escape character any where we want\n",
        "- \\n adds new line\n",
        "\n",
        "```print('Work hard',end='\\n')\n",
        "print('dream big',end='\\n')```"
      ]
    },
    {
      "cell_type": "code",
      "execution_count": 11,
      "metadata": {
        "colab": {
          "base_uri": "https://localhost:8080/"
        },
        "id": "1Irtx7LbHoBs",
        "outputId": "92aa0e70-be62-4d72-fefb-81f9aa9afbb5"
      },
      "outputs": [
        {
          "output_type": "stream",
          "name": "stdout",
          "text": [
            "Work hard\n",
            "dream big\n"
          ]
        }
      ],
      "source": [
        "print('Work hard')\n",
        "print('dream big')"
      ]
    },
    {
      "cell_type": "code",
      "execution_count": 12,
      "metadata": {
        "colab": {
          "base_uri": "https://localhost:8080/"
        },
        "id": "3SAC6BQ5HoBs",
        "outputId": "511114be-2413-4860-c2b4-8e567b010d14"
      },
      "outputs": [
        {
          "output_type": "stream",
          "name": "stdout",
          "text": [
            "Work hard\n",
            "\n",
            "dream big\n",
            "\n"
          ]
        }
      ],
      "source": [
        "print('Work hard',end='\\n\\n')\n",
        "print('dream big',end='\\n\\n')"
      ]
    },
    {
      "cell_type": "markdown",
      "source": [
        "- remove spacing"
      ],
      "metadata": {
        "id": "juFpOQdqH_y6"
      }
    },
    {
      "cell_type": "code",
      "source": [
        "print('Work hard',end='')\n",
        "print('dream big',end='')"
      ],
      "metadata": {
        "colab": {
          "base_uri": "https://localhost:8080/"
        },
        "id": "B_eAsCcmIHvT",
        "outputId": "8a9fd22d-b06a-4928-b524-881f3a1cfc3a"
      },
      "execution_count": 13,
      "outputs": [
        {
          "output_type": "stream",
          "name": "stdout",
          "text": [
            "Work harddream big"
          ]
        }
      ]
    },
    {
      "cell_type": "markdown",
      "source": [
        "- insert spacing"
      ],
      "metadata": {
        "id": "Ak0bDzjWIKDd"
      }
    },
    {
      "cell_type": "code",
      "source": [
        "print('Work hard',end=' ')\n",
        "print('dream big',end=' ')"
      ],
      "metadata": {
        "colab": {
          "base_uri": "https://localhost:8080/"
        },
        "id": "PwwgC40_IKON",
        "outputId": "216bb38e-3d97-4720-b90f-7cb61af5a1f0"
      },
      "execution_count": 14,
      "outputs": [
        {
          "output_type": "stream",
          "name": "stdout",
          "text": [
            "Work hard dream big "
          ]
        }
      ]
    },
    {
      "cell_type": "markdown",
      "source": [
        "- `\\t` adds tabs spacing"
      ],
      "metadata": {
        "id": "QpQNbc8tIKdB"
      }
    },
    {
      "cell_type": "code",
      "source": [
        "print('Work hard',end='\\t')\n",
        "print('dream big',end='\\t')"
      ],
      "metadata": {
        "colab": {
          "base_uri": "https://localhost:8080/"
        },
        "id": "X_P4SLMdIKms",
        "outputId": "43a80d2e-8354-4af9-80d2-f0b074c6a03d"
      },
      "execution_count": 15,
      "outputs": [
        {
          "output_type": "stream",
          "name": "stdout",
          "text": [
            "Work hard\tdream big\t"
          ]
        }
      ]
    },
    {
      "cell_type": "code",
      "source": [
        "print('Work hard',end='\\t\\t')\n",
        "print('dream big',end='\\t\\t')"
      ],
      "metadata": {
        "colab": {
          "base_uri": "https://localhost:8080/"
        },
        "id": "U9Vj7CbDILGN",
        "outputId": "e233d2e8-ae0a-4aef-c133-525cd70de267"
      },
      "execution_count": 16,
      "outputs": [
        {
          "output_type": "stream",
          "name": "stdout",
          "text": [
            "Work hard\t\tdream big\t\t"
          ]
        }
      ]
    },
    {
      "cell_type": "markdown",
      "source": [
        "- `\\\\` prints backslash"
      ],
      "metadata": {
        "id": "bbzc6lb1ILQa"
      }
    },
    {
      "cell_type": "code",
      "source": [
        "print('Work hard',end='\\\\')\n",
        "print('dream big',end='\\\\')"
      ],
      "metadata": {
        "colab": {
          "base_uri": "https://localhost:8080/"
        },
        "id": "AG0vFBEaILag",
        "outputId": "f6e0664b-5ebf-4bc3-f130-37e3a006c485"
      },
      "execution_count": 17,
      "outputs": [
        {
          "output_type": "stream",
          "name": "stdout",
          "text": [
            "Work hard\\dream big\\"
          ]
        }
      ]
    },
    {
      "cell_type": "markdown",
      "source": [
        "- `\\'` prints single quote\n"
      ],
      "metadata": {
        "id": "jND_zgXzILkp"
      }
    },
    {
      "cell_type": "code",
      "source": [
        "print('Work hard',end='\\'')\n",
        "print('dream big',end='\\'')"
      ],
      "metadata": {
        "colab": {
          "base_uri": "https://localhost:8080/"
        },
        "id": "hTevfp4_ILuK",
        "outputId": "37786706-e6ea-430d-8264-3e4385be43e9"
      },
      "execution_count": 18,
      "outputs": [
        {
          "output_type": "stream",
          "name": "stdout",
          "text": [
            "Work hard'dream big'"
          ]
        }
      ]
    },
    {
      "cell_type": "markdown",
      "source": [
        "- `\\\"` prints double quote"
      ],
      "metadata": {
        "id": "EKDlUVWuIL3r"
      }
    },
    {
      "cell_type": "code",
      "source": [
        "print('Work hard',end='\\\"')\n",
        "print('dream big',end='\\\"')"
      ],
      "metadata": {
        "colab": {
          "base_uri": "https://localhost:8080/"
        },
        "id": "inzOF5GmIL_6",
        "outputId": "3bf53fbb-fe23-4131-c38b-8cc4b8e15028"
      },
      "execution_count": 19,
      "outputs": [
        {
          "output_type": "stream",
          "name": "stdout",
          "text": [
            "Work hard\"dream big\""
          ]
        }
      ]
    },
    {
      "cell_type": "code",
      "source": [
        "print('Work hard',end='\\\"')\n",
        "print()\n",
        "print('dream big',end='\\\"')"
      ],
      "metadata": {
        "colab": {
          "base_uri": "https://localhost:8080/"
        },
        "id": "8shkSnJeIMSB",
        "outputId": "fda80293-548b-4d29-c6c5-a838d2b5fdb8"
      },
      "execution_count": 20,
      "outputs": [
        {
          "output_type": "stream",
          "name": "stdout",
          "text": [
            "Work hard\"\n",
            "dream big\""
          ]
        }
      ]
    },
    {
      "cell_type": "markdown",
      "source": [
        "- `\\b` removes previous character"
      ],
      "metadata": {
        "id": "nXCrm3zWIMbH"
      }
    },
    {
      "cell_type": "code",
      "source": [
        "\n",
        "print('Work hard',end='\\b')\n",
        "print()\n",
        "print('dream big',end='\\b')"
      ],
      "metadata": {
        "colab": {
          "base_uri": "https://localhost:8080/"
        },
        "id": "akzyIaBpIMjA",
        "outputId": "06049f23-ce0c-4341-e90a-f5508ce6643f"
      },
      "execution_count": 21,
      "outputs": [
        {
          "output_type": "stream",
          "name": "stdout",
          "text": [
            "Work hard\b\n",
            "dream big\b"
          ]
        }
      ]
    },
    {
      "cell_type": "markdown",
      "source": [
        "- `\\a` ring a bell"
      ],
      "metadata": {
        "id": "VUU-FjuCIMr8"
      }
    },
    {
      "cell_type": "code",
      "source": [
        "print('Work hard',end='\\a')\n",
        "print()\n",
        "print('dream big',end='\\a')"
      ],
      "metadata": {
        "colab": {
          "base_uri": "https://localhost:8080/"
        },
        "id": "YTBP8sIIIMzO",
        "outputId": "f3217932-5792-4fa1-d482-2fd8ff3a269a"
      },
      "execution_count": 22,
      "outputs": [
        {
          "output_type": "stream",
          "name": "stdout",
          "text": [
            "Work hard\u0007\n",
            "dream big\u0007"
          ]
        }
      ]
    },
    {
      "cell_type": "markdown",
      "source": [
        "- `\\r` Moves all characters after to the beginning of the line while overriding same number of characters moved.\n"
      ],
      "metadata": {
        "id": "FYypusTCJkd-"
      }
    },
    {
      "cell_type": "code",
      "source": [
        "print('hello world 123456',end='\\r')\n",
        "print('hello world 789',end='\\r')    \n",
        "print('hello world')"
      ],
      "metadata": {
        "colab": {
          "base_uri": "https://localhost:8080/"
        },
        "id": "641OYhFtJkoB",
        "outputId": "5be0aecc-1559-4b5d-9bf6-db593265121d"
      },
      "execution_count": 26,
      "outputs": [
        {
          "output_type": "stream",
          "name": "stdout",
          "text": [
            "hello world 123456\rhello world 789\rhello world\n"
          ]
        }
      ]
    },
    {
      "cell_type": "markdown",
      "source": [
        "- `\\N{name}` Prints a character from the Unicode database\n"
      ],
      "metadata": {
        "id": "JoUpTgWoJkwq"
      }
    },
    {
      "cell_type": "code",
      "source": [
        "print('Work hard Dream Big ',end='\\N{DAGGER}')"
      ],
      "metadata": {
        "colab": {
          "base_uri": "https://localhost:8080/"
        },
        "id": "RgeMH3rwJk4R",
        "outputId": "8ad15b1f-066f-436e-9626-2240cfe89b1c"
      },
      "execution_count": 27,
      "outputs": [
        {
          "output_type": "stream",
          "name": "stdout",
          "text": [
            "Work hard Dream Big †"
          ]
        }
      ]
    },
    {
      "cell_type": "markdown",
      "source": [
        "- `\\uxxxx` Prints 16-bit hex value Unicode character"
      ],
      "metadata": {
        "id": "IOHieLzdJlAW"
      }
    },
    {
      "cell_type": "code",
      "source": [
        "print('Work hard Dream Big ',end='\\u041b ')"
      ],
      "metadata": {
        "colab": {
          "base_uri": "https://localhost:8080/"
        },
        "id": "H43EyzPkJlI9",
        "outputId": "09a0334d-2239-44ee-cc3d-efcdeac2d6fb"
      },
      "execution_count": 28,
      "outputs": [
        {
          "output_type": "stream",
          "name": "stdout",
          "text": [
            "Work hard Dream Big Л "
          ]
        }
      ]
    },
    {
      "cell_type": "markdown",
      "source": [
        "- `\\Uxxxxxxxx` Prints 32-bit hex value Unicode character\n"
      ],
      "metadata": {
        "id": "XfIjL2rFJlQj"
      }
    },
    {
      "cell_type": "code",
      "source": [
        "print('Work hard Dream Big ',end='\\U000001a9 ') "
      ],
      "metadata": {
        "colab": {
          "base_uri": "https://localhost:8080/"
        },
        "id": "yRmHaijJJlYU",
        "outputId": "66bbd82e-cd03-423c-8934-483e6d1bfb78"
      },
      "execution_count": 29,
      "outputs": [
        {
          "output_type": "stream",
          "name": "stdout",
          "text": [
            "Work hard Dream Big Ʃ "
          ]
        }
      ]
    },
    {
      "cell_type": "markdown",
      "source": [
        "- `\\ooo` Prints character based on its octal value"
      ],
      "metadata": {
        "id": "Rfe97ZGpJli-"
      }
    },
    {
      "cell_type": "code",
      "source": [
        "print('Work hard Dream Big ',end='\\245 ') "
      ],
      "metadata": {
        "colab": {
          "base_uri": "https://localhost:8080/"
        },
        "id": "OOqsurvrJlvY",
        "outputId": "ea614add-c5f8-4ddc-857a-129820b3f0c5"
      },
      "execution_count": 30,
      "outputs": [
        {
          "output_type": "stream",
          "name": "stdout",
          "text": [
            "Work hard Dream Big ¥ "
          ]
        }
      ]
    },
    {
      "cell_type": "markdown",
      "source": [
        "- `\\xhh` Prints character based on its hex value"
      ],
      "metadata": {
        "id": "fGfCiizJJl7a"
      }
    },
    {
      "cell_type": "code",
      "source": [
        "print('Work hard Dream Big ',end='\\x23 ') "
      ],
      "metadata": {
        "colab": {
          "base_uri": "https://localhost:8080/"
        },
        "id": "NhvbIlyBJmIf",
        "outputId": "67eb4796-5181-41ab-bf27-293b5ae81868"
      },
      "execution_count": 31,
      "outputs": [
        {
          "output_type": "stream",
          "name": "stdout",
          "text": [
            "Work hard Dream Big # "
          ]
        }
      ]
    },
    {
      "cell_type": "markdown",
      "source": [
        "- `\\f` form fed or formating"
      ],
      "metadata": {
        "id": "r1OWQ5YGK98o"
      }
    },
    {
      "cell_type": "code",
      "source": [
        "a = 3\n",
        "print('we are', a,'friends')\n",
        "print(f'we are {a} friends')\n",
        "print((\"We are {0} friends\").format(a))"
      ],
      "metadata": {
        "colab": {
          "base_uri": "https://localhost:8080/"
        },
        "id": "XYLJsbkGK-H9",
        "outputId": "674aded9-e800-4930-add3-365a23854ded"
      },
      "execution_count": 32,
      "outputs": [
        {
          "output_type": "stream",
          "name": "stdout",
          "text": [
            "we are 3 friends\n",
            "we are 3 friends\n",
            "We are 3 friends\n"
          ]
        }
      ]
    },
    {
      "cell_type": "markdown",
      "metadata": {
        "id": "KNTOz-NAHoBt"
      },
      "source": [
        "There are other escape characters which are listed below:\n",
        "\n",
        "|Escape Sequence|Meaning|\n",
        "|---------------|-------|\n",
        "|\\newline|Backslash and newline ignored|\n",
        "|\\\\|Backslash (\\)|\n",
        "|\\'|Single quote (')|\n",
        "|\\\"|Double quote (\")|\n",
        "|\\a|ASCII Bell (BEL)|\n",
        "|\\b|ASCII Backspace (BS)|\n",
        "|\\f|ASCII Formfeed (FF)|\n",
        "|\\n|ASCII Linefeed (LF)|\n",
        "|\\r|ASCII Carriage Return (CR)|\n",
        "|\\t|ASCII Horizontal Tab (TAB)|\n",
        "|\\v|ASCII Vertical Tab (VT)|\n",
        "|\\ooo|Character with octal value ooo|\n",
        "|\\xhh|Character with hex value hh|\n",
        "|\\N{name}|Character named name in the Unicode database|\n",
        "|\\uxxxx|Character with 16-bit hex value xxxx|\n",
        "|\\Uxxxxxxxx|Character with 32-bit hex value xxxxxxxx|"
      ]
    },
    {
      "cell_type": "markdown",
      "metadata": {
        "id": "7ZMhX6HiHoBu"
      },
      "source": [
        "[<--- Previous Page](README.md)"
      ]
    }
  ],
  "metadata": {
    "kernelspec": {
      "display_name": "Python 3",
      "language": "python",
      "name": "python3"
    },
    "language_info": {
      "codemirror_mode": {
        "name": "ipython",
        "version": 3
      },
      "file_extension": ".py",
      "mimetype": "text/x-python",
      "name": "python",
      "nbconvert_exporter": "python",
      "pygments_lexer": "ipython3",
      "version": "3.10.1"
    },
    "colab": {
      "name": "001_Print.ipynb",
      "provenance": []
    }
  },
  "nbformat": 4,
  "nbformat_minor": 0
}