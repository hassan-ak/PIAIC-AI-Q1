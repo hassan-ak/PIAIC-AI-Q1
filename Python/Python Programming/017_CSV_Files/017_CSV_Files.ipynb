{
 "cells": [
  {
   "cell_type": "markdown",
   "metadata": {},
   "source": [
    "# CSV Files\n",
    "CSV files are text-only files that are simplified versions of a spreadsheet or database. \"CSV\" stands for Comma-Separated Values.\""
   ]
  },
  {
   "cell_type": "markdown",
   "metadata": {},
   "source": [
    "#### we can export Excel file as CSV file.\n",
    "Excel file is like this:\n",
    "\n",
    "|Year|Event|Winner|\n",
    "|----|-----|------|\n",
    "|1995|Best-Kept Lawn|None|\n",
    "|1999|Gobstones|Welch National|\n",
    "|2006|World Cup|Burkina Faso|\n",
    "\n",
    "The CSV file looks like this:\n",
    "```\n",
    "Year,Event,Winner\n",
    "1995,Best-Kept Lawn,None\n",
    "1999,Gobstones,Welch National\n",
    "2006,World Cup,Burkina Faso\n",
    "```"
   ]
  },
  {
   "cell_type": "markdown",
   "metadata": {},
   "source": [
    "## Writing CSV Files"
   ]
  },
  {
   "cell_type": "code",
   "execution_count": 1,
   "metadata": {},
   "outputs": [],
   "source": [
    "# Import CSV to python\n",
    "import csv\n",
    "# Open CSV file with mode and new line declaration\n",
    "with open(\"whatever.csv\", \"w\",newline=\"\") as f:\n",
    "    # data_handler can be any variable name\n",
    "    data_handler = csv.writer(f, delimiter=\",\")\n",
    "    data_handler.writerow([\"Year\", \"Event\", \"Winner\"])\n",
    "    data_handler.writerow([\"1995\", \"Best-Kept Lawn\", \"None\"])\n",
    "    data_handler.writerow([\"1999\", \"Gobstones\", \"Welch National\"])"
   ]
  },
  {
   "cell_type": "markdown",
   "metadata": {},
   "source": [
    "# Reading CSV Files\n",
    "```\n",
    "with open(\"competitions.csv\") as f:\n",
    "    contents_of_file = csv.reader(f)\n",
    "```"
   ]
  },
  {
   "cell_type": "code",
   "execution_count": 2,
   "metadata": {},
   "outputs": [
    {
     "name": "stdout",
     "output_type": "stream",
     "text": [
      "['Year', 'Event', 'Winner', '1995', 'Best-Kept Lawn', 'None', '1999', 'Gobstones', 'Welch National']\n"
     ]
    }
   ],
   "source": [
    "import csv\n",
    "# open csv file in reading mode\n",
    "with open(\"whatever.csv\") as f:\n",
    "    # load content of the csv\n",
    "    contents_of_f = csv.reader(f)\n",
    "    potter_competitions = []\n",
    "    for each_line in contents_of_f:\n",
    "        potter_competitions += each_line\n",
    "print(potter_competitions)"
   ]
  },
  {
   "cell_type": "code",
   "execution_count": 3,
   "metadata": {},
   "outputs": [
    {
     "name": "stdout",
     "output_type": "stream",
     "text": [
      "Best-Kept Lawn\n"
     ]
    }
   ],
   "source": [
    "print(potter_competitions[4]) "
   ]
  },
  {
   "cell_type": "code",
   "execution_count": 4,
   "metadata": {},
   "outputs": [],
   "source": [
    "# we can find the index of an elemnt by"
   ]
  },
  {
   "cell_type": "code",
   "execution_count": 5,
   "metadata": {},
   "outputs": [
    {
     "data": {
      "text/plain": [
       "4"
      ]
     },
     "execution_count": 5,
     "metadata": {},
     "output_type": "execute_result"
    }
   ],
   "source": [
    "index_number_of_target = potter_competitions.index(\"Best-Kept Lawn\")\n",
    "index_number_of_target"
   ]
  },
  {
   "cell_type": "code",
   "execution_count": 6,
   "metadata": {},
   "outputs": [],
   "source": [
    "# Working with csv data"
   ]
  },
  {
   "cell_type": "code",
   "execution_count": 7,
   "metadata": {},
   "outputs": [
    {
     "name": "stdout",
     "output_type": "stream",
     "text": [
      "The winner was None\n"
     ]
    }
   ],
   "source": [
    "target = input(\"Enter the name of a competition: \")\n",
    "index_number_of_target = potter_competitions.index(target)\n",
    "index_number_of_winner = index_number_of_target + 1\n",
    "the_winner = potter_competitions[index_number_of_winner]\n",
    "print(\"The winner was \" + the_winner)\n",
    "# Use \"Best-Kept Lawn\" for test case"
   ]
  },
  {
   "cell_type": "markdown",
   "metadata": {},
   "source": [
    "# Appending CSV Files"
   ]
  },
  {
   "cell_type": "code",
   "execution_count": 8,
   "metadata": {},
   "outputs": [],
   "source": [
    "with open(\"whatever.csv\", \"a\", newline=\"\") as f:\n",
    "    data_handler = csv.writer(f, delimiter=\",\")\n",
    "    data_handler.writerow([\"2006\", \"World Cup\", \"Burkina Faso\"])\n",
    "    data_handler.writerow([\"2011\", \"Butter Cup\", \"France\"])\n",
    "    data_handler.writerow([\"2012\", \"Coffee Cup\", \"Brazil\"]) "
   ]
  },
  {
   "cell_type": "code",
   "execution_count": 9,
   "metadata": {},
   "outputs": [
    {
     "name": "stdout",
     "output_type": "stream",
     "text": [
      "['Year', 'Event', 'Winner', '1995', 'Best-Kept Lawn', 'None', '1999', 'Gobstones', 'Welch National', '2006', 'World Cup', 'Burkina Faso', '2011', 'Butter Cup', 'France', '2012', 'Coffee Cup', 'Brazil']\n"
     ]
    }
   ],
   "source": [
    "with open(\"whatever.csv\") as f:\n",
    "    contents_of_f = csv.reader(f)\n",
    "    potter_competitions = []\n",
    "    for each_line in contents_of_f:\n",
    "        potter_competitions += each_line\n",
    "print(potter_competitions)"
   ]
  }
 ],
 "metadata": {
  "kernelspec": {
   "display_name": "Python 3",
   "language": "python",
   "name": "python3"
  },
  "language_info": {
   "codemirror_mode": {
    "name": "ipython",
    "version": 3
   },
   "file_extension": ".py",
   "mimetype": "text/x-python",
   "name": "python",
   "nbconvert_exporter": "python",
   "pygments_lexer": "ipython3",
   "version": "3.10.1"
  }
 },
 "nbformat": 4,
 "nbformat_minor": 4
}
