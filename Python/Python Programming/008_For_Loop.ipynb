{
  "cells": [
    {
      "cell_type": "markdown",
      "metadata": {
        "id": "8H0PaWnaV3B9"
      },
      "source": [
        "# For Loops\n",
        "Python provide for loop to iterate over a sequence (e.g. a list, tuple and dictionary). This is very handy tool when you want to traverse all / few elements of a sequence without having to worry about the number of elements in the sequence.\n",
        "- Used for doing iterative work\n",
        "- Two types of loop - - - for and while"
      ]
    },
    {
      "cell_type": "code",
      "execution_count": 1,
      "metadata": {
        "scrolled": true,
        "colab": {
          "base_uri": "https://localhost:8080/"
        },
        "id": "mqz5sR1EV3CF",
        "outputId": "fcaccea0-fd4b-4ad6-ffd3-aec062652595"
      },
      "outputs": [
        {
          "output_type": "stream",
          "name": "stdout",
          "text": [
            "1\n",
            "3\n",
            "2\n",
            "6\n",
            "90\n",
            "34\n",
            "5\n"
          ]
        }
      ],
      "source": [
        "arr = [1,3,2,6,90,34,5]\n",
        "for elem in arr:\n",
        "    print(elem)"
      ]
    },
    {
      "cell_type": "code",
      "execution_count": 2,
      "metadata": {
        "colab": {
          "base_uri": "https://localhost:8080/"
        },
        "id": "uNCaB4gUV3CG",
        "outputId": "4a168d9f-bd01-4f0d-c0ff-47370d4e8ce2"
      },
      "outputs": [
        {
          "output_type": "stream",
          "name": "stdout",
          "text": [
            "Hassan\n",
            "Hassan\n",
            "Hassan\n",
            "Hassan\n",
            "Hassan\n"
          ]
        }
      ],
      "source": [
        "# Print name five times\n",
        "print (\"Hassan\")\n",
        "print (\"Hassan\")\n",
        "print (\"Hassan\")\n",
        "print (\"Hassan\")\n",
        "print (\"Hassan\")"
      ]
    },
    {
      "cell_type": "code",
      "execution_count": 3,
      "metadata": {
        "colab": {
          "base_uri": "https://localhost:8080/"
        },
        "id": "7y9KMebTV3CH",
        "outputId": "c7ff2398-b0b2-4074-b9a0-73b3e5e3a050"
      },
      "outputs": [
        {
          "output_type": "execute_result",
          "data": {
            "text/plain": [
              "range(0, 5)"
            ]
          },
          "metadata": {},
          "execution_count": 3
        }
      ],
      "source": [
        "# range is a function it tells how many times a loop runs\n",
        "# 5 is excluded\n",
        "range(5)"
      ]
    },
    {
      "cell_type": "code",
      "execution_count": 4,
      "metadata": {
        "scrolled": true,
        "colab": {
          "base_uri": "https://localhost:8080/"
        },
        "id": "TAm_DzrsV3CH",
        "outputId": "bf58cb8e-6e3b-43ec-94e8-8e84271e7322"
      },
      "outputs": [
        {
          "output_type": "stream",
          "name": "stdout",
          "text": [
            "0 Hassan\n",
            "1 Hassan\n",
            "2 Hassan\n",
            "3 Hassan\n",
            "4 Hassan\n"
          ]
        }
      ],
      "source": [
        "for a in range(5): \n",
        "    print (a,\"Hassan\")"
      ]
    },
    {
      "cell_type": "code",
      "execution_count": 5,
      "metadata": {
        "colab": {
          "base_uri": "https://localhost:8080/"
        },
        "id": "-E9mZxJWV3CI",
        "outputId": "9ac67f30-943a-4988-a942-792ed848c30c"
      },
      "outputs": [
        {
          "output_type": "stream",
          "name": "stdout",
          "text": [
            "0\n",
            "1\n",
            "2\n",
            "3\n",
            "4\n",
            "5\n",
            "6\n",
            "7\n",
            "8\n",
            "9\n"
          ]
        }
      ],
      "source": [
        "# we can define the end\n",
        "for number in range(10):\n",
        "    print(number)"
      ]
    },
    {
      "cell_type": "code",
      "execution_count": 6,
      "metadata": {
        "colab": {
          "base_uri": "https://localhost:8080/"
        },
        "id": "1YJoN8GtV3CI",
        "outputId": "f79864fa-894d-46a2-abe1-a228467817c2"
      },
      "outputs": [
        {
          "output_type": "stream",
          "name": "stdout",
          "text": [
            "4\n",
            "5\n",
            "6\n",
            "7\n",
            "8\n",
            "9\n"
          ]
        }
      ],
      "source": [
        "# we can define start and end\n",
        "for number in range(4,10):\n",
        "    print(number)"
      ]
    },
    {
      "cell_type": "code",
      "execution_count": 7,
      "metadata": {
        "colab": {
          "base_uri": "https://localhost:8080/"
        },
        "id": "HEoW_1GfV3CJ",
        "outputId": "ff3cbde7-c6f6-4443-d651-676e042147ef"
      },
      "outputs": [
        {
          "output_type": "stream",
          "name": "stdout",
          "text": [
            "1\n",
            "4\n",
            "7\n"
          ]
        }
      ],
      "source": [
        "# we can define start and end with steps\n",
        "for number in range(1,10,3):\n",
        "    print(number)"
      ]
    },
    {
      "cell_type": "code",
      "execution_count": 8,
      "metadata": {
        "colab": {
          "base_uri": "https://localhost:8080/"
        },
        "id": "fC4TLaCKV3CJ",
        "outputId": "97981c95-8688-4c2d-8d9d-96528c2b6ed4"
      },
      "outputs": [
        {
          "output_type": "stream",
          "name": "stdout",
          "text": [
            "10\n",
            "8\n",
            "6\n",
            "4\n",
            "2\n"
          ]
        }
      ],
      "source": [
        "for number in range(10,1,-2):\n",
        "    print(number)"
      ]
    },
    {
      "cell_type": "code",
      "execution_count": 9,
      "metadata": {
        "colab": {
          "base_uri": "https://localhost:8080/"
        },
        "id": "Fd51eqZqV3CK",
        "outputId": "415a6bf5-25e5-4922-d62a-de7712129e23"
      },
      "outputs": [
        {
          "output_type": "execute_result",
          "data": {
            "text/plain": [
              "['Karachi', 'Lahore', 'Multan']"
            ]
          },
          "metadata": {},
          "execution_count": 9
        }
      ],
      "source": [
        "# Loop on a list\n",
        "cities = [\"Karachi\",\"Lahore\",\"Multan\"]\n",
        "cities"
      ]
    },
    {
      "cell_type": "code",
      "execution_count": 10,
      "metadata": {
        "colab": {
          "base_uri": "https://localhost:8080/"
        },
        "id": "84Qu322HV3CK",
        "outputId": "2a04034a-4197-428f-993e-25bce0dc2d3d"
      },
      "outputs": [
        {
          "output_type": "stream",
          "name": "stdout",
          "text": [
            "Karachi\n",
            "Lahore\n",
            "Multan\n"
          ]
        }
      ],
      "source": [
        "# we can use loop on list\n",
        "for city in cities:\n",
        "    print(city)"
      ]
    },
    {
      "cell_type": "code",
      "execution_count": 11,
      "metadata": {
        "colab": {
          "base_uri": "https://localhost:8080/"
        },
        "id": "R04zNXfoV3CL",
        "outputId": "e3b3b3df-949a-4779-8a66-ab6e881741f7"
      },
      "outputs": [
        {
          "output_type": "stream",
          "name": "stdout",
          "text": [
            "The city under consideration is Karachi\n",
            "The city under consideration is Lahore\n",
            "The city under consideration is Multan\n"
          ]
        }
      ],
      "source": [
        "for city in cities:\n",
        "    print(f\"The city under consideration is {city}\")"
      ]
    },
    {
      "cell_type": "code",
      "execution_count": 12,
      "metadata": {
        "colab": {
          "base_uri": "https://localhost:8080/"
        },
        "id": "xp0ybYSLV3CL",
        "outputId": "15a5b8d2-ff15-4372-df83-c5839e2c8a24"
      },
      "outputs": [
        {
          "output_type": "stream",
          "name": "stdout",
          "text": [
            "11\n",
            "22\n",
            "33\n",
            "44\n",
            "55\n"
          ]
        }
      ],
      "source": [
        "for num in [11,22,33,44,55]:\n",
        "    print (num)"
      ]
    },
    {
      "cell_type": "code",
      "execution_count": 13,
      "metadata": {
        "colab": {
          "base_uri": "https://localhost:8080/"
        },
        "id": "ZT9bLeNEV3CM",
        "outputId": "b94b18ab-3879-4c5d-e318-6895c0628dc6"
      },
      "outputs": [
        {
          "output_type": "stream",
          "name": "stdout",
          "text": [
            "P\n",
            "a\n",
            "k\n",
            "i\n",
            "s\n",
            "t\n",
            "a\n",
            "n\n"
          ]
        }
      ],
      "source": [
        "# we can use loop on string\n",
        "country = \"Pakistan\"\n",
        "for char in country:\n",
        "    print(char)"
      ]
    },
    {
      "cell_type": "code",
      "execution_count": 14,
      "metadata": {
        "colab": {
          "base_uri": "https://localhost:8080/"
        },
        "id": "ecmXyWb9V3CM",
        "outputId": "be478e9e-0b44-46e6-b534-8edfaf9c7b82"
      },
      "outputs": [
        {
          "output_type": "stream",
          "name": "stdout",
          "text": [
            "Pakistan\n",
            "China\n"
          ]
        }
      ],
      "source": [
        "# we can use loop on tuple\n",
        "country = \"Pakistan\",\"China\"\n",
        "for char in country:\n",
        "    print(char)"
      ]
    },
    {
      "cell_type": "markdown",
      "metadata": {
        "id": "vkOFLHcMV3CN"
      },
      "source": [
        "Example"
      ]
    },
    {
      "cell_type": "code",
      "execution_count": 15,
      "metadata": {
        "colab": {
          "base_uri": "https://localhost:8080/"
        },
        "id": "o1qMvdBiV3CN",
        "outputId": "515ac885-180b-42aa-dede-bd9024cc8583"
      },
      "outputs": [
        {
          "output_type": "stream",
          "name": "stdout",
          "text": [
            "It's one of the cleanest cities\n"
          ]
        }
      ],
      "source": [
        "city_to_check = \"Tucson\"\n",
        "cleanest_cities = [\"Cheyenne\", \"Santa Fe\", \"Tucson\", \"Great Falls\", \"Honolulu\"]\n",
        "if city_to_check == cleanest_cities[0]:\n",
        "    print(\"It's one of the cleanest cities\")\n",
        "elif city_to_check == cleanest_cities[1]:\n",
        "    print(\"It's one of the cleanest cities\")\n",
        "elif city_to_check == cleanest_cities[2]:\n",
        "    print(\"It's one of the cleanest cities\")\n",
        "elif city_to_check == cleanest_cities[3]:\n",
        "    print(\"It's one of the cleanest cities\")\n",
        "elif city_to_check == cleanest_cities[4]:\n",
        "    print(\"It's one of the cleanest cities\")"
      ]
    },
    {
      "cell_type": "code",
      "execution_count": 16,
      "metadata": {
        "colab": {
          "base_uri": "https://localhost:8080/"
        },
        "id": "x4lhvXvcV3CO",
        "outputId": "dfe0c85f-9569-4895-fd1c-688f3a2056de"
      },
      "outputs": [
        {
          "output_type": "stream",
          "name": "stdout",
          "text": [
            "It's one of the cleanest cities\n"
          ]
        }
      ],
      "source": [
        "city_to_check = \"Tucson\"\n",
        "cleanest_cities = [\"Cheyenne\", \"Santa Fe\", \"Tucson\", \"Great Falls\", \"Honolulu\"]\n",
        "for a_clean_city in cleanest_cities:\n",
        "    if city_to_check == a_clean_city:\n",
        "        print(\"It's one of the cleanest cities\")"
      ]
    },
    {
      "cell_type": "markdown",
      "metadata": {
        "id": "nvL4ASp0V3CO"
      },
      "source": [
        "Example"
      ]
    },
    {
      "cell_type": "code",
      "execution_count": 17,
      "metadata": {
        "colab": {
          "base_uri": "https://localhost:8080/"
        },
        "id": "r9Rmmab1V3CP",
        "outputId": "97cf746b-e64f-40fd-b642-b05a2d771b88"
      },
      "outputs": [
        {
          "output_type": "stream",
          "name": "stdout",
          "text": [
            "It's one of the cleanest cities\n"
          ]
        }
      ],
      "source": [
        "z = \"Tucson\"\n",
        "y = [\"Cheyenne\", \"Santa Fe\", \"Tucson\", \"Great Falls\", \"Honolulu\"]\n",
        "for x in y: \n",
        "    if x == z:\n",
        "        print(\"It's one of the cleanest cities\") "
      ]
    },
    {
      "cell_type": "markdown",
      "metadata": {
        "id": "RW2-0VlmV3CP"
      },
      "source": [
        "### Break Keyword\n",
        "There are situation where we want to terminate our loop even all the elements are not yet traversed, e.g. when finding a desired value and you found it in middle of the sequence. In such cases you would want to terminate the loop. Python provides the `break` keyword for this scenario."
      ]
    },
    {
      "cell_type": "code",
      "execution_count": 18,
      "metadata": {
        "colab": {
          "base_uri": "https://localhost:8080/"
        },
        "id": "ZRiYFsl_V3CQ",
        "outputId": "c2ef3472-d8bc-4724-8111-e341a742b3a8"
      },
      "outputs": [
        {
          "output_type": "stream",
          "name": "stdout",
          "text": [
            "1\n",
            "3\n",
            "a\n"
          ]
        }
      ],
      "source": [
        "arr = [1, 3, \"a\", 6, 67, 23, 45]\n",
        "for elem in arr:\n",
        "    print(elem)\n",
        "    if elem == \"a\":\n",
        "        break"
      ]
    },
    {
      "cell_type": "code",
      "execution_count": 19,
      "metadata": {
        "colab": {
          "base_uri": "https://localhost:8080/"
        },
        "id": "JepgbzmpV3CQ",
        "outputId": "c967a46c-7180-4d39-f440-6ef3ac06673b"
      },
      "outputs": [
        {
          "output_type": "stream",
          "name": "stdout",
          "text": [
            "0\n",
            "1\n"
          ]
        }
      ],
      "source": [
        "for number in range(10):\n",
        "    if number %  3 == 2:\n",
        "        break\n",
        "    print(number)"
      ]
    },
    {
      "cell_type": "code",
      "execution_count": 20,
      "metadata": {
        "colab": {
          "base_uri": "https://localhost:8080/"
        },
        "id": "wF3UntyeV3CR",
        "outputId": "9a35f003-c8cb-4f99-b1e0-01b6f6beec61"
      },
      "outputs": [
        {
          "output_type": "stream",
          "name": "stdout",
          "text": [
            "5\n",
            "7\n",
            "11\n"
          ]
        }
      ],
      "source": [
        "for number in [5,7,11,90]:\n",
        "    if number %  2 == 0:\n",
        "        break\n",
        "    print(number)"
      ]
    },
    {
      "cell_type": "code",
      "execution_count": 21,
      "metadata": {
        "colab": {
          "base_uri": "https://localhost:8080/"
        },
        "id": "TzV46bwqV3CR",
        "outputId": "34acd906-dc54-4762-b6ce-073bbf6ddcf1"
      },
      "outputs": [
        {
          "output_type": "stream",
          "name": "stdout",
          "text": [
            "It's one of the cleanest cities\n"
          ]
        }
      ],
      "source": [
        "city_to_check = \"Tucson\"\n",
        "cleanest_cities = [\"Cheyenne\", \"Santa Fe\", \"Tucson\", \"Great Falls\", \"Honolulu\"]\n",
        "for a_clean_city in cleanest_cities:\n",
        "    if city_to_check == a_clean_city:\n",
        "        print(\"It's one of the cleanest cities\")\n",
        "        break"
      ]
    },
    {
      "cell_type": "markdown",
      "metadata": {
        "id": "JaBU0OhpV3CT"
      },
      "source": [
        "### Continue Keyword\n",
        "There are situations where we want to skip only current iteration of the loop. Python provides `continue` keyword for such scenario."
      ]
    },
    {
      "cell_type": "code",
      "execution_count": 22,
      "metadata": {
        "colab": {
          "base_uri": "https://localhost:8080/"
        },
        "id": "jML656wOV3CT",
        "outputId": "d61c7608-9ae2-4c9d-b8e2-77e769bee830"
      },
      "outputs": [
        {
          "output_type": "stream",
          "name": "stdout",
          "text": [
            "1\n",
            "3\n",
            "67\n",
            "23\n",
            "45\n",
            "49\n"
          ]
        }
      ],
      "source": [
        "err = [1, 3, 2, 6, 67, 23, 45, 49]\n",
        "for elem in err:\n",
        "    if elem % 2 == 0:\n",
        "        continue\n",
        "    print(elem)"
      ]
    },
    {
      "cell_type": "code",
      "execution_count": 23,
      "metadata": {
        "colab": {
          "base_uri": "https://localhost:8080/"
        },
        "id": "EkouC4CFV3CU",
        "outputId": "3b7033a3-c033-44de-ee54-dc91537623bf"
      },
      "outputs": [
        {
          "output_type": "stream",
          "name": "stdout",
          "text": [
            "0\n",
            "1\n",
            "2\n",
            "3\n",
            "4\n",
            "5\n",
            "6\n",
            "8\n",
            "9\n"
          ]
        }
      ],
      "source": [
        "for number in range(10):\n",
        "    if number == 7:\n",
        "        continue\n",
        "    print(number)"
      ]
    },
    {
      "cell_type": "code",
      "execution_count": 24,
      "metadata": {
        "colab": {
          "base_uri": "https://localhost:8080/"
        },
        "id": "GxkplpMBV3CU",
        "outputId": "7eaea1ce-7722-4d8a-a74e-126458b2a572"
      },
      "outputs": [
        {
          "output_type": "stream",
          "name": "stdout",
          "text": [
            "0\n",
            "1\n",
            "2\n",
            "3\n",
            "4\n",
            "5\n",
            "6\n",
            "9\n"
          ]
        }
      ],
      "source": [
        "for number in range(10):\n",
        "    if number == 7 or number == 8:\n",
        "        continue\n",
        "    print(number)"
      ]
    },
    {
      "cell_type": "markdown",
      "metadata": {
        "id": "T4epGNm4V3CV"
      },
      "source": [
        "### Nested for Loop\n",
        "When you have a sequence of sequences and you need to process elements then we need to place loop inside a loop. Outer loop traverses the main sequence and inner loop traverses on the inner sequence, which contains the value.\n",
        "- Outer loop executes once and then execute when inner loop is completely executed"
      ]
    },
    {
      "cell_type": "code",
      "execution_count": 25,
      "metadata": {
        "colab": {
          "base_uri": "https://localhost:8080/"
        },
        "id": "0yzVrQtrV3CV",
        "outputId": "d8c81b03-c976-4983-eeab-4f37069ccf4d"
      },
      "outputs": [
        {
          "output_type": "stream",
          "name": "stdout",
          "text": [
            "Inner loops Begin\n",
            "0 A\n",
            "0 l\n",
            "0 i\n",
            "Inner loops Begin\n",
            "1 A\n",
            "1 l\n",
            "1 i\n",
            "Inner loops Begin\n",
            "2 A\n",
            "2 l\n",
            "2 i\n"
          ]
        }
      ],
      "source": [
        "for a in range(3):\n",
        "    print(\"Inner loops Begin\")\n",
        "    for char in \"Ali\":\n",
        "        print(a,char)"
      ]
    },
    {
      "cell_type": "code",
      "execution_count": 26,
      "metadata": {
        "colab": {
          "base_uri": "https://localhost:8080/"
        },
        "id": "o4beFVABV3CW",
        "outputId": "f3f08937-9442-4f21-92cd-19e5f3c724ca"
      },
      "outputs": [
        {
          "output_type": "stream",
          "name": "stdout",
          "text": [
            "Enter Table Number : 3\n",
            "3 * 1 = 3\n",
            "3 * 2 = 6\n",
            "3 * 3 = 9\n",
            "3 * 4 = 12\n",
            "3 * 5 = 15\n",
            "3 * 6 = 18\n",
            "3 * 7 = 21\n",
            "3 * 8 = 24\n",
            "3 * 9 = 27\n",
            "3 * 10 = 30\n"
          ]
        }
      ],
      "source": [
        "table_number=int(input(\"Enter Table Number : \"))\n",
        "for a in range(1,11):\n",
        "    print(f\"{table_number} * {a} = {table_number*a}\")"
      ]
    },
    {
      "cell_type": "code",
      "execution_count": 27,
      "metadata": {
        "colab": {
          "base_uri": "https://localhost:8080/"
        },
        "id": "Lcl63CLBV3CW",
        "outputId": "ca7c8f62-ab88-4202-d3c2-7d572ff21187"
      },
      "outputs": [
        {
          "output_type": "stream",
          "name": "stdout",
          "text": [
            "Enter Table5\n",
            " \n",
            "****************\n",
            "Table of 2\n",
            "****************\n",
            "2*1 = 2\n",
            "2*2 = 4\n",
            "2*3 = 6\n",
            "2*4 = 8\n",
            "2*5 = 10\n",
            "2*6 = 12\n",
            "2*7 = 14\n",
            "2*8 = 16\n",
            "2*9 = 18\n",
            "2*10 = 20\n",
            " \n",
            "****************\n",
            "Table of 3\n",
            "****************\n",
            "3*1 = 3\n",
            "3*2 = 6\n",
            "3*3 = 9\n",
            "3*4 = 12\n",
            "3*5 = 15\n",
            "3*6 = 18\n",
            "3*7 = 21\n",
            "3*8 = 24\n",
            "3*9 = 27\n",
            "3*10 = 30\n",
            " \n",
            "****************\n",
            "Table of 4\n",
            "****************\n",
            "4*1 = 4\n",
            "4*2 = 8\n",
            "4*3 = 12\n",
            "4*4 = 16\n",
            "4*5 = 20\n",
            "4*6 = 24\n",
            "4*7 = 28\n",
            "4*8 = 32\n",
            "4*9 = 36\n",
            "4*10 = 40\n",
            " \n",
            "****************\n",
            "Table of 5\n",
            "****************\n",
            "5*1 = 5\n",
            "5*2 = 10\n",
            "5*3 = 15\n",
            "5*4 = 20\n",
            "5*5 = 25\n",
            "5*6 = 30\n",
            "5*7 = 35\n",
            "5*8 = 40\n",
            "5*9 = 45\n",
            "5*10 = 50\n"
          ]
        }
      ],
      "source": [
        "tables = int(input(\"Enter Table\"))\n",
        "for table in range(2,tables+1):\n",
        "    print(\" \")\n",
        "    print(f\"****************\")\n",
        "    print(f\"Table of {table}\")\n",
        "    print(f\"****************\")\n",
        "    for num in range(1,11):\n",
        "        print(f\"{table}*{num} = {table*num}\")"
      ]
    },
    {
      "cell_type": "code",
      "execution_count": 28,
      "metadata": {
        "colab": {
          "base_uri": "https://localhost:8080/"
        },
        "id": "u1K_8NAmV3CX",
        "outputId": "14ffd131-1ced-4f83-ae99-c980387a8cc4"
      },
      "outputs": [
        {
          "output_type": "stream",
          "name": "stdout",
          "text": [
            "inner loop Begins\n",
            "1\n",
            "2\n",
            "3\n",
            "inner loop Begins\n",
            "8\n",
            "19\n",
            "23\n",
            "inner loop Begins\n",
            "-2\n",
            "3.5\n",
            "0\n"
          ]
        }
      ],
      "source": [
        "arr = [[1,2,3],[8,19,23],[-2,3.5,0]]\n",
        "for seq in arr:\n",
        "    print(\"inner loop Begins\")\n",
        "    for elem in seq:\n",
        "        print(elem)"
      ]
    },
    {
      "cell_type": "code",
      "execution_count": 29,
      "metadata": {
        "colab": {
          "base_uri": "https://localhost:8080/"
        },
        "id": "clo3xCzNV3CX",
        "outputId": "758dc327-68f6-495d-f0e1-198ce3d558be"
      },
      "outputs": [
        {
          "output_type": "stream",
          "name": "stdout",
          "text": [
            "['BlueRay  Zzz', 'BlueRay  Burp', 'BlueRay  Dogbone', 'BlueRay  Droop', 'Upchuck  Zzz', 'Upchuck  Burp', 'Upchuck  Dogbone', 'Upchuck  Droop', 'Lojack  Zzz', 'Lojack  Burp', 'Lojack  Dogbone', 'Lojack  Droop', 'Gizmo  Zzz', 'Gizmo  Burp', 'Gizmo  Dogbone', 'Gizmo  Droop', 'Do-Rag  Zzz', 'Do-Rag  Burp', 'Do-Rag  Dogbone', 'Do-Rag  Droop']\n"
          ]
        }
      ],
      "source": [
        "first_names = [\"BlueRay \", \"Upchuck \", \"Lojack \", \"Gizmo \", \"Do-Rag \"]\n",
        "last_names = [\"Zzz\", \"Burp\", \"Dogbone\", \"Droop\"]\n",
        "full_names = []\n",
        "for a_first_name in first_names:\n",
        "    for a_last_name in last_names:\n",
        "        full_names.append(a_first_name + \" \" + a_last_name)\n",
        "print(full_names)"
      ]
    },
    {
      "cell_type": "markdown",
      "metadata": {
        "id": "Y9aZmXimV3CX"
      },
      "source": [
        "[<--- Previous Page](README.md)"
      ]
    }
  ],
  "metadata": {
    "kernelspec": {
      "display_name": "Python 3",
      "language": "python",
      "name": "python3"
    },
    "language_info": {
      "codemirror_mode": {
        "name": "ipython",
        "version": 3
      },
      "file_extension": ".py",
      "mimetype": "text/x-python",
      "name": "python",
      "nbconvert_exporter": "python",
      "pygments_lexer": "ipython3",
      "version": "3.10.1"
    },
    "colab": {
      "name": "008_For_Loop.ipynb",
      "provenance": []
    }
  },
  "nbformat": 4,
  "nbformat_minor": 0
}