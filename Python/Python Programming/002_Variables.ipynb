{
 "cells": [
  {
   "cell_type": "markdown",
   "metadata": {},
   "source": [
    "# Variables\n",
    "- A variable is something that holds a value that may change.\n",
    "- In simplest terms a variable is just a box that you can put stuff in.\n",
    "- You can use variables to store all kinds of stuff."
   ]
  },
  {
   "cell_type": "code",
   "execution_count": 1,
   "metadata": {},
   "outputs": [
    {
     "name": "stdout",
     "output_type": "stream",
     "text": [
      "Presidential Initiative for AI and Computing\n"
     ]
    }
   ],
   "source": [
    "# Create a variable called name.\n",
    "# Assign a string value \"Presidential Initiative for AI and Computing\" in thsi variable.\n",
    "# Prints the string value stored inside this variable.\n",
    "name = \"Presidential Initiative for AI and Computing\"\n",
    "print(name)"
   ]
  },
  {
   "cell_type": "markdown",
   "metadata": {},
   "source": [
    "### What we can store in variables\n",
    "- Strings\n",
    "- Integers\n",
    "- Float"
   ]
  },
  {
   "cell_type": "code",
   "execution_count": 2,
   "metadata": {},
   "outputs": [
    {
     "name": "stdout",
     "output_type": "stream",
     "text": [
      "Hello 10 0.25\n"
     ]
    }
   ],
   "source": [
    "a = \"Hello\"\n",
    "b = 10\n",
    "# b is variable name (identifier)\n",
    "# = is assignment operator\n",
    "# 10 is value (integer value)\n",
    "# variable has no data type. it is dependant on value\n",
    "# integer value 10 is assigned to variable b\n",
    "c = 0.25\n",
    "print(a,b,c)"
   ]
  },
  {
   "cell_type": "code",
   "execution_count": 3,
   "metadata": {},
   "outputs": [
    {
     "name": "stdout",
     "output_type": "stream",
     "text": [
      "Lahore\n"
     ]
    }
   ],
   "source": [
    "a = 'Lahore'\n",
    "print (a)"
   ]
  },
  {
   "cell_type": "markdown",
   "metadata": {},
   "source": [
    "When a new value is assigned to same varibale it is overrided"
   ]
  },
  {
   "cell_type": "code",
   "execution_count": 4,
   "metadata": {},
   "outputs": [
    {
     "name": "stdout",
     "output_type": "stream",
     "text": [
      "10.6\n"
     ]
    }
   ],
   "source": [
    "a = 10.6\n",
    "print(a)"
   ]
  },
  {
   "cell_type": "markdown",
   "metadata": {},
   "source": [
    "There is no need to define data type of identifier. It adopts the data type of input value"
   ]
  },
  {
   "cell_type": "code",
   "execution_count": 5,
   "metadata": {},
   "outputs": [
    {
     "data": {
      "text/plain": [
       "int"
      ]
     },
     "execution_count": 5,
     "metadata": {},
     "output_type": "execute_result"
    }
   ],
   "source": [
    "# type() finds the data type of variable\n",
    "a = 12\n",
    "type(a)"
   ]
  },
  {
   "cell_type": "code",
   "execution_count": 6,
   "metadata": {},
   "outputs": [
    {
     "data": {
      "text/plain": [
       "float"
      ]
     },
     "execution_count": 6,
     "metadata": {},
     "output_type": "execute_result"
    }
   ],
   "source": [
    "b = 12.0\n",
    "type(b)"
   ]
  },
  {
   "cell_type": "code",
   "execution_count": 7,
   "metadata": {},
   "outputs": [
    {
     "data": {
      "text/plain": [
       "str"
      ]
     },
     "execution_count": 7,
     "metadata": {},
     "output_type": "execute_result"
    }
   ],
   "source": [
    "c = '12'\n",
    "type(c)"
   ]
  },
  {
   "cell_type": "code",
   "execution_count": 8,
   "metadata": {},
   "outputs": [
    {
     "data": {
      "text/plain": [
       "int"
      ]
     },
     "execution_count": 8,
     "metadata": {},
     "output_type": "execute_result"
    }
   ],
   "source": [
    "# suppose we override string with integer or float\n",
    "c = 1\n",
    "type(c)"
   ]
  },
  {
   "cell_type": "code",
   "execution_count": 9,
   "metadata": {},
   "outputs": [
    {
     "name": "stdout",
     "output_type": "stream",
     "text": [
      "Hassan\n",
      "<class 'str'>\n"
     ]
    }
   ],
   "source": [
    "# We can override data in a variable\n",
    "name = \"Hassan\"\n",
    "print(name)\n",
    "print(type(name))"
   ]
  },
  {
   "cell_type": "code",
   "execution_count": 10,
   "metadata": {},
   "outputs": [
    {
     "name": "stdout",
     "output_type": "stream",
     "text": [
      "name\n"
     ]
    }
   ],
   "source": [
    "name = \"Ibtisam\"\n",
    "print(\"name\")"
   ]
  },
  {
   "cell_type": "code",
   "execution_count": 11,
   "metadata": {},
   "outputs": [
    {
     "name": "stdout",
     "output_type": "stream",
     "text": [
      "Zubair\n"
     ]
    }
   ],
   "source": [
    "name = \"Hassan\"\n",
    "name = \"Ibtisam\"\n",
    "name = \"Zubair\"\n",
    "print(name)"
   ]
  },
  {
   "cell_type": "code",
   "execution_count": 12,
   "metadata": {},
   "outputs": [
    {
     "name": "stdout",
     "output_type": "stream",
     "text": [
      "Data type of variable 'a' is : <class 'int'>\n",
      "Data type of variable 'b' is : <class 'float'>\n",
      "Data type of variable 'c' is : <class 'str'>\n"
     ]
    }
   ],
   "source": [
    "a = 12\n",
    "b = 12.0\n",
    "c = '12.0'\n",
    "print(\"Data type of variable 'a' is : \" + f\"{type(a)}\")\n",
    "print(\"Data type of variable 'b' is : \" + f\"{type(b)}\")\n",
    "print(\"Data type of variable 'c' is : \" + f\"{type(c)}\")"
   ]
  },
  {
   "cell_type": "code",
   "execution_count": 13,
   "metadata": {},
   "outputs": [
    {
     "name": "stdout",
     "output_type": "stream",
     "text": [
      "Hassan\n",
      "Hassan\n"
     ]
    }
   ],
   "source": [
    "# Same Data can be stored in many varibales\n",
    "name = \"Hassan\"\n",
    "xyz = \"Hassan\"\n",
    "print(name)\n",
    "print(xyz)"
   ]
  },
  {
   "cell_type": "code",
   "execution_count": 14,
   "metadata": {},
   "outputs": [
    {
     "name": "stdout",
     "output_type": "stream",
     "text": [
      "Hassan Ali Khan\n"
     ]
    }
   ],
   "source": [
    "# Can print multiple variables at a time\n",
    "x = \"Hassan\"\n",
    "y = \"Ali\"\n",
    "z = \"Khan\"\n",
    "print(x,y,z)"
   ]
  },
  {
   "cell_type": "markdown",
   "metadata": {},
   "source": [
    "## Rules for declaring variable name\n",
    "\n",
    "- always use meaningful variable names \n",
    "- While assigning variables name\n",
    "    - We can’t leave spaces between words\n",
    "    - We can’t use quotation marks in variable naming\n",
    "    - We can’t use number as variable name\n",
    "    - We can’t use number at the beginning of a variable name\n",
    "    - We can’t use keywords but use them with combination with other words (for finding keywords run following code)\n",
    "        ```\n",
    "        import keyword\n",
    "        print(keyword.kwlist)\n",
    "        ```\n",
    "    - Other than letters numbers and _ nothing can be used in variable name\n",
    "    - Variable name is case sensitive\n",
    "    - Use _ to write large name"
   ]
  },
  {
   "cell_type": "code",
   "execution_count": 15,
   "metadata": {},
   "outputs": [
    {
     "name": "stdout",
     "output_type": "stream",
     "text": [
      "Hassan Ali Khan\n"
     ]
    }
   ],
   "source": [
    "# always use meaningful variable names \n",
    "first_name = \"Hassan\"\n",
    "middel_name = \"Ali\"\n",
    "last_name = \"Khan\"\n",
    "#we can use tab to autofill\n",
    "print(first_name,middel_name,last_name)"
   ]
  },
  {
   "cell_type": "code",
   "execution_count": 16,
   "metadata": {},
   "outputs": [
    {
     "name": "stdout",
     "output_type": "stream",
     "text": [
      "['False', 'None', 'True', 'and', 'as', 'assert', 'async', 'await', 'break', 'class', 'continue', 'def', 'del', 'elif', 'else', 'except', 'finally', 'for', 'from', 'global', 'if', 'import', 'in', 'is', 'lambda', 'nonlocal', 'not', 'or', 'pass', 'raise', 'return', 'try', 'while', 'with', 'yield']\n"
     ]
    }
   ],
   "source": [
    "import keyword\n",
    "print(keyword.kwlist)"
   ]
  },
  {
   "cell_type": "code",
   "execution_count": 17,
   "metadata": {},
   "outputs": [
    {
     "name": "stdout",
     "output_type": "stream",
     "text": [
      "2\n"
     ]
    }
   ],
   "source": [
    "prime_number_that_comes1st = 2 \n",
    "print(prime_number_that_comes1st)"
   ]
  },
  {
   "cell_type": "code",
   "execution_count": 18,
   "metadata": {},
   "outputs": [],
   "source": [
    "# Use _ to write large name\n",
    "user_response = True\n",
    "user_response_time = 10\n",
    "user_response_time_limit = 20\n",
    "best_supporting_actress_in_a_drama_or_comedy = None"
   ]
  },
  {
   "cell_type": "markdown",
   "metadata": {},
   "source": [
    "### Mathamatical Operators\n",
    "|Sr.No.|Sign |Description|Remarks|\n",
    "|:----:|:---:|:----------|:------|\n",
    "|1.|+|addition / concatenation*|concatinate strings|\n",
    "|2.|-|subtarction||\n",
    "|3.|`*`|multiplication|can be used for strings too|\n",
    "|4.|/|division||\n",
    "|5.|//|division|eliminate decimal part|\n",
    "|6.|% |remainder||\n",
    "|7.|`**`|Power Operator|\n",
    "\n"
   ]
  },
  {
   "cell_type": "code",
   "execution_count": 19,
   "metadata": {},
   "outputs": [
    {
     "name": "stdout",
     "output_type": "stream",
     "text": [
      "57\n"
     ]
    }
   ],
   "source": [
    "# Mathamatical Expressions\n",
    "# operators {+, -, *, /} are commanly used operators\n",
    "# Lets have a look at '+' operator \n",
    "#plus sign for numbers add two numbers\n",
    "print(23+34)"
   ]
  },
  {
   "cell_type": "code",
   "execution_count": 20,
   "metadata": {},
   "outputs": [
    {
     "name": "stdout",
     "output_type": "stream",
     "text": [
      "57\n"
     ]
    }
   ],
   "source": [
    "# we can use operator on variables and assign value to a third variable\n",
    "a = 23\n",
    "b = 34\n",
    "c = a+b\n",
    "print(c)"
   ]
  },
  {
   "cell_type": "code",
   "execution_count": 21,
   "metadata": {},
   "outputs": [
    {
     "name": "stdout",
     "output_type": "stream",
     "text": [
      "300\n"
     ]
    }
   ],
   "source": [
    "num_1 = 100\n",
    "num_2 = 200\n",
    "sum = num_1 + num_2 \n",
    "print(sum)"
   ]
  },
  {
   "cell_type": "code",
   "execution_count": 22,
   "metadata": {},
   "outputs": [
    {
     "name": "stdout",
     "output_type": "stream",
     "text": [
      "31\n"
     ]
    }
   ],
   "source": [
    "original_num = 23\n",
    "num_to_be_added = 8\n",
    "new_num = original_num + num_to_be_added\n",
    "print(new_num)"
   ]
  },
  {
   "cell_type": "code",
   "execution_count": 23,
   "metadata": {},
   "outputs": [
    {
     "name": "stdout",
     "output_type": "stream",
     "text": [
      "160\n"
     ]
    }
   ],
   "source": [
    "# we can use operator on a variable and number\n",
    "weight = 150\n",
    "add = weight + 10\n",
    "print (add)"
   ]
  },
  {
   "cell_type": "code",
   "execution_count": 24,
   "metadata": {},
   "outputs": [
    {
     "name": "stdout",
     "output_type": "stream",
     "text": [
      "30\n"
     ]
    }
   ],
   "source": [
    "original_num = 23\n",
    "new_num = original_num + 7 \n",
    "print(new_num)"
   ]
  },
  {
   "cell_type": "code",
   "execution_count": 25,
   "metadata": {},
   "outputs": [
    {
     "name": "stdout",
     "output_type": "stream",
     "text": [
      "100\n"
     ]
    }
   ],
   "source": [
    "original_num = 90\n",
    "original_num = original_num + 10 \n",
    "print(original_num)"
   ]
  },
  {
   "cell_type": "code",
   "execution_count": 26,
   "metadata": {},
   "outputs": [
    {
     "name": "stdout",
     "output_type": "stream",
     "text": [
      "4\n",
      "4\n",
      "4\n"
     ]
    }
   ],
   "source": [
    "popular_number = 4\n",
    "print(popular_number)\n",
    "popular_number = 2 + 2 \n",
    "print(popular_number)\n",
    "print(2 + 2)"
   ]
  },
  {
   "cell_type": "code",
   "execution_count": 27,
   "metadata": {},
   "outputs": [
    {
     "name": "stdout",
     "output_type": "stream",
     "text": [
      "200.075\n"
     ]
    }
   ],
   "source": [
    "#adding a float and int causes float\n",
    "num = .075\n",
    "total = num + 200 \n",
    "print(total)"
   ]
  },
  {
   "cell_type": "code",
   "execution_count": 28,
   "metadata": {},
   "outputs": [
    {
     "name": "stdout",
     "output_type": "stream",
     "text": [
      "11.5\n"
     ]
    }
   ],
   "source": [
    "num = 10\n",
    "another_num = 1.5\n",
    "sum_of_numbers = num + another_num\n",
    "print(sum_of_numbers)"
   ]
  },
  {
   "cell_type": "code",
   "execution_count": 29,
   "metadata": {},
   "outputs": [
    {
     "name": "stdout",
     "output_type": "stream",
     "text": [
      "2324\n"
     ]
    }
   ],
   "source": [
    "# plus sign for strings contatinate\n",
    "# in string + is concatenation\n",
    "a=\"23\"\n",
    "b=\"24\"\n",
    "sum=a+b\n",
    "print(sum)"
   ]
  },
  {
   "cell_type": "code",
   "execution_count": 30,
   "metadata": {},
   "outputs": [
    {
     "name": "stdout",
     "output_type": "stream",
     "text": [
      "nasir hussain\n"
     ]
    }
   ],
   "source": [
    "student_name = \"nasir \"\n",
    "father_name = \"hussain\"\n",
    "print(student_name+father_name) #plus sign for strings join two strings / contatination"
   ]
  },
  {
   "cell_type": "code",
   "execution_count": 31,
   "metadata": {},
   "outputs": [
    {
     "name": "stdout",
     "output_type": "stream",
     "text": [
      "Hello, World!\n",
      "Hello, World!\n",
      "Hello World\n"
     ]
    }
   ],
   "source": [
    "print(\"Hello, World!\") \n",
    "greeting = \"Hello, World!\"\n",
    "print(greeting) \n",
    "greeting = \"Hello \"\n",
    "addressee = \"World\"\n",
    "whole_greeting = greeting + addressee \n",
    "print(whole_greeting) "
   ]
  },
  {
   "cell_type": "code",
   "execution_count": 32,
   "metadata": {},
   "outputs": [
    {
     "name": "stdout",
     "output_type": "stream",
     "text": [
      "Hello, World!\n"
     ]
    }
   ],
   "source": [
    "greeting = \"Hello\"\n",
    "separators = \", \"\n",
    "addressee = \"World\"\n",
    "punc = \"!\"\n",
    "whole_greeting = greeting + separators + addressee + punc\n",
    "print(whole_greeting)"
   ]
  },
  {
   "cell_type": "code",
   "execution_count": 33,
   "metadata": {},
   "outputs": [
    {
     "name": "stdout",
     "output_type": "stream",
     "text": [
      "Hello, World!\n",
      "Hello, World!\n",
      "Hello, World!\n",
      "Hello, World!\n",
      "Hello, World!\n"
     ]
    }
   ],
   "source": [
    "greeting = \"Hello\"\n",
    "separators = \", \"\n",
    "addressee = \"World\"\n",
    "punc = \"!\"\n",
    "whole_greeting = \"Hello, \" + \"World!\" \n",
    "print(whole_greeting)\n",
    "whole_greeting = \"Hello\" + separators + \"World\" + punc \n",
    "print(whole_greeting)\n",
    "print(\"Hello, \" + \"World!\") \n",
    "print(greeting + separators + addressee + punc) \n",
    "print(\"Hello\" + separators + \"World\" + punc) "
   ]
  },
  {
   "cell_type": "code",
   "execution_count": 34,
   "metadata": {},
   "outputs": [
    {
     "name": "stdout",
     "output_type": "stream",
     "text": [
      "The sum of 2 plus 2 is 4\n"
     ]
    }
   ],
   "source": [
    "print(\"The sum of 2 plus 2 is \" + \"4\") "
   ]
  },
  {
   "cell_type": "code",
   "execution_count": 35,
   "metadata": {},
   "outputs": [
    {
     "ename": "TypeError",
     "evalue": "can only concatenate str (not \"int\") to str",
     "output_type": "error",
     "traceback": [
      "\u001b[1;31m---------------------------------------------------------------------------\u001b[0m",
      "\u001b[1;31mTypeError\u001b[0m                                 Traceback (most recent call last)",
      "Input \u001b[1;32mIn [35]\u001b[0m, in \u001b[0;36m<module>\u001b[1;34m\u001b[0m\n\u001b[0;32m      1\u001b[0m \u001b[38;5;66;03m# We can not contatinate a string and a number\u001b[39;00m\n\u001b[0;32m      2\u001b[0m original_num \u001b[38;5;241m=\u001b[39m \u001b[38;5;124m\"\u001b[39m\u001b[38;5;124m23\u001b[39m\u001b[38;5;124m\"\u001b[39m\n\u001b[1;32m----> 3\u001b[0m new_num \u001b[38;5;241m=\u001b[39m \u001b[43moriginal_num\u001b[49m\u001b[43m \u001b[49m\u001b[38;5;241;43m+\u001b[39;49m\u001b[43m \u001b[49m\u001b[38;5;241;43m7\u001b[39;49m \n\u001b[0;32m      4\u001b[0m \u001b[38;5;28mprint\u001b[39m(new_num)\n",
      "\u001b[1;31mTypeError\u001b[0m: can only concatenate str (not \"int\") to str"
     ]
    }
   ],
   "source": [
    "# We can not contatinate a string and a number\n",
    "original_num = \"23\"\n",
    "new_num = original_num + 7 \n",
    "print(new_num)"
   ]
  },
  {
   "cell_type": "code",
   "execution_count": 36,
   "metadata": {},
   "outputs": [
    {
     "ename": "TypeError",
     "evalue": "can only concatenate str (not \"int\") to str",
     "output_type": "error",
     "traceback": [
      "\u001b[1;31m---------------------------------------------------------------------------\u001b[0m",
      "\u001b[1;31mTypeError\u001b[0m                                 Traceback (most recent call last)",
      "Input \u001b[1;32mIn [36]\u001b[0m, in \u001b[0;36m<module>\u001b[1;34m\u001b[0m\n\u001b[1;32m----> 1\u001b[0m \u001b[38;5;28mprint\u001b[39m(\u001b[38;5;124;43m\"\u001b[39;49m\u001b[38;5;124;43mThe sum of 2 plus 2 is \u001b[39;49m\u001b[38;5;124;43m\"\u001b[39;49m\u001b[43m \u001b[49m\u001b[38;5;241;43m+\u001b[39;49m\u001b[43m \u001b[49m\u001b[38;5;241;43m4\u001b[39;49m)\n",
      "\u001b[1;31mTypeError\u001b[0m: can only concatenate str (not \"int\") to str"
     ]
    }
   ],
   "source": [
    "print(\"The sum of 2 plus 2 is \" + 4)"
   ]
  },
  {
   "cell_type": "code",
   "execution_count": 37,
   "metadata": {},
   "outputs": [
    {
     "name": "stdout",
     "output_type": "stream",
     "text": [
      "-12 36 3.0\n"
     ]
    }
   ],
   "source": [
    "# other daily use math operators\n",
    "loss = 12 - 24 \n",
    "dozens = 3 * 12 \n",
    "popular_number = 12 / 4 \n",
    "print(loss,dozens,popular_number)"
   ]
  },
  {
   "cell_type": "code",
   "execution_count": 38,
   "metadata": {},
   "outputs": [
    {
     "name": "stdout",
     "output_type": "stream",
     "text": [
      "-89.5\n"
     ]
    }
   ],
   "source": [
    "#during an opertion if a singal value is float answer is float\n",
    "value1 = 100\n",
    "value2 = 10.5\n",
    "sum = value2 - value1\n",
    "print(sum)"
   ]
  },
  {
   "cell_type": "code",
   "execution_count": 39,
   "metadata": {},
   "outputs": [
    {
     "name": "stdout",
     "output_type": "stream",
     "text": [
      "312\n",
      "38\n",
      "23975\n",
      "0.7828571428571428\n"
     ]
    }
   ],
   "source": [
    "#python by default use float in division\n",
    "v1 = 175\n",
    "v2 = 137\n",
    "add = v1+v2\n",
    "minus = v1-v2\n",
    "mult = v1*v2\n",
    "div1 = v2/v1 \n",
    "print(add)\n",
    "print(minus)\n",
    "print(mult)\n",
    "print(div1)"
   ]
  },
  {
   "cell_type": "markdown",
   "metadata": {},
   "source": [
    "### Mathamatical Operators Eliminating Ambiguity\n",
    "BODMAS\n",
    "* B --- Bracket\n",
    "* O --- Order of Powers\n",
    "* D --- Division\n",
    "* M --- Multiplication\n",
    "* A --- Addition\n",
    "* S --- Subtraction"
   ]
  },
  {
   "cell_type": "code",
   "execution_count": 40,
   "metadata": {},
   "outputs": [
    {
     "name": "stdout",
     "output_type": "stream",
     "text": [
      "13\n",
      "13\n",
      "16\n"
     ]
    }
   ],
   "source": [
    "# Rules for maths\n",
    "# Doing complex calculations in python work the same way as ordinary algebra\n",
    "total_cost = 1 + 3 * 4\n",
    "print(total_cost)\n",
    "total_cost = 1 + (3 * 4)\n",
    "print(total_cost)\n",
    "total_cost = (1 + 3) * 4\n",
    "print(total_cost)"
   ]
  },
  {
   "cell_type": "code",
   "execution_count": 41,
   "metadata": {},
   "outputs": [
    {
     "name": "stdout",
     "output_type": "stream",
     "text": [
      "34\n",
      "34\n",
      "48\n"
     ]
    }
   ],
   "source": [
    "result_of_computation = (2 * 4) * 4 + 2 \n",
    "print(result_of_computation)\n",
    "result_of_computation = ((2 * 4) * 4) + 2 \n",
    "print(result_of_computation)\n",
    "result_of_computation = (2 * 4) * (4 + 2) \n",
    "print(result_of_computation)"
   ]
  },
  {
   "cell_type": "code",
   "execution_count": 42,
   "metadata": {},
   "outputs": [],
   "source": [
    "# Other mathamatical operators\n",
    "# these are mathamatical operators which are not commonly used"
   ]
  },
  {
   "cell_type": "code",
   "execution_count": 43,
   "metadata": {},
   "outputs": [
    {
     "name": "stdout",
     "output_type": "stream",
     "text": [
      "174\n"
     ]
    }
   ],
   "source": [
    "# use of // result in integer it elimiates the floating part\n",
    "v1 = 115\n",
    "v2 = 20054\n",
    "div2 = v2//v1 \n",
    "print(div2)"
   ]
  },
  {
   "cell_type": "code",
   "execution_count": 44,
   "metadata": {},
   "outputs": [
    {
     "name": "stdout",
     "output_type": "stream",
     "text": [
      "0\n",
      "1\n"
     ]
    }
   ],
   "source": [
    "# use of % result in remainder\n",
    "whats_left_over = 9 % 3\n",
    "print(whats_left_over)\n",
    "whats_left_over = 10 % 3\n",
    "print(whats_left_over)"
   ]
  },
  {
   "cell_type": "code",
   "execution_count": 45,
   "metadata": {},
   "outputs": [],
   "source": [
    "# Self operators"
   ]
  },
  {
   "cell_type": "code",
   "execution_count": 46,
   "metadata": {},
   "outputs": [
    {
     "name": "stdout",
     "output_type": "stream",
     "text": [
      "13\n"
     ]
    }
   ],
   "source": [
    "# increment\n",
    "age = 12\n",
    "age += 1\n",
    "print(age)"
   ]
  },
  {
   "cell_type": "code",
   "execution_count": 47,
   "metadata": {},
   "outputs": [
    {
     "name": "stdout",
     "output_type": "stream",
     "text": [
      "62\n"
     ]
    }
   ],
   "source": [
    "age = 12\n",
    "age += 50\n",
    "print(age)"
   ]
  },
  {
   "cell_type": "code",
   "execution_count": 48,
   "metadata": {},
   "outputs": [
    {
     "name": "stdout",
     "output_type": "stream",
     "text": [
      "10\n"
     ]
    }
   ],
   "source": [
    "# decrement operator\n",
    "age = 12\n",
    "age -= 2\n",
    "print(age)"
   ]
  },
  {
   "cell_type": "code",
   "execution_count": 49,
   "metadata": {},
   "outputs": [
    {
     "name": "stdout",
     "output_type": "stream",
     "text": [
      "13\n"
     ]
    }
   ],
   "source": [
    "amount_to_increment = 3\n",
    "age += amount_to_increment\n",
    "print(age)"
   ]
  },
  {
   "cell_type": "code",
   "execution_count": 50,
   "metadata": {},
   "outputs": [
    {
     "name": "stdout",
     "output_type": "stream",
     "text": [
      "36\n"
     ]
    }
   ],
   "source": [
    "# multiplication operator\n",
    "age = 12\n",
    "age *= 3\n",
    "print(age)"
   ]
  },
  {
   "cell_type": "code",
   "execution_count": 51,
   "metadata": {},
   "outputs": [
    {
     "name": "stdout",
     "output_type": "stream",
     "text": [
      "4.0\n"
     ]
    }
   ],
   "source": [
    "# division operator\n",
    "age = 12\n",
    "age /= 3\n",
    "print(age)"
   ]
  },
  {
   "cell_type": "code",
   "execution_count": 52,
   "metadata": {},
   "outputs": [],
   "source": [
    "# * operator can be used with string to repeat it many times"
   ]
  },
  {
   "cell_type": "code",
   "execution_count": 53,
   "metadata": {},
   "outputs": [
    {
     "name": "stdout",
     "output_type": "stream",
     "text": [
      "Hi Hi Hi Hi Hi Hi Hi Hi Hi Hi \n"
     ]
    }
   ],
   "source": [
    "a = \"Hi \"\n",
    "b = a*10\n",
    "print(b)"
   ]
  },
  {
   "cell_type": "code",
   "execution_count": 54,
   "metadata": {},
   "outputs": [
    {
     "name": "stdout",
     "output_type": "stream",
     "text": [
      "625\n"
     ]
    }
   ],
   "source": [
    "# power operator\n",
    "a = 5\n",
    "b = 5**4\n",
    "print(b)"
   ]
  },
  {
   "cell_type": "code",
   "execution_count": 55,
   "metadata": {},
   "outputs": [],
   "source": [
    "# Uniry operator\n",
    "# + do nothing\n",
    "# - ivert sign"
   ]
  },
  {
   "cell_type": "markdown",
   "metadata": {},
   "source": [
    "[<--- Previous Page](README.md)"
   ]
  }
 ],
 "metadata": {
  "kernelspec": {
   "display_name": "Python 3",
   "language": "python",
   "name": "python3"
  },
  "language_info": {
   "codemirror_mode": {
    "name": "ipython",
    "version": 3
   },
   "file_extension": ".py",
   "mimetype": "text/x-python",
   "name": "python",
   "nbconvert_exporter": "python",
   "pygments_lexer": "ipython3",
   "version": "3.10.1"
  }
 },
 "nbformat": 4,
 "nbformat_minor": 4
}
