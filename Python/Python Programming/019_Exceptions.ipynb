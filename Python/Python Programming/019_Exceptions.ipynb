{
  "cells": [
    {
      "cell_type": "markdown",
      "metadata": {
        "id": "T90kqRFaEuTy"
      },
      "source": [
        "# Exceptions\n",
        "- Exceptions are runn time error\n",
        "- compile time error are syntax error\n",
        "- we use try - except blocks\n",
        "- where we feel there is a error we use try and exept\n",
        "- we can use multiple except block\n",
        "- Finnaly always execute"
      ]
    },
    {
      "cell_type": "markdown",
      "metadata": {
        "id": "RKgeEY7BEuUB"
      },
      "source": [
        "### Example 1"
      ]
    },
    {
      "cell_type": "code",
      "execution_count": 1,
      "metadata": {
        "colab": {
          "base_uri": "https://localhost:8080/"
        },
        "id": "EiI-R0iZEuUC",
        "outputId": "3ce64970-c379-461a-978e-865a2da0ccc1"
      },
      "outputs": [
        {
          "name": "stdout",
          "output_type": "stream",
          "text": [
            "Enter Your name : Hassan\n",
            "Enter Your age : b\n",
            "Enter valid age\n",
            "Enter Your name : Hassan\n",
            "Enter Your age : 28\n",
            "Name : Hassan\n",
            "Age : 38\n",
            "Enter Your name : q\n"
          ]
        }
      ],
      "source": [
        "# Wtite a Programe to repeatedly ask user's \n",
        "# name and age by using input prompt. \n",
        "# And displays name and age by adding 10 to it. \n",
        "# To quit the programe enter \"q\".\n",
        "flag = True\n",
        "while flag:\n",
        "    try:\n",
        "        name = input(\"Enter Your name : \")\n",
        "        if name.lower() != \"q\":\n",
        "            age = input(\"Enter Your age : \")\n",
        "            age = int(age)\n",
        "            n_age = age+10\n",
        "            print(f\"Name : {name}\")\n",
        "            print(f\"Age : {n_age}\")\n",
        "        else:\n",
        "            flag = False\n",
        "    except:\n",
        "        print(\"Enter valid age\")"
      ]
    },
    {
      "cell_type": "markdown",
      "metadata": {
        "id": "vuLEVP9eEuUF"
      },
      "source": [
        "### Example 02"
      ]
    },
    {
      "cell_type": "code",
      "execution_count": 2,
      "metadata": {
        "colab": {
          "base_uri": "https://localhost:8080/"
        },
        "id": "AvCjuk9kEuUF",
        "outputId": "92c64bf2-365e-469b-8833-ed31e2152e32"
      },
      "outputs": [
        {
          "output_type": "stream",
          "name": "stdout",
          "text": [
            "Enter a number15\n",
            "Enter another number21\n",
            "0.7142857142857143\n"
          ]
        }
      ],
      "source": [
        "try:\n",
        "    value1 = int(input(\"Enter a number\"))\n",
        "    value2 = int(input(\"Enter another number\"))\n",
        "    ans = value1/value2\n",
        "except Exception as e:\n",
        "    print(f\"Exception handled >> {{e}}\")\n",
        "else: # if no exception is generated else block run\n",
        "    print(ans)"
      ]
    },
    {
      "cell_type": "code",
      "execution_count": 3,
      "metadata": {
        "colab": {
          "base_uri": "https://localhost:8080/"
        },
        "id": "JLVKoXO7EuUI",
        "outputId": "2a0b8246-3e79-4e5d-e424-f7b97a2d1bdb"
      },
      "outputs": [
        {
          "output_type": "stream",
          "name": "stdout",
          "text": [
            "Enter a number15\n",
            "Enter another numberb\n",
            "Exception handled >> {e}\n"
          ]
        }
      ],
      "source": [
        "try:\n",
        "    value1 = int(input(\"Enter a number\"))\n",
        "    value2 = int(input(\"Enter another number\"))\n",
        "    ans = value1/value2\n",
        "except Exception as e:\n",
        "    print(f\"Exception handled >> {{e}}\")\n",
        "else: # if no exception is generated else block run\n",
        "    print(ans)"
      ]
    },
    {
      "cell_type": "markdown",
      "metadata": {
        "id": "74KuCZdzEuUK"
      },
      "source": [
        "### Example 03"
      ]
    },
    {
      "cell_type": "code",
      "execution_count": 4,
      "metadata": {
        "colab": {
          "base_uri": "https://localhost:8080/"
        },
        "id": "FnnRDM5ZEuUL",
        "outputId": "2ed911c1-6df7-40ee-8725-f2bdddd72c89"
      },
      "outputs": [
        {
          "output_type": "stream",
          "name": "stdout",
          "text": [
            "Enter a number15\n",
            "Enter another number25\n",
            "0.6\n",
            "This block will always run\n"
          ]
        }
      ],
      "source": [
        "try:\n",
        "    value1 = int(input(\"Enter a number\"))\n",
        "    value2 = int(input(\"Enter another number\"))\n",
        "    ans = value1/value2\n",
        "except Exception as e:\n",
        "    print(f\"Exception handled >> {{e}}\")\n",
        "else: # if no exception is generated else block run\n",
        "    print(ans)\n",
        "finally:\n",
        "    print(\"This block will always run\")"
      ]
    },
    {
      "cell_type": "code",
      "execution_count": 5,
      "metadata": {
        "colab": {
          "base_uri": "https://localhost:8080/"
        },
        "id": "tO7zFLEdEuUM",
        "outputId": "51f4831c-0a8f-460d-ee13-f2e2ad2af3c2"
      },
      "outputs": [
        {
          "output_type": "stream",
          "name": "stdout",
          "text": [
            "Exception caught\n",
            "Finally will always run\n"
          ]
        }
      ],
      "source": [
        "try:\n",
        "    5/5\n",
        "    c = a[a]\n",
        "except:\n",
        "    print(\"Exception caught\")\n",
        "else:\n",
        "    print(\"No Exception\")\n",
        "finally:\n",
        "    print(\"Finally will always run\")"
      ]
    },
    {
      "cell_type": "markdown",
      "metadata": {
        "id": "iudRO1fzEuUO"
      },
      "source": [
        "### Example 04"
      ]
    },
    {
      "cell_type": "code",
      "execution_count": 6,
      "metadata": {
        "colab": {
          "base_uri": "https://localhost:8080/",
          "height": 217
        },
        "id": "H3URkGexEuUO",
        "outputId": "714016a1-6bae-449d-c17d-7456575dcaaa"
      },
      "outputs": [
        {
          "name": "stdout",
          "output_type": "stream",
          "text": [
            "What text file to open? Working.csv\n"
          ]
        },
        {
          "output_type": "error",
          "ename": "FileNotFoundError",
          "evalue": "ignored",
          "traceback": [
            "\u001b[0;31m---------------------------------------------------------------------------\u001b[0m",
            "\u001b[0;31mFileNotFoundError\u001b[0m                         Traceback (most recent call last)",
            "\u001b[0;32m<ipython-input-6-fe911698f2db>\u001b[0m in \u001b[0;36m<module>\u001b[0;34m()\u001b[0m\n\u001b[1;32m      1\u001b[0m \u001b[0mfilename\u001b[0m \u001b[0;34m=\u001b[0m \u001b[0minput\u001b[0m\u001b[0;34m(\u001b[0m\u001b[0;34m\"What text file to open? \"\u001b[0m\u001b[0;34m)\u001b[0m\u001b[0;34m\u001b[0m\u001b[0;34m\u001b[0m\u001b[0m\n\u001b[0;32m----> 2\u001b[0;31m \u001b[0;32mwith\u001b[0m \u001b[0mopen\u001b[0m\u001b[0;34m(\u001b[0m\u001b[0mfilename\u001b[0m\u001b[0;34m)\u001b[0m \u001b[0;32mas\u001b[0m \u001b[0mf\u001b[0m\u001b[0;34m:\u001b[0m\u001b[0;34m\u001b[0m\u001b[0;34m\u001b[0m\u001b[0m\n\u001b[0m\u001b[1;32m      3\u001b[0m     \u001b[0mprint\u001b[0m\u001b[0;34m(\u001b[0m\u001b[0mf\u001b[0m\u001b[0;34m.\u001b[0m\u001b[0mread\u001b[0m\u001b[0;34m(\u001b[0m\u001b[0;34m)\u001b[0m\u001b[0;34m)\u001b[0m\u001b[0;34m\u001b[0m\u001b[0;34m\u001b[0m\u001b[0m\n",
            "\u001b[0;31mFileNotFoundError\u001b[0m: [Errno 2] No such file or directory: 'Working.csv'"
          ]
        }
      ],
      "source": [
        "filename = input(\"What text file to open? \")\n",
        "with open(filename) as f:\n",
        "    print(f.read())"
      ]
    },
    {
      "cell_type": "code",
      "execution_count": 7,
      "metadata": {
        "colab": {
          "base_uri": "https://localhost:8080/"
        },
        "id": "aiUY4bjlEuUP",
        "outputId": "9e837761-d083-4a81-db8e-61c956a9fbd4"
      },
      "outputs": [
        {
          "output_type": "stream",
          "name": "stdout",
          "text": [
            "What text file to open? Testing.csv\n",
            "Sorry, Testing.csv not found.\n"
          ]
        }
      ],
      "source": [
        "try:\n",
        "    filename = input(\"What text file to open? \")\n",
        "    with open(filename) as f:\n",
        "        print(f.read())\n",
        "except FileNotFoundError:\n",
        "    print(\"Sorry, \" + filename + \" not found.\") "
      ]
    },
    {
      "cell_type": "markdown",
      "metadata": {
        "id": "1lAybQSmEuUQ"
      },
      "source": [
        "### Example 05"
      ]
    },
    {
      "cell_type": "code",
      "execution_count": 8,
      "metadata": {
        "colab": {
          "base_uri": "https://localhost:8080/"
        },
        "id": "N9T_3ChUEuUR",
        "outputId": "01f934e1-6c29-49aa-9e76-8c183d94abe9"
      },
      "outputs": [
        {
          "output_type": "stream",
          "name": "stdout",
          "text": [
            "What text file to open? Testing.csv\n",
            "Sorry, Testing.csv not found.\n"
          ]
        }
      ],
      "source": [
        "flag = True\n",
        "while flag:\n",
        "    try:\n",
        "        filename = input(\"What text file to open? \")\n",
        "        with open(filename) as f:\n",
        "            print(f.read())\n",
        "            break\n",
        "    except FileNotFoundError:\n",
        "        flag = False\n",
        "        print(\"Sorry, \" + filename + \" not found.\") "
      ]
    }
  ],
  "metadata": {
    "kernelspec": {
      "display_name": "Python 3",
      "language": "python",
      "name": "python3"
    },
    "language_info": {
      "codemirror_mode": {
        "name": "ipython",
        "version": 3
      },
      "file_extension": ".py",
      "mimetype": "text/x-python",
      "name": "python",
      "nbconvert_exporter": "python",
      "pygments_lexer": "ipython3",
      "version": "3.7.6"
    },
    "colab": {
      "name": "019_Exceptions.ipynb",
      "provenance": [],
      "collapsed_sections": []
    }
  },
  "nbformat": 4,
  "nbformat_minor": 0
}