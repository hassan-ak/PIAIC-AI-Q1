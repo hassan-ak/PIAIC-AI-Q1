{
 "cells": [
  {
   "cell_type": "markdown",
   "metadata": {},
   "source": [
    "# Modules\n",
    "While dealing with functions, we learned how to define a function and how to call it. The function definations were in the same Python file as the function calls. That is they were in the main Python program. An alternative is to store some or all functions in seprate python files. These files are called modules. Like any Python file a module has a file extension of .py.\n",
    "\n",
    "We can store functions, classes and more in module. Most commonly modes are used to store hunctions."
   ]
  },
  {
   "cell_type": "markdown",
   "metadata": {},
   "source": [
    "## What's good about modules:\n",
    "- Write a function once, call it from any Python program.\n",
    "- Keep your main programs shorter and simpler to read.\n",
    "- Use code written by other people by importing their modules."
   ]
  },
  {
   "cell_type": "markdown",
   "metadata": {},
   "source": [
    "### Example 01\n",
    "- Requirements function as module to add, multiply and subtract\n",
    "    ```\n",
    "    def add(a, b):\n",
    "        return a+b\n",
    "    def sub(a, b):\n",
    "        return a-b\n",
    "    def mul(a, b):\n",
    "        return a*b\n",
    "    ```"
   ]
  },
  {
   "cell_type": "code",
   "execution_count": 1,
   "metadata": {},
   "outputs": [],
   "source": [
    "# %laod maths.py\n",
    "import maths as m"
   ]
  },
  {
   "cell_type": "code",
   "execution_count": 2,
   "metadata": {},
   "outputs": [
    {
     "data": {
      "text/plain": [
       "4"
      ]
     },
     "execution_count": 2,
     "metadata": {},
     "output_type": "execute_result"
    }
   ],
   "source": [
    "m.add(2,2)"
   ]
  },
  {
   "cell_type": "code",
   "execution_count": 3,
   "metadata": {},
   "outputs": [
    {
     "data": {
      "text/plain": [
       "24"
      ]
     },
     "execution_count": 3,
     "metadata": {},
     "output_type": "execute_result"
    }
   ],
   "source": [
    "m.mul(4,6)"
   ]
  },
  {
   "cell_type": "code",
   "execution_count": 4,
   "metadata": {},
   "outputs": [
    {
     "data": {
      "text/plain": [
       "-1"
      ]
     },
     "execution_count": 4,
     "metadata": {},
     "output_type": "execute_result"
    }
   ],
   "source": [
    "m.sub(9,10)"
   ]
  },
  {
   "cell_type": "markdown",
   "metadata": {},
   "source": [
    "## Example 02\n",
    "- Requirements function as module to find tax and profit\n",
    "    ```\n",
    "    def tax(income):\n",
    "        tax_amount = income * (10/100)\n",
    "        return tax_amount\n",
    "    def profit(purchase, sales):\n",
    "        profit_amount = sales-purchase\n",
    "        return profit_amount\n",
    "    ```"
   ]
  },
  {
   "cell_type": "code",
   "execution_count": 5,
   "metadata": {},
   "outputs": [],
   "source": [
    "import calculations as cal"
   ]
  },
  {
   "cell_type": "code",
   "execution_count": 6,
   "metadata": {},
   "outputs": [
    {
     "data": {
      "text/plain": [
       "250.0"
      ]
     },
     "execution_count": 6,
     "metadata": {},
     "output_type": "execute_result"
    }
   ],
   "source": [
    "cal.tax(2500)"
   ]
  },
  {
   "cell_type": "code",
   "execution_count": 7,
   "metadata": {},
   "outputs": [
    {
     "data": {
      "text/plain": [
       "-650.5"
      ]
     },
     "execution_count": 7,
     "metadata": {},
     "output_type": "execute_result"
    }
   ],
   "source": [
    "cal.profit(750,99.5)"
   ]
  },
  {
   "cell_type": "markdown",
   "metadata": {},
   "source": [
    "## Example 03\n",
    "- Requirements function as module to find tax\n",
    "    ```\n",
    "    def calc_tax(sales_total, tax_rate):\n",
    "        tax = sales_total * tax_rate\n",
    "        return tax\n",
    "    ```"
   ]
  },
  {
   "cell_type": "code",
   "execution_count": 8,
   "metadata": {},
   "outputs": [
    {
     "name": "stdout",
     "output_type": "stream",
     "text": [
      "5.0685\n"
     ]
    }
   ],
   "source": [
    "import calculations1\n",
    "tax_for_this_order = calculations1.calc_tax(sales_total=101.37, tax_rate=.05)\n",
    "print(tax_for_this_order)"
   ]
  }
 ],
 "metadata": {
  "kernelspec": {
   "display_name": "Python 3",
   "language": "python",
   "name": "python3"
  },
  "language_info": {
   "codemirror_mode": {
    "name": "ipython",
    "version": 3
   },
   "file_extension": ".py",
   "mimetype": "text/x-python",
   "name": "python",
   "nbconvert_exporter": "python",
   "pygments_lexer": "ipython3",
   "version": "3.10.1"
  }
 },
 "nbformat": 4,
 "nbformat_minor": 4
}
