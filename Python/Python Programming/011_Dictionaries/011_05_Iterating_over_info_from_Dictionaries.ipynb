{
 "cells": [
  {
   "cell_type": "markdown",
   "metadata": {},
   "source": [
    "# Iterating over info from Dictionaries\n",
    "- we can acces all key value pair by iterating\n",
    "- we can use .keys, .values or .items"
   ]
  },
  {
   "cell_type": "code",
   "execution_count": 1,
   "metadata": {},
   "outputs": [
    {
     "name": "stdout",
     "output_type": "stream",
     "text": [
      "Hassan\n",
      "AI\n",
      "PIAIC\n",
      "28\n"
     ]
    }
   ],
   "source": [
    "student = {'Name':'Hassan','Class':'AI','Program':'PIAIC','Age':28}\n",
    "for value in student.values():\n",
    "    print(value)"
   ]
  },
  {
   "cell_type": "code",
   "execution_count": 2,
   "metadata": {},
   "outputs": [
    {
     "name": "stdout",
     "output_type": "stream",
     "text": [
      "Name\n",
      "Class\n",
      "Program\n",
      "Age\n"
     ]
    }
   ],
   "source": [
    "for key in student.keys():\n",
    "    print(key)"
   ]
  },
  {
   "cell_type": "code",
   "execution_count": 3,
   "metadata": {},
   "outputs": [
    {
     "name": "stdout",
     "output_type": "stream",
     "text": [
      "Name Hassan\n",
      "Class AI\n",
      "Program PIAIC\n",
      "Age 28\n"
     ]
    }
   ],
   "source": [
    "for key,value in student.items():\n",
    "    print(key,value)"
   ]
  },
  {
   "cell_type": "code",
   "execution_count": 4,
   "metadata": {},
   "outputs": [
    {
     "name": "stdout",
     "output_type": "stream",
     "text": [
      "David\n",
      "Elliott\n",
      "4803 Wellesley St.\n",
      "Toronto\n"
     ]
    }
   ],
   "source": [
    "customer_29876 = {\"first name\": \"David\", \"last name\": \"Elliott\", \"address\": \"4803 Wellesley St.\",\"city\":\"Toronto\"}\n",
    "for each_value in customer_29876.values():\n",
    "    print(each_value)"
   ]
  },
  {
   "cell_type": "code",
   "execution_count": 5,
   "metadata": {},
   "outputs": [
    {
     "name": "stdout",
     "output_type": "stream",
     "text": [
      "first name\n",
      "last name\n",
      "address\n",
      "city\n"
     ]
    }
   ],
   "source": [
    "for each_key in customer_29876.keys():\n",
    "    print(each_key)"
   ]
  },
  {
   "cell_type": "code",
   "execution_count": 6,
   "metadata": {},
   "outputs": [
    {
     "name": "stdout",
     "output_type": "stream",
     "text": [
      "The customer's first name is David\n",
      "The customer's last name is Elliott\n",
      "The customer's address is 4803 Wellesley St.\n",
      "The customer's city is Toronto\n"
     ]
    }
   ],
   "source": [
    "for each_key, each_value in customer_29876.items():\n",
    "    print(\"The customer's \" + each_key + \" is \" + each_value)"
   ]
  },
  {
   "cell_type": "markdown",
   "metadata": {},
   "source": [
    "## What Can you store in Dictionaries"
   ]
  },
  {
   "cell_type": "markdown",
   "metadata": {},
   "source": [
    "we can store\n",
    "- single value\n",
    "- list\n",
    "- tuple\n",
    "- Dictionary\n",
    "- combination of any these"
   ]
  }
 ],
 "metadata": {
  "kernelspec": {
   "display_name": "Python 3",
   "language": "python",
   "name": "python3"
  },
  "language_info": {
   "codemirror_mode": {
    "name": "ipython",
    "version": 3
   },
   "file_extension": ".py",
   "mimetype": "text/x-python",
   "name": "python",
   "nbconvert_exporter": "python",
   "pygments_lexer": "ipython3",
   "version": "3.10.1"
  }
 },
 "nbformat": 4,
 "nbformat_minor": 4
}
