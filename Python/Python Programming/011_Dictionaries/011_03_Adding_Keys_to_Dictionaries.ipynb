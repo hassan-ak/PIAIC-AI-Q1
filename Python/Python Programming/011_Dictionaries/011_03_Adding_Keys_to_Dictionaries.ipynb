{
 "cells": [
  {
   "cell_type": "markdown",
   "metadata": {},
   "source": [
    "# Adding Keys to Dictionaries\n",
    "- we can add value to a dict. using  a key\n",
    "- if the same key present already it will override the previous one"
   ]
  },
  {
   "cell_type": "code",
   "execution_count": 1,
   "metadata": {},
   "outputs": [
    {
     "name": "stdout",
     "output_type": "stream",
     "text": [
      "{'Name': 'Hassan', 'Class': 'AI', 'Program': 'PIAIC', 'Age': 28}\n",
      "{'Name': 'Hassan', 'Class': 'AI', 'Program': 'PIAIC', 'Age': 28, 'f_name': 'Zaheer'}\n"
     ]
    }
   ],
   "source": [
    "student = {'Name':'Hassan','Class':'AI','Program':'PIAIC','Age':28}\n",
    "print(student)\n",
    "student['f_name'] = 'Zaheer'\n",
    "print(student)"
   ]
  },
  {
   "cell_type": "code",
   "execution_count": 2,
   "metadata": {},
   "outputs": [
    {
     "data": {
      "text/plain": [
       "{'first name': 'David',\n",
       " 'last name': 'Elliott',\n",
       " 'address': '4803 Wellesley St.',\n",
       " 'city': 'Toronto'}"
      ]
     },
     "execution_count": 2,
     "metadata": {},
     "output_type": "execute_result"
    }
   ],
   "source": [
    "customer_29876 = {\"first name\": \"David\", \"last name\": \"Elliott\", \"address\": \"4803 Wellesley St.\"}\n",
    "customer_29876[\"city\"] = \"Toronto\"\n",
    "customer_29876"
   ]
  },
  {
   "cell_type": "code",
   "execution_count": 3,
   "metadata": {},
   "outputs": [
    {
     "data": {
      "text/plain": [
       "{0: 'the lowest number', 'a dozen': 12}"
      ]
     },
     "execution_count": 3,
     "metadata": {},
     "output_type": "execute_result"
    }
   ],
   "source": [
    "things_to_remember = {}\n",
    "things_to_remember[0] = \"the lowest number\"\n",
    "things_to_remember[\"a dozen\"] = 12\n",
    "things_to_remember"
   ]
  },
  {
   "cell_type": "code",
   "execution_count": 4,
   "metadata": {},
   "outputs": [
    {
     "name": "stdout",
     "output_type": "stream",
     "text": [
      "{'name': 'Hassan Ali Khan', 'age': 28, 'gender': 'M', 'email': 'abcd@hola.com'}\n"
     ]
    },
    {
     "data": {
      "text/plain": [
       "4"
      ]
     },
     "execution_count": 4,
     "metadata": {},
     "output_type": "execute_result"
    }
   ],
   "source": [
    "myDict = {'name':'Hassan Ali Khan','age':28,'gender':'M'}\n",
    "myDict['email']='abcd@hola.com'\n",
    "print(myDict)\n",
    "len(myDict)"
   ]
  }
 ],
 "metadata": {
  "kernelspec": {
   "display_name": "Python 3",
   "language": "python",
   "name": "python3"
  },
  "language_info": {
   "codemirror_mode": {
    "name": "ipython",
    "version": 3
   },
   "file_extension": ".py",
   "mimetype": "text/x-python",
   "name": "python",
   "nbconvert_exporter": "python",
   "pygments_lexer": "ipython3",
   "version": "3.10.1"
  }
 },
 "nbformat": 4,
 "nbformat_minor": 4
}
