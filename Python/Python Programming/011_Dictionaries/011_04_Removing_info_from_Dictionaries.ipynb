{
 "cells": [
  {
   "cell_type": "markdown",
   "metadata": {},
   "source": [
    "# Removing info from Dictionaries\n",
    "- use del word"
   ]
  },
  {
   "cell_type": "code",
   "execution_count": 1,
   "metadata": {},
   "outputs": [
    {
     "name": "stdout",
     "output_type": "stream",
     "text": [
      "{'Name': 'Hassan', 'Class': 'AI', 'Program': 'PIAIC', 'Age': 28}\n",
      "{'Name': 'Hassan', 'Class': 'AI', 'Age': 28}\n"
     ]
    }
   ],
   "source": [
    "student = {'Name':'Hassan','Class':'AI','Program':'PIAIC','Age':28}\n",
    "print(student)\n",
    "del student['Program']\n",
    "print(student)"
   ]
  },
  {
   "cell_type": "code",
   "execution_count": 2,
   "metadata": {},
   "outputs": [
    {
     "name": "stdout",
     "output_type": "stream",
     "text": [
      "{'name': 'Hassan Ali Khan', 'age': 28, 'gender': 'M'}\n",
      "{'name': 'Hassan Ali Khan', 'gender': 'M'}\n"
     ]
    }
   ],
   "source": [
    "myDict = {'name':'Hassan Ali Khan','age':28,'gender':'M'}\n",
    "print(myDict)\n",
    "del myDict['age']\n",
    "print(myDict)"
   ]
  },
  {
   "cell_type": "markdown",
   "metadata": {},
   "source": [
    "for updating a dict. use the method of adding new value but keep the key same"
   ]
  },
  {
   "cell_type": "code",
   "execution_count": 3,
   "metadata": {},
   "outputs": [
    {
     "name": "stdout",
     "output_type": "stream",
     "text": [
      "{'name': 'Hassan Ali Khan', 'age': 28, 'gender': 'M'}\n",
      "{'name': 'Hassan Ali Khan', 'age': 82, 'gender': 'M'}\n"
     ]
    }
   ],
   "source": [
    "myDict = {'name':'Hassan Ali Khan','age':28,'gender':'M'}\n",
    "print(myDict)\n",
    "myDict['age']=82\n",
    "print(myDict)"
   ]
  },
  {
   "cell_type": "code",
   "execution_count": 4,
   "metadata": {},
   "outputs": [
    {
     "data": {
      "text/plain": [
       "{1: 1000, 2: 200, 3: 300, 4: 400}"
      ]
     },
     "execution_count": 4,
     "metadata": {},
     "output_type": "execute_result"
    }
   ],
   "source": [
    "aDic = {1:100,2:200,3:300,4:400,1:1000}\n",
    "aDic"
   ]
  },
  {
   "cell_type": "code",
   "execution_count": 5,
   "metadata": {},
   "outputs": [
    {
     "name": "stdout",
     "output_type": "stream",
     "text": [
      "{'first name': 'David', 'last name': 'Elliott', 'address': '4803 Wellesley St.', 'city': 'Toronto'}\n",
      "{'first name': 'David', 'last name': 'Elliott', 'city': 'Toronto'}\n"
     ]
    }
   ],
   "source": [
    "customer_29876 = {\"first name\": \"David\", \"last name\": \"Elliott\", \"address\": \"4803 Wellesley St.\",\"city\":\"Toronto\"}\n",
    "print(customer_29876)\n",
    "del customer_29876[\"address\"]\n",
    "print(customer_29876)"
   ]
  },
  {
   "cell_type": "code",
   "execution_count": 6,
   "metadata": {},
   "outputs": [
    {
     "name": "stdout",
     "output_type": "stream",
     "text": [
      "{'first name': 'David', 'last name': 'Elliott', 'city': 'Toronto'}\n",
      "{'first name': 'David', 'last name': 'Elliott', 'city': 'Winipeg'}\n"
     ]
    }
   ],
   "source": [
    "print(customer_29876)\n",
    "customer_29876[\"city\"] = \"Winipeg\"\n",
    "print(customer_29876)"
   ]
  }
 ],
 "metadata": {
  "kernelspec": {
   "display_name": "Python 3",
   "language": "python",
   "name": "python3"
  },
  "language_info": {
   "codemirror_mode": {
    "name": "ipython",
    "version": 3
   },
   "file_extension": ".py",
   "mimetype": "text/x-python",
   "name": "python",
   "nbconvert_exporter": "python",
   "pygments_lexer": "ipython3",
   "version": "3.10.1"
  }
 },
 "nbformat": 4,
 "nbformat_minor": 4
}
