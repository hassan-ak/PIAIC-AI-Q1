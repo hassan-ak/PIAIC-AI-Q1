{
 "cells": [
  {
   "cell_type": "markdown",
   "metadata": {},
   "source": [
    "# What is List\n",
    "- Alist is a **data structure** in Python that is a **mutable** or changeable **ordered** sequence of elements.\n",
    "- Each elemet or value that is inside a list is called an item.\n",
    "- Just as strings are defined as characters between quotes, lists are defined by having value between square brackets seprated by comma.\n",
    "- alist = [-,-,-,-,-,-]\n",
    "- In python indexing start from 0"
   ]
  },
  {
   "cell_type": "code",
   "execution_count": 1,
   "metadata": {},
   "outputs": [
    {
     "name": "stdout",
     "output_type": "stream",
     "text": [
      "Atlanta Baltimore Chicago Denver Los Angeles Seattle \n"
     ]
    }
   ],
   "source": [
    "# One way to define a collection is to define multiple variables and then concatinate it\n",
    "city_0 = \"Atlanta \"\n",
    "city_1 = \"Baltimore \"\n",
    "city_2 = \"Chicago \"\n",
    "city_3 = \"Denver \"\n",
    "city_4 = \"Los Angeles \"\n",
    "city_5 = \"Seattle \"\n",
    "cities = city_0+city_1+city_2+city_3+city_4+city_5\n",
    "print(cities) "
   ]
  },
  {
   "cell_type": "code",
   "execution_count": 2,
   "metadata": {},
   "outputs": [
    {
     "name": "stdout",
     "output_type": "stream",
     "text": [
      "['Atlanta', 'Baltimore', 'Chicago', 'Denver', 'Los Angeles', 'Seattle']\n"
     ]
    }
   ],
   "source": [
    "# Example01\n",
    "cities = [\"Atlanta\", \"Baltimore\", \"Chicago\",\"Denver\", \"Los Angeles\", \"Seattle\"]\n",
    "print(cities)"
   ]
  },
  {
   "cell_type": "code",
   "execution_count": 3,
   "metadata": {},
   "outputs": [
    {
     "name": "stdout",
     "output_type": "stream",
     "text": [
      "['Hamza', 'Fatima', 'Azhar', 'laiba', 'Ali', 'Zoya']\n",
      "<class 'list'>\n",
      "[1, 2, 3, 4, 5, 6, 7, 8, 9]\n",
      "<class 'list'>\n",
      "[2.43, 98.67, 7.45, 45.65]\n",
      "<class 'list'>\n",
      "['Ahsan', 2, 4.56, 6.87, True, 'Maham', 56, False]\n",
      "<class 'list'>\n"
     ]
    }
   ],
   "source": [
    "frinds = ['Hamza','Fatima','Azhar','laiba','Ali','Zoya']\n",
    "numbers = [1,2,3,4,5,6,7,8,9]\n",
    "list_float = [2.43,98.67,7.45,45.65]\n",
    "mix = ['Ahsan',2,4.56,6.87,True,'Maham',56,False]\n",
    "print(frinds)\n",
    "print(type(frinds))\n",
    "print(numbers)\n",
    "print(type(numbers))\n",
    "print(list_float)\n",
    "print(type(list_float))\n",
    "print(mix)\n",
    "print(type(mix))"
   ]
  },
  {
   "cell_type": "code",
   "execution_count": 4,
   "metadata": {},
   "outputs": [
    {
     "name": "stdout",
     "output_type": "stream",
     "text": [
      "['nasir', 'ali', 'Faisal']\n"
     ]
    }
   ],
   "source": [
    "# Items are classified with index\n",
    "alist = [\"nasir\",\"ali\",\"Faisal\"]\n",
    "# index     0      1    2\n",
    "print(alist)"
   ]
  },
  {
   "cell_type": "code",
   "execution_count": 5,
   "metadata": {},
   "outputs": [
    {
     "data": {
      "text/plain": [
       "[1, 'Bob', 'Now is']"
      ]
     },
     "execution_count": 5,
     "metadata": {},
     "output_type": "execute_result"
    }
   ],
   "source": [
    "mixed_things = [1, \"Bob\", \"Now is\"]\n",
    "mixed_things"
   ]
  },
  {
   "cell_type": "code",
   "execution_count": 6,
   "metadata": {},
   "outputs": [
    {
     "name": "stdout",
     "output_type": "stream",
     "text": [
      "['Karachi', 'Multan', 'Lahore', 'Queta']\n"
     ]
    }
   ],
   "source": [
    "city1 = \"Karachi\"\n",
    "city2 = \"multan\"\n",
    "city3 = \"lahore\"\n",
    "city4 = \"Queta\"\n",
    "cities = [\"Karachi\", \"Multan\",\"Lahore\",\"Queta\"]\n",
    "print(cities)"
   ]
  },
  {
   "cell_type": "markdown",
   "metadata": {},
   "source": [
    "##### common list operations\n",
    "- access values\n",
    "- add new value at the end\n",
    "- finding index of a value in list\n",
    "- slicing the elements from the list\n",
    "- deleting and removing the elements from the list\n",
    "- popping elements from the list"
   ]
  },
  {
   "cell_type": "markdown",
   "metadata": {},
   "source": [
    "[<--- Previous Page](README.md)"
   ]
  }
 ],
 "metadata": {
  "kernelspec": {
   "display_name": "Python 3",
   "language": "python",
   "name": "python3"
  },
  "language_info": {
   "codemirror_mode": {
    "name": "ipython",
    "version": 3
   },
   "file_extension": ".py",
   "mimetype": "text/x-python",
   "name": "python",
   "nbconvert_exporter": "python",
   "pygments_lexer": "ipython3",
   "version": "3.10.1"
  }
 },
 "nbformat": 4,
 "nbformat_minor": 4
}
