{
 "cells": [
  {
   "cell_type": "markdown",
   "metadata": {},
   "source": [
    "# Slicing Elements from List\n",
    "Python Provides a very handy feature if you want to take a partial piece of List. Note that slicing operation copies elements from the original List hence this operation returns a new List which is subset of the original List.\n",
    "```\n",
    "arr = [1,4,2,78,45,23,89]\n",
    "print(arr[1:4])\n",
    "- left side is staring index - - - inclusive\n",
    "- right side is ending index - - - exclusive\n",
    "```"
   ]
  },
  {
   "cell_type": "code",
   "execution_count": 1,
   "metadata": {},
   "outputs": [
    {
     "name": "stdout",
     "output_type": "stream",
     "text": [
      "[1, 4, 2, 78, 45, 23, 89]\n",
      "[4, 2, 78]\n",
      "[23]\n",
      "[4, 78, 23]\n"
     ]
    }
   ],
   "source": [
    "arr = [1,4,2,78,45,23,89]\n",
    "print(arr)\n",
    "print(arr[1:4])\n",
    "print(arr[-2:-1])\n",
    "print(arr[1: :2])"
   ]
  },
  {
   "cell_type": "code",
   "execution_count": 2,
   "metadata": {},
   "outputs": [
    {
     "name": "stdout",
     "output_type": "stream",
     "text": [
      "['Ali', 'Faisal', 'Saleem', 'Hamza', 'Kashif']\n"
     ]
    }
   ],
   "source": [
    "# -ve index      -5      -4       -3      -2      -1\n",
    "students = [\"Ali\",\"Faisal\",\"Saleem\",\"Hamza\",\"Kashif\"]\n",
    "# +ve index       0       1        2       3       4\n",
    "print(students)"
   ]
  },
  {
   "cell_type": "code",
   "execution_count": 3,
   "metadata": {},
   "outputs": [
    {
     "name": "stdout",
     "output_type": "stream",
     "text": [
      "Ali\n",
      "Ali\n"
     ]
    }
   ],
   "source": [
    "# Ali have two index\n",
    "print(students[0])\n",
    "print(students[-5])"
   ]
  },
  {
   "cell_type": "code",
   "execution_count": 4,
   "metadata": {},
   "outputs": [
    {
     "name": "stdout",
     "output_type": "stream",
     "text": [
      "['Faisal']\n",
      "['Faisal', 'Saleem']\n"
     ]
    }
   ],
   "source": [
    "# slicing gives list as output\n",
    "print(students[1:2])\n",
    "print(students[1:3])"
   ]
  },
  {
   "cell_type": "code",
   "execution_count": 5,
   "metadata": {},
   "outputs": [
    {
     "name": "stdout",
     "output_type": "stream",
     "text": [
      "['Faisal']\n",
      "['Faisal', 'Saleem']\n"
     ]
    }
   ],
   "source": [
    "print(students[-4:-3])\n",
    "print(students[-4:-2])"
   ]
  },
  {
   "cell_type": "code",
   "execution_count": 6,
   "metadata": {},
   "outputs": [
    {
     "name": "stdout",
     "output_type": "stream",
     "text": [
      "['Ali', 'Faisal', 'Saleem', 'Hamza', 'Kashif']\n",
      "['Hamza', 'Kashif']\n",
      "['Ali', 'Faisal', 'Saleem']\n"
     ]
    }
   ],
   "source": [
    "print(students[:])\n",
    "print(students[3:])\n",
    "print(students[0:3])"
   ]
  },
  {
   "cell_type": "code",
   "execution_count": 7,
   "metadata": {},
   "outputs": [
    {
     "name": "stdout",
     "output_type": "stream",
     "text": [
      "['Saleem', 'Hamza']\n"
     ]
    }
   ],
   "source": [
    "print(students[2:-1])"
   ]
  },
  {
   "cell_type": "code",
   "execution_count": 8,
   "metadata": {},
   "outputs": [
    {
     "name": "stdout",
     "output_type": "stream",
     "text": [
      "[]\n"
     ]
    }
   ],
   "source": [
    "# during slicing if we give wrong slicing we dont get a error\n",
    "print(students[2:-5])"
   ]
  },
  {
   "cell_type": "code",
   "execution_count": 9,
   "metadata": {},
   "outputs": [
    {
     "data": {
      "text/plain": [
       "['Chicago', 'Denver', 'Los Angeles']"
      ]
     },
     "execution_count": 9,
     "metadata": {},
     "output_type": "execute_result"
    }
   ],
   "source": [
    "cities = [\"Atlanta\", \"Baltimore\", \"Chicago\", \"Denver\", \"Los Angeles\", \"Seattle\"]\n",
    "smaller_list_of_cities = cities[2:5]\n",
    "smaller_list_of_cities"
   ]
  },
  {
   "cell_type": "code",
   "execution_count": 10,
   "metadata": {},
   "outputs": [
    {
     "data": {
      "text/plain": [
       "['Atlanta', 'Baltimore', 'Chicago', 'Denver', 'Los Angeles']"
      ]
     },
     "execution_count": 10,
     "metadata": {},
     "output_type": "execute_result"
    }
   ],
   "source": [
    "smaller_list_of_cities = cities[:5]\n",
    "smaller_list_of_cities"
   ]
  },
  {
   "cell_type": "code",
   "execution_count": 11,
   "metadata": {},
   "outputs": [
    {
     "data": {
      "text/plain": [
       "['Chicago', 'Denver', 'Los Angeles', 'Seattle']"
      ]
     },
     "execution_count": 11,
     "metadata": {},
     "output_type": "execute_result"
    }
   ],
   "source": [
    "smaller_list_of_cities = cities[2:]\n",
    "smaller_list_of_cities"
   ]
  },
  {
   "cell_type": "code",
   "execution_count": 12,
   "metadata": {},
   "outputs": [
    {
     "name": "stdout",
     "output_type": "stream",
     "text": [
      "[1, 2, 3, 4, 5, 6, 7, 8, 9, 10, 11, 12, 13, 14, 15, 16]\n",
      "[1, 2, 3, 4, 5, 6, 7, 8, 9, 10, 11, 12, 13, 14, 15, 16]\n",
      "[1, 3, 5, 7, 9, 11, 13, 15]\n",
      "[1, 6, 11, 16]\n",
      "[1, 6, 11, 16]\n",
      "[3, 11, 19]\n"
     ]
    }
   ],
   "source": [
    "# we can use steps too\n",
    "nums = [1,2,3,4,5,6,7,8,9,10,11,12,13,14,15,16,17,18,19,20]\n",
    "print(nums[0:16])\n",
    "print(nums[0:16:1])\n",
    "print(nums[0:16:2])\n",
    "print(nums[0:16:5])\n",
    "print(nums[::5])\n",
    "print(nums[2::8])"
   ]
  },
  {
   "cell_type": "markdown",
   "metadata": {},
   "source": [
    "[<--- Previous Page](README.md)"
   ]
  }
 ],
 "metadata": {
  "kernelspec": {
   "display_name": "Python 3",
   "language": "python",
   "name": "python3"
  },
  "language_info": {
   "codemirror_mode": {
    "name": "ipython",
    "version": 3
   },
   "file_extension": ".py",
   "mimetype": "text/x-python",
   "name": "python",
   "nbconvert_exporter": "python",
   "pygments_lexer": "ipython3",
   "version": "3.10.1"
  }
 },
 "nbformat": 4,
 "nbformat_minor": 4
}
