{
 "cells": [
  {
   "cell_type": "markdown",
   "metadata": {},
   "source": [
    "# Adding Values in List\n",
    "Pthon provides a function `append()` which adds the value at the end of List.\n",
    "- ADD\n",
    "    - Append --- add to last\n",
    "    - Insert --- add to defined index\n",
    "    - Extend --- add multiple members at once"
   ]
  },
  {
   "cell_type": "markdown",
   "metadata": {},
   "source": [
    "###### Append---add to last\n",
    "- it only add one member at a time"
   ]
  },
  {
   "cell_type": "code",
   "execution_count": 1,
   "metadata": {},
   "outputs": [
    {
     "name": "stdout",
     "output_type": "stream",
     "text": [
      "[]\n"
     ]
    }
   ],
   "source": [
    "fruits=[]\n",
    "print(fruits)"
   ]
  },
  {
   "cell_type": "code",
   "execution_count": 2,
   "metadata": {},
   "outputs": [
    {
     "name": "stdout",
     "output_type": "stream",
     "text": [
      "['apple']\n"
     ]
    }
   ],
   "source": [
    "fruits.append(\"apple\")\n",
    "print(fruits)"
   ]
  },
  {
   "cell_type": "code",
   "execution_count": 3,
   "metadata": {},
   "outputs": [
    {
     "name": "stdout",
     "output_type": "stream",
     "text": [
      "['apple', 'Orange']\n"
     ]
    }
   ],
   "source": [
    "fruits.append(\"Orange\")\n",
    "print(fruits)"
   ]
  },
  {
   "cell_type": "code",
   "execution_count": 4,
   "metadata": {},
   "outputs": [
    {
     "name": "stdout",
     "output_type": "stream",
     "text": [
      "[1, -3, 4.5, 32, 0.2, 4, 6]\n",
      "[1, -3, 4.5, 32, 0.2, 4, 6, 321]\n"
     ]
    }
   ],
   "source": [
    "arr = [1,-3,4.5,32,0.2,4,6]\n",
    "print(arr)\n",
    "#list name + . + tab\n",
    "arr.append(321)\n",
    "print(arr)"
   ]
  },
  {
   "cell_type": "code",
   "execution_count": 5,
   "metadata": {},
   "outputs": [
    {
     "name": "stdout",
     "output_type": "stream",
     "text": [
      "['Atlanta', 'Baltimore', 'Chicago', 'Denver', 'Los Angeles', 'Seattle']\n",
      "['Atlanta', 'Baltimore', 'Chicago', 'Denver', 'Los Angeles', 'Seattle', 'New York']\n",
      "['Atlanta', 'Baltimore', 'Chicago', 'Denver', 'Los Angeles', 'Seattle', 'New York', 'Dubuque', 'New Orleans']\n"
     ]
    }
   ],
   "source": [
    "cities=[\"Atlanta\",\"Baltimore\",\"Chicago\",\"Denver\",\"Los Angeles\",\"Seattle\"]\n",
    "print (cities)\n",
    "cities.append(\"New York\")\n",
    "print(cities)\n",
    "cities = cities + [\"Dubuque\", \"New Orleans\"]\n",
    "print(cities)"
   ]
  },
  {
   "cell_type": "markdown",
   "metadata": {},
   "source": [
    "###### Insert--- add to defined index\n",
    "- it asks for where and what"
   ]
  },
  {
   "cell_type": "code",
   "execution_count": 6,
   "metadata": {},
   "outputs": [
    {
     "name": "stdout",
     "output_type": "stream",
     "text": [
      "['apple', 'Orange']\n"
     ]
    }
   ],
   "source": [
    "fruits = [\"apple\",\"Orange\"]\n",
    "print(fruits)"
   ]
  },
  {
   "cell_type": "code",
   "execution_count": 7,
   "metadata": {},
   "outputs": [
    {
     "name": "stdout",
     "output_type": "stream",
     "text": [
      "['apple', 'mango', 'Orange']\n"
     ]
    }
   ],
   "source": [
    "fruits.insert(1,\"mango\")\n",
    "print(fruits)"
   ]
  },
  {
   "cell_type": "code",
   "execution_count": 8,
   "metadata": {},
   "outputs": [
    {
     "name": "stdout",
     "output_type": "stream",
     "text": [
      "['Atlanta', 'Baltimore', 'Chicago', 'Denver', 'Los Angeles', 'Seattle']\n",
      "['Atlanta', 'New York', 'Baltimore', 'Chicago', 'Denver', 'Los Angeles', 'Seattle']\n",
      "['Atlanta', 'New York', 'Dallas', 'Baltimore', 'Chicago', 'Denver', 'Los Angeles', 'Seattle']\n"
     ]
    }
   ],
   "source": [
    "cities=[\"Atlanta\",\"Baltimore\",\"Chicago\",\"Denver\",\"Los Angeles\",\"Seattle\"]\n",
    "print(cities)\n",
    "cities.insert(1, \"New York\")\n",
    "print(cities)\n",
    "cities.insert(2, \"Dallas\")\n",
    "print(cities)"
   ]
  },
  {
   "cell_type": "markdown",
   "metadata": {},
   "source": [
    "###### extend--- add as many members\n",
    "- it asks for where and what"
   ]
  },
  {
   "cell_type": "code",
   "execution_count": 9,
   "metadata": {},
   "outputs": [
    {
     "name": "stdout",
     "output_type": "stream",
     "text": [
      "['apple', 'mango', 'Orange']\n"
     ]
    }
   ],
   "source": [
    "fruits = ['apple', 'mango', 'Orange']\n",
    "print(fruits)"
   ]
  },
  {
   "cell_type": "code",
   "execution_count": 10,
   "metadata": {},
   "outputs": [
    {
     "name": "stdout",
     "output_type": "stream",
     "text": [
      "['apple', 'mango', 'Orange', 'cherry', 'blueberry', 'pine Apple']\n"
     ]
    }
   ],
   "source": [
    "fruits.extend([\"cherry\",\"blueberry\",\"pine Apple\"])\n",
    "print(fruits)"
   ]
  },
  {
   "cell_type": "code",
   "execution_count": 11,
   "metadata": {},
   "outputs": [
    {
     "name": "stdout",
     "output_type": "stream",
     "text": [
      "[]\n",
      "['Walk dog', 'Buy groceries']\n"
     ]
    }
   ],
   "source": [
    "todays_tasks = [] \n",
    "print(todays_tasks)\n",
    "todays_tasks = todays_tasks + [\"Walk dog\", \"Buy groceries\"]\n",
    "print(todays_tasks)"
   ]
  },
  {
   "cell_type": "code",
   "execution_count": 12,
   "metadata": {},
   "outputs": [
    {
     "name": "stdout",
     "output_type": "stream",
     "text": [
      "['Atlanta', 'Baltimore', 'Chicago', 'Denver', 'Los Angeles', 'Seattle']\n",
      "['Atlanta', 'Baltimore', 'Chicago', 'Denver', 'Los Angeles', 'Seattle', 'Dubuque', 'New Orleans']\n",
      "['Atlanta', 'Baltimore', 'Chicago', 'Denver', 'Los Angeles', 'Seattle', 'Dubuque', 'New Orleans']\n"
     ]
    }
   ],
   "source": [
    "cities=[\"Atlanta\",\"Baltimore\",\"Chicago\",\"Denver\",\"Los Angeles\",\"Seattle\"]\n",
    "print (cities)\n",
    "cities.extend([\"Dubuque\", \"New Orleans\"])\n",
    "print(cities)\n",
    "cities=[\"Atlanta\",\"Baltimore\",\"Chicago\",\"Denver\",\"Los Angeles\",\"Seattle\"]\n",
    "cities = cities + [\"Dubuque\", \"New Orleans\"]\n",
    "print(cities)"
   ]
  },
  {
   "cell_type": "markdown",
   "metadata": {},
   "source": [
    "#### Some other functions which can be used on lists\n",
    "- count\n",
    "- clear\n",
    "- copy\n",
    "\n",
    "###### Count\n",
    "- count number of instances a member is used"
   ]
  },
  {
   "cell_type": "code",
   "execution_count": 13,
   "metadata": {
    "scrolled": true
   },
   "outputs": [
    {
     "name": "stdout",
     "output_type": "stream",
     "text": [
      "['cherry', 'blueberry', 'pine Apple']\n"
     ]
    }
   ],
   "source": [
    "fruits=[\"cherry\",\"blueberry\",\"pine Apple\"]\n",
    "print(fruits)"
   ]
  },
  {
   "cell_type": "code",
   "execution_count": 14,
   "metadata": {},
   "outputs": [
    {
     "data": {
      "text/plain": [
       "1"
      ]
     },
     "execution_count": 14,
     "metadata": {},
     "output_type": "execute_result"
    }
   ],
   "source": [
    "fruits.count(\"cherry\")"
   ]
  },
  {
   "cell_type": "code",
   "execution_count": 15,
   "metadata": {},
   "outputs": [
    {
     "data": {
      "text/plain": [
       "0"
      ]
     },
     "execution_count": 15,
     "metadata": {},
     "output_type": "execute_result"
    }
   ],
   "source": [
    "fruits.count(\"ALi\")"
   ]
  },
  {
   "cell_type": "markdown",
   "metadata": {},
   "source": [
    "###### Clear\n",
    "- clear the complete list"
   ]
  },
  {
   "cell_type": "code",
   "execution_count": 16,
   "metadata": {},
   "outputs": [
    {
     "name": "stdout",
     "output_type": "stream",
     "text": [
      "[1, 2, 3, 4, 5, 6, 7, 8, 9, 10]\n"
     ]
    },
    {
     "data": {
      "text/plain": [
       "[]"
      ]
     },
     "execution_count": 16,
     "metadata": {},
     "output_type": "execute_result"
    }
   ],
   "source": [
    "numbers = [1,2,3,4,5,6,7,8,9,10]\n",
    "print(numbers)\n",
    "numbers.clear()\n",
    "numbers"
   ]
  },
  {
   "cell_type": "markdown",
   "metadata": {},
   "source": [
    "###### Copy\n",
    "- copy complete list to other variable"
   ]
  },
  {
   "cell_type": "code",
   "execution_count": 17,
   "metadata": {},
   "outputs": [],
   "source": [
    "fruits=[\"cherry\",\"blueberry\",\"pine Apple\"]"
   ]
  },
  {
   "cell_type": "code",
   "execution_count": 18,
   "metadata": {},
   "outputs": [],
   "source": [
    "# copy by value\n",
    "fruits2=fruits.copy()"
   ]
  },
  {
   "cell_type": "code",
   "execution_count": 19,
   "metadata": {},
   "outputs": [
    {
     "name": "stdout",
     "output_type": "stream",
     "text": [
      "['cherry', 'blueberry', 'pine Apple']\n",
      "['cherry', 'blueberry', 'pine Apple']\n"
     ]
    }
   ],
   "source": [
    "print(fruits)\n",
    "print(fruits2)"
   ]
  },
  {
   "cell_type": "code",
   "execution_count": 20,
   "metadata": {},
   "outputs": [
    {
     "name": "stdout",
     "output_type": "stream",
     "text": [
      "['cherry', 'blueberry', 'pine Apple']\n",
      "['cherry', 'blueberry', 'pine Apple']\n"
     ]
    }
   ],
   "source": [
    "#by reference not a new list just coppy\n",
    "fruits3 = fruits \n",
    "print(fruits)\n",
    "print(fruits3)"
   ]
  },
  {
   "cell_type": "code",
   "execution_count": 21,
   "metadata": {},
   "outputs": [
    {
     "name": "stdout",
     "output_type": "stream",
     "text": [
      "['cherry', 'blueberry', 'pine Apple', 'new fruit']\n",
      "['cherry', 'blueberry', 'pine Apple']\n",
      "['cherry', 'blueberry', 'pine Apple', 'new fruit']\n"
     ]
    }
   ],
   "source": [
    "fruits.append(\"new fruit\")\n",
    "print(fruits)\n",
    "print(fruits2)\n",
    "print(fruits3)"
   ]
  },
  {
   "cell_type": "code",
   "execution_count": 22,
   "metadata": {},
   "outputs": [
    {
     "name": "stdout",
     "output_type": "stream",
     "text": [
      "[0, 1, 2, 3, 4, 5]\n",
      "[0, 1, 125, 3, 4, 5]\n"
     ]
    }
   ],
   "source": [
    "# if we want to replace an element of list we use the following syntax\n",
    "alist = [0,1,2,3,4,5]\n",
    "print(alist)\n",
    "alist[2] = 125\n",
    "print(alist)"
   ]
  },
  {
   "cell_type": "markdown",
   "metadata": {},
   "source": [
    "[<--- Previous Page](README.md)"
   ]
  }
 ],
 "metadata": {
  "kernelspec": {
   "display_name": "Python 3",
   "language": "python",
   "name": "python3"
  },
  "language_info": {
   "codemirror_mode": {
    "name": "ipython",
    "version": 3
   },
   "file_extension": ".py",
   "mimetype": "text/x-python",
   "name": "python",
   "nbconvert_exporter": "python",
   "pygments_lexer": "ipython3",
   "version": "3.10.1"
  }
 },
 "nbformat": 4,
 "nbformat_minor": 4
}
