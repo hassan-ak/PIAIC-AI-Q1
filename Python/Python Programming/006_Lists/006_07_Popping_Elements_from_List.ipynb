{
 "cells": [
  {
   "cell_type": "markdown",
   "metadata": {},
   "source": [
    "# Popping Elements from List\n",
    "- if we use pop it removes the last element\n",
    "- we can use the popped element\n",
    "- We can store poped elements"
   ]
  },
  {
   "cell_type": "code",
   "execution_count": 1,
   "metadata": {},
   "outputs": [
    {
     "name": "stdout",
     "output_type": "stream",
     "text": [
      "7\n",
      "[1, 2, 4, 6]\n"
     ]
    }
   ],
   "source": [
    "arr = [1,2,4,6,7]\n",
    "print(arr.pop())\n",
    "print(arr)"
   ]
  },
  {
   "cell_type": "code",
   "execution_count": 2,
   "metadata": {},
   "outputs": [
    {
     "name": "stdout",
     "output_type": "stream",
     "text": [
      "4\n",
      "[1, 2, 6]\n"
     ]
    }
   ],
   "source": [
    "# we can also use index number in it\n",
    "print(arr.pop(2))\n",
    "print(arr)"
   ]
  },
  {
   "cell_type": "code",
   "execution_count": 3,
   "metadata": {},
   "outputs": [
    {
     "data": {
      "text/plain": [
       "['Karachi', 'Multan', 'Lahore', 'Queta']"
      ]
     },
     "execution_count": 3,
     "metadata": {},
     "output_type": "execute_result"
    }
   ],
   "source": [
    "cities = [\"Karachi\", \"Multan\",\"Lahore\",\"Queta\"]\n",
    "cities"
   ]
  },
  {
   "cell_type": "code",
   "execution_count": 4,
   "metadata": {},
   "outputs": [
    {
     "name": "stdout",
     "output_type": "stream",
     "text": [
      "This city is poped from list Queta\n",
      "The remaining cities are ['Karachi', 'Multan', 'Lahore']\n"
     ]
    }
   ],
   "source": [
    "popedCity=cities.pop()\n",
    "print(f\"This city is poped from list {popedCity}\")\n",
    "print(f\"The remaining cities are {cities}\")"
   ]
  },
  {
   "cell_type": "code",
   "execution_count": 5,
   "metadata": {},
   "outputs": [
    {
     "name": "stdout",
     "output_type": "stream",
     "text": [
      "This city is poped from list Lahore\n",
      "The remaining cities are ['Karachi', 'Multan']\n"
     ]
    }
   ],
   "source": [
    "popedCity=cities.pop()\n",
    "print(f\"This city is poped from list {popedCity}\")\n",
    "print(f\"The remaining cities are {cities}\")"
   ]
  },
  {
   "cell_type": "code",
   "execution_count": 6,
   "metadata": {},
   "outputs": [
    {
     "name": "stdout",
     "output_type": "stream",
     "text": [
      "This city is poped from list Multan\n",
      "The remaining cities are ['Karachi']\n"
     ]
    }
   ],
   "source": [
    "popedCity=cities.pop()\n",
    "print(f\"This city is poped from list {popedCity}\")\n",
    "print(f\"The remaining cities are {cities}\")"
   ]
  },
  {
   "cell_type": "code",
   "execution_count": 7,
   "metadata": {},
   "outputs": [
    {
     "name": "stdout",
     "output_type": "stream",
     "text": [
      "This city is poped from list Karachi\n",
      "The remaining cities are []\n"
     ]
    }
   ],
   "source": [
    "popedCity=cities.pop()\n",
    "print(f\"This city is poped from list {popedCity}\")\n",
    "print(f\"The remaining cities are {cities}\")"
   ]
  },
  {
   "cell_type": "code",
   "execution_count": 8,
   "metadata": {},
   "outputs": [
    {
     "ename": "IndexError",
     "evalue": "pop from empty list",
     "output_type": "error",
     "traceback": [
      "\u001b[1;31m---------------------------------------------------------------------------\u001b[0m",
      "\u001b[1;31mIndexError\u001b[0m                                Traceback (most recent call last)",
      "Input \u001b[1;32mIn [8]\u001b[0m, in \u001b[0;36m<module>\u001b[1;34m\u001b[0m\n\u001b[0;32m      1\u001b[0m \u001b[38;5;66;03m# if no entry to pop results in error\u001b[39;00m\n\u001b[1;32m----> 2\u001b[0m popedCity\u001b[38;5;241m=\u001b[39m\u001b[43mcities\u001b[49m\u001b[38;5;241;43m.\u001b[39;49m\u001b[43mpop\u001b[49m\u001b[43m(\u001b[49m\u001b[43m)\u001b[49m\n\u001b[0;32m      3\u001b[0m \u001b[38;5;28mprint\u001b[39m(\u001b[38;5;124mf\u001b[39m\u001b[38;5;124m\"\u001b[39m\u001b[38;5;124mThis city is poped from list \u001b[39m\u001b[38;5;132;01m{\u001b[39;00mpopedCity\u001b[38;5;132;01m}\u001b[39;00m\u001b[38;5;124m\"\u001b[39m)\n\u001b[0;32m      4\u001b[0m \u001b[38;5;28mprint\u001b[39m(\u001b[38;5;124mf\u001b[39m\u001b[38;5;124m\"\u001b[39m\u001b[38;5;124mThe remaining cities are \u001b[39m\u001b[38;5;132;01m{\u001b[39;00mcities\u001b[38;5;132;01m}\u001b[39;00m\u001b[38;5;124m\"\u001b[39m)\n",
      "\u001b[1;31mIndexError\u001b[0m: pop from empty list"
     ]
    }
   ],
   "source": [
    "# if no entry to pop results in error\n",
    "popedCity=cities.pop()\n",
    "print(f\"This city is poped from list {popedCity}\")\n",
    "print(f\"The remaining cities are {cities}\")"
   ]
  },
  {
   "cell_type": "code",
   "execution_count": 9,
   "metadata": {},
   "outputs": [
    {
     "name": "stdout",
     "output_type": "stream",
     "text": [
      "tasks --- ['email Frank', 'call Sarah', 'meet with Zach']\n",
      "latest_task_accomplished --- call Sarah\n",
      "tasks --- ['email Frank', 'meet with Zach']\n",
      "tasks_accomplished --- ['call Sarah']\n",
      "tasks --- ['email Frank', 'meet with Zach']\n",
      "latest_task_accomplished --- meet with Zach\n",
      "tasks --- ['email Frank']\n",
      "tasks_accomplished --- ['call Sarah', 'meet with Zach']\n"
     ]
    }
   ],
   "source": [
    "tasks_accomplished=[]\n",
    "tasks = [\"email Frank\", \"call Sarah\", \"meet with Zach\"]\n",
    "print(\"tasks ---\",tasks)\n",
    "latest_task_accomplished = tasks.pop(1)\n",
    "print(\"latest_task_accomplished ---\",latest_task_accomplished)\n",
    "print(\"tasks ---\",tasks)\n",
    "tasks_accomplished.append(latest_task_accomplished)\n",
    "print(\"tasks_accomplished ---\",tasks_accomplished)\n",
    "print(\"tasks ---\",tasks)\n",
    "latest_task_accomplished = tasks.pop(1)\n",
    "print(\"latest_task_accomplished ---\",latest_task_accomplished)\n",
    "print(\"tasks ---\",tasks)\n",
    "tasks_accomplished.append(latest_task_accomplished)\n",
    "print(\"tasks_accomplished ---\",tasks_accomplished)"
   ]
  },
  {
   "cell_type": "markdown",
   "metadata": {},
   "source": [
    "###### some other functions used on list.\n",
    "- Sort\n",
    "    - Sort---in alphabetic ascend or descend\n",
    "    - Reverse--- sort in reverse order"
   ]
  },
  {
   "cell_type": "code",
   "execution_count": 10,
   "metadata": {},
   "outputs": [
    {
     "name": "stdout",
     "output_type": "stream",
     "text": [
      "['Karachi', 'Multan', 'Lahore', 'Queta']\n"
     ]
    },
    {
     "data": {
      "text/plain": [
       "['Karachi', 'Lahore', 'Multan', 'Queta']"
      ]
     },
     "execution_count": 10,
     "metadata": {},
     "output_type": "execute_result"
    }
   ],
   "source": [
    "# sort function sorts the cities alphabatically\n",
    "# it auomaticy sort in asceding order\n",
    "cities = [\"Karachi\", \"Multan\",\"Lahore\",\"Queta\"]\n",
    "print(cities)\n",
    "cities.sort()\n",
    "cities"
   ]
  },
  {
   "cell_type": "code",
   "execution_count": 11,
   "metadata": {},
   "outputs": [
    {
     "name": "stdout",
     "output_type": "stream",
     "text": [
      "['Karachi', 'Multan', 'Lahore', 'Queta']\n"
     ]
    },
    {
     "data": {
      "text/plain": [
       "['Queta', 'Multan', 'Lahore', 'Karachi']"
      ]
     },
     "execution_count": 11,
     "metadata": {},
     "output_type": "execute_result"
    }
   ],
   "source": [
    "cities = [\"Karachi\", \"Multan\",\"Lahore\",\"Queta\"]\n",
    "print(cities)\n",
    "cities.sort(reverse=True)\n",
    "cities"
   ]
  },
  {
   "cell_type": "code",
   "execution_count": 12,
   "metadata": {},
   "outputs": [
    {
     "name": "stdout",
     "output_type": "stream",
     "text": [
      "['Karachi', 'Multan', 'Lahore', 'Queta']\n"
     ]
    },
    {
     "data": {
      "text/plain": [
       "['Queta', 'Lahore', 'Multan', 'Karachi']"
      ]
     },
     "execution_count": 12,
     "metadata": {},
     "output_type": "execute_result"
    }
   ],
   "source": [
    "# reverse is used to reverse a list\n",
    "cities = [\"Karachi\", \"Multan\",\"Lahore\",\"Queta\"]\n",
    "print(cities)\n",
    "cities.reverse()\n",
    "cities"
   ]
  },
  {
   "cell_type": "markdown",
   "metadata": {},
   "source": [
    "[<--- Previous Page](README.md)"
   ]
  }
 ],
 "metadata": {
  "kernelspec": {
   "display_name": "Python 3",
   "language": "python",
   "name": "python3"
  },
  "language_info": {
   "codemirror_mode": {
    "name": "ipython",
    "version": 3
   },
   "file_extension": ".py",
   "mimetype": "text/x-python",
   "name": "python",
   "nbconvert_exporter": "python",
   "pygments_lexer": "ipython3",
   "version": "3.10.1"
  }
 },
 "nbformat": 4,
 "nbformat_minor": 4
}
