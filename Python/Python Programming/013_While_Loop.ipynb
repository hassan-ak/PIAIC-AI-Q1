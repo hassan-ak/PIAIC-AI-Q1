{
  "cells": [
    {
      "cell_type": "markdown",
      "metadata": {
        "id": "5C3dr2spi6wm"
      },
      "source": [
        "# While Loops\n",
        "We have already covered loops (for loop) there is another type of loops known as `While Loops`. Both works the same way just differ in a way where while loop give user the freedom to terminate by using a flag.\n",
        "#### Example"
      ]
    },
    {
      "cell_type": "code",
      "execution_count": 1,
      "metadata": {
        "colab": {
          "base_uri": "https://localhost:8080/"
        },
        "id": "iTdqdZgOi6w2",
        "outputId": "66c1fc65-9aa2-433f-e1af-501e344e054b"
      },
      "outputs": [
        {
          "name": "stdout",
          "output_type": "stream",
          "text": [
            "0 This is while loop printing\n",
            "1 This is while loop printing\n",
            "2 This is while loop printing\n",
            "3 This is while loop printing\n",
            "4 This is while loop printing\n",
            "5 This is while loop printing\n",
            "6 This is while loop printing\n",
            "7 This is while loop printing\n",
            "8 This is while loop printing\n",
            "9 This is while loop printing\n",
            "10 This is while loop printing\n"
          ]
        }
      ],
      "source": [
        "a = 0\n",
        "while a<=10:\n",
        "    print(a,'This is while loop printing')\n",
        "    a +=1"
      ]
    },
    {
      "cell_type": "code",
      "execution_count": 2,
      "metadata": {
        "colab": {
          "base_uri": "https://localhost:8080/"
        },
        "id": "yQY9JtJ-i6w4",
        "outputId": "63787cc8-020d-439d-9865-36b2930d30b5",
        "scrolled": true
      },
      "outputs": [
        {
          "name": "stdout",
          "output_type": "stream",
          "text": [
            "0 This is for loop printing\n",
            "1 This is for loop printing\n",
            "2 This is for loop printing\n"
          ]
        }
      ],
      "source": [
        "for num in range(3):\n",
        "    print(num,'This is for loop printing')"
      ]
    },
    {
      "cell_type": "markdown",
      "metadata": {
        "id": "jXT14URDi6w5"
      },
      "source": [
        "#### Setting a Flag"
      ]
    },
    {
      "cell_type": "code",
      "execution_count": 3,
      "metadata": {
        "colab": {
          "base_uri": "https://localhost:8080/"
        },
        "id": "bSQuVDBOi6w6",
        "outputId": "8bcfb5db-5249-47f9-d913-40d83ca5b577"
      },
      "outputs": [
        {
          "name": "stdout",
          "output_type": "stream",
          "text": [
            "Enter your favourite foods : Pizza\n",
            "Enter your favourite foods : Burger\n",
            "Enter your favourite foods : Biryani\n",
            "Enter your favourite foods : q\n"
          ]
        },
        {
          "data": {
            "text/plain": [
              "['Pizza', 'Burger', 'Biryani']"
            ]
          },
          "execution_count": 3,
          "metadata": {},
          "output_type": "execute_result"
        }
      ],
      "source": [
        "flag = True\n",
        "fav_food = []\n",
        "while flag:\n",
        "    user_input = input('Enter your favourite foods : ')\n",
        "    if user_input=='q':\n",
        "        flag=False\n",
        "    else:\n",
        "        fav_food.append(user_input)\n",
        "fav_food"
      ]
    },
    {
      "cell_type": "code",
      "execution_count": 4,
      "metadata": {
        "colab": {
          "base_uri": "https://localhost:8080/"
        },
        "id": "OzDoH5_ci6w7",
        "outputId": "a7149693-9d33-4140-95f2-4dc2330c89ae"
      },
      "outputs": [
        {
          "name": "stdout",
          "output_type": "stream",
          "text": [
            "Enter the name of a city: Lahore\n"
          ]
        }
      ],
      "source": [
        "# lets recal for loop first\n",
        "    # cycles through a series\n",
        "    # ends when series end\n",
        "    # ends if encounter a break\n",
        "\n",
        "cleanest_cities = [\"Cheyenne\", \"Santa Fe\", \"Tucson\", \"Great Falls\", \"Honolulu\"]\n",
        "city_to_check = input(\"Enter the name of a city: \") \n",
        "for a_clean_city in cleanest_cities:\n",
        "    if city_to_check == a_clean_city:\n",
        "        print(\"It's one of the cleanest cities\")\n",
        "        break "
      ]
    },
    {
      "cell_type": "code",
      "execution_count": 5,
      "metadata": {
        "colab": {
          "base_uri": "https://localhost:8080/"
        },
        "id": "YtZSDyv4i6w-",
        "outputId": "8ff47c90-cf8c-447a-d462-0c932b4b280d"
      },
      "outputs": [
        {
          "name": "stdout",
          "output_type": "stream",
          "text": [
            "Enter a city, or q to quit:Lahore\n",
            "Enter a city, or q to quit:Faisalabad\n",
            "Enter a city, or q to quit:Santa Fe\n",
            "It's one of the cleanest cities\n",
            "Enter a city, or q to quit:q\n"
          ]
        }
      ],
      "source": [
        "# in lame term we can say we use while loop if we want to check it multiple times\n",
        "cleanest_cities = [\"Cheyenne\", \"Santa Fe\", \"Tucson\", \"Great Falls\", \"Honolulu\"]\n",
        "user_input = \"\"\n",
        "while user_input != \"q\":\n",
        "    user_input = input(\"Enter a city, or q to quit:\")\n",
        "    if user_input != \"q\":\n",
        "        for a_clean_city in cleanest_cities:\n",
        "            if user_input == a_clean_city:\n",
        "                print(\"It's one of the cleanest cities\")\n",
        "                break\n",
        "# before using a while loop always define the variable"
      ]
    },
    {
      "cell_type": "code",
      "execution_count": 6,
      "metadata": {
        "colab": {
          "base_uri": "https://localhost:8080/"
        },
        "id": "4YiZ5fMui6xA",
        "outputId": "64d0ff97-0e0e-47d6-e140-03c725f554e1"
      },
      "outputs": [
        {
          "name": "stdout",
          "output_type": "stream",
          "text": [
            "Enter a city, or q to quit:Lahore\n",
            "Enter a city, or q to quit:Karachi\n",
            "Enter a city, or q to quit:Santa Fe\n",
            "It's one of the cleanest cities\n",
            "Enter a city, or q to quit:q\n"
          ]
        }
      ],
      "source": [
        "# we can set a flag to run while loop\n",
        "keep_looping = True\n",
        "while keep_looping == True:\n",
        "    user_input = input(\"Enter a city, or q to quit:\")\n",
        "    if user_input != \"q\":\n",
        "        for a_clean_city in cleanest_cities:\n",
        "            if user_input == a_clean_city:\n",
        "                print(\"It's one of the cleanest cities\")\n",
        "                break\n",
        "    else:\n",
        "        keep_looping = False"
      ]
    }
  ],
  "metadata": {
    "colab": {
      "collapsed_sections": [],
      "name": "013_While_Loop.ipynb",
      "provenance": []
    },
    "kernelspec": {
      "display_name": "Python 3",
      "language": "python",
      "name": "python3"
    },
    "language_info": {
      "codemirror_mode": {
        "name": "ipython",
        "version": 3
      },
      "file_extension": ".py",
      "mimetype": "text/x-python",
      "name": "python",
      "nbconvert_exporter": "python",
      "pygments_lexer": "ipython3",
      "version": "3.10.1"
    }
  },
  "nbformat": 4,
  "nbformat_minor": 0
}
