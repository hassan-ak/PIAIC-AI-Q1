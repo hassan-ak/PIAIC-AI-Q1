{
 "cells": [
  {
   "cell_type": "markdown",
   "metadata": {},
   "source": [
    "# Functions"
   ]
  },
  {
   "cell_type": "markdown",
   "metadata": {},
   "source": [
    "## Defination:\n",
    "Functions are a way to achieve the modularity and resuability in code.\n",
    "\n",
    "### Modularity:\n",
    "Modular programming is the process of subdividing a computer program into seprate sub-programs. A module can often be used in a variety of applications and functions with other components of the system.\n",
    "\n",
    "### Resuability:\n",
    "Using of already developed code according to our requirement without writing from the scratch.\n"
   ]
  }
 ],
 "metadata": {
  "kernelspec": {
   "display_name": "Python 3",
   "language": "python",
   "name": "python3"
  },
  "language_info": {
   "codemirror_mode": {
    "name": "ipython",
    "version": 3
   },
   "file_extension": ".py",
   "mimetype": "text/x-python",
   "name": "python",
   "nbconvert_exporter": "python",
   "pygments_lexer": "ipython3",
   "version": "3.7.6"
  }
 },
 "nbformat": 4,
 "nbformat_minor": 4
}
