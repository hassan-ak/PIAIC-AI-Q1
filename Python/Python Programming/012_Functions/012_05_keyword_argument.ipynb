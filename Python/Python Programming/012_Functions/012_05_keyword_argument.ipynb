{
 "cells": [
  {
   "cell_type": "markdown",
   "metadata": {},
   "source": [
    "## Keyword Argument\n",
    "We can use positional arguments or there is another way to call same function by passing the argument with the name of variables, this way position does not matter but the value is assigned to matching name variable in function parameters. Lets suppose we have a function\n",
    "```\n",
    "def add(number1,number2):\n",
    "    print(number1+number2)\n",
    "```\n",
    "Now we can call the function using keyword argument by the following way.\n",
    "```\n",
    "add(number2 = 5, number1 = 3)\n",
    "```\n",
    "Lets define a function to display user name."
   ]
  },
  {
   "cell_type": "code",
   "execution_count": 1,
   "metadata": {},
   "outputs": [],
   "source": [
    "def fulname(first,middle,last):\n",
    "    print(first+' '+middle+' '+last)"
   ]
  },
  {
   "cell_type": "markdown",
   "metadata": {},
   "source": [
    "Now call the function using keyword arguments."
   ]
  },
  {
   "cell_type": "code",
   "execution_count": 2,
   "metadata": {},
   "outputs": [
    {
     "name": "stdout",
     "output_type": "stream",
     "text": [
      "Hassan Ali Khan\n"
     ]
    }
   ],
   "source": [
    "fulname(middle='Ali',first='Hassan',last='Khan')"
   ]
  },
  {
   "cell_type": "markdown",
   "metadata": {},
   "source": [
    "Be careful mixing positional and keyword arguments. Positional arguments must come before keyword arguments. Keyword arguments don't have to line up with parameters, but positional arguments must do."
   ]
  },
  {
   "cell_type": "code",
   "execution_count": 3,
   "metadata": {},
   "outputs": [
    {
     "name": "stdout",
     "output_type": "stream",
     "text": [
      "Hassan Ali Khan\n"
     ]
    }
   ],
   "source": [
    "fulname('Hassan',last='Khan',middle='Ali')"
   ]
  },
  {
   "cell_type": "code",
   "execution_count": 4,
   "metadata": {},
   "outputs": [],
   "source": [
    "def add(number1,number2):\n",
    "    print(number1+number2)"
   ]
  },
  {
   "cell_type": "code",
   "execution_count": 5,
   "metadata": {},
   "outputs": [
    {
     "name": "stdout",
     "output_type": "stream",
     "text": [
      "64580\n"
     ]
    }
   ],
   "source": [
    "add(number2= 15,number1=64565)"
   ]
  },
  {
   "cell_type": "code",
   "execution_count": 6,
   "metadata": {},
   "outputs": [],
   "source": [
    "def fulname(first,middle,last):\n",
    "    print(first+middle+last)"
   ]
  },
  {
   "cell_type": "code",
   "execution_count": 7,
   "metadata": {},
   "outputs": [
    {
     "name": "stdout",
     "output_type": "stream",
     "text": [
      "HassanAliKhan\n"
     ]
    }
   ],
   "source": [
    "fulname('Hassan','Ali','Khan')"
   ]
  },
  {
   "cell_type": "code",
   "execution_count": 8,
   "metadata": {},
   "outputs": [
    {
     "name": "stdout",
     "output_type": "stream",
     "text": [
      "HassanAliKhan\n"
     ]
    }
   ],
   "source": [
    "fulname(middle='Ali',first='Hassan',last='Khan')"
   ]
  },
  {
   "cell_type": "code",
   "execution_count": 9,
   "metadata": {},
   "outputs": [],
   "source": [
    "# we can use keyword argument with positional but keyword should be in last"
   ]
  },
  {
   "cell_type": "code",
   "execution_count": 10,
   "metadata": {},
   "outputs": [
    {
     "name": "stdout",
     "output_type": "stream",
     "text": [
      "HassanAliKhan\n"
     ]
    }
   ],
   "source": [
    "fulname('Hassan','Ali',last='Khan')"
   ]
  },
  {
   "cell_type": "code",
   "execution_count": 11,
   "metadata": {},
   "outputs": [],
   "source": [
    "def say_names_of_couple(husband_name, wife_name):\n",
    "    print(\"The names of the couple are \" + husband_name + \" and \" + wife_name)"
   ]
  },
  {
   "cell_type": "code",
   "execution_count": 12,
   "metadata": {},
   "outputs": [
    {
     "name": "stdout",
     "output_type": "stream",
     "text": [
      "The names of the couple are Bill and Zelda\n"
     ]
    }
   ],
   "source": [
    "say_names_of_couple(husband_name=\"Bill\", wife_name=\"Zelda\")"
   ]
  },
  {
   "cell_type": "markdown",
   "metadata": {},
   "source": [
    "Lists and dictionaries, as well as strings and numbers, can be arguments passed to a function. Let suppose we have a dictionary."
   ]
  },
  {
   "cell_type": "code",
   "execution_count": 13,
   "metadata": {},
   "outputs": [],
   "source": [
    "customers = {\n",
    "    0: {\n",
    "        \"first name\":\"John\",\n",
    "        \"last name\": \"Ogden\",\n",
    "        \"address\": \"301 Arbor Rd.\",\n",
    "    },\n",
    "    1: {\n",
    "        \"first name\":\"Ann\",\n",
    "        \"last name\": \"Sattermyer\", \n",
    "        \"address\": \"PO Box 1145\",\n",
    "    },\n",
    "    2: {\n",
    "        \"first name\":\"Jill\",\n",
    "        \"last name\": \"Somers\",\n",
    "        \"address\": \"3 Main St.\",\n",
    "    },\n",
    "}"
   ]
  },
  {
   "cell_type": "markdown",
   "metadata": {},
   "source": [
    "Now if we want to get some thing from the dictionary we can define a function"
   ]
  },
  {
   "cell_type": "code",
   "execution_count": 14,
   "metadata": {},
   "outputs": [],
   "source": [
    "def find_something(dictionary, inner_dict, target):\n",
    "    print(dictionary[inner_dict][target])"
   ]
  },
  {
   "cell_type": "markdown",
   "metadata": {},
   "source": [
    "we can can this function as follows:"
   ]
  },
  {
   "cell_type": "code",
   "execution_count": 15,
   "metadata": {},
   "outputs": [
    {
     "name": "stdout",
     "output_type": "stream",
     "text": [
      "Somers\n"
     ]
    }
   ],
   "source": [
    "find_something(customers, 2, \"last name\") "
   ]
  }
 ],
 "metadata": {
  "kernelspec": {
   "display_name": "Python 3",
   "language": "python",
   "name": "python3"
  },
  "language_info": {
   "codemirror_mode": {
    "name": "ipython",
    "version": 3
   },
   "file_extension": ".py",
   "mimetype": "text/x-python",
   "name": "python",
   "nbconvert_exporter": "python",
   "pygments_lexer": "ipython3",
   "version": "3.10.1"
  }
 },
 "nbformat": 4,
 "nbformat_minor": 4
}
