{
  "cells": [
    {
      "cell_type": "markdown",
      "metadata": {
        "id": "t9pg4ZMbHlfb"
      },
      "source": [
        "# Calling a Function\n",
        "To call a function just write the name of the function along with pair of parantheses. Before calling a function it is necessary to define the function.\n",
        "Let suppose following function is defined which prints out the sum of 12 and 5 which should be 17 :"
      ]
    },
    {
      "cell_type": "code",
      "execution_count": 1,
      "metadata": {
        "id": "YOxc4gyzHlfn"
      },
      "outputs": [],
      "source": [
        "def add_1():\n",
        "    print(12+5)"
      ]
    },
    {
      "cell_type": "markdown",
      "metadata": {
        "id": "ttvTECBnHlfp"
      },
      "source": [
        "To execute the function we need to call it first. IF we don't call the function and execute our code there will be no output. To understand this issue lets see the following code."
      ]
    },
    {
      "cell_type": "code",
      "execution_count": 2,
      "metadata": {
        "colab": {
          "base_uri": "https://localhost:8080/"
        },
        "id": "XlbxQFsnHlfq",
        "outputId": "72c903b4-0253-4e5b-ea08-602170e60d2f"
      },
      "outputs": [
        {
          "output_type": "stream",
          "name": "stdout",
          "text": [
            "A line before function\n",
            "A line after function\n"
          ]
        }
      ],
      "source": [
        "print('A line before function')\n",
        "def add_1():\n",
        "    print(12+5)\n",
        "print('A line after function')"
      ]
    },
    {
      "cell_type": "markdown",
      "metadata": {
        "id": "SW8psd-iHlfr"
      },
      "source": [
        "After running the code we can see the output where lines before and after the function are displayed but no result from the function is obtained. Now let's see what we get after calling a function. As stated earlier to call the function name along with pair of parantheses are provide."
      ]
    },
    {
      "cell_type": "code",
      "execution_count": 3,
      "metadata": {
        "colab": {
          "base_uri": "https://localhost:8080/"
        },
        "id": "qxaPhDwjHlfs",
        "outputId": "97e49399-4c8c-4b87-9d96-e4ad0087101a"
      },
      "outputs": [
        {
          "output_type": "stream",
          "name": "stdout",
          "text": [
            "17\n"
          ]
        }
      ],
      "source": [
        "add_1()"
      ]
    },
    {
      "cell_type": "code",
      "execution_count": 4,
      "metadata": {
        "id": "iL3T8_joHlft"
      },
      "outputs": [],
      "source": [
        "def add():\n",
        "    number1 = int(input('Enter a Value'))\n",
        "    number2 = int(input('Enter another Value'))\n",
        "    print(number1+number2)"
      ]
    },
    {
      "cell_type": "markdown",
      "metadata": {
        "id": "T6i7M93rHlfv"
      },
      "source": [
        "here as we called the function required results are achieved."
      ]
    },
    {
      "cell_type": "code",
      "execution_count": 5,
      "metadata": {
        "colab": {
          "base_uri": "https://localhost:8080/"
        },
        "id": "3IQ4aJ09Hlfw",
        "outputId": "fdab864b-05c9-438b-8167-ad95b801e59b"
      },
      "outputs": [
        {
          "output_type": "stream",
          "name": "stdout",
          "text": [
            "Enter a Value15\n",
            "Enter another Value121\n",
            "136\n"
          ]
        }
      ],
      "source": [
        "add()"
      ]
    },
    {
      "cell_type": "code",
      "execution_count": 6,
      "metadata": {
        "colab": {
          "base_uri": "https://localhost:8080/"
        },
        "id": "Buz74Jm8Hlfx",
        "outputId": "92cedf0c-c609-43c2-e1f7-1c5bfc27cd5f"
      },
      "outputs": [
        {
          "output_type": "execute_result",
          "data": {
            "text/plain": [
              "5"
            ]
          },
          "metadata": {},
          "execution_count": 6
        }
      ],
      "source": [
        "# if we add two numbers with out functions\n",
        "first_number = 2\n",
        "second_number = 3\n",
        "total = first_number + second_number\n",
        "total"
      ]
    },
    {
      "cell_type": "code",
      "execution_count": 8,
      "metadata": {
        "id": "-qKpUHwwHlfy"
      },
      "outputs": [],
      "source": [
        "# We can use the same thing using function\n",
        "def add_numbers():\n",
        "    first_number = 2\n",
        "    second_number = 3\n",
        "    total = first_number + second_number\n",
        "    print(total)"
      ]
    },
    {
      "cell_type": "code",
      "execution_count": 9,
      "metadata": {
        "colab": {
          "base_uri": "https://localhost:8080/"
        },
        "id": "v8CfOw6fHlfz",
        "outputId": "07a1ab3a-420d-4cd5-aca3-4575a28b8b66"
      },
      "outputs": [
        {
          "output_type": "stream",
          "name": "stdout",
          "text": [
            "5\n"
          ]
        }
      ],
      "source": [
        "add_numbers() \n"
      ]
    }
  ],
  "metadata": {
    "kernelspec": {
      "display_name": "Python 3",
      "language": "python",
      "name": "python3"
    },
    "language_info": {
      "codemirror_mode": {
        "name": "ipython",
        "version": 3
      },
      "file_extension": ".py",
      "mimetype": "text/x-python",
      "name": "python",
      "nbconvert_exporter": "python",
      "pygments_lexer": "ipython3",
      "version": "3.10.1"
    },
    "colab": {
      "name": "012_03_calling_a_function.ipynb",
      "provenance": [],
      "collapsed_sections": []
    }
  },
  "nbformat": 4,
  "nbformat_minor": 0
}