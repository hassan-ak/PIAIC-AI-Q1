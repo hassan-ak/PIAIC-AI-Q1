{
 "cells": [
  {
   "cell_type": "markdown",
   "metadata": {},
   "source": [
    "## Getting info from Function\n",
    "Functions not only performs a given task when they are called. But a function may also return some value to user. This returned value can be assigned, resued and be modified then.\n",
    "\n",
    "It is used when we need a value to use but not to print it. "
   ]
  },
  {
   "cell_type": "code",
   "execution_count": 1,
   "metadata": {},
   "outputs": [],
   "source": [
    "# a function can retuen mutliple values in form of tuple\n",
    "# after return no value will be returned\n",
    "# return must be the last line of function\n",
    "def add(val1,val2):\n",
    "    ans = val1+val2\n",
    "    return ans,\"Hello Function\"\n",
    "    print('After return')"
   ]
  },
  {
   "cell_type": "code",
   "execution_count": 2,
   "metadata": {},
   "outputs": [
    {
     "data": {
      "text/plain": [
       "(6, 'Hello Function')"
      ]
     },
     "execution_count": 2,
     "metadata": {},
     "output_type": "execute_result"
    }
   ],
   "source": [
    "# now we can use this value as much as you can\n",
    "result = add(2,4)\n",
    "result"
   ]
  },
  {
   "cell_type": "markdown",
   "metadata": {},
   "source": [
    "A function can retuen mutliple values in form of tuple. After using return no command will execute. Return must be the last line of function."
   ]
  },
  {
   "cell_type": "code",
   "execution_count": 3,
   "metadata": {},
   "outputs": [
    {
     "name": "stdout",
     "output_type": "stream",
     "text": [
      "5.0685\n"
     ]
    }
   ],
   "source": [
    "# An exapmle\n",
    "def calc_tax(sales_total, tax_rate):\n",
    "    tax = sales_total * tax_rate\n",
    "    print(tax)\n",
    "calc_tax(sales_total=101.37, tax_rate=.05) \n",
    "# we cant use it as it is so we use return function"
   ]
  },
  {
   "cell_type": "code",
   "execution_count": 4,
   "metadata": {},
   "outputs": [
    {
     "name": "stdout",
     "output_type": "stream",
     "text": [
      "5.0685\n"
     ]
    }
   ],
   "source": [
    "def calc_tax(sales_total, tax_rate):\n",
    "    tax = sales_total * tax_rate\n",
    "    return tax\n",
    "sales_tax = calc_tax(sales_total=101.37, tax_rate=.05)\n",
    "print(sales_tax)"
   ]
  }
 ],
 "metadata": {
  "kernelspec": {
   "display_name": "Python 3",
   "language": "python",
   "name": "python3"
  },
  "language_info": {
   "codemirror_mode": {
    "name": "ipython",
    "version": 3
   },
   "file_extension": ".py",
   "mimetype": "text/x-python",
   "name": "python",
   "nbconvert_exporter": "python",
   "pygments_lexer": "ipython3",
   "version": "3.10.1"
  }
 },
 "nbformat": 4,
 "nbformat_minor": 4
}
