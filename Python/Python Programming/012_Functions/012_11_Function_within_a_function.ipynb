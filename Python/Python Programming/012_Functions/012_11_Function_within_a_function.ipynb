{
 "cells": [
  {
   "cell_type": "markdown",
   "metadata": {},
   "source": [
    "## Function within a Function\n",
    "Right now we have learned how to call function. We can call a function inside another function providing the requied signature of the function.\n",
    "##### Example\n",
    "lets define a simple function"
   ]
  },
  {
   "cell_type": "code",
   "execution_count": 1,
   "metadata": {},
   "outputs": [],
   "source": [
    "def commisionCalc(sales):\n",
    "    if sales>100:\n",
    "        return sales*100\n",
    "    if sales>50:\n",
    "        return sales*50\n",
    "    if sales>20:\n",
    "        return sales*20\n",
    "    else:\n",
    "        return 0"
   ]
  },
  {
   "cell_type": "markdown",
   "metadata": {},
   "source": [
    "A function is defined below where a function is called in:"
   ]
  },
  {
   "cell_type": "code",
   "execution_count": 2,
   "metadata": {},
   "outputs": [],
   "source": [
    "def salaryCalc(basic,sales):\n",
    "    grossSalary = basic + commisionCalc(sales)\n",
    "    print(f'Your gross salary is {grossSalary}')"
   ]
  },
  {
   "cell_type": "markdown",
   "metadata": {},
   "source": [
    "Now lets call the function"
   ]
  },
  {
   "cell_type": "code",
   "execution_count": 3,
   "metadata": {},
   "outputs": [
    {
     "name": "stdout",
     "output_type": "stream",
     "text": [
      "Your gross salary is 65000\n"
     ]
    }
   ],
   "source": [
    "salaryCalc(50000,150)"
   ]
  },
  {
   "cell_type": "code",
   "execution_count": 4,
   "metadata": {},
   "outputs": [
    {
     "name": "stdout",
     "output_type": "stream",
     "text": [
      "what_to_say\n"
     ]
    }
   ],
   "source": [
    "# Example\n",
    "def now_say_it():\n",
    "    print(\"what_to_say\")\n",
    "def say_something():\n",
    "    what_to_say = \"Hi\"\n",
    "    now_say_it()\n",
    "say_something()"
   ]
  }
 ],
 "metadata": {
  "kernelspec": {
   "display_name": "Python 3",
   "language": "python",
   "name": "python3"
  },
  "language_info": {
   "codemirror_mode": {
    "name": "ipython",
    "version": 3
   },
   "file_extension": ".py",
   "mimetype": "text/x-python",
   "name": "python",
   "nbconvert_exporter": "python",
   "pygments_lexer": "ipython3",
   "version": "3.10.1"
  }
 },
 "nbformat": 4,
 "nbformat_minor": 4
}
