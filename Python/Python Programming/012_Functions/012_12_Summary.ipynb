{
 "cells": [
  {
   "cell_type": "markdown",
   "metadata": {},
   "source": [
    "## Summary\n",
    "Lets summerise the complete discussion with help of an example."
   ]
  },
  {
   "cell_type": "markdown",
   "metadata": {},
   "source": [
    "### Example\n",
    "Write a program to prompt the user for hours and rate per hour using input to compute gross pay, income tax and net pay.\n",
    "\n",
    "1:- Gross Pay should be the normal rate for hours up to 40 and time-and-a-half for the hourly rate for all hours worked above 40 hours.\n",
    "\n",
    "2:- Income tax should be the 4 % of the Gross pay.\n",
    "\n",
    "3:- Net pay should be the difference of gross pay and income tax\n",
    " \n",
    "4:- Use 45 hours and a rate of 10.50 per hour to test the program \n",
    "\n",
    "    a:- Gross pay should be 498.75\n",
    "    \n",
    "    b:- Income tax should be 19.95\n",
    "    \n",
    "    c:- Net pay Should be 478.8\n",
    "\n",
    "**Use functions for all the calculation, save the functions in a different file and use functions as arguments where possible**"
   ]
  },
  {
   "cell_type": "code",
   "execution_count": 1,
   "metadata": {},
   "outputs": [
    {
     "name": "stdout",
     "output_type": "stream",
     "text": [
      "Enter Hours : 45\n",
      "Enter rate per Hour : 10.5\n",
      "\n",
      "**************************\n",
      "* Gross Pay is :  498.75 *\n",
      "* Income tax is :  19.95 *\n",
      "* Net Pay is :  478.8    *\n",
      "**************************\n"
     ]
    }
   ],
   "source": [
    "import calcu\n",
    "hr = input(\"Enter Hours : \")\n",
    "rt = input(\"Enter rate per Hour : \")\n",
    "hours = float(hr)\n",
    "rate_per_hour = float(rt)\n",
    "\n",
    "gross_pay = calcu.grosspay(hours,rate_per_hour)\n",
    "income_tax = calcu.incometax(hours,rate_per_hour)\n",
    "net_pay = calcu.netpay(hours,rate_per_hour)\n",
    "print()\n",
    "print(\"**************************\")\n",
    "print(\"* Gross Pay is : \",gross_pay,'*')\n",
    "print(\"* Income tax is : \",income_tax,'*')\n",
    "print(\"* Net Pay is : \",net_pay,'   *')\n",
    "print(\"**************************\")"
   ]
  }
 ],
 "metadata": {
  "kernelspec": {
   "display_name": "Python 3",
   "language": "python",
   "name": "python3"
  },
  "language_info": {
   "codemirror_mode": {
    "name": "ipython",
    "version": 3
   },
   "file_extension": ".py",
   "mimetype": "text/x-python",
   "name": "python",
   "nbconvert_exporter": "python",
   "pygments_lexer": "ipython3",
   "version": "3.7.6"
  }
 },
 "nbformat": 4,
 "nbformat_minor": 4
}
