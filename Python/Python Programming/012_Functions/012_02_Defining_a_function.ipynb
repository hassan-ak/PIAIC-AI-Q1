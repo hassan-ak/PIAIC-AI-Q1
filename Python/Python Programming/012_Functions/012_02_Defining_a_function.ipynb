{
 "cells": [
  {
   "cell_type": "markdown",
   "metadata": {},
   "source": [
    "# Defining a Function\n",
    "\n",
    "In python a function is defined using a keyword `def` then function name, after the function name we supply pair of parentheses and a colon sign, e.g.\n",
    "```\n",
    "def add():\n",
    "    number1 = int(input('Enter a Value'))\n",
    "    number2 = int(input('Enter another Value'))\n",
    "    print(number1+number2)\n",
    "```\n",
    "All the code in the function body should be written with an indent. And if exiting the function body is required just remove the indent."
   ]
  },
  {
   "cell_type": "code",
   "execution_count": 1,
   "metadata": {},
   "outputs": [],
   "source": [
    "def add_1():\n",
    "    print(12+5)"
   ]
  },
  {
   "cell_type": "code",
   "execution_count": 2,
   "metadata": {},
   "outputs": [],
   "source": [
    "def add():\n",
    "    number1 = int(input('Enter a Value'))\n",
    "    number2 = int(input('Enter another Value'))\n",
    "    print(number1+number2)"
   ]
  }
 ],
 "metadata": {
  "kernelspec": {
   "display_name": "Python 3",
   "language": "python",
   "name": "python3"
  },
  "language_info": {
   "codemirror_mode": {
    "name": "ipython",
    "version": 3
   },
   "file_extension": ".py",
   "mimetype": "text/x-python",
   "name": "python",
   "nbconvert_exporter": "python",
   "pygments_lexer": "ipython3",
   "version": "3.10.1"
  }
 },
 "nbformat": 4,
 "nbformat_minor": 4
}
