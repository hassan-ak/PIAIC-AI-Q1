{
 "cells": [
  {
   "cell_type": "markdown",
   "metadata": {},
   "source": [
    "# Data Files\n",
    "Uptill now none of the data has been preserved. We created variables, lists, dictionaries, and class instances that contained information, but as soon as the computer was turned off, all of it is disappeared."
   ]
  },
  {
   "cell_type": "markdown",
   "metadata": {},
   "source": [
    "## Reading Writing in an external file from python Code\n",
    "We can read or write in a text file using a python function:\n",
    "```\n",
    "With open(\"file_name.txt\", \"mode\")\n",
    "```\n",
    "There are three modes:\n",
    "* Read\n",
    "* Write\n",
    "* Append"
   ]
  },
  {
   "cell_type": "markdown",
   "metadata": {},
   "source": [
    "#### Writing to a text File\n",
    "```\n",
    "with open (\"myFile.txt\",\"w\") as file:\n",
    "    file.write(\"This is my file\")\n",
    "```\n",
    "If the file does not Exist. \"w\" mode will create and write in it. Cant create a folder need to create manually."
   ]
  },
  {
   "cell_type": "code",
   "execution_count": 1,
   "metadata": {},
   "outputs": [],
   "source": [
    "with open (\"file1.txt\",\"w\") as file:\n",
    "    file.write(\"File created using Python with 'w' mode.\")"
   ]
  },
  {
   "cell_type": "markdown",
   "metadata": {},
   "source": [
    "#### Reading from a text File\n",
    "```\n",
    "with open (\"myFile.txt\",\"r\") as file:\n",
    "    content_of_file = file.read()\n",
    "print(content_of_file)\n",
    "```\n",
    "If the file does not Exist. \"r\" mode will give a traceback."
   ]
  },
  {
   "cell_type": "code",
   "execution_count": 2,
   "metadata": {},
   "outputs": [
    {
     "ename": "FileNotFoundError",
     "evalue": "[Errno 2] No such file or directory: './files/file2.txt'",
     "output_type": "error",
     "traceback": [
      "\u001b[1;31m---------------------------------------------------------------------------\u001b[0m",
      "\u001b[1;31mFileNotFoundError\u001b[0m                         Traceback (most recent call last)",
      "\u001b[1;32mc:\\Users\\Hassan\\Desktop\\PIAIC\\AI\\Q1\\Python\\Python Programming\\015_Data Files\\015_Data_Files.ipynb Cell 6'\u001b[0m in \u001b[0;36m<module>\u001b[1;34m\u001b[0m\n\u001b[1;32m----> <a href='vscode-notebook-cell:/c%3A/Users/Hassan/Desktop/PIAIC/AI/Q1/Python/Python%20Programming/015_Data%20Files/015_Data_Files.ipynb#ch0000005?line=0'>1</a>\u001b[0m \u001b[39mwith\u001b[39;00m \u001b[39mopen\u001b[39;49m (\u001b[39m\"\u001b[39;49m\u001b[39m./files/file2.txt\u001b[39;49m\u001b[39m\"\u001b[39;49m,\u001b[39m\"\u001b[39;49m\u001b[39mr\u001b[39;49m\u001b[39m\"\u001b[39;49m) \u001b[39mas\u001b[39;00m file:\n\u001b[0;32m      <a href='vscode-notebook-cell:/c%3A/Users/Hassan/Desktop/PIAIC/AI/Q1/Python/Python%20Programming/015_Data%20Files/015_Data_Files.ipynb#ch0000005?line=1'>2</a>\u001b[0m     content \u001b[39m=\u001b[39m file\u001b[39m.\u001b[39mread()\n\u001b[0;32m      <a href='vscode-notebook-cell:/c%3A/Users/Hassan/Desktop/PIAIC/AI/Q1/Python/Python%20Programming/015_Data%20Files/015_Data_Files.ipynb#ch0000005?line=2'>3</a>\u001b[0m \u001b[39mprint\u001b[39m(content)\n",
      "\u001b[1;31mFileNotFoundError\u001b[0m: [Errno 2] No such file or directory: './files/file2.txt'"
     ]
    }
   ],
   "source": [
    "with open (\"file2.txt\",\"r\") as file:\n",
    "    content = file.read()\n",
    "print(content)"
   ]
  },
  {
   "cell_type": "code",
   "execution_count": 3,
   "metadata": {},
   "outputs": [
    {
     "name": "stdout",
     "output_type": "stream",
     "text": [
      "File created using Python with 'w' mode.\n"
     ]
    }
   ],
   "source": [
    "with open(\"file1.txt\",\"r\") as file:\n",
    "    content = file.read()\n",
    "print(content)"
   ]
  },
  {
   "cell_type": "markdown",
   "metadata": {},
   "source": [
    "#### Writing a File in append mode\n",
    "```\n",
    "with open (\"myFile.txt\",\"a\") as file:\n",
    "    file.write(\"This text is written in append mode\")\n",
    "```\n",
    "In \"w\" mode if we write in same file all previous work will be overwrite."
   ]
  },
  {
   "cell_type": "code",
   "execution_count": 4,
   "metadata": {},
   "outputs": [],
   "source": [
    "with open (\"file3.txt\",\"w\") as file:\n",
    "    file.write(\"File created using Python with 'w' mode to test overwiting.\")"
   ]
  },
  {
   "cell_type": "code",
   "execution_count": 5,
   "metadata": {},
   "outputs": [
    {
     "name": "stdout",
     "output_type": "stream",
     "text": [
      "File created using Python with 'w' mode to test overwiting.\n"
     ]
    }
   ],
   "source": [
    "with open (\"file3.txt\",\"r\") as file:\n",
    "    content = file.read()\n",
    "print(content)"
   ]
  },
  {
   "cell_type": "code",
   "execution_count": 6,
   "metadata": {},
   "outputs": [],
   "source": [
    "with open (\"file3.txt\",\"w\") as file:\n",
    "    file.write(\"Write to already written file\")"
   ]
  },
  {
   "cell_type": "code",
   "execution_count": 7,
   "metadata": {},
   "outputs": [
    {
     "name": "stdout",
     "output_type": "stream",
     "text": [
      "Write to already written file\n"
     ]
    }
   ],
   "source": [
    "with open (\"file3.txt\",\"r\") as file:\n",
    "    content = file.read()\n",
    "print(content)"
   ]
  },
  {
   "cell_type": "markdown",
   "metadata": {},
   "source": [
    "But append mode allows to write further."
   ]
  },
  {
   "cell_type": "code",
   "execution_count": 8,
   "metadata": {},
   "outputs": [],
   "source": [
    "with open (\"file3.txt\",\"a\") as file:\n",
    "    file.write(\"\\nThis text is written in Python with append mode\")"
   ]
  },
  {
   "cell_type": "code",
   "execution_count": 9,
   "metadata": {},
   "outputs": [
    {
     "name": "stdout",
     "output_type": "stream",
     "text": [
      "Write to already written file\n",
      "This text is written in Python with append mode\n"
     ]
    }
   ],
   "source": [
    "with open(\"file3.txt\",\"r\") as file:\n",
    "    content = file.read()\n",
    "print(content)"
   ]
  },
  {
   "cell_type": "markdown",
   "metadata": {},
   "source": [
    "#### Data Files in r+,w+ mode\n",
    "r+ and w+ mode allows both read and write function with a little difference that r+ mode can't create a file."
   ]
  },
  {
   "cell_type": "code",
   "execution_count": 10,
   "metadata": {},
   "outputs": [
    {
     "name": "stdout",
     "output_type": "stream",
     "text": [
      "File created using Python in w+ mode.\n"
     ]
    }
   ],
   "source": [
    "with open (\"file4.txt\",\"w+\") as file:\n",
    "    file.write(\"File created using Python in w+ mode.\")\n",
    "    ## Start reading from start\n",
    "    file.seek(0)\n",
    "    content = file.read()\n",
    "print(content)"
   ]
  },
  {
   "cell_type": "code",
   "execution_count": 11,
   "metadata": {},
   "outputs": [
    {
     "name": "stdout",
     "output_type": "stream",
     "text": [
      "This content is written using r+ mode.\n",
      "This content is written using r+ mode.\n",
      "\n"
     ]
    }
   ],
   "source": [
    "with open (\"file4.txt\",\"r+\") as file:\n",
    "    file.write(\"This content is written using r+ mode.\\n\")\n",
    "    file.write(\"This content is written using r+ mode.\\n\")\n",
    "    ## Start reading from start\n",
    "    file.seek(0)\n",
    "    content = file.read()\n",
    "print(content)"
   ]
  },
  {
   "cell_type": "markdown",
   "metadata": {},
   "source": [
    "#### Notes\n",
    "We can alo use the follwing way to open the file\n",
    "```\n",
    "file_to_work_with = open(\"whatever.txt\", \"w\"):\n",
    "```\n",
    "If file is another folder we need to specify the path."
   ]
  },
  {
   "cell_type": "code",
   "execution_count": 12,
   "metadata": {},
   "outputs": [],
   "source": [
    "################################\n",
    "################################\n",
    "################################\n",
    "################################\n",
    "################################\n",
    "################################\n",
    "################################"
   ]
  },
  {
   "cell_type": "markdown",
   "metadata": {},
   "source": [
    "## Example 01"
   ]
  },
  {
   "cell_type": "code",
   "execution_count": 13,
   "metadata": {},
   "outputs": [],
   "source": [
    "# Writting data to files\n",
    "with open (\"myFile.txt\",\"w\") as file:\n",
    "    file.write(\"This is my file\")"
   ]
  },
  {
   "cell_type": "code",
   "execution_count": 14,
   "metadata": {},
   "outputs": [
    {
     "name": "stdout",
     "output_type": "stream",
     "text": [
      "This is my file\n"
     ]
    }
   ],
   "source": [
    "# Reading from a text file\n",
    "with open (\"myFile.txt\",\"r\") as file:\n",
    "    contents_of_file=file.read()\n",
    "print(contents_of_file)"
   ]
  },
  {
   "cell_type": "code",
   "execution_count": 15,
   "metadata": {},
   "outputs": [
    {
     "name": "stdout",
     "output_type": "stream",
     "text": [
      "This is my file\n",
      "This text is written in append mode\n"
     ]
    }
   ],
   "source": [
    "# append mode\n",
    "with open (\"myFile.txt\",\"a\") as file:\n",
    "    file.write(\"\\nThis text is written in append mode\")\n",
    "with open (\"myFile.txt\",\"r\") as file:\n",
    "    contents_of_file=file.read()\n",
    "print(contents_of_file)"
   ]
  },
  {
   "cell_type": "markdown",
   "metadata": {},
   "source": [
    "## Example 02"
   ]
  },
  {
   "cell_type": "code",
   "execution_count": 16,
   "metadata": {},
   "outputs": [],
   "source": [
    "# r+ and w+ mode we can read and write  at once\n",
    "# r+ mode dont create a file"
   ]
  },
  {
   "cell_type": "code",
   "execution_count": 17,
   "metadata": {},
   "outputs": [
    {
     "ename": "FileNotFoundError",
     "evalue": "[Errno 2] No such file or directory: './files/testingDataFiles.txt'",
     "output_type": "error",
     "traceback": [
      "\u001b[1;31m---------------------------------------------------------------------------\u001b[0m",
      "\u001b[1;31mFileNotFoundError\u001b[0m                         Traceback (most recent call last)",
      "\u001b[1;32mc:\\Users\\Hassan\\Desktop\\PIAIC\\AI\\Q1\\Python\\Python Programming\\015_Data Files\\015_Data_Files.ipynb Cell 27'\u001b[0m in \u001b[0;36m<module>\u001b[1;34m\u001b[0m\n\u001b[1;32m----> <a href='vscode-notebook-cell:/c%3A/Users/Hassan/Desktop/PIAIC/AI/Q1/Python/Python%20Programming/015_Data%20Files/015_Data_Files.ipynb#ch0000026?line=0'>1</a>\u001b[0m \u001b[39mwith\u001b[39;00m \u001b[39mopen\u001b[39;49m(\u001b[39m\"\u001b[39;49m\u001b[39m./files/testingDataFiles.txt\u001b[39;49m\u001b[39m\"\u001b[39;49m,\u001b[39m\"\u001b[39;49m\u001b[39mr\u001b[39;49m\u001b[39m\"\u001b[39;49m) \u001b[39mas\u001b[39;00m file:\n\u001b[0;32m      <a href='vscode-notebook-cell:/c%3A/Users/Hassan/Desktop/PIAIC/AI/Q1/Python/Python%20Programming/015_Data%20Files/015_Data_Files.ipynb#ch0000026?line=1'>2</a>\u001b[0m     content \u001b[39m=\u001b[39m file\u001b[39m.\u001b[39mread()\n\u001b[0;32m      <a href='vscode-notebook-cell:/c%3A/Users/Hassan/Desktop/PIAIC/AI/Q1/Python/Python%20Programming/015_Data%20Files/015_Data_Files.ipynb#ch0000026?line=2'>3</a>\u001b[0m \u001b[39mprint\u001b[39m(content)\n",
      "\u001b[1;31mFileNotFoundError\u001b[0m: [Errno 2] No such file or directory: './files/testingDataFiles.txt'"
     ]
    }
   ],
   "source": [
    "with open(\"testingDataFiles.txt\",\"r\") as file:\n",
    "    content = file.read()\n",
    "print(content)"
   ]
  },
  {
   "cell_type": "code",
   "execution_count": 18,
   "metadata": {},
   "outputs": [],
   "source": [
    "with open (\"testingDataFiles.txt\",\"w\") as file:\n",
    "    file.write(\"This is the data written to the file\")"
   ]
  },
  {
   "cell_type": "code",
   "execution_count": 19,
   "metadata": {},
   "outputs": [
    {
     "name": "stdout",
     "output_type": "stream",
     "text": [
      "This is the data written to the file\n"
     ]
    }
   ],
   "source": [
    "with open(\"testingDataFiles.txt\",\"r\") as file:\n",
    "    content = file.read()\n",
    "print(content)"
   ]
  },
  {
   "cell_type": "markdown",
   "metadata": {},
   "source": [
    "## Example 03"
   ]
  },
  {
   "cell_type": "code",
   "execution_count": 20,
   "metadata": {},
   "outputs": [
    {
     "ename": "FileNotFoundError",
     "evalue": "[Errno 2] No such file or directory: './files/not_oresent.txt'",
     "output_type": "error",
     "traceback": [
      "\u001b[1;31m---------------------------------------------------------------------------\u001b[0m",
      "\u001b[1;31mFileNotFoundError\u001b[0m                         Traceback (most recent call last)",
      "\u001b[1;32mc:\\Users\\Hassan\\Desktop\\PIAIC\\AI\\Q1\\Python\\Python Programming\\015_Data Files\\015_Data_Files.ipynb Cell 31'\u001b[0m in \u001b[0;36m<module>\u001b[1;34m\u001b[0m\n\u001b[1;32m----> <a href='vscode-notebook-cell:/c%3A/Users/Hassan/Desktop/PIAIC/AI/Q1/Python/Python%20Programming/015_Data%20Files/015_Data_Files.ipynb#ch0000030?line=0'>1</a>\u001b[0m \u001b[39mwith\u001b[39;00m \u001b[39mopen\u001b[39;49m(\u001b[39m\"\u001b[39;49m\u001b[39m./files/not_oresent.txt\u001b[39;49m\u001b[39m\"\u001b[39;49m,\u001b[39m\"\u001b[39;49m\u001b[39mr\u001b[39;49m\u001b[39m\"\u001b[39;49m) \u001b[39mas\u001b[39;00m file:\n\u001b[0;32m      <a href='vscode-notebook-cell:/c%3A/Users/Hassan/Desktop/PIAIC/AI/Q1/Python/Python%20Programming/015_Data%20Files/015_Data_Files.ipynb#ch0000030?line=1'>2</a>\u001b[0m     content \u001b[39m=\u001b[39m file\u001b[39m.\u001b[39mread()\n\u001b[0;32m      <a href='vscode-notebook-cell:/c%3A/Users/Hassan/Desktop/PIAIC/AI/Q1/Python/Python%20Programming/015_Data%20Files/015_Data_Files.ipynb#ch0000030?line=2'>3</a>\u001b[0m \u001b[39mprint\u001b[39m(content)\n",
      "\u001b[1;31mFileNotFoundError\u001b[0m: [Errno 2] No such file or directory: './files/not_oresent.txt'"
     ]
    }
   ],
   "source": [
    "with open(\"not_oresent.txt\",\"r\") as file:\n",
    "    content = file.read()\n",
    "print(content)"
   ]
  },
  {
   "cell_type": "code",
   "execution_count": 21,
   "metadata": {},
   "outputs": [],
   "source": [
    "with open(\"not_oresent.txt\",\"w\") as file:\n",
    "    file.write(\"This file don't Exist\")"
   ]
  },
  {
   "cell_type": "code",
   "execution_count": 22,
   "metadata": {},
   "outputs": [],
   "source": [
    "with open(\"not_oresent.txt\",\"a\") as file:\n",
    "    file.write(\"\\nIt has data now\")"
   ]
  },
  {
   "cell_type": "code",
   "execution_count": 23,
   "metadata": {},
   "outputs": [
    {
     "name": "stdout",
     "output_type": "stream",
     "text": [
      "This file don't Exist\n",
      "It has data now\n"
     ]
    }
   ],
   "source": [
    "with open(\"not_oresent.txt\",\"r\") as file:\n",
    "    content = file.read()\n",
    "print(content)"
   ]
  },
  {
   "cell_type": "markdown",
   "metadata": {},
   "source": [
    "## Example 04"
   ]
  },
  {
   "cell_type": "code",
   "execution_count": 24,
   "metadata": {},
   "outputs": [
    {
     "name": "stdout",
     "output_type": "stream",
     "text": [
      "This is new file\n"
     ]
    }
   ],
   "source": [
    "with open(\"new.txt\",\"w+\") as file:\n",
    "    file.write(\"This is new file\")\n",
    "    file.seek(0)\n",
    "    print(file.read())"
   ]
  },
  {
   "cell_type": "code",
   "execution_count": 25,
   "metadata": {},
   "outputs": [
    {
     "name": "stdout",
     "output_type": "stream",
     "text": [
      "This is new file\n"
     ]
    }
   ],
   "source": [
    "# we can use r+ and w+ mode\n",
    "with open(\"new.txt\",\"w+\") as file:\n",
    "    file.write(\"This is new file\")\n",
    "    file.seek(0)\n",
    "    d=file.read()\n",
    "print(d)"
   ]
  },
  {
   "cell_type": "code",
   "execution_count": 26,
   "metadata": {},
   "outputs": [],
   "source": [
    "# use the same way for r+. but it cat create the file"
   ]
  },
  {
   "cell_type": "markdown",
   "metadata": {},
   "source": [
    "## Exampe05"
   ]
  },
  {
   "cell_type": "code",
   "execution_count": 27,
   "metadata": {},
   "outputs": [],
   "source": [
    "# used to preserve data\n",
    "# with keyword is used to open a file\n",
    "# followd by open\n",
    "# follwoed by ()\n",
    "# in () name of file in \"\"\n",
    "# followed by , and \"w\"\n",
    "# followed by as + handle\n",
    "with open(\"whatever.txt\", \"w\") as file_to_work_with:\n",
    "    pass"
   ]
  },
  {
   "cell_type": "code",
   "execution_count": 28,
   "metadata": {},
   "outputs": [],
   "source": [
    "# we can alo use the follwing way to open the file\n",
    "file_to_work_with = open(\"whatever.txt\", \"w\")"
   ]
  },
  {
   "cell_type": "code",
   "execution_count": 29,
   "metadata": {},
   "outputs": [
    {
     "ename": "FileNotFoundError",
     "evalue": "[Errno 2] No such file or directory: 'data\\\\whatever.txt'",
     "output_type": "error",
     "traceback": [
      "\u001b[1;31m---------------------------------------------------------------------------\u001b[0m",
      "\u001b[1;31mFileNotFoundError\u001b[0m                         Traceback (most recent call last)",
      "\u001b[1;32mc:\\Users\\Hassan\\Desktop\\PIAIC\\AI\\Q1\\Python\\Python Programming\\015_Data Files\\015_Data_Files.ipynb Cell 42'\u001b[0m in \u001b[0;36m<module>\u001b[1;34m\u001b[0m\n\u001b[0;32m      <a href='vscode-notebook-cell:/c%3A/Users/Hassan/Desktop/PIAIC/AI/Q1/Python/Python%20Programming/015_Data%20Files/015_Data_Files.ipynb#ch0000041?line=0'>1</a>\u001b[0m \u001b[39m# if file is in same folder it works\u001b[39;00m\n\u001b[0;32m      <a href='vscode-notebook-cell:/c%3A/Users/Hassan/Desktop/PIAIC/AI/Q1/Python/Python%20Programming/015_Data%20Files/015_Data_Files.ipynb#ch0000041?line=1'>2</a>\u001b[0m \u001b[39m# if file is another folder then write following\u001b[39;00m\n\u001b[1;32m----> <a href='vscode-notebook-cell:/c%3A/Users/Hassan/Desktop/PIAIC/AI/Q1/Python/Python%20Programming/015_Data%20Files/015_Data_Files.ipynb#ch0000041?line=2'>3</a>\u001b[0m \u001b[39mwith\u001b[39;00m \u001b[39mopen\u001b[39;49m(\u001b[39m\"\u001b[39;49m\u001b[39mdata\u001b[39;49m\u001b[39m\\\u001b[39;49m\u001b[39mwhatever.txt\u001b[39;49m\u001b[39m\"\u001b[39;49m, \u001b[39m\"\u001b[39;49m\u001b[39mw\u001b[39;49m\u001b[39m\"\u001b[39;49m) \u001b[39mas\u001b[39;00m file_to_work_with:\n\u001b[0;32m      <a href='vscode-notebook-cell:/c%3A/Users/Hassan/Desktop/PIAIC/AI/Q1/Python/Python%20Programming/015_Data%20Files/015_Data_Files.ipynb#ch0000041?line=3'>4</a>\u001b[0m     \u001b[39mpass\u001b[39;00m\n",
      "\u001b[1;31mFileNotFoundError\u001b[0m: [Errno 2] No such file or directory: 'data\\\\whatever.txt'"
     ]
    }
   ],
   "source": [
    "# if file is in same folder it works\n",
    "# if file is another folder then write following\n",
    "with open(\"data\\whatever.txt\", \"w\") as file_to_work_with:\n",
    "    pass\n",
    "# it means we need to specify the path"
   ]
  },
  {
   "cell_type": "markdown",
   "metadata": {},
   "source": [
    "## Example06"
   ]
  },
  {
   "cell_type": "code",
   "execution_count": 30,
   "metadata": {},
   "outputs": [],
   "source": [
    "# Storing Data\n",
    "# if file present line one opens it other wise creates it\n",
    "with open(\"greet.txt\", \"w\") as f:\n",
    "    f.write(\"Hello, world!\")\n",
    "# presence of \"w\" replaces the data from the file every time we run it\n",
    "# due to use of with it closses automaticaly after execution"
   ]
  },
  {
   "cell_type": "code",
   "execution_count": 31,
   "metadata": {},
   "outputs": [],
   "source": [
    "# we can store variables too\n",
    "greeting = \"Hello, world!\"\n",
    "with open(\"greet1.txt\", \"w\") as f:\n",
    "    f.write(greeting)"
   ]
  },
  {
   "cell_type": "code",
   "execution_count": 32,
   "metadata": {},
   "outputs": [],
   "source": [
    "# Data files: Retrieveing data"
   ]
  },
  {
   "cell_type": "code",
   "execution_count": 33,
   "metadata": {},
   "outputs": [
    {
     "name": "stdout",
     "output_type": "stream",
     "text": [
      "Hello, world!\n"
     ]
    }
   ],
   "source": [
    "# reading a file wo use \"r\"\n",
    "with open(\"greet.txt\", \"r\") as f:\n",
    "    text_of_file = f.read()\n",
    "print(text_of_file)"
   ]
  },
  {
   "cell_type": "code",
   "execution_count": 34,
   "metadata": {},
   "outputs": [
    {
     "name": "stdout",
     "output_type": "stream",
     "text": [
      "Hello, world!\n"
     ]
    }
   ],
   "source": [
    "# We can use this notation too\n",
    "with open(\"greet.txt\") as f:\n",
    "    text_of_file = f.read()\n",
    "print(text_of_file)"
   ]
  },
  {
   "cell_type": "code",
   "execution_count": 35,
   "metadata": {},
   "outputs": [],
   "source": [
    "# Data files: Appending data"
   ]
  },
  {
   "cell_type": "code",
   "execution_count": 36,
   "metadata": {},
   "outputs": [],
   "source": [
    "# we use \"a\" to append data\n",
    "with open(\"greet.txt\", \"a\") as f:\n",
    "    f.write(\"\\nHave a nice day!\")"
   ]
  },
  {
   "cell_type": "code",
   "execution_count": 37,
   "metadata": {},
   "outputs": [
    {
     "name": "stdout",
     "output_type": "stream",
     "text": [
      "Hello, world!\n",
      "Have a nice day!\n"
     ]
    }
   ],
   "source": [
    "with open(\"greet.txt\") as f:\n",
    "    message = f.read()\n",
    "print(message)"
   ]
  }
 ],
 "metadata": {
  "kernelspec": {
   "display_name": "Python 3",
   "language": "python",
   "name": "python3"
  },
  "language_info": {
   "codemirror_mode": {
    "name": "ipython",
    "version": 3
   },
   "file_extension": ".py",
   "mimetype": "text/x-python",
   "name": "python",
   "nbconvert_exporter": "python",
   "pygments_lexer": "ipython3",
   "version": "3.10.1"
  }
 },
 "nbformat": 4,
 "nbformat_minor": 4
}
