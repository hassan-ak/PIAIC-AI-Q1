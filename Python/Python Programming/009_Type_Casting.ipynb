{
  "cells": [
    {
      "cell_type": "markdown",
      "metadata": {
        "id": "aQLiHSCJcJJS"
      },
      "source": [
        "# Type Casting\n",
        "changing data type from one to other is known as type casting"
      ]
    },
    {
      "cell_type": "code",
      "execution_count": 1,
      "metadata": {
        "colab": {
          "base_uri": "https://localhost:8080/"
        },
        "id": "UZwgueJucJJb",
        "outputId": "b6479353-6f44-4659-94a9-77cc5b34d67c"
      },
      "outputs": [
        {
          "name": "stdout",
          "output_type": "stream",
          "text": [
            "Enter Something : 15\n"
          ]
        },
        {
          "output_type": "execute_result",
          "data": {
            "text/plain": [
              "str"
            ]
          },
          "metadata": {},
          "execution_count": 1
        }
      ],
      "source": [
        "userinput = input (\"Enter Something : \")\n",
        "type(userinput)"
      ]
    },
    {
      "cell_type": "code",
      "execution_count": 2,
      "metadata": {
        "colab": {
          "base_uri": "https://localhost:8080/"
        },
        "id": "vl5UdBnCcJJe",
        "outputId": "ef36c664-6442-4827-b055-b3111de28366"
      },
      "outputs": [
        {
          "name": "stdout",
          "output_type": "stream",
          "text": [
            "Enter Something : 15\n"
          ]
        },
        {
          "output_type": "execute_result",
          "data": {
            "text/plain": [
              "int"
            ]
          },
          "metadata": {},
          "execution_count": 2
        }
      ],
      "source": [
        "userinput = int(input (\"Enter Something : \"))\n",
        "type(userinput)"
      ]
    },
    {
      "cell_type": "code",
      "execution_count": 3,
      "metadata": {
        "colab": {
          "base_uri": "https://localhost:8080/"
        },
        "id": "_7VgZgE5cJJf",
        "outputId": "a813b0a7-0848-4f73-b4b7-ad9d7d41cde2"
      },
      "outputs": [
        {
          "output_type": "execute_result",
          "data": {
            "text/plain": [
              "52.0"
            ]
          },
          "metadata": {},
          "execution_count": 3
        }
      ],
      "source": [
        "float(52)"
      ]
    },
    {
      "cell_type": "markdown",
      "metadata": {
        "id": "PHGwqoo8cJJg"
      },
      "source": [
        "Example"
      ]
    },
    {
      "cell_type": "code",
      "execution_count": 4,
      "metadata": {
        "colab": {
          "base_uri": "https://localhost:8080/"
        },
        "id": "JlhvNQ_VcJJh",
        "outputId": "f651fadb-32c3-428a-c0e3-3d3302c3c1dd"
      },
      "outputs": [
        {
          "output_type": "stream",
          "name": "stdout",
          "text": [
            "Enter the Number: 15\n",
            "15\n"
          ]
        },
        {
          "output_type": "execute_result",
          "data": {
            "text/plain": [
              "int"
            ]
          },
          "metadata": {},
          "execution_count": 4
        }
      ],
      "source": [
        "operand = int(input('Enter the Number: '))\n",
        "print(operand)\n",
        "type(operand)"
      ]
    },
    {
      "cell_type": "markdown",
      "metadata": {
        "id": "VWEBBH_McJJi"
      },
      "source": [
        "Example"
      ]
    },
    {
      "cell_type": "code",
      "execution_count": 5,
      "metadata": {
        "colab": {
          "base_uri": "https://localhost:8080/"
        },
        "id": "N0VgF3gEcJJj",
        "outputId": "0c826707-9437-46cd-bf27-4827830d1b3c"
      },
      "outputs": [
        {
          "output_type": "stream",
          "name": "stdout",
          "text": [
            "Enter the Number in fractional value: 16.25\n",
            "16.25\n"
          ]
        },
        {
          "output_type": "execute_result",
          "data": {
            "text/plain": [
              "float"
            ]
          },
          "metadata": {},
          "execution_count": 5
        }
      ],
      "source": [
        "operand = float(input('Enter the Number in fractional value: '))\n",
        "print(operand)\n",
        "type(operand)"
      ]
    },
    {
      "cell_type": "code",
      "execution_count": 6,
      "metadata": {
        "colab": {
          "base_uri": "https://localhost:8080/"
        },
        "id": "OvsPiFbccJJk",
        "outputId": "2e99f159-d4f0-4718-bc5a-2273d9c01006"
      },
      "outputs": [
        {
          "output_type": "stream",
          "name": "stdout",
          "text": [
            "You entered the value = 16.25\n"
          ]
        }
      ],
      "source": [
        "print ('You entered the value = ' + str(operand))"
      ]
    },
    {
      "cell_type": "code",
      "execution_count": 7,
      "metadata": {
        "colab": {
          "base_uri": "https://localhost:8080/"
        },
        "id": "BAYOFUcFcJJl",
        "outputId": "3d1babe6-9825-40a2-907e-45151ca9a149"
      },
      "outputs": [
        {
          "output_type": "stream",
          "name": "stdout",
          "text": [
            "16.25\n"
          ]
        },
        {
          "output_type": "execute_result",
          "data": {
            "text/plain": [
              "str"
            ]
          },
          "metadata": {},
          "execution_count": 7
        }
      ],
      "source": [
        "operand = str(operand)\n",
        "print(operand)\n",
        "type(operand)"
      ]
    },
    {
      "cell_type": "markdown",
      "metadata": {
        "id": "vhBbAjTzcJJm"
      },
      "source": [
        "Example"
      ]
    },
    {
      "cell_type": "code",
      "execution_count": 8,
      "metadata": {
        "colab": {
          "base_uri": "https://localhost:8080/"
        },
        "id": "UpKdZJAScJJn",
        "outputId": "6e627571-319d-4713-c09a-954af4277c72"
      },
      "outputs": [
        {
          "name": "stdout",
          "output_type": "stream",
          "text": [
            "Enter the name of a city: Gojra\n"
          ]
        }
      ],
      "source": [
        "city_to_check = input(\"Enter the name of a city: \")"
      ]
    },
    {
      "cell_type": "code",
      "execution_count": 9,
      "metadata": {
        "colab": {
          "base_uri": "https://localhost:8080/"
        },
        "id": "W6OHeu5OcJJn",
        "outputId": "c6d0956f-2f6e-40e0-dd70-1aa226c11ca0"
      },
      "outputs": [
        {
          "name": "stdout",
          "output_type": "stream",
          "text": [
            "Enter your monthly income: 20000\n"
          ]
        }
      ],
      "source": [
        "monthly_income = input(\"Enter your monthly income: \")"
      ]
    },
    {
      "cell_type": "code",
      "execution_count": 10,
      "metadata": {
        "colab": {
          "base_uri": "https://localhost:8080/"
        },
        "id": "1uUKfqPLcJJo",
        "outputId": "2135b4f3-6fc8-4faa-9e41-d070788e4f92"
      },
      "outputs": [
        {
          "output_type": "stream",
          "name": "stdout",
          "text": [
            "20000\n"
          ]
        }
      ],
      "source": [
        "monthly_income_as_an_integer = int(monthly_income) \n",
        "print(monthly_income_as_an_integer)"
      ]
    },
    {
      "cell_type": "code",
      "execution_count": 11,
      "metadata": {
        "colab": {
          "base_uri": "https://localhost:8080/"
        },
        "id": "eJfbKvE7cJJp",
        "outputId": "650b30d6-9970-4aed-af7f-a37313786bed"
      },
      "outputs": [
        {
          "output_type": "stream",
          "name": "stdout",
          "text": [
            "20000.0\n"
          ]
        }
      ],
      "source": [
        "monthly_income_as_a_float = float(monthly_income)\n",
        "print(monthly_income_as_a_float)"
      ]
    },
    {
      "cell_type": "markdown",
      "metadata": {
        "id": "oY53qCv7cJJp"
      },
      "source": [
        "Example"
      ]
    },
    {
      "cell_type": "code",
      "execution_count": 12,
      "metadata": {
        "colab": {
          "base_uri": "https://localhost:8080/",
          "height": 183
        },
        "id": "8MFDnAiscJJq",
        "outputId": "542e32e0-8d78-4458-a259-76f078e76057"
      },
      "outputs": [
        {
          "output_type": "error",
          "ename": "TypeError",
          "evalue": "ignored",
          "traceback": [
            "\u001b[0;31m---------------------------------------------------------------------------\u001b[0m",
            "\u001b[0;31mTypeError\u001b[0m                                 Traceback (most recent call last)",
            "\u001b[0;32m<ipython-input-12-d0acb3b768bb>\u001b[0m in \u001b[0;36m<module>\u001b[0;34m()\u001b[0m\n\u001b[1;32m      1\u001b[0m \u001b[0mmin_wage\u001b[0m \u001b[0;34m=\u001b[0m \u001b[0;36m15\u001b[0m\u001b[0;34m\u001b[0m\u001b[0;34m\u001b[0m\u001b[0m\n\u001b[0;32m----> 2\u001b[0;31m \u001b[0mprint\u001b[0m\u001b[0;34m(\u001b[0m\u001b[0;34m\"The minimum wage in your state is $\"\u001b[0m \u001b[0;34m+\u001b[0m \u001b[0mmin_wage\u001b[0m\u001b[0;34m)\u001b[0m\u001b[0;34m\u001b[0m\u001b[0;34m\u001b[0m\u001b[0m\n\u001b[0m",
            "\u001b[0;31mTypeError\u001b[0m: can only concatenate str (not \"int\") to str"
          ]
        }
      ],
      "source": [
        "min_wage = 15\n",
        "print(\"The minimum wage in your state is $\" + min_wage) "
      ]
    },
    {
      "cell_type": "code",
      "execution_count": 13,
      "metadata": {
        "colab": {
          "base_uri": "https://localhost:8080/"
        },
        "id": "NV0ZABW_cJJr",
        "outputId": "0baacf79-03f2-4b2d-dcd3-a3214234523a"
      },
      "outputs": [
        {
          "output_type": "stream",
          "name": "stdout",
          "text": [
            "The minimum wage in your state is $15\n"
          ]
        }
      ],
      "source": [
        "min_wage = 15\n",
        "min_wage = str(min_wage)\n",
        "print(\"The minimum wage in your state is $\" + min_wage) "
      ]
    },
    {
      "cell_type": "markdown",
      "metadata": {
        "id": "oo8XeBGpcJJr"
      },
      "source": [
        "[<--- Previous Page](README.md)"
      ]
    }
  ],
  "metadata": {
    "kernelspec": {
      "display_name": "Python 3",
      "language": "python",
      "name": "python3"
    },
    "language_info": {
      "codemirror_mode": {
        "name": "ipython",
        "version": 3
      },
      "file_extension": ".py",
      "mimetype": "text/x-python",
      "name": "python",
      "nbconvert_exporter": "python",
      "pygments_lexer": "ipython3",
      "version": "3.10.1"
    },
    "colab": {
      "name": "009_Type_Casting.ipynb",
      "provenance": []
    }
  },
  "nbformat": 4,
  "nbformat_minor": 0
}