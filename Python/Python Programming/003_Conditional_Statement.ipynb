{
  "cells": [
    {
      "cell_type": "markdown",
      "metadata": {
        "id": "fURPAWVuRwWz"
      },
      "source": [
        "# Conditional Statements"
      ]
    },
    {
      "cell_type": "markdown",
      "metadata": {
        "id": "zjWEvUvARwXC"
      },
      "source": [
        "## If Statement\n",
        "* An if statement is a programming conditioanl statement that, if proved true, performs a function or displays information.\n",
        "* If statements are used for decision making. Thay will run the body of code only when the IF statement is true.\n",
        "* when you want to justify one condition while the other condition is not true, then you use the \"if statement\".\n",
        "```\n",
        "num1 = 22\n",
        "if num1 == 22:\n",
        "    print(\"The number is 22\")\n",
        "```"
      ]
    },
    {
      "cell_type": "code",
      "execution_count": 1,
      "metadata": {
        "colab": {
          "base_uri": "https://localhost:8080/"
        },
        "id": "EF-IGVWtRwXE",
        "outputId": "6fc2d88c-99e6-440c-c3a6-3694efc2e67d"
      },
      "outputs": [
        {
          "output_type": "stream",
          "name": "stdout",
          "text": [
            "Yep, it's cat.\n"
          ]
        }
      ],
      "source": [
        "species = \"cat\"\n",
        "if species == \"cat\":\n",
        "    print(\"Yep, it's cat.\")"
      ]
    },
    {
      "cell_type": "code",
      "execution_count": 2,
      "metadata": {
        "colab": {
          "base_uri": "https://localhost:8080/"
        },
        "id": "S6p5Amy3RwXG",
        "outputId": "e1218787-c69c-44fb-a5bb-0250bd2e7600"
      },
      "outputs": [
        {
          "output_type": "stream",
          "name": "stdout",
          "text": [
            "So far so good.\n"
          ]
        }
      ],
      "source": [
        "number_of_husbands = 1\n",
        "if number_of_husbands == 1:\n",
        "    print(\"So far so good.\")"
      ]
    },
    {
      "cell_type": "markdown",
      "metadata": {
        "id": "vglAlWIdRwXH"
      },
      "source": [
        "Multiple opearions can be performed in the if block"
      ]
    },
    {
      "cell_type": "code",
      "execution_count": 3,
      "metadata": {
        "colab": {
          "base_uri": "https://localhost:8080/"
        },
        "id": "SqBExm6cRwXI",
        "outputId": "e011f693-6470-4237-9bdc-c5c3718c893d"
      },
      "outputs": [
        {
          "output_type": "stream",
          "name": "stdout",
          "text": [
            "So far so good.\n",
            "Congratulations.\n",
            "All done\n"
          ]
        }
      ],
      "source": [
        "number_of_husbands = 1\n",
        "if number_of_husbands == 1:\n",
        "    print(\"So far so good.\")\n",
        "    print(\"Congratulations.\")\n",
        "    print(\"All done\")"
      ]
    },
    {
      "cell_type": "code",
      "execution_count": 4,
      "metadata": {
        "colab": {
          "base_uri": "https://localhost:8080/"
        },
        "id": "d6xi-4XjRwXK",
        "outputId": "45525a08-e0f9-4733-a8c3-4841f550f21a"
      },
      "outputs": [
        {
          "output_type": "stream",
          "name": "stdout",
          "text": [
            "Yep, it's cat.\n"
          ]
        }
      ],
      "source": [
        "species = \"cat\"\n",
        "if species == \"cat\":\n",
        "    status = \"ok\"\n",
        "    kingdom = \"animal\"\n",
        "    print(\"Yep, it's cat.\") "
      ]
    },
    {
      "cell_type": "markdown",
      "metadata": {
        "id": "6-6MCKiBRwXL"
      },
      "source": [
        "Methamtical opertions can be used in if condition"
      ]
    },
    {
      "cell_type": "code",
      "execution_count": 5,
      "metadata": {
        "colab": {
          "base_uri": "https://localhost:8080/"
        },
        "id": "TCICnUCrRwXN",
        "outputId": "d875ed86-b5b4-427c-f7ae-b421439473ad"
      },
      "outputs": [
        {
          "output_type": "stream",
          "name": "stdout",
          "text": [
            "Everything makes sense.\n"
          ]
        }
      ],
      "source": [
        "if 2 + 2 == 4:\n",
        "    print(\"Everything makes sense.\")"
      ]
    },
    {
      "cell_type": "markdown",
      "metadata": {
        "id": "DbQYDv8oRwXP"
      },
      "source": [
        "## Comparison Operators\n",
        "* A comparison operator in python, also called python relational operator, **compares the value** of two operands and **returns True or False** based on whether the condition is met\n",
        "* String comparison. You can use **(>,<,<=,>=,==,!=)** to compare two strings. Python compares string **lexicographically** i.e using ASCII value of the characters.\n",
        "    * **>** is greater than\n",
        "    * **<** is less than\n",
        "    * **>=** is greater than or equal to \n",
        "    * **<=** is less than or equal to\n",
        "    * **==** is equal to\n",
        "    * **>** is not equal to\n",
        "```\n",
        "number = 69\n",
        "if number >=50:\n",
        "    print(\"Number is greater than 50\")\n",
        "```"
      ]
    },
    {
      "cell_type": "code",
      "execution_count": 6,
      "metadata": {
        "colab": {
          "base_uri": "https://localhost:8080/"
        },
        "id": "p8gdgONVRwXT",
        "outputId": "6dd025b3-15e4-4950-992e-1f82be725eea"
      },
      "outputs": [
        {
          "output_type": "stream",
          "name": "stdout",
          "text": [
            "You won.\n"
          ]
        }
      ],
      "source": [
        "your_ticket_number = 8\n",
        "if your_ticket_number == 8:\n",
        "    print(\"You won.\")"
      ]
    },
    {
      "cell_type": "code",
      "execution_count": 7,
      "metadata": {
        "colab": {
          "base_uri": "https://localhost:8080/"
        },
        "id": "zs-GTtF3RwXU",
        "outputId": "34669707-8ffa-40ad-cfec-562c99c498d0"
      },
      "outputs": [
        {
          "output_type": "stream",
          "name": "stdout",
          "text": [
            "a is less than b\n",
            "Hello A\n",
            "Hello B\n",
            "Hello Python\n"
          ]
        }
      ],
      "source": [
        "# when returns true\n",
        "a = 100\n",
        "b = 200\n",
        "if a<b: #returns true, : defines the block \n",
        "    print(\"a is less than b\") #Rather than using {} we use indent\n",
        "    print(\"Hello A\")\n",
        "    print(\"Hello B\")\n",
        "print(\"Hello Python\") #We don’t use end just remove the indent"
      ]
    },
    {
      "cell_type": "code",
      "execution_count": 8,
      "metadata": {
        "colab": {
          "base_uri": "https://localhost:8080/"
        },
        "id": "whObOyDpRwXW",
        "outputId": "cd26234d-67a2-44a0-e9a7-def28e4d821b"
      },
      "outputs": [
        {
          "output_type": "stream",
          "name": "stdout",
          "text": [
            "Pakistan\n"
          ]
        }
      ],
      "source": [
        "# when returns false\n",
        "a = 100\n",
        "b = 200\n",
        "if b<a: #returns false\n",
        "    print(\"b is less than a\") #this block will not be executed\n",
        "print(\"Pakistan\")"
      ]
    },
    {
      "cell_type": "code",
      "execution_count": 9,
      "metadata": {
        "colab": {
          "base_uri": "https://localhost:8080/"
        },
        "id": "qwAy4cTRRwXX",
        "outputId": "f8e219ee-75c6-4670-db0d-a664e3b39b33"
      },
      "outputs": [
        {
          "output_type": "stream",
          "name": "stdout",
          "text": [
            "All OK\n"
          ]
        }
      ],
      "source": [
        "if 1 > 0:\n",
        "    print(\"All OK\")"
      ]
    },
    {
      "cell_type": "code",
      "execution_count": 10,
      "metadata": {
        "id": "_kYUfPknRwXY"
      },
      "outputs": [],
      "source": [
        "if 1 < 0:\n",
        "    print(\"All OK\")"
      ]
    },
    {
      "cell_type": "code",
      "execution_count": 11,
      "metadata": {
        "colab": {
          "base_uri": "https://localhost:8080/"
        },
        "id": "tfQvOtlBRwXY",
        "outputId": "66bd13a1-40d7-44cf-a1f0-e7dcd825bf46"
      },
      "outputs": [
        {
          "output_type": "stream",
          "name": "stdout",
          "text": [
            "All OK\n"
          ]
        }
      ],
      "source": [
        "if 1 >= 0:\n",
        "    print(\"All OK\")"
      ]
    },
    {
      "cell_type": "code",
      "execution_count": 12,
      "metadata": {
        "id": "bly0jtmfRwXZ"
      },
      "outputs": [],
      "source": [
        "if 1 <= 0:\n",
        "    print(\"All OK\")"
      ]
    },
    {
      "cell_type": "markdown",
      "metadata": {
        "id": "8L0co6EpRwXa"
      },
      "source": [
        "## Else Statements\n",
        "* An **else statement** can be combined with an if statement.\n",
        "* An else statement contains the **block of code** that **executes** if the conditional expression in the **if statement** resolves to 0 or a **FALSE** value.\n",
        "```\n",
        "name = \"Python\"\n",
        "if name == \"Python\":\n",
        "    print(\"Your name is Hassan\")\n",
        "else:\n",
        "    print(\"I don't know your name\")\n",
        "```"
      ]
    },
    {
      "cell_type": "code",
      "execution_count": 13,
      "metadata": {
        "colab": {
          "base_uri": "https://localhost:8080/"
        },
        "id": "rmXYtCJURwXa",
        "outputId": "b876d912-6cc6-4430-f61e-db26c964511d"
      },
      "outputs": [
        {
          "output_type": "stream",
          "name": "stdout",
          "text": [
            "Nope, not cat.\n"
          ]
        }
      ],
      "source": [
        "species = \"catm\"\n",
        "if species == \"cat\":\n",
        "    print(\"Yep, it's cat.\")\n",
        "if species != \"cat\":\n",
        "    print(\"Nope, not cat.\")"
      ]
    },
    {
      "cell_type": "code",
      "execution_count": 14,
      "metadata": {
        "colab": {
          "base_uri": "https://localhost:8080/"
        },
        "id": "CpNm1vXWRwXb",
        "outputId": "50a51157-4d02-4275-baab-c655f3b1da48"
      },
      "outputs": [
        {
          "output_type": "stream",
          "name": "stdout",
          "text": [
            "Yep, it's cat.\n"
          ]
        }
      ],
      "source": [
        "species = \"cat\"\n",
        "if species == \"cat\":\n",
        "    print(\"Yep, it's cat.\")\n",
        "else:\n",
        "    print(\"Nope, not cat.\")"
      ]
    },
    {
      "cell_type": "code",
      "execution_count": 15,
      "metadata": {
        "colab": {
          "base_uri": "https://localhost:8080/"
        },
        "id": "EclbsEhmRwXd",
        "outputId": "d1c2bc4c-2ea9-45b1-d9c6-77c131411967"
      },
      "outputs": [
        {
          "output_type": "stream",
          "name": "stdout",
          "text": [
            "22\n"
          ]
        }
      ],
      "source": [
        "buy_score = 0\n",
        "donut_condition = \"fresh\"\n",
        "donut_filling = \"chocolate\"\n",
        "donut_price = \"reasonable\"\n",
        "if donut_condition == \"fresh\":\n",
        "    buy_score += 10\n",
        "if donut_filling == \"chocolate\":\n",
        "    buy_score += 5\n",
        "if donut_price == \"reasonable\":\n",
        "    buy_score += 7\n",
        "print(buy_score)  "
      ]
    },
    {
      "cell_type": "markdown",
      "metadata": {
        "id": "CTcDnEUDRwXd"
      },
      "source": [
        "## Elif Statements\n",
        "* The **elif statement** allows you to **check multiple expressions** for True and execute a block of code as soon as one of the conditions evaluates to True.\n",
        "* Similar to the else, the **elif statement is optional**. However unlike else, for which there can be at most one statement, there can be **any numbers of elif statements** following an if.\n"
      ]
    },
    {
      "cell_type": "code",
      "execution_count": 16,
      "metadata": {
        "colab": {
          "base_uri": "https://localhost:8080/"
        },
        "id": "susEHgmSRwXe",
        "outputId": "a237fcf0-c6f0-49a0-fe4d-d0e9033db80a"
      },
      "outputs": [
        {
          "output_type": "stream",
          "name": "stdout",
          "text": [
            "5\n"
          ]
        }
      ],
      "source": [
        "donut_condition = \"not fresh\"\n",
        "donut_price = \"low\"\n",
        "if donut_condition == \"fresh\":\n",
        "    buy_score = 10\n",
        "elif donut_price == \"low\":\n",
        "    buy_score = 5\n",
        "else:\n",
        "    buy_score = 0\n",
        "print(buy_score)"
      ]
    },
    {
      "cell_type": "markdown",
      "metadata": {
        "id": "CsxwTuiDRwXj"
      },
      "source": [
        "## Testing Sets of Conditions\n",
        "* The condition usually uses **comparisons** and **arithmetic** expressions with variables. These expressions are evaluated to **Boolean** values **True or False**. The statements for the decision taking are called conditioanl statements, alternatively thay are also known as conditional expressions or conditional consrysts."
      ]
    },
    {
      "cell_type": "code",
      "execution_count": 17,
      "metadata": {
        "colab": {
          "base_uri": "https://localhost:8080/"
        },
        "id": "7cZj5KsiRwXk",
        "outputId": "58049741-8532-46c6-f29b-7cf1344e1111"
      },
      "outputs": [
        {
          "output_type": "stream",
          "name": "stdout",
          "text": [
            "ok\n"
          ]
        }
      ],
      "source": [
        "weight = 450\n",
        "time = 6\n",
        "if weight > 300 and time < 6:\n",
        "    status = \"try to recruit him\"\n",
        "print(status)"
      ]
    },
    {
      "cell_type": "code",
      "execution_count": 18,
      "metadata": {
        "colab": {
          "base_uri": "https://localhost:8080/"
        },
        "id": "hwRNmMkIRwXk",
        "outputId": "bbbdb001-b8f1-4010-ac01-8f7f3634bf7e"
      },
      "outputs": [
        {
          "output_type": "stream",
          "name": "stdout",
          "text": [
            "0\n"
          ]
        }
      ],
      "source": [
        "status=0\n",
        "weight = 450\n",
        "time = 7\n",
        "if weight > 300 and time < 6:\n",
        "    status = \"try to recruit him\"\n",
        "print(status)"
      ]
    },
    {
      "cell_type": "code",
      "execution_count": 19,
      "metadata": {
        "colab": {
          "base_uri": "https://localhost:8080/"
        },
        "id": "I28_TzoPRwXl",
        "outputId": "47329eca-6085-47e4-94d5-0c24dc3c5db8"
      },
      "outputs": [
        {
          "output_type": "stream",
          "name": "stdout",
          "text": [
            "try to recruit him\n"
          ]
        }
      ],
      "source": [
        "weight = 301\n",
        "time = 4.9\n",
        "age = 18\n",
        "height = 70\n",
        "if weight > 300 and time < 6 and age > 17 and height < 72:\n",
        "    status = \"try to recruit him\"\n",
        "    print(status)"
      ]
    },
    {
      "cell_type": "code",
      "execution_count": 20,
      "metadata": {
        "colab": {
          "base_uri": "https://localhost:8080/"
        },
        "id": "NzrsFebtRwXl",
        "outputId": "2c51bce9-abf3-457f-c575-20b8dc21bf57"
      },
      "outputs": [
        {
          "output_type": "stream",
          "name": "stdout",
          "text": [
            "Welcome to Leeds College!\n"
          ]
        }
      ],
      "source": [
        "SAT = 0\n",
        "GPA = 3\n",
        "parent = \"alum\"\n",
        "if SAT > 1 or GPA > 2.5 or parent == \"alum\":\n",
        "    message = \"Welcome to Leeds College!\"\n",
        "    print(message)"
      ]
    },
    {
      "cell_type": "code",
      "execution_count": 21,
      "metadata": {
        "colab": {
          "base_uri": "https://localhost:8080/"
        },
        "id": "6BL-VuOTRwXm",
        "outputId": "b8b879bb-63f0-4041-c282-6e58fd66df67"
      },
      "outputs": [
        {
          "output_type": "stream",
          "name": "stdout",
          "text": [
            "U.K.\n"
          ]
        }
      ],
      "source": [
        "# Always use ( ) while using more than one conditions in the if statement\n",
        "age = 70\n",
        "res = \"U.K.\"\n",
        "if (age > 65 or age < 21) and res == \"U.K.\": \n",
        "    print(res)"
      ]
    },
    {
      "cell_type": "code",
      "execution_count": 22,
      "metadata": {
        "colab": {
          "base_uri": "https://localhost:8080/"
        },
        "id": "PrFcEyovRwXn",
        "outputId": "0cad3a60-d9fc-47e5-b888-e3a9caa4c068"
      },
      "outputs": [
        {
          "output_type": "stream",
          "name": "stdout",
          "text": [
            "0 2\n"
          ]
        }
      ],
      "source": [
        "x=a=1\n",
        "y=b=5\n",
        "c=d=1\n",
        "h=f=2\n",
        "g=0\n",
        "e=0\n",
        "if (x == y or a == b) and c == d:\n",
        "    g = h\n",
        "else:\n",
        "    e = f\n",
        "print(g,e)"
      ]
    },
    {
      "cell_type": "markdown",
      "metadata": {
        "id": "et5pLkmiRwXn"
      },
      "source": [
        "## If Statements Nested\n",
        "* A **nested If** is na if statement that is the **target of another if statement**. Nested if statements means an if statement inside another if statement.\n",
        "* The inner if block will **only** be **executed** if the **outer if block executes successfully**."
      ]
    },
    {
      "cell_type": "code",
      "execution_count": 23,
      "metadata": {
        "colab": {
          "base_uri": "https://localhost:8080/"
        },
        "id": "CXDbIP8kRwXo",
        "outputId": "6586f305-a5ec-47b5-e789-870cbec8d429"
      },
      "outputs": [
        {
          "output_type": "stream",
          "name": "stdout",
          "text": [
            "All OK\n"
          ]
        }
      ],
      "source": [
        "if 1 > 0: \n",
        "    if 0 < 1: \n",
        "        if 1 >= 0: \n",
        "            if 1 >= 1: \n",
        "                if 0 <= 1: \n",
        "                    if 1 <= 1:\n",
        "                        print(\"All OK\")"
      ]
    },
    {
      "cell_type": "code",
      "execution_count": 24,
      "metadata": {
        "colab": {
          "base_uri": "https://localhost:8080/"
        },
        "id": "4NHrE9P2RwXo",
        "outputId": "aed1422d-4572-4811-8807-e0e2f4ec6568"
      },
      "outputs": [
        {
          "output_type": "stream",
          "name": "stdout",
          "text": [
            "2 0\n"
          ]
        }
      ],
      "source": [
        "x=a=1\n",
        "y=b=1\n",
        "c=d=1\n",
        "h=f=2\n",
        "g=0\n",
        "e=0\n",
        "if c == d:\n",
        "    if x == y:\n",
        "        g = h\n",
        "    elif a == b:\n",
        "        g = h\n",
        "    else:\n",
        "        e = f\n",
        "else:\n",
        "    e = f\n",
        "print(g,e)"
      ]
    },
    {
      "cell_type": "code",
      "execution_count": 25,
      "metadata": {
        "colab": {
          "base_uri": "https://localhost:8080/"
        },
        "id": "pkpDrFKRRwXp",
        "outputId": "0d70317e-0697-4efa-8e85-feb43c5d21a3"
      },
      "outputs": [
        {
          "output_type": "stream",
          "name": "stdout",
          "text": [
            "All OK\n"
          ]
        }
      ],
      "source": [
        "full_name = \"Mark\" + \" \" + \"Myers\"\n",
        "first_name = \"Mark\"\n",
        "last_name = \"Myers\"\n",
        "materials_cost = 81.50\n",
        "labor_cost = 135\n",
        "total_cost = 216.5\n",
        "x=1\n",
        "y=1\n",
        "a=3\n",
        "b=1\n",
        "if full_name == \"Mark\" + \" \" + \"Myers\": \n",
        "    if full_name == first_name + \" \" + \"Myers\": \n",
        "        if full_name == first_name + \" \" + last_name: \n",
        "            if total_cost == 81.50 + 135: \n",
        "                if total_cost == materials_cost + 135: \n",
        "                    if total_cost == materials_cost + labor_cost: \n",
        "                        if x + y == a - b:\n",
        "                            print(\"All OK\")"
      ]
    },
    {
      "cell_type": "markdown",
      "metadata": {
        "id": "d9UBNLPXRwXp"
      },
      "source": [
        "[<--- Previous Page](README.md)"
      ]
    }
  ],
  "metadata": {
    "kernelspec": {
      "display_name": "Python 3",
      "language": "python",
      "name": "python3"
    },
    "language_info": {
      "codemirror_mode": {
        "name": "ipython",
        "version": 3
      },
      "file_extension": ".py",
      "mimetype": "text/x-python",
      "name": "python",
      "nbconvert_exporter": "python",
      "pygments_lexer": "ipython3",
      "version": "3.10.1"
    },
    "colab": {
      "name": "003_Conditional_Statement.ipynb",
      "provenance": []
    }
  },
  "nbformat": 4,
  "nbformat_minor": 0
}