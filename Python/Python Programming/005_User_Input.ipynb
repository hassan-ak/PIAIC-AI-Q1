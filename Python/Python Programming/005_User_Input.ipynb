{
  "cells": [
    {
      "cell_type": "markdown",
      "metadata": {
        "id": "WohygaOoCwA5"
      },
      "source": [
        "# User Input\n",
        "* Input from Keyboard\n",
        "* For this purpose, Python provides the function `input()` input has an optional parameter, which is the prompt string.\n",
        "* Input will always be string\n",
        "* If we want to use it as integer, we need to type cast it"
      ]
    },
    {
      "cell_type": "code",
      "execution_count": 1,
      "metadata": {
        "colab": {
          "base_uri": "https://localhost:8080/"
        },
        "id": "tKVc-JmoCwBC",
        "outputId": "2f8b6e5f-601e-41f0-e8e8-69adabd05aa6"
      },
      "outputs": [
        {
          "name": "stdout",
          "output_type": "stream",
          "text": [
            "Enter your name:Hassan Ali Khan\n",
            "Enter your age:29\n"
          ]
        }
      ],
      "source": [
        "input_name = input (\"Enter your name:\")\n",
        "input_age = input (\"Enter your age:\")"
      ]
    },
    {
      "cell_type": "code",
      "execution_count": 2,
      "metadata": {
        "colab": {
          "base_uri": "https://localhost:8080/"
        },
        "id": "GDB1s562CwBF",
        "outputId": "3c4e1acf-cd36-4d8e-bed4-0263688f63b8"
      },
      "outputs": [
        {
          "name": "stdout",
          "output_type": "stream",
          "text": [
            "Enter your age:29\n",
            "29 <class 'str'>\n"
          ]
        }
      ],
      "source": [
        "input_age = input (\"Enter your age:\")\n",
        "print(input_age, type(input_age))"
      ]
    },
    {
      "cell_type": "code",
      "execution_count": 3,
      "metadata": {
        "colab": {
          "base_uri": "https://localhost:8080/"
        },
        "id": "sP2U6zIUCwBG",
        "outputId": "d84fa85a-162b-49e2-8d93-5e152d32e6e6"
      },
      "outputs": [
        {
          "name": "stdout",
          "output_type": "stream",
          "text": [
            "Enter your age:29\n",
            "29 <class 'int'>\n"
          ]
        }
      ],
      "source": [
        "input_age = int(input (\"Enter your age:\"))\n",
        "print(input_age, type(input_age))"
      ]
    },
    {
      "cell_type": "markdown",
      "metadata": {
        "id": "NhEOXtsCCwBI"
      },
      "source": [
        "[<--- Previous Page](README.md)"
      ]
    }
  ],
  "metadata": {
    "colab": {
      "name": "005_User_Input.ipynb",
      "provenance": []
    },
    "kernelspec": {
      "display_name": "Python 3",
      "language": "python",
      "name": "python3"
    },
    "language_info": {
      "codemirror_mode": {
        "name": "ipython",
        "version": 3
      },
      "file_extension": ".py",
      "mimetype": "text/x-python",
      "name": "python",
      "nbconvert_exporter": "python",
      "pygments_lexer": "ipython3",
      "version": "3.10.1"
    }
  },
  "nbformat": 4,
  "nbformat_minor": 0
}
