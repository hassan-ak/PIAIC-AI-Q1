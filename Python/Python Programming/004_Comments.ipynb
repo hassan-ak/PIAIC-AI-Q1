{
  "cells": [
    {
      "cell_type": "markdown",
      "metadata": {
        "id": "diO5EGwJBO9_"
      },
      "source": [
        "# Comments\n",
        "* Comments are **lines of text** in your code that **Python ignores**.\n",
        "* Comments are **for the huamn**, not the machine.\n",
        "* For example, a comment can **explain a section of code** so another programmer can understand it.\n",
        "* A comment can help you figure out your code when you come back to it a month or a year later."
      ]
    },
    {
      "cell_type": "markdown",
      "metadata": {
        "id": "DOXNIw5MBO-L"
      },
      "source": [
        "## Types of Comments\n",
        "* Single Lien Comments\n",
        "    * A Single line can be commented by using a # sysmbol.\n",
        "* Paragraph / Multi-line Comments.\n",
        "    * A paragraph can be commented by using a triple quote."
      ]
    },
    {
      "cell_type": "code",
      "execution_count": 1,
      "metadata": {
        "colab": {
          "base_uri": "https://localhost:8080/"
        },
        "id": "mzftRCG5BO-N",
        "outputId": "7a6983c7-0574-47c4-f451-bc2ea2c92b56"
      },
      "outputs": [
        {
          "output_type": "stream",
          "name": "stdout",
          "text": [
            "This is not a comment ...\n"
          ]
        }
      ],
      "source": [
        "# This is a comment\n",
        "# this is another comment\n",
        "# Python ignores these comments.\n",
        "# The code that python executes is next , on line\n",
        "print(\"This is not a comment ...\")"
      ]
    },
    {
      "cell_type": "code",
      "execution_count": 2,
      "metadata": {
        "colab": {
          "base_uri": "https://localhost:8080/"
        },
        "id": "JHYoWZALBO-Q",
        "outputId": "40a48216-47c2-4b7a-9d5b-4bb47e1f906b"
      },
      "outputs": [
        {
          "output_type": "stream",
          "name": "stdout",
          "text": [
            "Hello, world!\n"
          ]
        }
      ],
      "source": [
        "print(\"Hello, world!\") # Greet the world"
      ]
    },
    {
      "cell_type": "code",
      "execution_count": 3,
      "metadata": {
        "colab": {
          "base_uri": "https://localhost:8080/"
        },
        "id": "i_NEhslvBO-S",
        "outputId": "62deda9a-d9c1-4a16-c05c-5af230944184"
      },
      "outputs": [
        {
          "output_type": "stream",
          "name": "stdout",
          "text": [
            "This is not a comment ...\n",
            "This line also not comment \n"
          ]
        }
      ],
      "source": [
        "print(\"This is not a comment ...\")\n",
        "\"\"\"\n",
        "this is a paragarph comment\n",
        "paragarph can be lengthy or small\n",
        "\"\"\"\n",
        "print(\"This line also not comment \")"
      ]
    },
    {
      "cell_type": "code",
      "execution_count": 4,
      "metadata": {
        "colab": {
          "base_uri": "https://localhost:8080/"
        },
        "id": "tLRNfrGwBO-T",
        "outputId": "9b958b8e-1961-46a1-a5c6-e0e363c2ec3d"
      },
      "outputs": [
        {
          "output_type": "stream",
          "name": "stdout",
          "text": [
            "Hello, world!\n"
          ]
        }
      ],
      "source": [
        "\"\"\"\n",
        "This is a comment.\n",
        "This is another comment.\n",
        "Python ignores these comments.\n",
        "The code that Python executes is on line 7\n",
        "\"\"\"\n",
        "print(\"Hello, world!\") "
      ]
    },
    {
      "cell_type": "markdown",
      "metadata": {
        "id": "JRVgcfR0BO-V"
      },
      "source": [
        "[<--- Previous Page](README.md)"
      ]
    }
  ],
  "metadata": {
    "kernelspec": {
      "display_name": "Python 3",
      "language": "python",
      "name": "python3"
    },
    "language_info": {
      "codemirror_mode": {
        "name": "ipython",
        "version": 3
      },
      "file_extension": ".py",
      "mimetype": "text/x-python",
      "name": "python",
      "nbconvert_exporter": "python",
      "pygments_lexer": "ipython3",
      "version": "3.7.6"
    },
    "colab": {
      "name": "004_Comments.ipynb",
      "provenance": []
    }
  },
  "nbformat": 4,
  "nbformat_minor": 0
}