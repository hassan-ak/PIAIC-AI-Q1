{
 "cells": [
  {
   "cell_type": "markdown",
   "metadata": {},
   "source": [
    "# WorkShop - Inam UL Haq - 2020/06/30"
   ]
  },
  {
   "cell_type": "code",
   "execution_count": 1,
   "metadata": {},
   "outputs": [],
   "source": [
    "num1 = 13\n",
    "num2 = 3"
   ]
  },
  {
   "cell_type": "code",
   "execution_count": 2,
   "metadata": {},
   "outputs": [
    {
     "data": {
      "text/plain": [
       "1"
      ]
     },
     "execution_count": 2,
     "metadata": {},
     "output_type": "execute_result"
    }
   ],
   "source": [
    "num1%num2"
   ]
  },
  {
   "cell_type": "code",
   "execution_count": 3,
   "metadata": {},
   "outputs": [
    {
     "name": "stdout",
     "output_type": "stream",
     "text": [
      "9\n",
      "10\n",
      "19\n"
     ]
    }
   ],
   "source": [
    "num1 = 9\n",
    "x = int(input(\"Enter increment value : \"))\n",
    "print(num1)\n",
    "print(x)\n",
    "num1 += x\n",
    "print(num1)"
   ]
  },
  {
   "cell_type": "markdown",
   "metadata": {},
   "source": [
    "---"
   ]
  },
  {
   "cell_type": "code",
   "execution_count": 4,
   "metadata": {},
   "outputs": [
    {
     "name": "stdout",
     "output_type": "stream",
     "text": [
      "18.75\n"
     ]
    }
   ],
   "source": [
    "print((2+7)*13/12+9)"
   ]
  },
  {
   "cell_type": "code",
   "execution_count": 5,
   "metadata": {},
   "outputs": [
    {
     "name": "stdout",
     "output_type": "stream",
     "text": [
      "18.583333333333332\n"
     ]
    }
   ],
   "source": [
    "print(2+(7*13)/12+9)"
   ]
  },
  {
   "cell_type": "code",
   "execution_count": 6,
   "metadata": {},
   "outputs": [
    {
     "name": "stdout",
     "output_type": "stream",
     "text": [
      "5725.272727272727\n",
      "75.19047619047619\n",
      "25.974025974025974\n"
     ]
    }
   ],
   "source": [
    "print((1000/((21+23)/14)*18)-2)\n",
    "print(1000/21+23/14*18-2)\n",
    "print(1000/(21+23)/14*(18-2))"
   ]
  },
  {
   "cell_type": "markdown",
   "metadata": {},
   "source": [
    "---"
   ]
  },
  {
   "cell_type": "code",
   "execution_count": 7,
   "metadata": {},
   "outputs": [],
   "source": [
    "name = \"Hassan\"\n",
    "age = 29"
   ]
  },
  {
   "cell_type": "code",
   "execution_count": 8,
   "metadata": {},
   "outputs": [
    {
     "name": "stdout",
     "output_type": "stream",
     "text": [
      "My name is Hassan and I am 29 years old\n"
     ]
    }
   ],
   "source": [
    "print(\"My name is \" + name + \" and I am \" + str(age) + \" years old\" )"
   ]
  },
  {
   "cell_type": "code",
   "execution_count": 9,
   "metadata": {},
   "outputs": [
    {
     "name": "stdout",
     "output_type": "stream",
     "text": [
      "My name is Hassan and I am 29 years old\n"
     ]
    }
   ],
   "source": [
    "print((\"My name is {} and I am {} years old\").format(name,age))"
   ]
  },
  {
   "cell_type": "code",
   "execution_count": 10,
   "metadata": {},
   "outputs": [
    {
     "name": "stdout",
     "output_type": "stream",
     "text": [
      "My name is Hassan and I am 29 years old\n"
     ]
    }
   ],
   "source": [
    "print((\"My name is {0} and I am {1} years old\").format(name,age))"
   ]
  },
  {
   "cell_type": "code",
   "execution_count": 11,
   "metadata": {},
   "outputs": [
    {
     "name": "stdout",
     "output_type": "stream",
     "text": [
      "My name is Hassan and I am 29 years old\n"
     ]
    }
   ],
   "source": [
    "print((\"My name is {one} and I am {two} years old\").format(one=name,two=age))"
   ]
  },
  {
   "cell_type": "code",
   "execution_count": 12,
   "metadata": {},
   "outputs": [
    {
     "name": "stdout",
     "output_type": "stream",
     "text": [
      "My name is Hassan and I am 29 years old\n"
     ]
    }
   ],
   "source": [
    "print(f\"My name is {name} and I am {age} years old\")"
   ]
  },
  {
   "cell_type": "code",
   "execution_count": 13,
   "metadata": {},
   "outputs": [
    {
     "name": "stdout",
     "output_type": "stream",
     "text": [
      "29\n",
      "<class 'int'>\n",
      "<class 'str'>\n",
      "<class 'bool'>\n"
     ]
    }
   ],
   "source": [
    "print(age)\n",
    "print(type(age))\n",
    "print(type(str(age)))\n",
    "print(type(True))"
   ]
  },
  {
   "cell_type": "markdown",
   "metadata": {},
   "source": [
    "---"
   ]
  },
  {
   "cell_type": "code",
   "execution_count": 14,
   "metadata": {},
   "outputs": [
    {
     "name": "stdout",
     "output_type": "stream",
     "text": [
      "False\n",
      "True\n"
     ]
    }
   ],
   "source": [
    "print(3>5)\n",
    "print(3<5)"
   ]
  },
  {
   "cell_type": "code",
   "execution_count": 15,
   "metadata": {},
   "outputs": [
    {
     "name": "stdout",
     "output_type": "stream",
     "text": [
      "False\n",
      "True\n"
     ]
    }
   ],
   "source": [
    "a = 3\n",
    "b = 5\n",
    "print(a>b)\n",
    "print(a<b)"
   ]
  },
  {
   "cell_type": "code",
   "execution_count": 16,
   "metadata": {},
   "outputs": [
    {
     "name": "stdout",
     "output_type": "stream",
     "text": [
      "3 > 5 = False\n"
     ]
    }
   ],
   "source": [
    "a = 3\n",
    "b = 5\n",
    "print(\"{} > {} = {}\".format(a,b,a>b))"
   ]
  },
  {
   "cell_type": "code",
   "execution_count": 17,
   "metadata": {},
   "outputs": [
    {
     "name": "stdout",
     "output_type": "stream",
     "text": [
      "\n",
      ">\n",
      "<\n",
      "<=\n",
      ">=\n",
      "==\n",
      "!=\n",
      "\n"
     ]
    }
   ],
   "source": [
    "print(\"\"\"\n",
    ">\n",
    "<\n",
    "<=\n",
    ">=\n",
    "==\n",
    "!=\n",
    "\"\"\")"
   ]
  },
  {
   "cell_type": "code",
   "execution_count": 18,
   "metadata": {},
   "outputs": [
    {
     "name": "stdout",
     "output_type": "stream",
     "text": [
      "Hassan\n",
      "<class 'str'>\n"
     ]
    }
   ],
   "source": [
    "d = input(\"Enter Your name : \")\n",
    "print(d)\n",
    "print(type(d))"
   ]
  },
  {
   "cell_type": "code",
   "execution_count": 19,
   "metadata": {},
   "outputs": [
    {
     "name": "stdout",
     "output_type": "stream",
     "text": [
      "29\n",
      "<class 'str'>\n"
     ]
    }
   ],
   "source": [
    "d = input(\"Enter Your age : \")\n",
    "print(d)\n",
    "print(type(d))"
   ]
  },
  {
   "cell_type": "markdown",
   "metadata": {},
   "source": [
    "---"
   ]
  },
  {
   "cell_type": "code",
   "execution_count": 20,
   "metadata": {},
   "outputs": [
    {
     "name": "stdout",
     "output_type": "stream",
     "text": [
      "Answer :  yes\n",
      "Good\n",
      "Jumbo bottle pack\n"
     ]
    }
   ],
   "source": [
    "a = input(\"Do you have pepsi : \")\n",
    "print(\"Answer : \", a)\n",
    "if(a == \"yes\"):\n",
    "    print(\"Good\")\n",
    "    print(\"Jumbo bottle pack\")"
   ]
  },
  {
   "cell_type": "code",
   "execution_count": 21,
   "metadata": {},
   "outputs": [
    {
     "name": "stdout",
     "output_type": "stream",
     "text": [
      "elif\n"
     ]
    }
   ],
   "source": [
    "cold = \"pepsi\"\n",
    "if(cold == \"string\"):\n",
    "    print(\"if\")\n",
    "elif(cold == \"pepsi\"):\n",
    "    print(\"elif\")\n",
    "else:\n",
    "    print(\"else\")"
   ]
  },
  {
   "cell_type": "markdown",
   "metadata": {},
   "source": [
    "---"
   ]
  },
  {
   "cell_type": "markdown",
   "metadata": {},
   "source": [
    "### Assignment"
   ]
  },
  {
   "cell_type": "code",
   "execution_count": 22,
   "metadata": {},
   "outputs": [
    {
     "name": "stdout",
     "output_type": "stream",
     "text": [
      "Number 01 = 10\n",
      "Number 02 = 2\n",
      "Operation = /\n",
      "10 / 2 = 5.0\n"
     ]
    }
   ],
   "source": [
    "number1 = int(input(\"Enter 1st number : \"))\n",
    "number2 = int(input(\"Enter 2nd number : \"))\n",
    "print(f\"Number 01 = {number1}\")\n",
    "print(f\"Number 02 = {number2}\")\n",
    "operation = input(\"Enter operation (+, -, *, /) : \")\n",
    "print(f\"Operation = {operation}\")\n",
    "if operation == \"+\":\n",
    "    print(f\"{number1} {operation} {number2} = {number1 + number2}\")\n",
    "elif operation == \"-\":\n",
    "    print(f\"{number1} {operation} {number2} = {number1 - number2}\")\n",
    "elif operation == \"*\":\n",
    "    print(f\"{number1} {operation} {number2} = {number1 * number2}\")\n",
    "elif operation == \"/\":\n",
    "    print(f\"{number1} {operation} {number2} = {number1 / number2}\")\n",
    "else:\n",
    "    print(\"Invalid operation entered\")\n"
   ]
  }
 ],
 "metadata": {
  "interpreter": {
   "hash": "36936de28985cacfc4da12bbbf55d3c1f6084aa27c30ac425efd6e5a861cd2e0"
  },
  "kernelspec": {
   "display_name": "Python 3.10.1 64-bit",
   "language": "python",
   "name": "python3"
  },
  "language_info": {
   "codemirror_mode": {
    "name": "ipython",
    "version": 3
   },
   "file_extension": ".py",
   "mimetype": "text/x-python",
   "name": "python",
   "nbconvert_exporter": "python",
   "pygments_lexer": "ipython3",
   "version": "3.10.1"
  },
  "orig_nbformat": 4
 },
 "nbformat": 4,
 "nbformat_minor": 2
}
