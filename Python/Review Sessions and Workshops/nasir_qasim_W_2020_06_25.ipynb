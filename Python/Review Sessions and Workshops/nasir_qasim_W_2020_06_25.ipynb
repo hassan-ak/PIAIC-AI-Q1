{
 "cells": [
  {
   "cell_type": "markdown",
   "metadata": {},
   "source": [
    "# WorkShop - Nasir Hussain and Muhammad Qasim - 2020/06/25"
   ]
  },
  {
   "cell_type": "code",
   "execution_count": 1,
   "metadata": {},
   "outputs": [],
   "source": [
    "## For Loop"
   ]
  },
  {
   "cell_type": "code",
   "execution_count": 2,
   "metadata": {},
   "outputs": [
    {
     "name": "stdout",
     "output_type": "stream",
     "text": [
      "1 I am for loop\n",
      "2 I am for loop\n",
      "3 I am for loop\n",
      "4 I am for loop\n"
     ]
    }
   ],
   "source": [
    "for a in [1,2,3,4]:\n",
    "    print(a,\"I am for loop\")"
   ]
  },
  {
   "cell_type": "code",
   "execution_count": 3,
   "metadata": {},
   "outputs": [
    {
     "name": "stdout",
     "output_type": "stream",
     "text": [
      "0 I am for loop\n",
      "1 I am for loop\n",
      "2 I am for loop\n",
      "3 I am for loop\n",
      "4 I am for loop\n",
      "5 I am for loop\n",
      "6 I am for loop\n",
      "7 I am for loop\n",
      "8 I am for loop\n",
      "9 I am for loop\n"
     ]
    }
   ],
   "source": [
    "for num in range(10):\n",
    "    print(num,\"I am for loop\")"
   ]
  },
  {
   "cell_type": "code",
   "execution_count": 4,
   "metadata": {},
   "outputs": [
    {
     "name": "stdout",
     "output_type": "stream",
     "text": [
      "0 I am while loop\n",
      "2 I am while loop\n",
      "4 I am while loop\n",
      "6 I am while loop\n",
      "8 I am while loop\n"
     ]
    }
   ],
   "source": [
    "counter = 0\n",
    "while counter < 10:\n",
    "    print(counter,\"I am while loop\")\n",
    "    counter +=2"
   ]
  },
  {
   "cell_type": "code",
   "execution_count": 5,
   "metadata": {},
   "outputs": [
    {
     "name": "stdout",
     "output_type": "stream",
     "text": [
      "13 I am while loop\n",
      "10 I am while loop\n",
      "7 I am while loop\n",
      "4 I am while loop\n",
      "1 I am while loop\n"
     ]
    }
   ],
   "source": [
    "counter = 13\n",
    "while counter > 0:\n",
    "    print(counter,\"I am while loop\")\n",
    "    counter -=3"
   ]
  },
  {
   "cell_type": "code",
   "execution_count": 6,
   "metadata": {},
   "outputs": [
    {
     "name": "stdout",
     "output_type": "stream",
     "text": [
      "Favourite Numbers : [1, 2, 3, 5, 9]\n"
     ]
    }
   ],
   "source": [
    "aList = []\n",
    "for num in range(5):\n",
    "    fav_num = int(input(\"Enter number : \"))\n",
    "    aList.append(fav_num)\n",
    "print(f\"Favourite Numbers : {aList}\")"
   ]
  },
  {
   "cell_type": "code",
   "execution_count": 7,
   "metadata": {},
   "outputs": [
    {
     "name": "stdout",
     "output_type": "stream",
     "text": [
      "Favourite Numbers : [1, 2, 55]\n"
     ]
    }
   ],
   "source": [
    "aList = []\n",
    "for num in range(5):\n",
    "    fav_num = (input(\"Enter number : \"))\n",
    "    if fav_num == \"q\":\n",
    "        break\n",
    "    else:\n",
    "        aList.append(int(fav_num))\n",
    "print(f\"Favourite Numbers : {aList}\")"
   ]
  },
  {
   "cell_type": "code",
   "execution_count": 8,
   "metadata": {},
   "outputs": [
    {
     "name": "stdout",
     "output_type": "stream",
     "text": [
      "Favourite Numbers : [12, 55]\n"
     ]
    }
   ],
   "source": [
    "flag = True\n",
    "aList = []\n",
    "while flag:\n",
    "    fav_num = (input(\"Enter number : \"))\n",
    "    if fav_num == \"q\":\n",
    "        flag = False\n",
    "    else:\n",
    "        aList.append(int(fav_num))\n",
    "print(f\"Favourite Numbers : {aList}\")"
   ]
  },
  {
   "cell_type": "code",
   "execution_count": 9,
   "metadata": {},
   "outputs": [
    {
     "name": "stdout",
     "output_type": "stream",
     "text": [
      "1 x 1 = 1\n",
      "1 x 2 = 2\n",
      "1 x 3 = 3\n",
      "1 x 4 = 4\n",
      "1 x 5 = 5\n",
      "1 x 6 = 6\n",
      "1 x 7 = 7\n",
      "1 x 8 = 8\n",
      "1 x 9 = 9\n",
      "1 x 10 = 10\n",
      "2 x 1 = 2\n",
      "2 x 2 = 4\n",
      "2 x 3 = 6\n",
      "2 x 4 = 8\n",
      "2 x 5 = 10\n",
      "2 x 6 = 12\n",
      "2 x 7 = 14\n",
      "2 x 8 = 16\n",
      "2 x 9 = 18\n",
      "2 x 10 = 20\n",
      "3 x 1 = 3\n",
      "3 x 2 = 6\n",
      "3 x 3 = 9\n",
      "3 x 4 = 12\n",
      "3 x 5 = 15\n",
      "3 x 6 = 18\n",
      "3 x 7 = 21\n",
      "3 x 8 = 24\n",
      "3 x 9 = 27\n",
      "3 x 10 = 30\n",
      "4 x 1 = 4\n",
      "4 x 2 = 8\n",
      "4 x 3 = 12\n",
      "4 x 4 = 16\n",
      "4 x 5 = 20\n",
      "4 x 6 = 24\n",
      "4 x 7 = 28\n",
      "4 x 8 = 32\n",
      "4 x 9 = 36\n",
      "4 x 10 = 40\n"
     ]
    }
   ],
   "source": [
    "counter = 1\n",
    "while counter < 5:\n",
    "    counter1 = 0\n",
    "    while counter1 < 10:\n",
    "        counter1 += 1\n",
    "        print(f\"{counter} x {counter1} = {counter * counter1}\")\n",
    "    counter += 1"
   ]
  },
  {
   "cell_type": "markdown",
   "metadata": {},
   "source": [
    "---"
   ]
  },
  {
   "cell_type": "code",
   "execution_count": 10,
   "metadata": {},
   "outputs": [],
   "source": [
    "class Mobile():\n",
    "    # attributes\n",
    "    manufacturer = \"Samsung\"\n",
    "    model = \"s7\"\n",
    "    memory = \"16 Gb\"\n",
    "    # behaviours\n",
    "    def make_call(self):\n",
    "        pass\n",
    "    def recv_call(self):\n",
    "        pass\n",
    "    def play_vedio(self):\n",
    "        pass\n",
    "    def use_apps(self):\n",
    "        pass"
   ]
  },
  {
   "cell_type": "code",
   "execution_count": 11,
   "metadata": {},
   "outputs": [],
   "source": [
    "mobile1 = Mobile()\n",
    "mobile1.make_call()"
   ]
  },
  {
   "cell_type": "code",
   "execution_count": 12,
   "metadata": {},
   "outputs": [],
   "source": [
    "mobile2 = Mobile()"
   ]
  },
  {
   "cell_type": "markdown",
   "metadata": {},
   "source": [
    "---"
   ]
  },
  {
   "cell_type": "code",
   "execution_count": 13,
   "metadata": {},
   "outputs": [],
   "source": [
    "class Car():\n",
    "    # initializers\n",
    "    def __init__(self,model,registration,manufacturer):\n",
    "        self.model = model\n",
    "        self.registration = registration\n",
    "        self.manufacturer = manufacturer\n",
    "    def run(self):\n",
    "        print(\"Car is running\")\n",
    "    def apply_break(self):\n",
    "        print(\"Breaks applied and car stopped\")\n",
    "    def get_manufacturer(self):\n",
    "        return self.manufacturer\n",
    "    def update_manufacturer(self,manu):\n",
    "        self.manufacturer = manu"
   ]
  },
  {
   "cell_type": "code",
   "execution_count": 14,
   "metadata": {},
   "outputs": [
    {
     "name": "stdout",
     "output_type": "stream",
     "text": [
      "Cultus\n",
      "Civic\n"
     ]
    }
   ],
   "source": [
    "car1 = Car(\"Cultus\",\"2020\",\"Suzuki\")\n",
    "car2 = Car(\"Civic\",\"2019\",\"Honda\")\n",
    "print(car1.model)\n",
    "print(car2.model)\n"
   ]
  },
  {
   "cell_type": "code",
   "execution_count": 15,
   "metadata": {},
   "outputs": [
    {
     "name": "stdout",
     "output_type": "stream",
     "text": [
      "2020\n",
      "2019\n"
     ]
    }
   ],
   "source": [
    "print(car1.registration)\n",
    "print(car2.registration)"
   ]
  },
  {
   "cell_type": "code",
   "execution_count": 16,
   "metadata": {},
   "outputs": [
    {
     "name": "stdout",
     "output_type": "stream",
     "text": [
      "Suzuki\n",
      "Honda\n"
     ]
    }
   ],
   "source": [
    "print(car1.manufacturer)\n",
    "print(car2.manufacturer)"
   ]
  },
  {
   "cell_type": "code",
   "execution_count": 17,
   "metadata": {},
   "outputs": [
    {
     "name": "stdout",
     "output_type": "stream",
     "text": [
      "Car is running\n",
      "Car is running\n"
     ]
    }
   ],
   "source": [
    "car1.run()\n",
    "car2.run()"
   ]
  },
  {
   "cell_type": "code",
   "execution_count": 18,
   "metadata": {},
   "outputs": [
    {
     "name": "stdout",
     "output_type": "stream",
     "text": [
      "Breaks applied and car stopped\n",
      "Breaks applied and car stopped\n"
     ]
    }
   ],
   "source": [
    "car1.apply_break()\n",
    "car2.apply_break()"
   ]
  },
  {
   "cell_type": "markdown",
   "metadata": {},
   "source": [
    "---"
   ]
  },
  {
   "cell_type": "code",
   "execution_count": 19,
   "metadata": {},
   "outputs": [
    {
     "data": {
      "text/plain": [
       "'Suzuki'"
      ]
     },
     "execution_count": 19,
     "metadata": {},
     "output_type": "execute_result"
    }
   ],
   "source": [
    "car1.manufacturer"
   ]
  },
  {
   "cell_type": "code",
   "execution_count": 20,
   "metadata": {},
   "outputs": [
    {
     "data": {
      "text/plain": [
       "'Honda'"
      ]
     },
     "execution_count": 20,
     "metadata": {},
     "output_type": "execute_result"
    }
   ],
   "source": [
    "car1.manufacturer=\"Honda\"\n",
    "car1.manufacturer"
   ]
  },
  {
   "cell_type": "code",
   "execution_count": 21,
   "metadata": {},
   "outputs": [
    {
     "data": {
      "text/plain": [
       "'ZZZ'"
      ]
     },
     "execution_count": 21,
     "metadata": {},
     "output_type": "execute_result"
    }
   ],
   "source": [
    "car1.update_manufacturer(\"ZZZ\")\n",
    "car1.manufacturer"
   ]
  },
  {
   "cell_type": "code",
   "execution_count": 22,
   "metadata": {},
   "outputs": [
    {
     "data": {
      "text/plain": [
       "'ZZZ'"
      ]
     },
     "execution_count": 22,
     "metadata": {},
     "output_type": "execute_result"
    }
   ],
   "source": [
    "car1.get_manufacturer()"
   ]
  }
 ],
 "metadata": {
  "kernelspec": {
   "display_name": "Python 3",
   "language": "python",
   "name": "python3"
  },
  "language_info": {
   "codemirror_mode": {
    "name": "ipython",
    "version": 3
   },
   "file_extension": ".py",
   "mimetype": "text/x-python",
   "name": "python",
   "nbconvert_exporter": "python",
   "pygments_lexer": "ipython3",
   "version": "3.10.1"
  }
 },
 "nbformat": 4,
 "nbformat_minor": 4
}
