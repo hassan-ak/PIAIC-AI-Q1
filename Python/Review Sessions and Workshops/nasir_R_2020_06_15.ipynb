{
  "cells": [
    {
      "cell_type": "markdown",
      "metadata": {
        "id": "28dEXxinfBKg"
      },
      "source": [
        "# Review - Nasir Hussain - 2020/06/15"
      ]
    },
    {
      "cell_type": "code",
      "execution_count": 1,
      "metadata": {},
      "outputs": [
        {
          "name": "stdout",
          "output_type": "stream",
          "text": [
            "Hello World!\n",
            "None\n"
          ]
        }
      ],
      "source": [
        "def my_function():\n",
        "    print(\"Hello World!\")\n",
        "returned_value = my_function()\n",
        "print(returned_value)"
      ]
    },
    {
      "cell_type": "code",
      "execution_count": 2,
      "metadata": {},
      "outputs": [
        {
          "name": "stdout",
          "output_type": "stream",
          "text": [
            "Hello World!\n",
            "Hassan Ali ('Khan', 'Zubair', 'Hafeez')\n",
            "None\n"
          ]
        }
      ],
      "source": [
        "def my_function(a,b,*c):\n",
        "    print(\"Hello World!\")\n",
        "    print(a,b,c)\n",
        "returned_value = my_function(\"Hassan\",\"Ali\",\"Khan\",\"Zubair\",\"Hafeez\")\n",
        "print(returned_value)"
      ]
    },
    {
      "cell_type": "code",
      "execution_count": 3,
      "metadata": {},
      "outputs": [
        {
          "name": "stdout",
          "output_type": "stream",
          "text": [
            "{'first_name': 'Hassan', 'last_name': 'Ali', 'location': 'lahore', 'field': 'AI'}\n"
          ]
        }
      ],
      "source": [
        "def build_profile(first,last,**user_info):\n",
        "    profile = {}\n",
        "    profile['first_name'] = first\n",
        "    profile['last_name'] = last\n",
        "    for key,value in user_info.items():\n",
        "        profile[key] = value\n",
        "    return profile\n",
        "user_profile = build_profile(\"Hassan\",\"Ali\",location=\"lahore\",field=\"AI\")\n",
        "print(user_profile)"
      ]
    },
    {
      "cell_type": "markdown",
      "metadata": {},
      "source": [
        "---"
      ]
    },
    {
      "cell_type": "code",
      "execution_count": 4,
      "metadata": {},
      "outputs": [
        {
          "name": "stdout",
          "output_type": "stream",
          "text": [
            "black\n",
            "2019\n",
            "Honda\n",
            "1000cc\n",
            "Car is running\n",
            "Car is stopped\n",
            "Red\n"
          ]
        },
        {
          "data": {
            "text/plain": [
              "'Car is stopped'"
            ]
          },
          "execution_count": 4,
          "metadata": {},
          "output_type": "execute_result"
        }
      ],
      "source": [
        "# class\n",
        "class Car():\n",
        "    # attributes\n",
        "    def __init__(self,color,model,make,engine):\n",
        "        self.color = color\n",
        "        self.model = model\n",
        "        self.make = make\n",
        "        self.engine = engine\n",
        "    # behaviours\n",
        "    def run(self):\n",
        "        return \"Car is running\"\n",
        "    def stop(self):\n",
        "        return \"Car is stopped\"\n",
        "# Instances\n",
        "car1 = Car(\"black\",\"2019\",\"Honda\",\"1000cc\")\n",
        "print(car1.color)\n",
        "print(car1.model)\n",
        "print(car1.make)\n",
        "print(car1.engine)\n",
        "print(car1.run())\n",
        "print(car1.stop())\n",
        "car1.color = \"Red\"\n",
        "print(car1.color)\n",
        "Car.stop(car1)"
      ]
    }
  ],
  "metadata": {
    "colab": {
      "collapsed_sections": [],
      "name": "inam_R_2020_04_19.ipynb",
      "provenance": []
    },
    "interpreter": {
      "hash": "36936de28985cacfc4da12bbbf55d3c1f6084aa27c30ac425efd6e5a861cd2e0"
    },
    "kernelspec": {
      "display_name": "Python 3.10.1 64-bit",
      "language": "python",
      "name": "python3"
    },
    "language_info": {
      "codemirror_mode": {
        "name": "ipython",
        "version": 3
      },
      "file_extension": ".py",
      "mimetype": "text/x-python",
      "name": "python",
      "nbconvert_exporter": "python",
      "pygments_lexer": "ipython3",
      "version": "3.10.1"
    },
    "orig_nbformat": 4
  },
  "nbformat": 4,
  "nbformat_minor": 0
}
