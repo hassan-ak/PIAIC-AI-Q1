{
  "cells": [
    {
      "cell_type": "markdown",
      "metadata": {
        "id": "28dEXxinfBKg"
      },
      "source": [
        "# WorkShop - Nasir Hussain and Muhammad Qasim - 2020/05/07"
      ]
    },
    {
      "cell_type": "markdown",
      "metadata": {},
      "source": [
        "## Chapter 01 \"Print\""
      ]
    },
    {
      "cell_type": "code",
      "execution_count": 1,
      "metadata": {},
      "outputs": [
        {
          "name": "stdout",
          "output_type": "stream",
          "text": [
            "1\n",
            "Hello\n",
            "Hassan Ali\n",
            "Hassan I_AM_A_SEPRATOR Ali\n",
            "Hassan --- Ali --- 12 --- 3.4 --- False --- [1, 2, 3] --- {1, 2, 3}\n"
          ]
        }
      ],
      "source": [
        "print(1)\n",
        "print(\"Hello\")\n",
        "print(\"Hassan\",\"Ali\")\n",
        "print(\"Hassan\",\"Ali\",sep=\" I_AM_A_SEPRATOR \")\n",
        "print(\"Hassan\",\"Ali\",12,3.4,False,[1,2,3],{1,1,2,2,3}, sep=\" --- \")"
      ]
    },
    {
      "cell_type": "markdown",
      "metadata": {},
      "source": [
        "## Chapter 02 \"Variable for String\""
      ]
    },
    {
      "cell_type": "code",
      "execution_count": 2,
      "metadata": {},
      "outputs": [],
      "source": [
        "# Data Can be\n",
        "    # int\n",
        "    # float\n",
        "    # string\n",
        "    # list\n",
        "    # Bool\n",
        "    # Dict\n",
        "    # Set\n",
        "    # tuple"
      ]
    },
    {
      "cell_type": "code",
      "execution_count": 3,
      "metadata": {},
      "outputs": [
        {
          "name": "stdout",
          "output_type": "stream",
          "text": [
            "100\n",
            "A\n",
            "B\n",
            "<class 'str'>\n",
            "<class 'list'>\n",
            "<class 'bool'>\n"
          ]
        }
      ],
      "source": [
        "total_marks = 100 # int 100 is assigned to total_marks\n",
        "print(total_marks)\n",
        "grade = \"A\" # string A is assigned to grade\n",
        "print(grade)\n",
        "grade = \"B\"\n",
        "print(grade)\n",
        "alist = []\n",
        "print(type(grade))\n",
        "print(type(alist))\n",
        "result = False\n",
        "print((type(result)))"
      ]
    },
    {
      "cell_type": "code",
      "execution_count": 4,
      "metadata": {},
      "outputs": [
        {
          "name": "stdout",
          "output_type": "stream",
          "text": [
            "My rool number is 100 and my course is AI\n",
            "My rool number is 100 and my course is AI\n",
            "My rool number is 100 and my course is AI\n",
            "My rool number is 100 and my course is AI\n",
            "My rool number is 100 and my course is AI\n",
            "My rool number is AI and my course is 100\n"
          ]
        }
      ],
      "source": [
        "roll_number = 100\n",
        "course = \"AI\"\n",
        "print(\"My rool number is 100 and my course is AI\")\n",
        "print(\"My rool number is \"+str(roll_number)+\" and my course is \"+course)\n",
        "print(f\"My rool number is {roll_number} and my course is {course}\")\n",
        "print((\"My rool number is {} and my course is {}\").format(roll_number,course))\n",
        "print((\"My rool number is {0} and my course is {1}\").format(roll_number,course))\n",
        "print((\"My rool number is {1} and my course is {0}\").format(roll_number,course))"
      ]
    },
    {
      "cell_type": "markdown",
      "metadata": {},
      "source": [
        "## Methametical expression"
      ]
    },
    {
      "cell_type": "code",
      "execution_count": 5,
      "metadata": {},
      "outputs": [],
      "source": [
        "# Oprators : +,-,*,/,>,<,>=,<=,!=,%,//,+=,-="
      ]
    },
    {
      "cell_type": "code",
      "execution_count": 6,
      "metadata": {},
      "outputs": [
        {
          "name": "stdout",
          "output_type": "stream",
          "text": [
            "18\n",
            "8\n",
            "65\n",
            "2.6\n",
            "2\n",
            "3\n",
            "False\n",
            "True\n",
            "True\n",
            "False\n",
            "True\n",
            "False\n"
          ]
        }
      ],
      "source": [
        "print(13+5)\n",
        "print(13-5)\n",
        "print(13*5)\n",
        "print(13/5)\n",
        "print(13//5)\n",
        "print(13%5)\n",
        "print(12<5)\n",
        "print(12>5)\n",
        "print(12>=5)\n",
        "print(12<=5)\n",
        "print(12!=5)\n",
        "print(12==5)"
      ]
    },
    {
      "cell_type": "code",
      "execution_count": 7,
      "metadata": {},
      "outputs": [
        {
          "name": "stdout",
          "output_type": "stream",
          "text": [
            "10\n",
            "10\n",
            "11\n",
            "12\n",
            "11\n",
            "22\n",
            "11.0\n"
          ]
        }
      ],
      "source": [
        "count = 10\n",
        "print(count)\n",
        "count + 1 \n",
        "print(count)\n",
        "count = count +1\n",
        "print(count)\n",
        "count += 1\n",
        "print(count)\n",
        "count -= 1\n",
        "print(count)\n",
        "count *= 2\n",
        "print(count)\n",
        "count /= 2\n",
        "print(count)"
      ]
    },
    {
      "cell_type": "code",
      "execution_count": 8,
      "metadata": {},
      "outputs": [
        {
          "name": "stdout",
          "output_type": "stream",
          "text": [
            "86.2\n",
            "10.0\n"
          ]
        }
      ],
      "source": [
        "print(2*3/5+4/4*5*(2+5*3))\n",
        "print(4+4*3//3+10/5)"
      ]
    },
    {
      "cell_type": "markdown",
      "metadata": {},
      "source": [
        "## Variables naming conventions and rules"
      ]
    },
    {
      "cell_type": "code",
      "execution_count": 9,
      "metadata": {},
      "outputs": [],
      "source": [
        "# cant be a Keyword\n",
        "# cant start with a number\n",
        "# cant start with a special chracter\n",
        "# use _ in between words or use camel casing"
      ]
    },
    {
      "cell_type": "markdown",
      "metadata": {},
      "source": [
        "## Conditonal statements"
      ]
    },
    {
      "cell_type": "code",
      "execution_count": 10,
      "metadata": {},
      "outputs": [
        {
          "data": {
            "text/plain": [
              "'\\nif logic:\\n    statement 1\\n    statement 1\\nelse:\\n    statement 3\\n'"
            ]
          },
          "execution_count": 10,
          "metadata": {},
          "output_type": "execute_result"
        }
      ],
      "source": [
        "'''\n",
        "if logic:\n",
        "    statement 1\n",
        "    statement 1\n",
        "else:\n",
        "    statement 3\n",
        "'''"
      ]
    },
    {
      "cell_type": "code",
      "execution_count": 11,
      "metadata": {},
      "outputs": [
        {
          "name": "stdout",
          "output_type": "stream",
          "text": [
            "In-Valid USer\n"
          ]
        }
      ],
      "source": [
        "name = \"Hassan\"\n",
        "if name == \"Ali\":\n",
        "    print(\"Valid USer\")\n",
        "else:\n",
        "    print(\"In-Valid USer\")"
      ]
    },
    {
      "cell_type": "code",
      "execution_count": 12,
      "metadata": {},
      "outputs": [
        {
          "name": "stdout",
          "output_type": "stream",
          "text": [
            "Valid USer\n"
          ]
        }
      ],
      "source": [
        "name = \"Ali\"\n",
        "if name == \"Ali\":\n",
        "    print(\"Valid USer\")\n",
        "else:\n",
        "    print(\"In-Valid USer\")"
      ]
    },
    {
      "cell_type": "code",
      "execution_count": 13,
      "metadata": {},
      "outputs": [
        {
          "name": "stdout",
          "output_type": "stream",
          "text": [
            "A\n",
            "B\n",
            "C\n"
          ]
        }
      ],
      "source": [
        "per = 70\n",
        "if per >= 80:\n",
        "    print(\"A+\")\n",
        "if per >= 70:\n",
        "    print(\"A\")\n",
        "if per >= 60:\n",
        "    print(\"B\")\n",
        "if per >= 50:\n",
        "    print(\"C\")\n",
        "if per < 50:\n",
        "    print(\"Fail\")"
      ]
    },
    {
      "cell_type": "code",
      "execution_count": 14,
      "metadata": {},
      "outputs": [
        {
          "name": "stdout",
          "output_type": "stream",
          "text": [
            "A\n"
          ]
        }
      ],
      "source": [
        "per = 70\n",
        "if per >= 80:\n",
        "    print(\"A+\")\n",
        "elif per >= 70:\n",
        "    print(\"A\")\n",
        "elif per >= 60:\n",
        "    print(\"B\")\n",
        "elif per >= 50:\n",
        "    print(\"C\")\n",
        "else:\n",
        "    print(\"Fail\")"
      ]
    }
  ],
  "metadata": {
    "colab": {
      "collapsed_sections": [],
      "name": "inam_R_2020_04_19.ipynb",
      "provenance": []
    },
    "interpreter": {
      "hash": "36936de28985cacfc4da12bbbf55d3c1f6084aa27c30ac425efd6e5a861cd2e0"
    },
    "kernelspec": {
      "display_name": "Python 3.10.1 64-bit",
      "language": "python",
      "name": "python3"
    },
    "language_info": {
      "codemirror_mode": {
        "name": "ipython",
        "version": 3
      },
      "file_extension": ".py",
      "mimetype": "text/x-python",
      "name": "python",
      "nbconvert_exporter": "python",
      "pygments_lexer": "ipython3",
      "version": "3.10.1"
    },
    "orig_nbformat": 4
  },
  "nbformat": 4,
  "nbformat_minor": 0
}
