{
  "cells": [
    {
      "cell_type": "markdown",
      "metadata": {
        "id": "lxUBhGCklpLL"
      },
      "source": [
        "# Review - Anees Ahmad - 2020/07/18"
      ]
    },
    {
      "cell_type": "code",
      "execution_count": 1,
      "metadata": {},
      "outputs": [],
      "source": [
        "def max_value(x1,x2):\n",
        "    if x1 < x2:\n",
        "        return x2\n",
        "    else:\n",
        "        return x1"
      ]
    },
    {
      "cell_type": "code",
      "execution_count": 2,
      "metadata": {},
      "outputs": [
        {
          "name": "stdout",
          "output_type": "stream",
          "text": [
            "2\n",
            "5.2\n",
            "Hassan\n",
            "3.0\n"
          ]
        }
      ],
      "source": [
        "print(max_value(2,2))\n",
        "print(max_value(3.1,5.2))\n",
        "print(max_value(\"Hassan\",\"Ali\"))\n",
        "print(max_value(3.0,3))"
      ]
    },
    {
      "cell_type": "markdown",
      "metadata": {},
      "source": [
        "---"
      ]
    },
    {
      "cell_type": "code",
      "execution_count": 3,
      "metadata": {},
      "outputs": [
        {
          "name": "stdout",
          "output_type": "stream",
          "text": [
            "[70, 85, 69, 78, 60, 55, 90, 95, 87, 76, 64, 82, 71]\n"
          ]
        }
      ],
      "source": [
        "marks = [70,   85 ,    69,    78,  60,     55, 90,    95,   87,   76,  64,    82,  71]\n",
        "print(marks)"
      ]
    },
    {
      "cell_type": "code",
      "execution_count": 4,
      "metadata": {},
      "outputs": [
        {
          "name": "stdout",
          "output_type": "stream",
          "text": [
            "\n",
            "    Sorted List => [55, 60, 64, 69, 70, 71, 76, 78, 82, 85, 87, 90, 95]\n",
            "    Smallest Value => 55\n",
            "    Largest Value => 95\n",
            "    \n"
          ]
        }
      ],
      "source": [
        "def maxmin(lst):\n",
        "    lst.sort()\n",
        "    return f\"\"\"\n",
        "    Sorted List => {lst}\n",
        "    Smallest Value => {lst[0]}\n",
        "    Largest Value => {lst[-1]}\n",
        "    \"\"\"\n",
        "    \n",
        "print(maxmin(marks))"
      ]
    },
    {
      "cell_type": "code",
      "execution_count": 5,
      "metadata": {},
      "outputs": [
        {
          "name": "stdout",
          "output_type": "stream",
          "text": [
            "Sorted List => {lst}\n",
            "Length of list => 13\n",
            "Middle Value => 76\n"
          ]
        }
      ],
      "source": [
        "def middleValue(lst):\n",
        "    lst.sort()\n",
        "    print(\"Sorted List => {lst}\")\n",
        "    lngth = len(lst)\n",
        "    print(\"Length of list => \" + str(lngth))\n",
        "    middle = 0\n",
        "    middle = lngth // 2 # this is integer division (returns without decimal)\n",
        "    value = lst[middle  ]\n",
        "    if len(lst) % 2 == 0: # even\n",
        "        value2 = lst[middle -1]\n",
        "        value = (value + value2) /2\n",
        "    return value\n",
        "print(f\"Middle Value => {middleValue(marks)}\")"
      ]
    }
  ],
  "metadata": {
    "colab": {
      "name": "anees_R_2020_07_04.ipynb",
      "provenance": []
    },
    "interpreter": {
      "hash": "36936de28985cacfc4da12bbbf55d3c1f6084aa27c30ac425efd6e5a861cd2e0"
    },
    "kernelspec": {
      "display_name": "Python 3.10.1 64-bit",
      "language": "python",
      "name": "python3"
    },
    "language_info": {
      "codemirror_mode": {
        "name": "ipython",
        "version": 3
      },
      "file_extension": ".py",
      "mimetype": "text/x-python",
      "name": "python",
      "nbconvert_exporter": "python",
      "pygments_lexer": "ipython3",
      "version": "3.10.1"
    },
    "orig_nbformat": 4
  },
  "nbformat": 4,
  "nbformat_minor": 0
}
