{
  "cells": [
    {
      "cell_type": "markdown",
      "metadata": {
        "id": "28dEXxinfBKg"
      },
      "source": [
        "# Review - Nasir Hussain - 2020/06/08"
      ]
    },
    {
      "cell_type": "code",
      "execution_count": 1,
      "metadata": {},
      "outputs": [
        {
          "name": "stdout",
          "output_type": "stream",
          "text": [
            "Before Result\n",
            "300\n"
          ]
        }
      ],
      "source": [
        "# Parameter less function\n",
        "def sum_of():\n",
        "    a = 100\n",
        "    b = 200\n",
        "    c = a+b\n",
        "    print(\"Before Result\")\n",
        "    return c\n",
        "    print(\"After Result\")\n",
        "result = sum_of()\n",
        "print(result)"
      ]
    },
    {
      "cell_type": "code",
      "execution_count": 2,
      "metadata": {},
      "outputs": [
        {
          "name": "stdout",
          "output_type": "stream",
          "text": [
            "300\n",
            "30000\n"
          ]
        }
      ],
      "source": [
        "# Parameterize function\n",
        "def sum_of_2(a,b):\n",
        "    c = a+b     # c is local variable cant be accessed outside the function\n",
        "    global d    # d is a global variable\n",
        "    d = c *100\n",
        "    return c\n",
        "# Argument or positional arguments\n",
        "result = sum_of_2(100,200)\n",
        "print(result)\n",
        "print(d)"
      ]
    },
    {
      "cell_type": "code",
      "execution_count": 3,
      "metadata": {},
      "outputs": [
        {
          "data": {
            "text/plain": [
              "'Hassan Ali Khan'"
            ]
          },
          "execution_count": 3,
          "metadata": {},
          "output_type": "execute_result"
        }
      ],
      "source": [
        "def fullName (first_name,middle_name,last_name):\n",
        "    fullName = f\"{first_name} {middle_name} {last_name}\"\n",
        "    return fullName\n",
        "fullName(\"Hassan\",\"Ali\",\"Khan\")"
      ]
    },
    {
      "cell_type": "code",
      "execution_count": 4,
      "metadata": {},
      "outputs": [
        {
          "data": {
            "text/plain": [
              "'Zubair  '"
            ]
          },
          "execution_count": 4,
          "metadata": {},
          "output_type": "execute_result"
        }
      ],
      "source": [
        "def fullName (first_name=\"\",middle_name=\"\",last_name=\"\"):\n",
        "    fullName = f\"{first_name} {middle_name} {last_name}\"\n",
        "    return fullName\n",
        "fullName(\"Zubair\")"
      ]
    },
    {
      "cell_type": "code",
      "execution_count": 5,
      "metadata": {},
      "outputs": [
        {
          "data": {
            "text/plain": [
              "'Zubair  Hafeez'"
            ]
          },
          "execution_count": 5,
          "metadata": {},
          "output_type": "execute_result"
        }
      ],
      "source": [
        "fullName(last_name=\"Hafeez\",first_name=\"Zubair\")"
      ]
    },
    {
      "cell_type": "code",
      "execution_count": 6,
      "metadata": {},
      "outputs": [
        {
          "data": {
            "text/plain": [
              "'Zubair  Hafeez'"
            ]
          },
          "execution_count": 6,
          "metadata": {},
          "output_type": "execute_result"
        }
      ],
      "source": [
        "fullName(\"Zubair\",last_name=\"Hafeez\")"
      ]
    },
    {
      "cell_type": "code",
      "execution_count": 7,
      "metadata": {},
      "outputs": [
        {
          "name": "stdout",
          "output_type": "stream",
          "text": [
            "('Ali', 'Khan')\n"
          ]
        },
        {
          "data": {
            "text/plain": [
              "'Zubair Haffez Hassan'"
            ]
          },
          "execution_count": 7,
          "metadata": {},
          "output_type": "execute_result"
        }
      ],
      "source": [
        "def fullName (first_name=\"\",middle_name=\"\",last_name=\"\", *others):\n",
        "    fullName = f\"{first_name} {middle_name} {last_name}\"\n",
        "    print(others)\n",
        "    return fullName\n",
        "fullName(\"Zubair\",\"Haffez\",\"Hassan\", \"Ali\", \"Khan\")"
      ]
    },
    {
      "cell_type": "code",
      "execution_count": 8,
      "metadata": {},
      "outputs": [
        {
          "name": "stdout",
          "output_type": "stream",
          "text": [
            "['Hassan', 'Ali', 'Khan']\n",
            "Hello, Hassan!\n",
            "Hello, Ali!\n",
            "Hello, Khan!\n"
          ]
        }
      ],
      "source": [
        "def greet_users(names):\n",
        "    print(names)\n",
        "    for name in names:\n",
        "        msg = \"Hello, \" + name.title() + \"!\"\n",
        "        print(msg)\n",
        "greet_users([\"Hassan\",\"Ali\",\"Khan\"])    "
      ]
    },
    {
      "cell_type": "code",
      "execution_count": 9,
      "metadata": {},
      "outputs": [
        {
          "name": "stdout",
          "output_type": "stream",
          "text": [
            "{'first_name': 'Hassan', 'last_name': 'Ali', 'location': 'Lahore', 'Field': 'AI'}\n"
          ]
        }
      ],
      "source": [
        "def build_profile(first,last,user_info):\n",
        "    \"\"\"\"Build a dictionary containing everthing we know about a user.\"\"\"\n",
        "    profile = {}\n",
        "    profile[\"first_name\"] = first\n",
        "    profile[\"last_name\"] = last\n",
        "    for key,value in user_info.items():\n",
        "        profile[key] = value\n",
        "    return profile\n",
        "user_profile = build_profile('Hassan',\"Ali\",{\"location\":\"Lahore\",\"Field\":\"AI\"})\n",
        "print(user_profile)"
      ]
    }
  ],
  "metadata": {
    "colab": {
      "collapsed_sections": [],
      "name": "inam_R_2020_04_19.ipynb",
      "provenance": []
    },
    "interpreter": {
      "hash": "36936de28985cacfc4da12bbbf55d3c1f6084aa27c30ac425efd6e5a861cd2e0"
    },
    "kernelspec": {
      "display_name": "Python 3.10.1 64-bit",
      "language": "python",
      "name": "python3"
    },
    "language_info": {
      "codemirror_mode": {
        "name": "ipython",
        "version": 3
      },
      "file_extension": ".py",
      "mimetype": "text/x-python",
      "name": "python",
      "nbconvert_exporter": "python",
      "pygments_lexer": "ipython3",
      "version": "3.10.1"
    },
    "orig_nbformat": 4
  },
  "nbformat": 4,
  "nbformat_minor": 0
}
