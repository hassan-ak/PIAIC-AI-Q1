{
 "cells": [
  {
   "cell_type": "markdown",
   "metadata": {},
   "source": [
    "# WorkShop - Inam UL Haq - 2020/07/14"
   ]
  },
  {
   "cell_type": "code",
   "execution_count": 1,
   "metadata": {},
   "outputs": [
    {
     "name": "stdout",
     "output_type": "stream",
     "text": [
      "Kindly sit in right column and front row\n"
     ]
    }
   ],
   "source": [
    "gender = input(\"Please specify gender : \")\n",
    "age = int(input(\"What is your age : \"))\n",
    "if gender.lower() == \"female\" and age < 16:\n",
    "    print(\"Kindly sit in left column and upper row\")\n",
    "elif gender.lower() == \"female\" and age >= 16:\n",
    "    print(\"Kindly sit in left column and front row\")\n",
    "elif gender.lower() == \"male\" and age < 16:\n",
    "    print(\"Kindly sit in right column and upper row\")\n",
    "elif gender.lower() == \"male\" and age >= 16:\n",
    "    print(\"Kindly sit in right column and front row\")"
   ]
  },
  {
   "cell_type": "code",
   "execution_count": 2,
   "metadata": {},
   "outputs": [
    {
     "name": "stdout",
     "output_type": "stream",
     "text": [
      "Kindly sit in left column and upper row\n"
     ]
    }
   ],
   "source": [
    "gender = input(\"Please specify gender : \")\n",
    "age = int(input(\"What is your age : \"))\n",
    "if gender.lower() == \"female\":\n",
    "    if age < 16:\n",
    "        print(\"Kindly sit in left column and upper row\")\n",
    "    else:\n",
    "        print(\"Kindly sit in left column and front row\")\n",
    "elif gender.lower() == \"male\":\n",
    "    if age < 16:\n",
    "        print(\"Kindly sit in right column and upper row\")\n",
    "    else:\n",
    "        print(\"Kindly sit in right column and front row\")"
   ]
  },
  {
   "cell_type": "code",
   "execution_count": 3,
   "metadata": {},
   "outputs": [
    {
     "name": "stdout",
     "output_type": "stream",
     "text": [
      "Kindly sit in right column and front row\n"
     ]
    }
   ],
   "source": [
    "gender = input(\"Please specify gender : \")\n",
    "age = int(input(\"What is your age : \"))\n",
    "if gender.lower() == \"female\":\n",
    "    if age < 16:\n",
    "        print(\"Kindly sit in left column and upper row\")\n",
    "    else:\n",
    "        print(\"Kindly sit in left column and front row\")\n",
    "else:\n",
    "    if age < 16:\n",
    "        print(\"Kindly sit in right column and upper row\")\n",
    "    else:\n",
    "        print(\"Kindly sit in right column and front row\")"
   ]
  },
  {
   "cell_type": "markdown",
   "metadata": {},
   "source": [
    "---"
   ]
  },
  {
   "cell_type": "code",
   "execution_count": 4,
   "metadata": {},
   "outputs": [
    {
     "name": "stdout",
     "output_type": "stream",
     "text": [
      "1=>  []\n",
      "2=>  [43]\n",
      "3=>  [43, 17]\n",
      "4=>  [43, 17, 15]\n"
     ]
    }
   ],
   "source": [
    "age = []\n",
    "print(\"1=> \",age)\n",
    "age.append(43)\n",
    "print(\"2=> \",age)\n",
    "age.append(17)\n",
    "print(\"3=> \",age)\n",
    "age.append(15)\n",
    "print(\"4=> \",age)"
   ]
  },
  {
   "cell_type": "code",
   "execution_count": 5,
   "metadata": {},
   "outputs": [
    {
     "name": "stdout",
     "output_type": "stream",
     "text": [
      "[43, 17, 15, 'Pakistan', True, 'Ali']\n",
      "43\n",
      "56\n",
      "Pakistan\n",
      "Country\n"
     ]
    }
   ],
   "source": [
    "ages = [43,17,15,\"Pakistan\",True,\"Ali\"]\n",
    "print(ages)\n",
    "print(ages[0])\n",
    "ages[0]= 56\n",
    "print(ages[0])\n",
    "print(ages[3])\n",
    "ages[3]= \"Country\"\n",
    "print(ages[3])\n"
   ]
  },
  {
   "cell_type": "markdown",
   "metadata": {},
   "source": [
    "---"
   ]
  },
  {
   "cell_type": "code",
   "execution_count": 6,
   "metadata": {},
   "outputs": [
    {
     "name": "stdout",
     "output_type": "stream",
     "text": [
      "mom\n",
      "1=> ['mom', 'dad', 'cat']\n",
      "2=> ['mom', 'son', 'dad', 'cat']\n",
      "3=> ['mom', 'son', 'cat']\n",
      "4=> ['son', 'cat']\n"
     ]
    }
   ],
   "source": [
    "aList = [\"mom\",\"dad\",\"cat\"]\n",
    "print(aList[0])\n",
    "print(\"1=>\",aList)\n",
    "aList.insert(1,\"son\")\n",
    "print(\"2=>\",aList)\n",
    "del aList[2]\n",
    "print(\"3=>\",aList)\n",
    "aList.remove(\"mom\")\n",
    "print(\"4=>\",aList)"
   ]
  },
  {
   "cell_type": "code",
   "execution_count": 7,
   "metadata": {},
   "outputs": [
    {
     "name": "stdout",
     "output_type": "stream",
     "text": [
      "First and last letter same\n"
     ]
    }
   ],
   "source": [
    "aString = \"mom\"\n",
    "if aString[0] == aString[-1]:\n",
    "    print(\"First and last letter same\")\n",
    "else:\n",
    "    print(\"Not same\")"
   ]
  },
  {
   "cell_type": "markdown",
   "metadata": {},
   "source": [
    "---"
   ]
  },
  {
   "cell_type": "code",
   "execution_count": 8,
   "metadata": {},
   "outputs": [
    {
     "name": "stdout",
     "output_type": "stream",
     "text": [
      "10\n",
      "20\n",
      "30\n",
      "40\n"
     ]
    }
   ],
   "source": [
    "ages = [10,20,30,40]\n",
    "for i in ages:\n",
    "    print(i)"
   ]
  },
  {
   "cell_type": "code",
   "execution_count": 9,
   "metadata": {},
   "outputs": [
    {
     "name": "stdout",
     "output_type": "stream",
     "text": [
      "[0, 1, 2, 3, 4, 5, 6, 7, 8, 9]\n",
      "[1, 2, 3, 4, 5, 6, 7, 8, 9]\n"
     ]
    }
   ],
   "source": [
    "print(list(range(10)))\n",
    "print(list(range(1,10)))"
   ]
  },
  {
   "cell_type": "code",
   "execution_count": 10,
   "metadata": {},
   "outputs": [
    {
     "name": "stdout",
     "output_type": "stream",
     "text": [
      "2 x 1 = 2\n",
      "2 x 2 = 4\n",
      "2 x 3 = 6\n",
      "2 x 4 = 8\n",
      "2 x 5 = 10\n",
      "2 x 6 = 12\n",
      "2 x 7 = 14\n",
      "2 x 8 = 16\n",
      "2 x 9 = 18\n",
      "2 x 10 = 20\n"
     ]
    }
   ],
   "source": [
    "num = 2\n",
    "for multiplier in range(1,11):\n",
    "    print(f\"{num} x {multiplier} = {num*multiplier}\")"
   ]
  },
  {
   "cell_type": "code",
   "execution_count": 11,
   "metadata": {},
   "outputs": [
    {
     "name": "stdout",
     "output_type": "stream",
     "text": [
      "2 x 1 = 2\n",
      "2 x 2 = 4\n",
      "2 x 3 = 6\n",
      "2 x 4 = 8\n",
      "2 x 5 = 10\n",
      "2 x 6 = 12\n",
      "2 x 7 = 14\n",
      "2 x 8 = 16\n",
      "2 x 9 = 18\n",
      "2 x 10 = 20\n"
     ]
    }
   ],
   "source": [
    "num = int(input(\"Enter a number : \"))\n",
    "for multiplier in range(1,11):\n",
    "    print(f\"{num} x {multiplier} = {num*multiplier}\")"
   ]
  }
 ],
 "metadata": {
  "interpreter": {
   "hash": "36936de28985cacfc4da12bbbf55d3c1f6084aa27c30ac425efd6e5a861cd2e0"
  },
  "kernelspec": {
   "display_name": "Python 3.10.1 64-bit",
   "language": "python",
   "name": "python3"
  },
  "language_info": {
   "codemirror_mode": {
    "name": "ipython",
    "version": 3
   },
   "file_extension": ".py",
   "mimetype": "text/x-python",
   "name": "python",
   "nbconvert_exporter": "python",
   "pygments_lexer": "ipython3",
   "version": "3.10.1"
  },
  "orig_nbformat": 4
 },
 "nbformat": 4,
 "nbformat_minor": 2
}
