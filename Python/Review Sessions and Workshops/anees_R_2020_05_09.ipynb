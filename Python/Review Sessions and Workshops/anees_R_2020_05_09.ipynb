{
 "cells": [
  {
   "cell_type": "markdown",
   "metadata": {},
   "source": [
    "# Review - Anees Ahmad - 2020/05/09"
   ]
  },
  {
   "cell_type": "markdown",
   "metadata": {},
   "source": [
    "Suppose you are going to develop a software that takes input a text (string) and convert text into a list. Then each element of the text into lower case. After that it removes duplicates and then it stores text in another list with input number and the list"
   ]
  },
  {
   "cell_type": "markdown",
   "metadata": {},
   "source": [
    "# Method 01"
   ]
  },
  {
   "cell_type": "code",
   "execution_count": 1,
   "metadata": {},
   "outputs": [
    {
     "data": {
      "text/plain": [
       "'\"He scolded himself for being so tentative. He knew he shouldn\\'t be so cautious, but there was a sixth sense telling him that things weren\\'t exactly as they appeared. It was that weird chill that rolls up your neck and makes the hair stand on end. He knew that being so tentative could end up costing him the job, but he learned that listening to his sixth sense usually kept him from getting into a lot of trouble.\"'"
      ]
     },
     "execution_count": 1,
     "metadata": {},
     "output_type": "execute_result"
    }
   ],
   "source": [
    "user_input = input(\"Enter some text : \")\n",
    "user_input"
   ]
  },
  {
   "cell_type": "code",
   "execution_count": 2,
   "metadata": {},
   "outputs": [
    {
     "name": "stdout",
     "output_type": "stream",
     "text": [
      "['\"he', 'scolded', 'himself', 'for', 'being', 'so', 'tentative', 'he', 'knew', 'he', \"shouldn't\", 'be', 'so', 'cautious,', 'but', 'there', 'was', 'a', 'sixth', 'sense', 'telling', 'him', 'that', 'things', \"weren't\", 'exactly', 'as', 'they', 'appeared', 'it', 'was', 'that', 'weird', 'chill', 'that', 'rolls', 'up', 'your', 'neck', 'and', 'makes', 'the', 'hair', 'stand', 'on', 'end', 'he', 'knew', 'that', 'being', 'so', 'tentative', 'could', 'end', 'up', 'costing', 'him', 'the', 'job,', 'but', 'he', 'learned', 'that', 'listening', 'to', 'his', 'sixth', 'sense', 'usually', 'kept', 'him', 'from', 'getting', 'into', 'a', 'lot', 'of', 'trouble']\n"
     ]
    }
   ],
   "source": [
    "aList_of_words = []\n",
    "for word in user_input.split(\" \"):\n",
    "    aList_of_words.append((word.lower()).split(\".\")[0])\n",
    "print(aList_of_words)"
   ]
  },
  {
   "cell_type": "code",
   "execution_count": 3,
   "metadata": {},
   "outputs": [
    {
     "name": "stdout",
     "output_type": "stream",
     "text": [
      "['\"he', 'scolded', 'himself', 'for', 'being', 'so', 'tentative', 'he', 'knew', \"shouldn't\", 'be', 'cautious,', 'but', 'there', 'was', 'a', 'sixth', 'sense', 'telling', 'him', 'that', 'things', \"weren't\", 'exactly', 'as', 'they', 'appeared', 'it', 'weird', 'chill', 'rolls', 'up', 'your', 'neck', 'and', 'makes', 'the', 'hair', 'stand', 'on', 'end', 'could', 'costing', 'job,', 'learned', 'listening', 'to', 'his', 'usually', 'kept', 'from', 'getting', 'into', 'lot', 'of', 'trouble']\n"
     ]
    }
   ],
   "source": [
    "aList_of_unique_words = []\n",
    "for word in aList_of_words:\n",
    "    if word not in aList_of_unique_words:\n",
    "        aList_of_unique_words.append(word)\n",
    "print(aList_of_unique_words)"
   ]
  },
  {
   "cell_type": "code",
   "execution_count": 4,
   "metadata": {},
   "outputs": [
    {
     "name": "stdout",
     "output_type": "stream",
     "text": [
      "[{1: ['\"', 'h', 'e']}, {2: ['s', 'c', 'o', 'l', 'd', 'e', 'd']}, {3: ['h', 'i', 'm', 's', 'e', 'l', 'f']}, {4: ['f', 'o', 'r']}, {5: ['b', 'e', 'i', 'n', 'g']}, {6: ['s', 'o']}, {7: ['t', 'e', 'n', 't', 'a', 't', 'i', 'v', 'e']}, {8: ['h', 'e']}, {9: ['k', 'n', 'e', 'w']}, {10: ['s', 'h', 'o', 'u', 'l', 'd', 'n', \"'\", 't']}, {11: ['b', 'e']}, {12: ['c', 'a', 'u', 't', 'i', 'o', 'u', 's', ',']}, {13: ['b', 'u', 't']}, {14: ['t', 'h', 'e', 'r', 'e']}, {15: ['w', 'a', 's']}, {16: ['a']}, {17: ['s', 'i', 'x', 't', 'h']}, {18: ['s', 'e', 'n', 's', 'e']}, {19: ['t', 'e', 'l', 'l', 'i', 'n', 'g']}, {20: ['h', 'i', 'm']}, {21: ['t', 'h', 'a', 't']}, {22: ['t', 'h', 'i', 'n', 'g', 's']}, {23: ['w', 'e', 'r', 'e', 'n', \"'\", 't']}, {24: ['e', 'x', 'a', 'c', 't', 'l', 'y']}, {25: ['a', 's']}, {26: ['t', 'h', 'e', 'y']}, {27: ['a', 'p', 'p', 'e', 'a', 'r', 'e', 'd']}, {28: ['i', 't']}, {29: ['w', 'e', 'i', 'r', 'd']}, {30: ['c', 'h', 'i', 'l', 'l']}, {31: ['r', 'o', 'l', 'l', 's']}, {32: ['u', 'p']}, {33: ['y', 'o', 'u', 'r']}, {34: ['n', 'e', 'c', 'k']}, {35: ['a', 'n', 'd']}, {36: ['m', 'a', 'k', 'e', 's']}, {37: ['t', 'h', 'e']}, {38: ['h', 'a', 'i', 'r']}, {39: ['s', 't', 'a', 'n', 'd']}, {40: ['o', 'n']}, {41: ['e', 'n', 'd']}, {42: ['c', 'o', 'u', 'l', 'd']}, {43: ['c', 'o', 's', 't', 'i', 'n', 'g']}, {44: ['j', 'o', 'b', ',']}, {45: ['l', 'e', 'a', 'r', 'n', 'e', 'd']}, {46: ['l', 'i', 's', 't', 'e', 'n', 'i', 'n', 'g']}, {47: ['t', 'o']}, {48: ['h', 'i', 's']}, {49: ['u', 's', 'u', 'a', 'l', 'l', 'y']}, {50: ['k', 'e', 'p', 't']}, {51: ['f', 'r', 'o', 'm']}, {52: ['g', 'e', 't', 't', 'i', 'n', 'g']}, {53: ['i', 'n', 't', 'o']}, {54: ['l', 'o', 't']}, {55: ['o', 'f']}, {56: ['t', 'r', 'o', 'u', 'b', 'l', 'e']}]\n"
     ]
    }
   ],
   "source": [
    "aList_for_result = []\n",
    "count = 1\n",
    "for word in aList_of_unique_words:\n",
    "    aList_of_char = []\n",
    "    aDict_of_char = {}\n",
    "    for char in word:\n",
    "        aList_of_char.append(char)\n",
    "    aDict_of_char[count] = aList_of_char\n",
    "    count += 1\n",
    "    aList_for_result.append(aDict_of_char)\n",
    "print(aList_for_result)"
   ]
  }
 ],
 "metadata": {
  "interpreter": {
   "hash": "36936de28985cacfc4da12bbbf55d3c1f6084aa27c30ac425efd6e5a861cd2e0"
  },
  "kernelspec": {
   "display_name": "Python 3.10.1 64-bit",
   "language": "python",
   "name": "python3"
  },
  "language_info": {
   "codemirror_mode": {
    "name": "ipython",
    "version": 3
   },
   "file_extension": ".py",
   "mimetype": "text/x-python",
   "name": "python",
   "nbconvert_exporter": "python",
   "pygments_lexer": "ipython3",
   "version": "3.10.1"
  },
  "orig_nbformat": 4
 },
 "nbformat": 4,
 "nbformat_minor": 2
}
