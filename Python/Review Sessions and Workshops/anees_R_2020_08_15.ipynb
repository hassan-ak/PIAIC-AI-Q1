{
  "cells": [
    {
      "cell_type": "markdown",
      "metadata": {
        "id": "lxUBhGCklpLL"
      },
      "source": [
        "# Review - Anees Ahmad - 2020/08/15"
      ]
    },
    {
      "cell_type": "code",
      "execution_count": 1,
      "metadata": {},
      "outputs": [
        {
          "name": "stdout",
          "output_type": "stream",
          "text": [
            "As defined above, deep learning is the process of applying deep neural network technologies to solve problems. Deep neural networks are neural networks with one hidden layer minimum (see below). Like data mining, deep learning refers to a process, which employs deep neural network architectures, which are particular types of machine learning algorithms.\n"
          ]
        }
      ],
      "source": [
        "txt  =\"As defined above, deep learning is the process of applying deep neural network technologies to solve problems. Deep neural networks are neural networks with one hidden layer minimum (see below). Like data mining, deep learning refers to a process, which employs deep neural network architectures, which are particular types of machine learning algorithms.\"\n",
        "print(txt)"
      ]
    },
    {
      "cell_type": "code",
      "execution_count": 2,
      "metadata": {},
      "outputs": [],
      "source": [
        "aList = []\n",
        "for i in txt:\n",
        "    aList.append(i.lower())\n",
        "aTuple = set(aList)"
      ]
    },
    {
      "cell_type": "code",
      "execution_count": 3,
      "metadata": {},
      "outputs": [],
      "source": [
        "aDicConst = {}\n",
        "aDicVow = {}\n",
        "for i in aTuple:\n",
        "    if i.isalpha():\n",
        "        if i in [\"a\",\"e\",\"i\",\"o\",\"u\"]:\n",
        "            aDicVow[i]=aList.count(i)\n",
        "        else:\n",
        "            aDicConst[i]=aList.count(i)\n",
        "    else:\n",
        "        pass"
      ]
    },
    {
      "cell_type": "code",
      "execution_count": 4,
      "metadata": {},
      "outputs": [],
      "source": [
        "vowlCount = 0\n",
        "vowel = \"\"\n",
        "cosntCount = 0\n",
        "constant = \"\"\n",
        "for k,v in aDicVow.items():\n",
        "    if v >= vowlCount:\n",
        "        vowlCount = v\n",
        "        vowel = k\n",
        "for k,v in aDicConst.items():\n",
        "    if v >= cosntCount:\n",
        "        cosntCount = v\n",
        "        constant = k"
      ]
    },
    {
      "cell_type": "code",
      "execution_count": 5,
      "metadata": {},
      "outputs": [
        {
          "name": "stdout",
          "output_type": "stream",
          "text": [
            "e  ==>  47\n",
            "r  ==>  24\n"
          ]
        }
      ],
      "source": [
        "print(vowel,\" ==> \",vowlCount)\n",
        "print(constant,\" ==> \",cosntCount)"
      ]
    }
  ],
  "metadata": {
    "colab": {
      "name": "anees_R_2020_07_04.ipynb",
      "provenance": []
    },
    "interpreter": {
      "hash": "36936de28985cacfc4da12bbbf55d3c1f6084aa27c30ac425efd6e5a861cd2e0"
    },
    "kernelspec": {
      "display_name": "Python 3.10.1 64-bit",
      "language": "python",
      "name": "python3"
    },
    "language_info": {
      "codemirror_mode": {
        "name": "ipython",
        "version": 3
      },
      "file_extension": ".py",
      "mimetype": "text/x-python",
      "name": "python",
      "nbconvert_exporter": "python",
      "pygments_lexer": "ipython3",
      "version": "3.10.1"
    },
    "orig_nbformat": 4
  },
  "nbformat": 4,
  "nbformat_minor": 0
}
