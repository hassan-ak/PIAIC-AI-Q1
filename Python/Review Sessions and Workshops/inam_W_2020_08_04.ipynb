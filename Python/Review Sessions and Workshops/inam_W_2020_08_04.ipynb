{
 "cells": [
  {
   "cell_type": "markdown",
   "metadata": {},
   "source": [
    "# WorkShop - Inam UL Haq - 2020/08/04"
   ]
  },
  {
   "cell_type": "code",
   "execution_count": 1,
   "metadata": {},
   "outputs": [
    {
     "name": "stdout",
     "output_type": "stream",
     "text": [
      "Pakistan\n",
      "Pakistan\n",
      "Pakistan\n",
      "Pakistan\n",
      "Pakistan\n",
      "Pakistan\n"
     ]
    }
   ],
   "source": [
    "print(\"Pakistan\")\n",
    "print(\"Pakistan\")\n",
    "print(\"Pakistan\")\n",
    "print(\"Pakistan\")\n",
    "print(\"Pakistan\")\n",
    "print(\"Pakistan\")"
   ]
  },
  {
   "cell_type": "code",
   "execution_count": 2,
   "metadata": {},
   "outputs": [],
   "source": [
    "def country(name):\n",
    "    print(\"=== Start ===\")\n",
    "    print(name)\n",
    "    print(name)\n",
    "    print(name)\n",
    "    print(name)\n",
    "    print(name)\n",
    "    print(name)\n",
    "    print(\"=== End ===\")"
   ]
  },
  {
   "cell_type": "code",
   "execution_count": 3,
   "metadata": {},
   "outputs": [
    {
     "name": "stdout",
     "output_type": "stream",
     "text": [
      "=== Start ===\n",
      "Pakistan\n",
      "Pakistan\n",
      "Pakistan\n",
      "Pakistan\n",
      "Pakistan\n",
      "Pakistan\n",
      "=== End ===\n"
     ]
    }
   ],
   "source": [
    "country(\"Pakistan\")"
   ]
  },
  {
   "cell_type": "code",
   "execution_count": 4,
   "metadata": {},
   "outputs": [
    {
     "name": "stdout",
     "output_type": "stream",
     "text": [
      "=== Start ===\n",
      "USA\n",
      "USA\n",
      "USA\n",
      "USA\n",
      "USA\n",
      "USA\n",
      "=== End ===\n"
     ]
    }
   ],
   "source": [
    "country(\"USA\")"
   ]
  },
  {
   "cell_type": "code",
   "execution_count": 5,
   "metadata": {},
   "outputs": [
    {
     "name": "stdout",
     "output_type": "stream",
     "text": [
      "=== Start ===\n",
      "UK\n",
      "UK\n",
      "UK\n",
      "UK\n",
      "UK\n",
      "UK\n",
      "=== End ===\n"
     ]
    }
   ],
   "source": [
    "country(name = \"UK\")"
   ]
  },
  {
   "cell_type": "code",
   "execution_count": 6,
   "metadata": {},
   "outputs": [],
   "source": [
    "def admit_card(sid,sname,fname,scourse,batch):\n",
    "    card = f\"\"\"\n",
    "    PIAIC Batch : {batch}\n",
    "    Student Name : {sname}\n",
    "    Father's Name : {fname}\n",
    "    Roll No : {sid}\n",
    "    Course : {scourse}\n",
    "    \"\"\"\n",
    "    print(card)"
   ]
  },
  {
   "cell_type": "code",
   "execution_count": 7,
   "metadata": {},
   "outputs": [
    {
     "name": "stdout",
     "output_type": "stream",
     "text": [
      "\n",
      "    PIAIC Batch : 6\n",
      "    Student Name : Hassan\n",
      "    Father's Name : Zaheer\n",
      "    Roll No : 1\n",
      "    Course : AI\n",
      "    \n"
     ]
    }
   ],
   "source": [
    "admit_card(1,\"Hassan\",\"Zaheer\",\"AI\",6)"
   ]
  },
  {
   "cell_type": "code",
   "execution_count": 8,
   "metadata": {},
   "outputs": [],
   "source": [
    "def adition(a,b,c=0,d=0,e=0):\n",
    "    print(a+b+c+d+e)"
   ]
  },
  {
   "cell_type": "code",
   "execution_count": 9,
   "metadata": {},
   "outputs": [
    {
     "name": "stdout",
     "output_type": "stream",
     "text": [
      "11\n"
     ]
    }
   ],
   "source": [
    "adition(5,6)"
   ]
  },
  {
   "cell_type": "code",
   "execution_count": 10,
   "metadata": {},
   "outputs": [
    {
     "name": "stdout",
     "output_type": "stream",
     "text": [
      "20\n"
     ]
    }
   ],
   "source": [
    "adition(5,6,9)"
   ]
  },
  {
   "cell_type": "code",
   "execution_count": 11,
   "metadata": {},
   "outputs": [],
   "source": [
    "def addi(*x):\n",
    "    print(sum(x))"
   ]
  },
  {
   "cell_type": "code",
   "execution_count": 12,
   "metadata": {},
   "outputs": [
    {
     "name": "stdout",
     "output_type": "stream",
     "text": [
      "21\n",
      "10\n"
     ]
    }
   ],
   "source": [
    "addi(1,2,3,4,5,6)\n",
    "addi(1,2,3,4)"
   ]
  },
  {
   "cell_type": "code",
   "execution_count": 13,
   "metadata": {},
   "outputs": [],
   "source": [
    "def newF(name,rollNum,*x):\n",
    "    print(sum(x))\n",
    "    print(f\"Name : {name}  Roll Number : {rollNum}\")"
   ]
  },
  {
   "cell_type": "code",
   "execution_count": 14,
   "metadata": {},
   "outputs": [
    {
     "name": "stdout",
     "output_type": "stream",
     "text": [
      "87\n",
      "Name : Hassan  Roll Number : 1\n"
     ]
    }
   ],
   "source": [
    "newF(\"Hassan\",1,5,69,8,5,0)"
   ]
  },
  {
   "cell_type": "markdown",
   "metadata": {},
   "source": [
    "---"
   ]
  },
  {
   "cell_type": "code",
   "execution_count": 15,
   "metadata": {},
   "outputs": [],
   "source": [
    "def admit_card(sid,sname,fname,scourse,batch):\n",
    "    card = f\"\"\"\n",
    "    PIAIC Batch : {batch}\n",
    "    Student Name : {sname}\n",
    "    Father's Name : {fname}\n",
    "    Roll No : {sid}\n",
    "    Course : {scourse}\n",
    "    \"\"\"\n",
    "    print(card)"
   ]
  },
  {
   "cell_type": "code",
   "execution_count": 16,
   "metadata": {},
   "outputs": [
    {
     "name": "stdout",
     "output_type": "stream",
     "text": [
      "\n",
      "    PIAIC Batch : 6\n",
      "    Student Name : Hassan\n",
      "    Father's Name : Zaheer\n",
      "    Roll No : 1\n",
      "    Course : AI\n",
      "    \n"
     ]
    }
   ],
   "source": [
    "admit_card(1,\"Hassan\",\"Zaheer\",\"AI\",6)"
   ]
  },
  {
   "cell_type": "code",
   "execution_count": 17,
   "metadata": {},
   "outputs": [
    {
     "name": "stdout",
     "output_type": "stream",
     "text": [
      "\n",
      "    PIAIC Batch : 6\n",
      "    Student Name : Hassan\n",
      "    Father's Name : Zaheer\n",
      "    Roll No : 1\n",
      "    Course : AI\n",
      "    \n"
     ]
    }
   ],
   "source": [
    "admit_card(sid=1,sname=\"Hassan\",fname=\"Zaheer\",scourse=\"AI\",batch=6)"
   ]
  },
  {
   "cell_type": "code",
   "execution_count": 18,
   "metadata": {},
   "outputs": [
    {
     "name": "stdout",
     "output_type": "stream",
     "text": [
      "\n",
      "    PIAIC Batch : 6\n",
      "    Student Name : Hassan\n",
      "    Father's Name : Zaheer\n",
      "    Roll No : 1\n",
      "    Course : AI\n",
      "    \n"
     ]
    }
   ],
   "source": [
    "aList = [1,\"Hassan\",\"Zaheer\",\"AI\",6]\n",
    "admit_card(*aList)"
   ]
  },
  {
   "cell_type": "code",
   "execution_count": 19,
   "metadata": {},
   "outputs": [
    {
     "name": "stdout",
     "output_type": "stream",
     "text": [
      "\n",
      "    PIAIC Batch : 7\n",
      "    Student Name : Ali\n",
      "    Father's Name : Khan\n",
      "    Roll No : 1\n",
      "    Course : BCC\n",
      "    \n"
     ]
    }
   ],
   "source": [
    "adic = {\"sid\":1,\"sname\":\"Ali\",\"fname\":\"Khan\",\"scourse\":\"BCC\",\"batch\":7}\n",
    "admit_card(**adic)"
   ]
  },
  {
   "cell_type": "code",
   "execution_count": 20,
   "metadata": {},
   "outputs": [
    {
     "name": "stdout",
     "output_type": "stream",
     "text": [
      "{'a': 1, 'b': 2}\n"
     ]
    }
   ],
   "source": [
    "def abc(**x):\n",
    "    print(x)\n",
    "abc(a=1,b=2)"
   ]
  },
  {
   "cell_type": "code",
   "execution_count": 21,
   "metadata": {},
   "outputs": [
    {
     "name": "stdout",
     "output_type": "stream",
     "text": [
      "Hassan 1 (5, 6, 9, 8, 1) {'a': 1}\n"
     ]
    }
   ],
   "source": [
    "def abc(name,rollNum=0,*x,**y):\n",
    "    print(name,rollNum,x,y)\n",
    "abc(\"Hassan\",1,5,6,9,8,1,a=1)"
   ]
  }
 ],
 "metadata": {
  "interpreter": {
   "hash": "36936de28985cacfc4da12bbbf55d3c1f6084aa27c30ac425efd6e5a861cd2e0"
  },
  "kernelspec": {
   "display_name": "Python 3.10.1 64-bit",
   "language": "python",
   "name": "python3"
  },
  "language_info": {
   "codemirror_mode": {
    "name": "ipython",
    "version": 3
   },
   "file_extension": ".py",
   "mimetype": "text/x-python",
   "name": "python",
   "nbconvert_exporter": "python",
   "pygments_lexer": "ipython3",
   "version": "3.10.1"
  },
  "orig_nbformat": 4
 },
 "nbformat": 4,
 "nbformat_minor": 2
}
