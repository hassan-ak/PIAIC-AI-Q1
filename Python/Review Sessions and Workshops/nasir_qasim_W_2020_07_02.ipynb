{
 "cells": [
  {
   "cell_type": "markdown",
   "metadata": {},
   "source": [
    "# WorkShop - Nasir Hussain and Muhammad Qasim - 2020/07/02"
   ]
  },
  {
   "cell_type": "markdown",
   "metadata": {},
   "source": [
    "## Linear Programming"
   ]
  },
  {
   "cell_type": "code",
   "execution_count": 1,
   "metadata": {},
   "outputs": [
    {
     "name": "stdout",
     "output_type": "stream",
     "text": [
      "Pakistan Zindabad\n",
      "Pakistan Zindabad\n",
      "Pakistan Zindabad\n",
      "Pakistan Zindabad\n",
      "Pakistan Zindabad\n"
     ]
    }
   ],
   "source": [
    "print(\"Pakistan Zindabad\")\n",
    "print(\"Pakistan Zindabad\")\n",
    "print(\"Pakistan Zindabad\")\n",
    "print(\"Pakistan Zindabad\")\n",
    "print(\"Pakistan Zindabad\")"
   ]
  },
  {
   "cell_type": "markdown",
   "metadata": {},
   "source": [
    "## Structure Programming"
   ]
  },
  {
   "cell_type": "code",
   "execution_count": 2,
   "metadata": {},
   "outputs": [],
   "source": [
    "# if\n",
    "# def\n",
    "# while\n",
    "# for"
   ]
  },
  {
   "cell_type": "code",
   "execution_count": 3,
   "metadata": {},
   "outputs": [],
   "source": [
    "user_0_name = \"Qasim\"\n",
    "user_0_fname = \"Aslam\"\n",
    "\n",
    "def user_0_eat():\n",
    "    return \"Having some food\"\n",
    "def user_0_learning():\n",
    "    return \"Learn something new\""
   ]
  },
  {
   "cell_type": "code",
   "execution_count": 4,
   "metadata": {},
   "outputs": [],
   "source": [
    "user_1_name = \"Nasir\"\n",
    "user_1_fname = \"Husain\"\n",
    "\n",
    "def user_1_eat():\n",
    "    return \"Having some food\"\n",
    "def user_1_learning():\n",
    "    return \"Learn something new\""
   ]
  },
  {
   "cell_type": "markdown",
   "metadata": {},
   "source": [
    "## OOP"
   ]
  },
  {
   "cell_type": "code",
   "execution_count": 5,
   "metadata": {},
   "outputs": [],
   "source": [
    "# Class\n",
    "# Instance\n",
    "# Object\n",
    "# Method\n",
    "# Attribute\n",
    "# Instance\n",
    "# encapsulation\n",
    "    # making some methods or attributes as private\n",
    "    # method to change private things\n",
    "# polymorphism\n",
    "    # a thing whihc performs more than one oprations\n",
    "    # a function created more than one is known as overloading in single class\n",
    "    # a function created more than one is known as overriding in different class\n",
    "# Inheritance\n",
    "    # Inherit data from parents\n",
    "# abstarction\n",
    "    # general class\n",
    "    # no real world object of such class\n",
    "    # inherited in someother class"
   ]
  },
  {
   "cell_type": "code",
   "execution_count": 6,
   "metadata": {},
   "outputs": [
    {
     "name": "stdout",
     "output_type": "stream",
     "text": [
      "Hassan\n",
      "Hassan\n"
     ]
    }
   ],
   "source": [
    "# Static\n",
    "print(\"Hassan\")\n",
    "# Dynamic\n",
    "name = \"Hassan\"\n",
    "print(name)"
   ]
  },
  {
   "cell_type": "code",
   "execution_count": 7,
   "metadata": {},
   "outputs": [
    {
     "name": "stdout",
     "output_type": "stream",
     "text": [
      "Valid User\n",
      "\n",
      "        Name => Hassan\n",
      "        F_name => Zaheer\n",
      "        Password => admin\n",
      "        Education => MS\n",
      "        \n",
      "21\n"
     ]
    }
   ],
   "source": [
    "class User():\n",
    "    def __init__ (self):\n",
    "        self.name = None\n",
    "        self.fname = None\n",
    "        self.password = None\n",
    "        self.education = None\n",
    "    def login(self,user_name,password):\n",
    "        if user_name == \"admin\" and password == \"admin\":\n",
    "            print(\"Valid User\")\n",
    "    def profile_update(self,name,fname,password,education):\n",
    "        self.name = name\n",
    "        self.fname = fname\n",
    "        self.password = password\n",
    "        self.education = education\n",
    "    def view_profile(self):\n",
    "        print(f\"\"\"\n",
    "        Name => {self.name}\n",
    "        F_name => {self.fname}\n",
    "        Password => {self.password}\n",
    "        Education => {self.education}\n",
    "        \"\"\")\n",
    "    def sum1 (self,*x):\n",
    "        print(sum(x))\n",
    "u1 = User()\n",
    "u1.login(\"admin\",\"admin\")\n",
    "u1.profile_update(\"Hassan\",\"Zaheer\",\"admin\",\"MS\")\n",
    "u1.view_profile()\n",
    "u1.sum1(1,2,3,4,5,6)"
   ]
  },
  {
   "cell_type": "code",
   "execution_count": 8,
   "metadata": {},
   "outputs": [],
   "source": [
    "class Parent():\n",
    "    def __init__ (self,name,fnmae,course):\n",
    "        self.name = name\n",
    "        self.fname = fnmae\n",
    "        self.course = course\n",
    "class Child(Parent):\n",
    "    pass\n",
    "t1 = Parent(\"Hassan\",\"Zaheer\",\"AI\")\n",
    "t2 = Child(\"Hassan\",\"Zaheer\",\"AI\")"
   ]
  },
  {
   "cell_type": "code",
   "execution_count": 9,
   "metadata": {},
   "outputs": [],
   "source": [
    "class Dad():\n",
    "    def __init__(self):\n",
    "        self.sound = \"High Pitch\"\n",
    "        self.walking_style = \"Fast\"\n",
    "        self.education = \"MS\"\n",
    "class Mom():\n",
    "    def __init__(self):\n",
    "        self.cooking = \"Good\"\n",
    "        self.education = \"BS\"\n",
    "class Cosuin():\n",
    "    def __init__(self):\n",
    "        self.education = \"BBS\"\n",
    "class Child1(Dad,Mom,Cosuin):\n",
    "    pass"
   ]
  },
  {
   "cell_type": "code",
   "execution_count": 10,
   "metadata": {},
   "outputs": [],
   "source": [
    "c1 = Child1()"
   ]
  },
  {
   "cell_type": "code",
   "execution_count": 11,
   "metadata": {},
   "outputs": [],
   "source": [
    "c1.education = \"BA\""
   ]
  },
  {
   "cell_type": "code",
   "execution_count": 12,
   "metadata": {},
   "outputs": [
    {
     "data": {
      "text/plain": [
       "'BA'"
      ]
     },
     "execution_count": 12,
     "metadata": {},
     "output_type": "execute_result"
    }
   ],
   "source": [
    "c1.education"
   ]
  }
 ],
 "metadata": {
  "kernelspec": {
   "display_name": "Python 3",
   "language": "python",
   "name": "python3"
  },
  "language_info": {
   "codemirror_mode": {
    "name": "ipython",
    "version": 3
   },
   "file_extension": ".py",
   "mimetype": "text/x-python",
   "name": "python",
   "nbconvert_exporter": "python",
   "pygments_lexer": "ipython3",
   "version": "3.10.1"
  }
 },
 "nbformat": 4,
 "nbformat_minor": 4
}
