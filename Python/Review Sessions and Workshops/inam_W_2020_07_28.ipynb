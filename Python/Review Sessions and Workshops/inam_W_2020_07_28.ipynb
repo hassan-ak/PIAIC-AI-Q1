{
 "cells": [
  {
   "cell_type": "markdown",
   "metadata": {},
   "source": [
    "# WorkShop - Inam UL Haq - 2020/07/28"
   ]
  },
  {
   "cell_type": "code",
   "execution_count": 17,
   "metadata": {},
   "outputs": [
    {
     "name": "stdout",
     "output_type": "stream",
     "text": [
      "{'fname': 'Hassan', 'age': 29, 'children': 0, 'department': 'AI', 'isGrduate': True, 'address': {'City': 'Lahore', 'province': 'Punjab', 'country': 'Pakistan'}}\n",
      "{'fname': 'Zubair', 'age': 29, 'children': 0, 'department': 'AI', 'isGrduate': True, 'address': {'City': 'Lahore', 'province': 'Punjab', 'country': 'Pakistan'}}\n",
      "{'fname': 'Zubair', 'age': 29, 'children': 0, 'department': 'AI', 'isGrduate': True, 'address': {'City': 'Lahore', 'province': 'Punjab', 'country': 'Pakistan'}, 'lname': 'Ali'}\n",
      "{'fname': 'Zubair', 'children': 0, 'department': 'AI', 'isGrduate': True, 'address': {'City': 'Lahore', 'province': 'Punjab', 'country': 'Pakistan'}, 'lname': 'Ali'}\n"
     ]
    }
   ],
   "source": [
    "student = {\"fname\":\"Hassan\",\n",
    "            \"age\":29,\n",
    "            \"children\":0,\n",
    "            \"department\":\"AI\",\n",
    "            \"isGrduate\":True,\n",
    "            \"address\":{\n",
    "                \"City\":\"Lahore\",\n",
    "                \"province\":\"Punjab\",\n",
    "                \"country\":\"Pakistan\"\n",
    "            }}\n",
    "print(student)\n",
    "student[\"fname\"] = \"Zubair\"\n",
    "print(student)\n",
    "student[\"lname\"] = \"Ali\"\n",
    "print(student)\n",
    "del student[\"age\"]\n",
    "print(student)"
   ]
  },
  {
   "cell_type": "code",
   "execution_count": 18,
   "metadata": {},
   "outputs": [
    {
     "name": "stdout",
     "output_type": "stream",
     "text": [
      "fname\n",
      "children\n",
      "department\n",
      "isGrduate\n",
      "address\n",
      "lname\n"
     ]
    }
   ],
   "source": [
    "for key in student.keys():\n",
    "    print(key)"
   ]
  },
  {
   "cell_type": "code",
   "execution_count": 19,
   "metadata": {},
   "outputs": [
    {
     "name": "stdout",
     "output_type": "stream",
     "text": [
      "Zubair\n",
      "0\n",
      "AI\n",
      "True\n",
      "{'City': 'Lahore', 'province': 'Punjab', 'country': 'Pakistan'}\n",
      "Ali\n"
     ]
    }
   ],
   "source": [
    "for value in student.values():\n",
    "    print(value)"
   ]
  },
  {
   "cell_type": "code",
   "execution_count": 20,
   "metadata": {},
   "outputs": [
    {
     "name": "stdout",
     "output_type": "stream",
     "text": [
      "fname  =>  Zubair\n",
      "children  =>  0\n",
      "department  =>  AI\n",
      "isGrduate  =>  True\n",
      "address  =>  {'City': 'Lahore', 'province': 'Punjab', 'country': 'Pakistan'}\n",
      "lname  =>  Ali\n"
     ]
    }
   ],
   "source": [
    "for key in student.keys():\n",
    "    print(key, \" => \", student[key])"
   ]
  },
  {
   "cell_type": "code",
   "execution_count": 21,
   "metadata": {},
   "outputs": [
    {
     "name": "stdout",
     "output_type": "stream",
     "text": [
      "dict_items([('fname', 'Zubair'), ('children', 0), ('department', 'AI'), ('isGrduate', True), ('address', {'City': 'Lahore', 'province': 'Punjab', 'country': 'Pakistan'}), ('lname', 'Ali')])\n"
     ]
    }
   ],
   "source": [
    "print(student.items())"
   ]
  },
  {
   "cell_type": "code",
   "execution_count": 22,
   "metadata": {},
   "outputs": [
    {
     "name": "stdout",
     "output_type": "stream",
     "text": [
      "fname  =>  Zubair\n",
      "children  =>  0\n",
      "department  =>  AI\n",
      "isGrduate  =>  True\n",
      "address  =>  {'City': 'Lahore', 'province': 'Punjab', 'country': 'Pakistan'}\n",
      "lname  =>  Ali\n"
     ]
    }
   ],
   "source": [
    "for key,value in student.items():\n",
    "    print(key, \" => \", value)"
   ]
  },
  {
   "cell_type": "code",
   "execution_count": null,
   "metadata": {},
   "outputs": [],
   "source": [
    "# Press 1 to eneter a student\n",
    "# press 2 to search a student\n",
    "# press 3 to print all\n",
    "# press 4 to del a student\n",
    "# press 5 to quit"
   ]
  },
  {
   "cell_type": "code",
   "execution_count": 34,
   "metadata": {},
   "outputs": [],
   "source": [
    "import pandas as pd"
   ]
  },
  {
   "cell_type": "code",
   "execution_count": null,
   "metadata": {},
   "outputs": [],
   "source": [
    "students = {}"
   ]
  },
  {
   "cell_type": "code",
   "execution_count": 44,
   "metadata": {},
   "outputs": [
    {
     "name": "stdout",
     "output_type": "stream",
     "text": [
      "**********\n",
      "Registration No. =>  3\n",
      "Name  =>  Umair\n",
      "Father Name  =>  Hafeez\n",
      "Age  =>  28\n",
      "Course  =>  BCC\n",
      "**********\n",
      "**********\n",
      "Registration No. =>  1\n",
      "Name  =>  \n",
      "Father Name  =>  \n",
      "Age  =>  \n",
      "Course  =>  \n",
      "**********\n",
      "**********\n",
      "Registration No. =>  2\n",
      "Name  =>  Zubair\n",
      "Father Name  =>  Abdul\n",
      "Age  =>  25\n",
      "Course  =>  CNC\n",
      "**********\n",
      "**********\n",
      "Registration No. =>  3\n",
      "Name  =>  Umair\n",
      "Father Name  =>  Hafeez\n",
      "Age  =>  28\n",
      "Course  =>  BCC\n",
      "**********\n",
      "**********\n",
      "Registration No. =>  1 --- Deleted\n",
      "**********\n",
      "**********\n",
      "Registration No. =>  2\n",
      "Name  =>  Zubair\n",
      "Father Name  =>  Abdul\n",
      "Age  =>  25\n",
      "Course  =>  CNC\n",
      "**********\n",
      "**********\n",
      "Registration No. =>  3\n",
      "Name  =>  Umair\n",
      "Father Name  =>  Hafeez\n",
      "Age  =>  28\n",
      "Course  =>  BCC\n",
      "**********\n"
     ]
    }
   ],
   "source": [
    "flag = True\n",
    "while flag:\n",
    "    u_input = int(input(\"Enter a number\"))\n",
    "    if u_input == 5:\n",
    "        flag = False\n",
    "    elif u_input == 1:\n",
    "        student_reg = input(\"Enter student registration number\")\n",
    "        student_name = input(\"Enter student name\")\n",
    "        student_father_name = input(\"Enter student father name\")\n",
    "        student_age = input(\"Enter student age\")\n",
    "        student_course = input(\"Enter student course\")\n",
    "        students[student_reg] = {}\n",
    "        students[student_reg][\"Name\"] = student_name\n",
    "        students[student_reg][\"Father Name\"] = student_father_name\n",
    "        students[student_reg][\"Age\"] = student_age\n",
    "        students[student_reg][\"Course\"] = student_course\n",
    "    elif u_input == 2:\n",
    "        print(\"**********\")\n",
    "        student_reg = input(\"Enter student registration number\")\n",
    "        print(\"Registration No. => \", student_reg)\n",
    "        for k,v in students[student_reg].items():\n",
    "            print(k, \" => \",v)\n",
    "        print(\"**********\")\n",
    "    elif u_input == 3:\n",
    "        for kk in students:\n",
    "            print(\"**********\")\n",
    "            print(\"Registration No. => \", kk)\n",
    "            for k,v in students[kk].items():\n",
    "                print(k, \" => \",v)\n",
    "            print(\"**********\")\n",
    "    elif u_input == 4:\n",
    "        print(\"**********\")\n",
    "        student_reg = input(\"Enter student registration number\")\n",
    "        print(\"Registration No. => \", student_reg, \"--- Deleted\")\n",
    "        del students[student_reg]\n",
    "        print(\"**********\")\n",
    "        \n"
   ]
  },
  {
   "cell_type": "markdown",
   "metadata": {},
   "source": [
    "---"
   ]
  }
 ],
 "metadata": {
  "interpreter": {
   "hash": "36936de28985cacfc4da12bbbf55d3c1f6084aa27c30ac425efd6e5a861cd2e0"
  },
  "kernelspec": {
   "display_name": "Python 3.10.1 64-bit",
   "language": "python",
   "name": "python3"
  },
  "language_info": {
   "codemirror_mode": {
    "name": "ipython",
    "version": 3
   },
   "file_extension": ".py",
   "mimetype": "text/x-python",
   "name": "python",
   "nbconvert_exporter": "python",
   "pygments_lexer": "ipython3",
   "version": "3.10.1"
  },
  "orig_nbformat": 4
 },
 "nbformat": 4,
 "nbformat_minor": 2
}
