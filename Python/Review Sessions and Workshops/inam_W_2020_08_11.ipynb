{
 "cells": [
  {
   "cell_type": "markdown",
   "metadata": {},
   "source": [
    "# WorkShop - Inam UL Haq - 2020/08/11"
   ]
  },
  {
   "cell_type": "markdown",
   "metadata": {},
   "source": [
    "---"
   ]
  },
  {
   "cell_type": "code",
   "execution_count": 1,
   "metadata": {},
   "outputs": [
    {
     "name": "stdout",
     "output_type": "stream",
     "text": [
      "Hassan\n",
      "Hello! My name is Hassan and I am 29 years old\n",
      "Saad\n",
      "Hello! My name is Saad and I am 23 years old\n"
     ]
    }
   ],
   "source": [
    "class Student():\n",
    "    def __init__(self):\n",
    "        self.name = \"Hassan\"\n",
    "        self.age = 29\n",
    "    def return_detail(self):\n",
    "        return f\"Hello! My name is {self.name} and I am {self.age} years old\"\n",
    "\n",
    "s1 = Student()\n",
    "print(s1.name)\n",
    "print(s1.return_detail())\n",
    "s2 = Student()\n",
    "s2.name = \"Saad\"\n",
    "s2.age = 23\n",
    "print(s2.name)\n",
    "print(s2.return_detail())"
   ]
  },
  {
   "cell_type": "code",
   "execution_count": 2,
   "metadata": {},
   "outputs": [
    {
     "name": "stdout",
     "output_type": "stream",
     "text": [
      "Hassan\n",
      "Hello! My name is Hassan and I am 29 years old\n",
      "Saad\n",
      "Hello! My name is Saad and I am 24 years old\n"
     ]
    }
   ],
   "source": [
    "class Student():\n",
    "    def __init__(self,name,age):\n",
    "        self.name = name\n",
    "        self.age = age\n",
    "    def return_detail(self):\n",
    "        return f\"Hello! My name is {self.name} and I am {self.age} years old\"\n",
    "\n",
    "s1 = Student(\"Hassan\",29)\n",
    "print(s1.name)\n",
    "print(s1.return_detail())\n",
    "s2 = Student(\"Saad\",24)\n",
    "print(s2.name)\n",
    "print(s2.return_detail())"
   ]
  },
  {
   "cell_type": "code",
   "execution_count": 3,
   "metadata": {},
   "outputs": [
    {
     "name": "stdout",
     "output_type": "stream",
     "text": [
      "Hello! My name is Hassan and I am 29 years old\n",
      "Hello! My name is Saad and I am 29 years old\n",
      "Hello! My name is Hassan and I am 22 years old\n"
     ]
    }
   ],
   "source": [
    "class Student():\n",
    "    def __init__(self,name=\"Hassan\",age=29):\n",
    "        self.name = name\n",
    "        self.age = age\n",
    "    def return_detail(self):\n",
    "        return f\"Hello! My name is {self.name} and I am {self.age} years old\"\n",
    "\n",
    "s1 = Student()\n",
    "print(s1.return_detail())\n",
    "s2 = Student(\"Saad\")\n",
    "print(s2.return_detail())\n",
    "s3 = Student(age=22)\n",
    "print(s3.return_detail())"
   ]
  },
  {
   "cell_type": "code",
   "execution_count": 4,
   "metadata": {},
   "outputs": [],
   "source": [
    "class Student():\n",
    "    def __init__(self,name=\"Hassan\",age=29):\n",
    "        self.name = name\n",
    "        self.age = age\n",
    "    def return_detail(self):\n",
    "        return f\"Hello! My name is {self.name} and I am {self.age} years old\"\n",
    "    def __return_name(self):\n",
    "        return f\"Hello! My name is {self.name}\""
   ]
  },
  {
   "cell_type": "markdown",
   "metadata": {},
   "source": [
    "---"
   ]
  },
  {
   "cell_type": "code",
   "execution_count": 5,
   "metadata": {},
   "outputs": [
    {
     "name": "stdout",
     "output_type": "stream",
     "text": [
      "Hello\n",
      "\n"
     ]
    }
   ],
   "source": [
    "with open(\"inam_W_2020_08_11.txt\") as file:\n",
    "    print(file.readline())\n"
   ]
  },
  {
   "cell_type": "code",
   "execution_count": 6,
   "metadata": {},
   "outputs": [
    {
     "name": "stdout",
     "output_type": "stream",
     "text": [
      "Hello\n",
      "\n"
     ]
    }
   ],
   "source": [
    "file =  open(\"files/inam_W_2020_08_11.txt\")\n",
    "print(file.readline())\n",
    "file.close()"
   ]
  },
  {
   "cell_type": "code",
   "execution_count": 7,
   "metadata": {},
   "outputs": [
    {
     "name": "stdout",
     "output_type": "stream",
     "text": [
      "Hello\n"
     ]
    }
   ],
   "source": [
    "file =  open(\"inam_W_2020_08_11/abc.txt\",\"w\")\n",
    "file.write(\"Hello\")\n",
    "file.close()\n",
    "file =  open(\"inam_W_2020_08_11/abc.txt\")\n",
    "print(file.readline())\n",
    "file.close()"
   ]
  },
  {
   "cell_type": "code",
   "execution_count": 8,
   "metadata": {},
   "outputs": [
    {
     "name": "stdout",
     "output_type": "stream",
     "text": [
      "Hello\n",
      "\n"
     ]
    }
   ],
   "source": [
    "file =  open(\"inam_W_2020_08_11/abc.txt\",\"w\")\n",
    "file.write(\"Hello\\n\")\n",
    "file.write(\"----\")\n",
    "file.close()\n",
    "file =  open(\"inam_W_2020_08_11/abc.txt\")\n",
    "print(file.readline())\n",
    "file.close()"
   ]
  },
  {
   "cell_type": "code",
   "execution_count": 9,
   "metadata": {},
   "outputs": [
    {
     "name": "stdout",
     "output_type": "stream",
     "text": [
      "Hello\n",
      "\n"
     ]
    }
   ],
   "source": [
    "file =  open(\"inam_W_2020_08_11/abc.txt\",\"a\")\n",
    "file.write(\"Hello\\n\")\n",
    "file.write(\"----\")\n",
    "file.close()\n",
    "file =  open(\"inam_W_2020_08_11/abc.txt\")\n",
    "print(file.readline())\n",
    "file.close()"
   ]
  },
  {
   "cell_type": "markdown",
   "metadata": {},
   "source": [
    "---"
   ]
  },
  {
   "cell_type": "code",
   "execution_count": 10,
   "metadata": {},
   "outputs": [
    {
     "name": "stdout",
     "output_type": "stream",
     "text": [
      "Hello\n",
      "\n"
     ]
    }
   ],
   "source": [
    "file =  open(\"files/inam_W_2020_08_11.txt\")\n",
    "print(file.readline())\n",
    "file.close()"
   ]
  },
  {
   "cell_type": "code",
   "execution_count": 11,
   "metadata": {},
   "outputs": [
    {
     "name": "stdout",
     "output_type": "stream",
     "text": [
      "Hello\n",
      "----Hello\n",
      "----\n"
     ]
    }
   ],
   "source": [
    "file =  open(\"inam_W_2020_08_11/abc.txt\")\n",
    "print(file.read())\n",
    "file.close()"
   ]
  },
  {
   "cell_type": "code",
   "execution_count": 12,
   "metadata": {},
   "outputs": [
    {
     "name": "stdout",
     "output_type": "stream",
     "text": [
      "['Hello\\n', '----Hello\\n', '----']\n"
     ]
    }
   ],
   "source": [
    "file =  open(\"inam_W_2020_08_11/abc.txt\")\n",
    "print(file.readlines())\n",
    "file.close()"
   ]
  },
  {
   "cell_type": "code",
   "execution_count": 13,
   "metadata": {},
   "outputs": [
    {
     "name": "stdout",
     "output_type": "stream",
     "text": [
      "['Hello', '----Hello', '----']\n"
     ]
    }
   ],
   "source": [
    "file =  open(\"inam_W_2020_08_11/abc.txt\")\n",
    "print(file.read().split(\"\\n\"))\n",
    "file.close()"
   ]
  }
 ],
 "metadata": {
  "interpreter": {
   "hash": "36936de28985cacfc4da12bbbf55d3c1f6084aa27c30ac425efd6e5a861cd2e0"
  },
  "kernelspec": {
   "display_name": "Python 3.10.1 64-bit",
   "language": "python",
   "name": "python3"
  },
  "language_info": {
   "codemirror_mode": {
    "name": "ipython",
    "version": 3
   },
   "file_extension": ".py",
   "mimetype": "text/x-python",
   "name": "python",
   "nbconvert_exporter": "python",
   "pygments_lexer": "ipython3",
   "version": "3.10.1"
  },
  "orig_nbformat": 4
 },
 "nbformat": 4,
 "nbformat_minor": 2
}
