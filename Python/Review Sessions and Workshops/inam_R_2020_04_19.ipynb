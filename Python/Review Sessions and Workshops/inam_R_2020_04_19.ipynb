{
  "cells": [
    {
      "cell_type": "markdown",
      "metadata": {
        "id": "28dEXxinfBKg"
      },
      "source": [
        "# Review Session - Inam UL Haq - 2020/04/19"
      ]
    },
    {
      "cell_type": "markdown",
      "metadata": {
        "id": "Eyln1aP6fBKs"
      },
      "source": [
        "## Print"
      ]
    },
    {
      "cell_type": "code",
      "execution_count": 1,
      "metadata": {
        "colab": {
          "base_uri": "https://localhost:8080/"
        },
        "id": "qzF1zKFrfBKt",
        "outputId": "02bc4171-a892-459c-bc81-ecb9069a1c1d"
      },
      "outputs": [
        {
          "name": "stdout",
          "output_type": "stream",
          "text": [
            "Hello world\n",
            "Hello world from single quatation\n",
            "This is Python's first program\n",
            "For using double \"qutatations\"\n"
          ]
        }
      ],
      "source": [
        "print(\"Hello world\")\n",
        "print('Hello world from single quatation')\n",
        "print(\"This is Python's first program\")\n",
        "print('For using double \"qutatations\"')"
      ]
    },
    {
      "cell_type": "code",
      "execution_count": 2,
      "metadata": {
        "colab": {
          "base_uri": "https://localhost:8080/"
        },
        "id": "OlpPxFJ4fBKv",
        "outputId": "0a4f2573-2f00-4e7b-92c1-7d6aa150ed18"
      },
      "outputs": [
        {
          "name": "stdout",
          "output_type": "stream",
          "text": [
            "2\n",
            "5\n",
            "6\n"
          ]
        }
      ],
      "source": [
        "print(2)\n",
        "print(2+3)\n",
        "print(2*3)"
      ]
    },
    {
      "cell_type": "markdown",
      "metadata": {
        "id": "sKaTIRDLfBKw"
      },
      "source": [
        "## Variables"
      ]
    },
    {
      "cell_type": "code",
      "execution_count": 3,
      "metadata": {
        "colab": {
          "base_uri": "https://localhost:8080/"
        },
        "id": "_NGbga3QfBKx",
        "outputId": "84dc8585-38cf-45a2-d7e8-e2d145663688"
      },
      "outputs": [
        {
          "name": "stdout",
          "output_type": "stream",
          "text": [
            "Hassan\n",
            "28\n",
            "Khan\n"
          ]
        }
      ],
      "source": [
        "name = \"Hassan\"\n",
        "print(name)\n",
        "age1 = 28\n",
        "print(age1)\n",
        "last_name = \"Khan\"\n",
        "print(last_name)"
      ]
    },
    {
      "cell_type": "code",
      "execution_count": 4,
      "metadata": {
        "colab": {
          "base_uri": "https://localhost:8080/"
        },
        "id": "xGel8V8KfBKy",
        "outputId": "8ec8f5b2-2d3f-4b68-f9bc-1b3fcae613e8"
      },
      "outputs": [
        {
          "name": "stdout",
          "output_type": "stream",
          "text": [
            "<class 'int'>\n",
            "<class 'str'>\n"
          ]
        }
      ],
      "source": [
        "age = 28\n",
        "age2 = \"28\"\n",
        "print(type(age))\n",
        "print(type(age2))"
      ]
    },
    {
      "cell_type": "code",
      "execution_count": 5,
      "metadata": {
        "colab": {
          "base_uri": "https://localhost:8080/"
        },
        "id": "5yUbXBsifBKy",
        "outputId": "9ea92624-860b-4b63-adfd-e94ae5b305e0"
      },
      "outputs": [
        {
          "name": "stdout",
          "output_type": "stream",
          "text": [
            "Khan <class 'str'>\n",
            "29 <class 'str'>\n"
          ]
        }
      ],
      "source": [
        "a = input (\"Enter your last name : \")\n",
        "b = input (\"Enter your age : \")\n",
        "print(a,type(a))\n",
        "print(b,type(b))"
      ]
    },
    {
      "cell_type": "code",
      "execution_count": 6,
      "metadata": {
        "colab": {
          "base_uri": "https://localhost:8080/"
        },
        "id": "lW0IFaSufBKz",
        "outputId": "0378f911-32c1-430f-9f29-5ceaea9fa162"
      },
      "outputs": [
        {
          "name": "stdout",
          "output_type": "stream",
          "text": [
            "My name is Hassan Khan\n"
          ]
        }
      ],
      "source": [
        "f_name = \"Hassan\"\n",
        "l_name = \"Khan\"\n",
        "print(\"My name is \"+f_name+\" \"+last_name)"
      ]
    },
    {
      "cell_type": "code",
      "execution_count": 7,
      "metadata": {
        "colab": {
          "base_uri": "https://localhost:8080/"
        },
        "id": "xTJW6OuSfBK0",
        "outputId": "a822191d-85cc-4de0-8fbe-489f2c78b469"
      },
      "outputs": [
        {
          "name": "stdout",
          "output_type": "stream",
          "text": [
            "5628\n"
          ]
        }
      ],
      "source": [
        "age1 = \"56\"\n",
        "age2 = \"28\"\n",
        "age3 = age1+age2\n",
        "print(age3)"
      ]
    },
    {
      "cell_type": "code",
      "execution_count": 8,
      "metadata": {
        "colab": {
          "base_uri": "https://localhost:8080/"
        },
        "id": "0ocFNxYcfBK1",
        "outputId": "e86b0297-94c4-4d03-ed4c-2f2d94b6c362"
      },
      "outputs": [
        {
          "name": "stdout",
          "output_type": "stream",
          "text": [
            "18 <class 'str'>\n"
          ]
        }
      ],
      "source": [
        "a = input(\"Enter a number : \")\n",
        "print(a,type(a))"
      ]
    },
    {
      "cell_type": "code",
      "execution_count": 9,
      "metadata": {
        "colab": {
          "base_uri": "https://localhost:8080/"
        },
        "id": "zgscvF7SfBK1",
        "outputId": "13cffbcf-be79-4650-a5ea-7e06051a6182"
      },
      "outputs": [
        {
          "name": "stdout",
          "output_type": "stream",
          "text": [
            "75\n"
          ]
        }
      ],
      "source": [
        "a = 67\n",
        "b = 8\n",
        "c = a+b\n",
        "print(c)"
      ]
    },
    {
      "cell_type": "code",
      "execution_count": 10,
      "metadata": {
        "colab": {
          "base_uri": "https://localhost:8080/"
        },
        "id": "iF16jSMsfBK2",
        "outputId": "02443f4d-558c-4070-fb53-6db2e9390ad7"
      },
      "outputs": [
        {
          "name": "stdout",
          "output_type": "stream",
          "text": [
            "556.875\n"
          ]
        }
      ],
      "source": [
        "a = 67.5\n",
        "b = 8.25\n",
        "c = a*b\n",
        "print(c)"
      ]
    },
    {
      "cell_type": "code",
      "execution_count": 11,
      "metadata": {
        "colab": {
          "base_uri": "https://localhost:8080/"
        },
        "id": "iEuf8nXmfBK3",
        "outputId": "58230f82-78b3-4f7a-8d13-89c307ab6029"
      },
      "outputs": [
        {
          "name": "stdout",
          "output_type": "stream",
          "text": [
            "['False', 'None', 'True', 'and', 'as', 'assert', 'async', 'await', 'break', 'class', 'continue', 'def', 'del', 'elif', 'else', 'except', 'finally', 'for', 'from', 'global', 'if', 'import', 'in', 'is', 'lambda', 'nonlocal', 'not', 'or', 'pass', 'raise', 'return', 'try', 'while', 'with', 'yield']\n"
          ]
        }
      ],
      "source": [
        "import keyword\n",
        "print(keyword.kwlist)"
      ]
    },
    {
      "cell_type": "markdown",
      "metadata": {
        "id": "1WeXLSBYfBK3"
      },
      "source": [
        "## Data Types and User Input"
      ]
    },
    {
      "cell_type": "code",
      "execution_count": 12,
      "metadata": {
        "colab": {
          "base_uri": "https://localhost:8080/"
        },
        "id": "Qmyv71IVfBK4",
        "outputId": "0cf80cc9-85c7-4fe4-ab60-2f83279ebd2b"
      },
      "outputs": [
        {
          "name": "stdout",
          "output_type": "stream",
          "text": [
            "<class 'str'>\n"
          ]
        }
      ],
      "source": [
        "num1  =input(\"Enter a number : \")\n",
        "print(type(num1))"
      ]
    },
    {
      "cell_type": "code",
      "execution_count": 13,
      "metadata": {
        "id": "QnRpHW6pfBK5"
      },
      "outputs": [],
      "source": [
        "# Python is dynamicaly typed language\n",
        "# C is statically typed language"
      ]
    },
    {
      "cell_type": "code",
      "execution_count": 14,
      "metadata": {
        "colab": {
          "base_uri": "https://localhost:8080/"
        },
        "id": "1IVANIDVfBK7",
        "outputId": "1fc6483a-fc0c-4fb4-d878-a21d7a276bdb"
      },
      "outputs": [
        {
          "name": "stdout",
          "output_type": "stream",
          "text": [
            "1122\n",
            "33\n"
          ]
        }
      ],
      "source": [
        "num1 = input(\"Enter a Number : \")\n",
        "num2 = input(\"Enter a number : \")\n",
        "# Concatenation\n",
        "print(num1+num2)\n",
        "# Type Casting\n",
        "print(int(num1)+int(num2))"
      ]
    }
  ],
  "metadata": {
    "colab": {
      "collapsed_sections": [],
      "name": "inam_R_2020_04_19.ipynb",
      "provenance": []
    },
    "interpreter": {
      "hash": "36936de28985cacfc4da12bbbf55d3c1f6084aa27c30ac425efd6e5a861cd2e0"
    },
    "kernelspec": {
      "display_name": "Python 3.10.1 64-bit",
      "language": "python",
      "name": "python3"
    },
    "language_info": {
      "codemirror_mode": {
        "name": "ipython",
        "version": 3
      },
      "file_extension": ".py",
      "mimetype": "text/x-python",
      "name": "python",
      "nbconvert_exporter": "python",
      "pygments_lexer": "ipython3",
      "version": "3.10.1"
    },
    "orig_nbformat": 4
  },
  "nbformat": 4,
  "nbformat_minor": 0
}
