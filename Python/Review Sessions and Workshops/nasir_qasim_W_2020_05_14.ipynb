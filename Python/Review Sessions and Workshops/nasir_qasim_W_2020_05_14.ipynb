{
 "cells": [
  {
   "cell_type": "markdown",
   "metadata": {},
   "source": [
    "# WorkShop - Nasir Hussain and Muhammad Qasim - 2020/05/14"
   ]
  },
  {
   "cell_type": "markdown",
   "metadata": {},
   "source": [
    "### Formating"
   ]
  },
  {
   "cell_type": "code",
   "execution_count": 1,
   "metadata": {},
   "outputs": [],
   "source": [
    "# .format\n",
    "# %\n",
    "# f\"\"\n",
    "# +"
   ]
  },
  {
   "cell_type": "markdown",
   "metadata": {},
   "source": [
    "#### .format"
   ]
  },
  {
   "cell_type": "code",
   "execution_count": 2,
   "metadata": {},
   "outputs": [
    {
     "name": "stdout",
     "output_type": "stream",
     "text": [
      "\n",
      "PIAIC Admit Card\n",
      "Name: Qasim\n",
      "Father's Name: Aslam\n",
      "Age: 28 , Gender Male\n",
      "\n"
     ]
    }
   ],
   "source": [
    "name = \"Qasim\"\n",
    "fname = \"Aslam\"\n",
    "age = 28\n",
    "gender = \"Male\"\n",
    "\n",
    "card = \"\"\"\n",
    "PIAIC Admit Card\n",
    "Name: {}\n",
    "Father's Name: {}\n",
    "Age: {} , Gender {}\n",
    "\"\"\"\n",
    "\n",
    "print(card.format(name, fname, age, gender))"
   ]
  },
  {
   "cell_type": "code",
   "execution_count": 3,
   "metadata": {},
   "outputs": [
    {
     "name": "stdout",
     "output_type": "stream",
     "text": [
      "\n",
      "PIAIC Admit Card\n",
      "Name: Aslam\n",
      "Father's Name: Qasim\n",
      "Age: 28 , Gender Male\n",
      "\n"
     ]
    }
   ],
   "source": [
    "name = \"Qasim\"\n",
    "fname = \"Aslam\"\n",
    "age = 28\n",
    "gender = \"Male\"\n",
    "\n",
    "card = \"\"\"\n",
    "PIAIC Admit Card\n",
    "Name: {1}\n",
    "Father's Name: {0}\n",
    "Age: {2} , Gender {3}\n",
    "\"\"\"\n",
    "\n",
    "print(card.format(name, fname, age, gender))"
   ]
  },
  {
   "cell_type": "code",
   "execution_count": 4,
   "metadata": {},
   "outputs": [
    {
     "name": "stdout",
     "output_type": "stream",
     "text": [
      "\n",
      "PIAIC Admit Card\n",
      "Name: Qasim\n",
      "Father's Name: Aslam\n",
      "Age: 28 , Gender 28\n",
      "\n"
     ]
    }
   ],
   "source": [
    "name = \"Qasim\"\n",
    "fname = \"Aslam\"\n",
    "age = 28\n",
    "gender = \"Male\"\n",
    "\n",
    "card = f\"\"\"\n",
    "PIAIC Admit Card\n",
    "Name: {name}\n",
    "Father's Name: {fname}\n",
    "Age: {age} , Gender {age}\n",
    "\"\"\"\n",
    "\n",
    "print(card)\n"
   ]
  },
  {
   "cell_type": "code",
   "execution_count": 5,
   "metadata": {},
   "outputs": [
    {
     "name": "stdout",
     "output_type": "stream",
     "text": [
      "\n",
      "PIAIC Admit Card\n",
      "Name: Qasim\n",
      "Father's Name: Aslam\n",
      "Age: 28 , Gender Male\n",
      "\n"
     ]
    }
   ],
   "source": [
    "name = \"Qasim\"\n",
    "fname = \"Aslam\"\n",
    "age = 28\n",
    "gender = \"Male\"\n",
    "\n",
    "card = f\"\"\"\n",
    "PIAIC Admit Card\n",
    "Name: %s\n",
    "Father's Name: %s\n",
    "Age: %d , Gender %s\n",
    "\"\"\"%(name, fname, age, gender)\n",
    "\n",
    "print(card)\n"
   ]
  },
  {
   "cell_type": "code",
   "execution_count": 6,
   "metadata": {},
   "outputs": [
    {
     "name": "stdout",
     "output_type": "stream",
     "text": [
      "PIAIC Admit Card \n",
      "Name: Qasim\n",
      "Father's Name:Aslam\n",
      "Age:28\n"
     ]
    }
   ],
   "source": [
    "name = \"Qasim\"\n",
    "fname = \"Aslam\"\n",
    "age = 28\n",
    "gender = \"Male\"\n",
    "\n",
    "print(\"PIAIC Admit Card \\nName: \" + name + \"\\nFather's Name:\"+ fname +\"\\nAge:\" + str(age))"
   ]
  },
  {
   "cell_type": "markdown",
   "metadata": {},
   "source": [
    "# Comments"
   ]
  },
  {
   "cell_type": "markdown",
   "metadata": {},
   "source": [
    "### Single line comment"
   ]
  },
  {
   "cell_type": "code",
   "execution_count": 7,
   "metadata": {},
   "outputs": [
    {
     "name": "stdout",
     "output_type": "stream",
     "text": [
      "Python line1\n",
      "Python line2\n",
      "Python line3\n",
      "Python line4 # pakistan\n"
     ]
    }
   ],
   "source": [
    "print(\"Python line1\")\n",
    "print(\"Python line2\")\n",
    "#mujhy database sy value uthani hai\n",
    "#i have to extract value from database\n",
    "print(\"Python line3\") # call user name\n",
    "print(\"Python line4 # pakistan\")"
   ]
  },
  {
   "cell_type": "code",
   "execution_count": 8,
   "metadata": {},
   "outputs": [
    {
     "name": "stdout",
     "output_type": "stream",
     "text": [
      "Hello World\n"
     ]
    }
   ],
   "source": [
    "'''\n",
    "pakistan zinda bab\n",
    "we are pakistani\n",
    "'''\n",
    "print(\"Hello World\")"
   ]
  },
  {
   "cell_type": "code",
   "execution_count": 9,
   "metadata": {},
   "outputs": [
    {
     "name": "stdout",
     "output_type": "stream",
     "text": [
      "Help on function abc in module __main__:\n",
      "\n",
      "abc(x)\n",
      "    x = x ** 2\n",
      "\n"
     ]
    }
   ],
   "source": [
    "def abc(x):\n",
    "    \"\"\"\n",
    "    x = x ** 2\n",
    "    \"\"\"\n",
    "    return x**2\n",
    "help(abc)"
   ]
  },
  {
   "cell_type": "code",
   "execution_count": 10,
   "metadata": {},
   "outputs": [
    {
     "name": "stdout",
     "output_type": "stream",
     "text": [
      "Python line1\n",
      "Python line2\n"
     ]
    }
   ],
   "source": [
    "print(\"Python line1\")\n",
    "# print(\"Python line2\")\n",
    "# print(\"Python line1\")\n",
    "# print(\"Python line2\")\n",
    "# print(\"Python line1\")\n",
    "# print(\"Python line2\")\n",
    "# print(\"Python line1\")\n",
    "# print(\"Python line2\")\n",
    "# print(\"Python line1\")\n",
    "print(\"Python line2\")"
   ]
  },
  {
   "cell_type": "code",
   "execution_count": 11,
   "metadata": {},
   "outputs": [
    {
     "name": "stdout",
     "output_type": "stream",
     "text": [
      "Python line1\n",
      "Python line2\n",
      "Python line1\n",
      "Python line2\n",
      "Python line1\n",
      "Python line2\n",
      "Python line1\n",
      "Python line2\n",
      "Python line1\n",
      "Python line2\n"
     ]
    }
   ],
   "source": [
    "print(\"Python line1\")\n",
    "print(\"Python line2\")\n",
    "print(\"Python line1\")\n",
    "print(\"Python line2\")\n",
    "print(\"Python line1\")\n",
    "print(\"Python line2\")\n",
    "print(\"Python line1\")\n",
    "print(\"Python line2\")\n",
    "print(\"Python line1\")\n",
    "print(\"Python line2\")"
   ]
  },
  {
   "cell_type": "markdown",
   "metadata": {},
   "source": [
    "# List "
   ]
  },
  {
   "cell_type": "code",
   "execution_count": 12,
   "metadata": {},
   "outputs": [
    {
     "name": "stdout",
     "output_type": "stream",
     "text": [
      "Qasim\n",
      "Nasir Hussain\n",
      "Inam ul haq\n",
      "Dr Noman\n",
      "Anees Ahmed\n"
     ]
    }
   ],
   "source": [
    "name1 = \"Qasim\"\n",
    "name2 = \"Nasir Hussain\"\n",
    "name3 = \"Inam ul haq\"\n",
    "name4 = \"Dr Noman\"\n",
    "name5 = \"Anees Ahmed\"\n",
    "\n",
    "print(name1, name2, name3, name4, name5, sep=\"\\n\")"
   ]
  },
  {
   "cell_type": "code",
   "execution_count": 13,
   "metadata": {},
   "outputs": [
    {
     "name": "stdout",
     "output_type": "stream",
     "text": [
      "Inam ul Haq\n",
      "Dr Noman\n",
      "Anees Ahmed\n",
      "Nasir Hussain\n",
      "Muhamamd Qasim\n"
     ]
    }
   ],
   "source": [
    "# []\n",
    "# left to right count index 0,1,2,....\n",
    "# right to left count index -1,-2,-3,....\n",
    "\n",
    "# [elment1,element2] \",\" used to seperate each element in list\n",
    "#              0            1           2            3                4\n",
    "names = [\"Inam ul Haq\",\"Dr Noman\",\"Anees Ahmed\",\"Nasir Hussain\",\"Muhamamd Qasim\"]\n",
    "#             -5           -4          -3           -2                -1\n",
    "\n",
    "print(names[0],names[1],names[2],names[3],names[4],sep='\\n')"
   ]
  },
  {
   "cell_type": "code",
   "execution_count": 14,
   "metadata": {},
   "outputs": [
    {
     "data": {
      "text/plain": [
       "'Anees Ahmed'"
      ]
     },
     "execution_count": 14,
     "metadata": {},
     "output_type": "execute_result"
    }
   ],
   "source": [
    "#              0            1           2            3                4\n",
    "names = [\"Inam ul Haq\",\"Dr Noman\",\"Anees Ahmed\",\"Nasir Hussain\",\"Muhamamd Qasim\"]\n",
    "#             -5           -4          -3           -2                -1\n",
    "names[-3]"
   ]
  },
  {
   "cell_type": "code",
   "execution_count": 15,
   "metadata": {},
   "outputs": [
    {
     "data": {
      "text/plain": [
       "['Qasim', 'Aslam', 28, 'A.I', 'Faculty member', True, [1, 3, 4], {'a': 'A'}]"
      ]
     },
     "execution_count": 15,
     "metadata": {},
     "output_type": "execute_result"
    }
   ],
   "source": [
    "\n",
    "obj1 = [\"Qasim\",\"Aslam\",28, \"A.I\", \"Faculty member\", True, [1,3,4], {\"a\":\"A\"}]\n",
    "obj1"
   ]
  },
  {
   "cell_type": "markdown",
   "metadata": {},
   "source": [
    "# String Methods"
   ]
  },
  {
   "cell_type": "code",
   "execution_count": 16,
   "metadata": {},
   "outputs": [],
   "source": [
    "#variableName.  (. then press tab)\n",
    "# dir(variable name)"
   ]
  },
  {
   "cell_type": "code",
   "execution_count": 17,
   "metadata": {},
   "outputs": [
    {
     "data": {
      "text/plain": [
       "'Qasim'"
      ]
     },
     "execution_count": 17,
     "metadata": {},
     "output_type": "execute_result"
    }
   ],
   "source": [
    "name = \"qasim\"\n",
    "name.capitalize()"
   ]
  },
  {
   "cell_type": "code",
   "execution_count": 18,
   "metadata": {},
   "outputs": [
    {
     "data": {
      "text/plain": [
       "['__add__',\n",
       " '__class__',\n",
       " '__contains__',\n",
       " '__delattr__',\n",
       " '__dir__',\n",
       " '__doc__',\n",
       " '__eq__',\n",
       " '__format__',\n",
       " '__ge__',\n",
       " '__getattribute__',\n",
       " '__getitem__',\n",
       " '__getnewargs__',\n",
       " '__gt__',\n",
       " '__hash__',\n",
       " '__init__',\n",
       " '__init_subclass__',\n",
       " '__iter__',\n",
       " '__le__',\n",
       " '__len__',\n",
       " '__lt__',\n",
       " '__mod__',\n",
       " '__mul__',\n",
       " '__ne__',\n",
       " '__new__',\n",
       " '__reduce__',\n",
       " '__reduce_ex__',\n",
       " '__repr__',\n",
       " '__rmod__',\n",
       " '__rmul__',\n",
       " '__setattr__',\n",
       " '__sizeof__',\n",
       " '__str__',\n",
       " '__subclasshook__',\n",
       " 'capitalize',\n",
       " 'casefold',\n",
       " 'center',\n",
       " 'count',\n",
       " 'encode',\n",
       " 'endswith',\n",
       " 'expandtabs',\n",
       " 'find',\n",
       " 'format',\n",
       " 'format_map',\n",
       " 'index',\n",
       " 'isalnum',\n",
       " 'isalpha',\n",
       " 'isascii',\n",
       " 'isdecimal',\n",
       " 'isdigit',\n",
       " 'isidentifier',\n",
       " 'islower',\n",
       " 'isnumeric',\n",
       " 'isprintable',\n",
       " 'isspace',\n",
       " 'istitle',\n",
       " 'isupper',\n",
       " 'join',\n",
       " 'ljust',\n",
       " 'lower',\n",
       " 'lstrip',\n",
       " 'maketrans',\n",
       " 'partition',\n",
       " 'removeprefix',\n",
       " 'removesuffix',\n",
       " 'replace',\n",
       " 'rfind',\n",
       " 'rindex',\n",
       " 'rjust',\n",
       " 'rpartition',\n",
       " 'rsplit',\n",
       " 'rstrip',\n",
       " 'split',\n",
       " 'splitlines',\n",
       " 'startswith',\n",
       " 'strip',\n",
       " 'swapcase',\n",
       " 'title',\n",
       " 'translate',\n",
       " 'upper',\n",
       " 'zfill']"
      ]
     },
     "execution_count": 18,
     "metadata": {},
     "output_type": "execute_result"
    }
   ],
   "source": [
    "dir(name)"
   ]
  },
  {
   "cell_type": "code",
   "execution_count": 19,
   "metadata": {},
   "outputs": [],
   "source": [
    "#variableName?, variableName??, help(variableName), ?variableName\n",
    "# name.lower"
   ]
  },
  {
   "cell_type": "code",
   "execution_count": 20,
   "metadata": {},
   "outputs": [],
   "source": [
    "#Function\n",
    "# Return-> we can assign value to any other variable\n",
    "# Non-Return -> we can't assign value to any other variable\n"
   ]
  },
  {
   "cell_type": "code",
   "execution_count": 21,
   "metadata": {},
   "outputs": [
    {
     "name": "stdout",
     "output_type": "stream",
     "text": [
      "Pakistan\n",
      "None\n"
     ]
    }
   ],
   "source": [
    "a = print(\"Pakistan\") # Non-Return Function\n",
    "print(a)"
   ]
  },
  {
   "cell_type": "code",
   "execution_count": 22,
   "metadata": {},
   "outputs": [
    {
     "name": "stdout",
     "output_type": "stream",
     "text": [
      "15\n"
     ]
    }
   ],
   "source": [
    "def abc(x):\n",
    "    return x + 10\n",
    "\n",
    "a = abc(5)\n",
    "print(a)"
   ]
  },
  {
   "cell_type": "markdown",
   "metadata": {},
   "source": [
    "#### List Methods"
   ]
  },
  {
   "cell_type": "code",
   "execution_count": 23,
   "metadata": {},
   "outputs": [
    {
     "name": "stdout",
     "output_type": "stream",
     "text": [
      "<class 'list'>\n",
      "['__add__', '__class__', '__class_getitem__', '__contains__', '__delattr__', '__delitem__', '__dir__', '__doc__', '__eq__', '__format__', '__ge__', '__getattribute__', '__getitem__', '__gt__', '__hash__', '__iadd__', '__imul__', '__init__', '__init_subclass__', '__iter__', '__le__', '__len__', '__lt__', '__mul__', '__ne__', '__new__', '__reduce__', '__reduce_ex__', '__repr__', '__reversed__', '__rmul__', '__setattr__', '__setitem__', '__sizeof__', '__str__', '__subclasshook__', 'append', 'clear', 'copy', 'count', 'extend', 'index', 'insert', 'pop', 'remove', 'reverse', 'sort']\n"
     ]
    }
   ],
   "source": [
    "l1 = ['Qasim',\"Nasir Hussain\",20, \"A.I\"]\n",
    "print(type(l1))\n",
    "print(dir(l1))"
   ]
  },
  {
   "cell_type": "code",
   "execution_count": 24,
   "metadata": {},
   "outputs": [],
   "source": [
    "#Object\n",
    "# Method -> Perform any action -> variable.MethodName()  \"()\"\n",
    "# Attribute,property,field -> have some value -> variable.AttributeName "
   ]
  },
  {
   "cell_type": "code",
   "execution_count": 25,
   "metadata": {},
   "outputs": [],
   "source": [
    "l1 = ['Qasim',\"Nasir Hussain\",20, \"A.I\"]\n",
    "# l1.append"
   ]
  },
  {
   "cell_type": "code",
   "execution_count": 26,
   "metadata": {},
   "outputs": [
    {
     "name": "stdout",
     "output_type": "stream",
     "text": [
      "['Qasim', 'Nasir Hussain', 20, 'A.I']\n",
      "['Qasim', 'Nasir Hussain', 20, 'A.I', 'Anees Ahmed']\n"
     ]
    }
   ],
   "source": [
    "l1 = ['Qasim',\"Nasir Hussain\",20, \"A.I\"] #old list\n",
    "print(l1)\n",
    "l1.append(\"Anees Ahmed\")# add new element in last \n",
    "print(l1) #updated list\n"
   ]
  },
  {
   "cell_type": "code",
   "execution_count": 27,
   "metadata": {},
   "outputs": [
    {
     "name": "stdout",
     "output_type": "stream",
     "text": [
      "['Qasim', 'Nasir Hussain', 20, 'A.I']\n",
      "['Qasim', 'Nasir Hussain', 20, 'A.I', 20]\n"
     ]
    }
   ],
   "source": [
    "l1 = ['Qasim',\"Nasir Hussain\",20, \"A.I\"] #old list\n",
    "print(l1)\n",
    "l1.append(20)# add new element in last \n",
    "print(l1) #updated list\n"
   ]
  },
  {
   "cell_type": "code",
   "execution_count": 28,
   "metadata": {},
   "outputs": [
    {
     "name": "stdout",
     "output_type": "stream",
     "text": [
      "['Qasim', 'Nasir Hussain', 20, 'A.I']\n",
      "['Qasim', 'Nasir Hussain', 20, 'A.I', False]\n"
     ]
    }
   ],
   "source": [
    "l1 = ['Qasim',\"Nasir Hussain\",20, \"A.I\"] #old list\n",
    "print(l1)\n",
    "l1.append(False)# add new element in last \n",
    "print(l1) #updated list\n"
   ]
  },
  {
   "cell_type": "code",
   "execution_count": 29,
   "metadata": {},
   "outputs": [
    {
     "name": "stdout",
     "output_type": "stream",
     "text": [
      "['Qasim', 'Nasir Hussain', 20, 'A.I']\n",
      "['Qasim', 'Nasir Hussain', 20, 'A.I', [2, 3, 4]]\n"
     ]
    }
   ],
   "source": [
    "l1 = ['Qasim',\"Nasir Hussain\",20, \"A.I\"] #old list\n",
    "print(l1)\n",
    "l1.append([2,3,4])# add new element in last \n",
    "print(l1) #updated list"
   ]
  },
  {
   "cell_type": "code",
   "execution_count": 30,
   "metadata": {},
   "outputs": [
    {
     "data": {
      "text/plain": [
       "['Hassan', 'Ali', 'Khan', 'Zubair']"
      ]
     },
     "execution_count": 30,
     "metadata": {},
     "output_type": "execute_result"
    }
   ],
   "source": [
    "names = []\n",
    "while True:\n",
    "    name = input(\"Enter Student Name:\")\n",
    "    if name == 'No':\n",
    "        break\n",
    "    names.append(name)\n",
    "    \n",
    "names    "
   ]
  },
  {
   "cell_type": "code",
   "execution_count": 31,
   "metadata": {},
   "outputs": [
    {
     "name": "stdout",
     "output_type": "stream",
     "text": [
      "['Qasim', 'Nasir Hussain', 20, 'A.I']\n",
      "[]\n"
     ]
    }
   ],
   "source": [
    "l1 = ['Qasim',\"Nasir Hussain\",20, \"A.I\"] #old list\n",
    "print(l1)\n",
    "l1.clear()# add new element in last \n",
    "print(l1)"
   ]
  },
  {
   "cell_type": "code",
   "execution_count": 32,
   "metadata": {},
   "outputs": [],
   "source": [
    "l1 = ['Qasim',\"Nasir Hussain\",20, \"A.I\"] #old list"
   ]
  },
  {
   "cell_type": "markdown",
   "metadata": {},
   "source": [
    "### Slicing"
   ]
  },
  {
   "cell_type": "code",
   "execution_count": 33,
   "metadata": {},
   "outputs": [
    {
     "name": "stdout",
     "output_type": "stream",
     "text": [
      "['Dr Noman', 'Anees Ahmed']\n",
      "['Dr Noman', 'Anees Ahmed', 'Nasir Hussain']\n",
      "['Dr Noman', 'Anees Ahmed', 'Nasir Hussain']\n",
      "['Inam ul Haq', 'Anees Ahmed', 'Muhamamd Qasim']\n"
     ]
    }
   ],
   "source": [
    "#extract more than one values from any list, tuple or np.array\n",
    "#list[start,end,step]\n",
    "#tuple[start,end,step]\n",
    "#np.array[start:end:step] (\":\"->seprator)\n",
    "#start = first index number you have to use to slicing (Include)\n",
    "#end = first index number you have to use to slicing (exnclude)\n",
    "#step = sequance\n",
    "\n",
    "#              0            1           2            3                4\n",
    "names = [\"Inam ul Haq\",\"Dr Noman\",\"Anees Ahmed\",\"Nasir Hussain\",\"Muhamamd Qasim\"]\n",
    "#             -5           -4          -3           -2                -1\n",
    "#list[start:end:step]\n",
    "print(names[1:3])# DrNoman --- Nasir Hussain\n",
    "print(names[1:4])# DrNoman --- Nasir Hussain\n",
    "print(names[-4:-1])# DrNoman --- Nasir Hussain\n",
    "print(names[::2])# DrNoman --- Nasir Hussain"
   ]
  },
  {
   "cell_type": "code",
   "execution_count": 34,
   "metadata": {},
   "outputs": [
    {
     "name": "stdout",
     "output_type": "stream",
     "text": [
      "[1, 2, 3, 4, 5, 6, 7, 8, 9, 10]\n",
      "[3, 4, 5, 6, 7, 8, 9, 10]\n",
      "[3, 4, 5, 6, 7, 8, 9, 10]\n",
      "[3, 4, 5, 6, 7, 8, 9, 10]\n"
     ]
    }
   ],
   "source": [
    "numbers = list(range(1,11))\n",
    "print(numbers)\n",
    "print(numbers[2:])\n",
    "print(numbers[2::])\n",
    "print(numbers[-8:])"
   ]
  },
  {
   "cell_type": "code",
   "execution_count": 35,
   "metadata": {},
   "outputs": [
    {
     "name": "stdout",
     "output_type": "stream",
     "text": [
      "[1, 2, 3, 4, 5, 6, 7, 8, 9, 10]\n",
      "[1, 2, 3, 4, 5, 6, 7, 8, 9, 10]\n"
     ]
    }
   ],
   "source": [
    "numbers = list(range(1,11))\n",
    "print(numbers)\n",
    "print(numbers[::1])"
   ]
  },
  {
   "cell_type": "code",
   "execution_count": 36,
   "metadata": {},
   "outputs": [
    {
     "name": "stdout",
     "output_type": "stream",
     "text": [
      "[1, 2, 3, 4, 5, 6, 7, 8, 9, 10]\n",
      "[1, 3, 5, 7, 9]\n"
     ]
    }
   ],
   "source": [
    "numbers = list(range(1,11))\n",
    "print(numbers)\n",
    "print(numbers[::2])"
   ]
  },
  {
   "cell_type": "code",
   "execution_count": 37,
   "metadata": {},
   "outputs": [
    {
     "name": "stdout",
     "output_type": "stream",
     "text": [
      "[1, 2, 3, 4, 5, 6, 7, 8, 9, 10]\n",
      "[1, 4, 7, 10]\n"
     ]
    }
   ],
   "source": [
    "numbers = list(range(1,11))\n",
    "print(numbers)\n",
    "print(numbers[::3])"
   ]
  },
  {
   "cell_type": "markdown",
   "metadata": {},
   "source": [
    "---"
   ]
  },
  {
   "cell_type": "code",
   "execution_count": 38,
   "metadata": {},
   "outputs": [
    {
     "data": {
      "text/plain": [
       "[1, 2, 3, 4, 5, 6, 7, 8, 9, 10]"
      ]
     },
     "execution_count": 38,
     "metadata": {},
     "output_type": "execute_result"
    }
   ],
   "source": [
    "num = [1,2,3,4,5,6,7,8,9,10]\n",
    "num"
   ]
  },
  {
   "cell_type": "code",
   "execution_count": 39,
   "metadata": {},
   "outputs": [
    {
     "data": {
      "text/plain": [
       "[]"
      ]
     },
     "execution_count": 39,
     "metadata": {},
     "output_type": "execute_result"
    }
   ],
   "source": [
    "num[6:1]"
   ]
  },
  {
   "cell_type": "code",
   "execution_count": 40,
   "metadata": {},
   "outputs": [
    {
     "data": {
      "text/plain": [
       "[3, 4, 5, 6, 7, 8]"
      ]
     },
     "execution_count": 40,
     "metadata": {},
     "output_type": "execute_result"
    }
   ],
   "source": [
    "num[-8:8]"
   ]
  },
  {
   "cell_type": "code",
   "execution_count": 41,
   "metadata": {},
   "outputs": [
    {
     "data": {
      "text/plain": [
       "[]"
      ]
     },
     "execution_count": 41,
     "metadata": {},
     "output_type": "execute_result"
    }
   ],
   "source": [
    "num[-5:-9]"
   ]
  },
  {
   "cell_type": "code",
   "execution_count": 42,
   "metadata": {},
   "outputs": [
    {
     "data": {
      "text/plain": [
       "[2, 3, 4, 5]"
      ]
     },
     "execution_count": 42,
     "metadata": {},
     "output_type": "execute_result"
    }
   ],
   "source": [
    "num[-9:-5]"
   ]
  },
  {
   "cell_type": "code",
   "execution_count": 43,
   "metadata": {},
   "outputs": [
    {
     "data": {
      "text/plain": [
       "[10, 9, 8, 7, 6, 5, 4, 3, 2, 1]"
      ]
     },
     "execution_count": 43,
     "metadata": {},
     "output_type": "execute_result"
    }
   ],
   "source": [
    "num[::-1]"
   ]
  },
  {
   "cell_type": "code",
   "execution_count": 44,
   "metadata": {},
   "outputs": [
    {
     "name": "stdout",
     "output_type": "stream",
     "text": [
      "<class 'list'>\n",
      "<class 'list'>\n",
      "<class 'int'>\n"
     ]
    }
   ],
   "source": [
    "print(type(num))\n",
    "print(type(num[-9:-5]))\n",
    "print(type(num[-9]))"
   ]
  }
 ],
 "metadata": {
  "kernelspec": {
   "display_name": "Python 3",
   "language": "python",
   "name": "python3"
  },
  "language_info": {
   "codemirror_mode": {
    "name": "ipython",
    "version": 3
   },
   "file_extension": ".py",
   "mimetype": "text/x-python",
   "name": "python",
   "nbconvert_exporter": "python",
   "pygments_lexer": "ipython3",
   "version": "3.10.1"
  }
 },
 "nbformat": 4,
 "nbformat_minor": 2
}
