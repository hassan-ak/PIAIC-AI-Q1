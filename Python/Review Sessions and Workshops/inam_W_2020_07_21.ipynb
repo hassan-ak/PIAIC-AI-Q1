{
 "cells": [
  {
   "cell_type": "markdown",
   "metadata": {},
   "source": [
    "# WorkShop - Inam UL Haq - 2020/07/21"
   ]
  },
  {
   "cell_type": "code",
   "execution_count": 1,
   "metadata": {},
   "outputs": [
    {
     "name": "stdout",
     "output_type": "stream",
     "text": [
      "Pakistan Zindabad\n",
      "Pakistan Zindabad\n",
      "Pakistan Zindabad\n",
      "Pakistan Zindabad\n",
      "Pakistan Zindabad\n"
     ]
    }
   ],
   "source": [
    "print(\"Pakistan Zindabad\")\n",
    "print(\"Pakistan Zindabad\")\n",
    "print(\"Pakistan Zindabad\")\n",
    "print(\"Pakistan Zindabad\")\n",
    "print(\"Pakistan Zindabad\")"
   ]
  },
  {
   "cell_type": "code",
   "execution_count": 2,
   "metadata": {},
   "outputs": [
    {
     "name": "stdout",
     "output_type": "stream",
     "text": [
      "Pakistan Zindabad\n",
      "Pakistan Zindabad\n",
      "Pakistan Zindabad\n",
      "Pakistan Zindabad\n",
      "Pakistan Zindabad\n"
     ]
    }
   ],
   "source": [
    "for i in range(5):\n",
    "    print(\"Pakistan Zindabad\")"
   ]
  },
  {
   "cell_type": "code",
   "execution_count": 3,
   "metadata": {},
   "outputs": [
    {
     "name": "stdout",
     "output_type": "stream",
     "text": [
      "Lahore Zindabad\n",
      "Lahore Zindabad\n",
      "Lahore Zindabad\n",
      "Lahore Zindabad\n",
      "Lahore Zindabad\n"
     ]
    }
   ],
   "source": [
    "place = \"Lahore\"\n",
    "for i in range(5):\n",
    "    print(f\"{place} Zindabad\")"
   ]
  },
  {
   "cell_type": "code",
   "execution_count": 4,
   "metadata": {},
   "outputs": [
    {
     "name": "stdout",
     "output_type": "stream",
     "text": [
      "Lahore Zindabad 0\n",
      "Lahore Zindabad 1\n",
      "Lahore Zindabad 2\n",
      "Lahore Zindabad 3\n"
     ]
    }
   ],
   "source": [
    "place = \"Lahore\"\n",
    "for i in range(5):\n",
    "    print(f\"{place} Zindabad\",i)\n",
    "    if i == 3:\n",
    "        break"
   ]
  },
  {
   "cell_type": "code",
   "execution_count": 5,
   "metadata": {},
   "outputs": [
    {
     "name": "stdout",
     "output_type": "stream",
     "text": [
      "2 x 1 = 2\n",
      "2 x 2 = 4\n",
      "2 x 3 = 6\n",
      "2 x 4 = 8\n",
      "2 x 5 = 10\n",
      "2 x 6 = 12\n",
      "2 x 7 = 14\n",
      "2 x 8 = 16\n",
      "2 x 9 = 18\n",
      "2 x 10 = 20\n"
     ]
    }
   ],
   "source": [
    "num = int(input(\"Enter a number : \"))\n",
    "for multiplier in range(1,11):\n",
    "    print(f\"{num} x {multiplier} = {num*multiplier}\")"
   ]
  },
  {
   "cell_type": "code",
   "execution_count": 6,
   "metadata": {},
   "outputs": [
    {
     "name": "stdout",
     "output_type": "stream",
     "text": [
      "5 x 1 = 2\t6 x 1 = 2\n",
      "5 x 2 = 4\t6 x 2 = 4\n",
      "5 x 3 = 6\t6 x 3 = 6\n",
      "5 x 4 = 8\t6 x 4 = 8\n",
      "5 x 5 = 10\t6 x 5 = 10\n",
      "5 x 6 = 12\t6 x 6 = 12\n",
      "5 x 7 = 14\t6 x 7 = 14\n",
      "5 x 8 = 16\t6 x 8 = 16\n",
      "5 x 9 = 18\t6 x 9 = 18\n",
      "5 x 10 = 20\t6 x 10 = 20\n"
     ]
    }
   ],
   "source": [
    "num1 = int(input(\"Enter 1st number : \"))\n",
    "num2 = int(input(\"Enter 2nd number : \"))\n",
    "for multiplier in range(1,11):\n",
    "    print(f\"{num1} x {multiplier} = {num*multiplier}\", end=\"\\t\")\n",
    "    print(f\"{num2} x {multiplier} = {num*multiplier}\")"
   ]
  },
  {
   "cell_type": "code",
   "execution_count": 7,
   "metadata": {},
   "outputs": [
    {
     "name": "stdout",
     "output_type": "stream",
     "text": [
      "1 x 1 = 1\t2 x 1 = 2\t3 x 1 = 3\t4 x 1 = 4\t5 x 1 = 5\t\n",
      "1 x 2 = 1\t2 x 2 = 2\t3 x 2 = 3\t4 x 2 = 4\t5 x 2 = 5\t\n",
      "1 x 3 = 1\t2 x 3 = 2\t3 x 3 = 3\t4 x 3 = 4\t5 x 3 = 5\t\n",
      "1 x 4 = 1\t2 x 4 = 2\t3 x 4 = 3\t4 x 4 = 4\t5 x 4 = 5\t\n",
      "1 x 5 = 1\t2 x 5 = 2\t3 x 5 = 3\t4 x 5 = 4\t5 x 5 = 5\t\n"
     ]
    }
   ],
   "source": [
    "counter = int(input(\"Enter counter : \"))\n",
    "startTable = int(input(\"Enter start table : \"))\n",
    "endTable = int(input(\"Enter end table : \"))\n",
    "for i in range (1,counter+1):\n",
    "    for j in range(startTable,endTable+1):\n",
    "        print(f\"{j} x {i} = {j*1}\",end=\"\\t\")\n",
    "    print(\"\")"
   ]
  },
  {
   "cell_type": "markdown",
   "metadata": {},
   "source": [
    "---"
   ]
  },
  {
   "cell_type": "code",
   "execution_count": 8,
   "metadata": {},
   "outputs": [
    {
     "name": "stdout",
     "output_type": "stream",
     "text": [
      "Pakistan\n"
     ]
    }
   ],
   "source": [
    "if True:\n",
    "    print(\"Pakistan\")\n",
    "else:\n",
    "    print(\"Lahore\")"
   ]
  },
  {
   "cell_type": "code",
   "execution_count": 9,
   "metadata": {},
   "outputs": [
    {
     "name": "stdout",
     "output_type": "stream",
     "text": [
      "Pakistan\n"
     ]
    }
   ],
   "source": [
    "print(\"Pakistan\") if True else print(\"Lahore\")"
   ]
  },
  {
   "cell_type": "code",
   "execution_count": 10,
   "metadata": {},
   "outputs": [
    {
     "data": {
      "text/plain": [
       "['2 x 0 = 0',\n",
       " '2 x 1 = 2',\n",
       " '2 x 2 = 4',\n",
       " '2 x 3 = 6',\n",
       " '2 x 4 = 8',\n",
       " '2 x 5 = 10',\n",
       " '2 x 6 = 12',\n",
       " '2 x 7 = 14',\n",
       " '2 x 8 = 16',\n",
       " '2 x 9 = 18']"
      ]
     },
     "execution_count": 10,
     "metadata": {},
     "output_type": "execute_result"
    }
   ],
   "source": [
    "[f\"{2} x {i} = {2*i}\" for i in range(10)]"
   ]
  },
  {
   "cell_type": "code",
   "execution_count": 11,
   "metadata": {},
   "outputs": [],
   "source": [
    "# break\n",
    "# continue\n",
    "# pass"
   ]
  },
  {
   "cell_type": "code",
   "execution_count": 12,
   "metadata": {},
   "outputs": [
    {
     "name": "stdout",
     "output_type": "stream",
     "text": [
      "abc\n"
     ]
    }
   ],
   "source": [
    "# counter\n",
    "# condition\n",
    "# increment / decrement\n",
    "\n",
    "while True:\n",
    "    print(\"abc\")\n",
    "    break"
   ]
  },
  {
   "cell_type": "code",
   "execution_count": 13,
   "metadata": {},
   "outputs": [
    {
     "name": "stdout",
     "output_type": "stream",
     "text": [
      "1\n",
      "2\n",
      "3\n",
      "4\n",
      "5\n",
      "6\n",
      "7\n",
      "8\n",
      "9\n",
      "10\n"
     ]
    }
   ],
   "source": [
    "test = 1\n",
    "while test <= 10:\n",
    "    print(test)\n",
    "    test += 1"
   ]
  },
  {
   "cell_type": "code",
   "execution_count": 14,
   "metadata": {},
   "outputs": [
    {
     "data": {
      "text/plain": [
       "[['a', 'a'], ['b', 'b'], ['c', 'c']]"
      ]
     },
     "execution_count": 14,
     "metadata": {},
     "output_type": "execute_result"
    }
   ],
   "source": [
    "database = []\n",
    "while True:\n",
    "    user = input(\"user name or x\")\n",
    "    passwd = input(\"password or x\")\n",
    "    if user == \"x\" or passwd == \"x\":\n",
    "        break\n",
    "    database.append([user,passwd])\n",
    "database"
   ]
  },
  {
   "cell_type": "code",
   "execution_count": 15,
   "metadata": {},
   "outputs": [
    {
     "name": "stdout",
     "output_type": "stream",
     "text": [
      "Invalid user\n",
      "Invalid user\n",
      "Valid User\n"
     ]
    }
   ],
   "source": [
    "user_name = input(\"userName : \")\n",
    "password = input(\"password : \")\n",
    "for r in database:\n",
    "    if user_name == r[0] and password == r[1]:\n",
    "        print(\"Valid User\")\n",
    "        break\n",
    "    else:\n",
    "        print(\"Invalid user\")"
   ]
  }
 ],
 "metadata": {
  "interpreter": {
   "hash": "36936de28985cacfc4da12bbbf55d3c1f6084aa27c30ac425efd6e5a861cd2e0"
  },
  "kernelspec": {
   "display_name": "Python 3.10.1 64-bit",
   "language": "python",
   "name": "python3"
  },
  "language_info": {
   "codemirror_mode": {
    "name": "ipython",
    "version": 3
   },
   "file_extension": ".py",
   "mimetype": "text/x-python",
   "name": "python",
   "nbconvert_exporter": "python",
   "pygments_lexer": "ipython3",
   "version": "3.10.1"
  },
  "orig_nbformat": 4
 },
 "nbformat": 4,
 "nbformat_minor": 2
}
