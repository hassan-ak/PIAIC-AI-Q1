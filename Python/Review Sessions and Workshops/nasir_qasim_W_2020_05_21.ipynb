{
 "cells": [
  {
   "cell_type": "markdown",
   "metadata": {},
   "source": [
    "# WorkShop - Nasir Hussain and Muhammad Qasim - 2020/05/21"
   ]
  },
  {
   "cell_type": "code",
   "execution_count": 1,
   "metadata": {},
   "outputs": [
    {
     "name": "stdout",
     "output_type": "stream",
     "text": [
      "<class 'dict'>\n",
      "{'name': 'Hassan', 100: 12000, 1: 'Nasir Hussain'}\n"
     ]
    }
   ],
   "source": [
    "mydic = {\"name\":\"Hassan\",100:12000,1:\"Nasir Hussain\"}\n",
    "print(type(mydic))\n",
    "print(mydic)"
   ]
  },
  {
   "cell_type": "code",
   "execution_count": 2,
   "metadata": {},
   "outputs": [
    {
     "name": "stdout",
     "output_type": "stream",
     "text": [
      "Nasir Hussain\n",
      "Hassan\n"
     ]
    }
   ],
   "source": [
    "print(mydic[1])\n",
    "print(mydic[\"name\"])"
   ]
  },
  {
   "cell_type": "code",
   "execution_count": 3,
   "metadata": {},
   "outputs": [
    {
     "data": {
      "text/plain": [
       "{'name': 'Hassan', 100: 12000, 1: 'Nasir Hussain', 'class': 'AI', 'batch': 6}"
      ]
     },
     "execution_count": 3,
     "metadata": {},
     "output_type": "execute_result"
    }
   ],
   "source": [
    "mydic[\"class\"]=\"AI\"\n",
    "mydic[\"batch\"]=6\n",
    "mydic"
   ]
  },
  {
   "cell_type": "code",
   "execution_count": 4,
   "metadata": {},
   "outputs": [
    {
     "data": {
      "text/plain": [
       "{'name': 'Hassan',\n",
       " 100: 12000,\n",
       " 1: 'Nasir Hussain',\n",
       " 'class': 'AI',\n",
       " 'batch': 6,\n",
       " 'students': ['ansir', 'ali', 'imran']}"
      ]
     },
     "execution_count": 4,
     "metadata": {},
     "output_type": "execute_result"
    }
   ],
   "source": [
    "mydic[\"students\"]=[\"ansir\",\"ali\",\"imran\"]\n",
    "mydic"
   ]
  },
  {
   "cell_type": "markdown",
   "metadata": {},
   "source": [
    "---"
   ]
  },
  {
   "cell_type": "code",
   "execution_count": 5,
   "metadata": {},
   "outputs": [],
   "source": [
    "list1 = [1,2,3,4,5,6]\n",
    "list2 = ['a','s']"
   ]
  },
  {
   "cell_type": "code",
   "execution_count": 6,
   "metadata": {},
   "outputs": [
    {
     "data": {
      "text/plain": [
       "{'key1': ['a', 's'], 'key2': [1, 2, 3, 4, 5, 6]}"
      ]
     },
     "execution_count": 6,
     "metadata": {},
     "output_type": "execute_result"
    }
   ],
   "source": [
    "newdic = {\"key1\":list2,\"key2\":list1}\n",
    "newdic"
   ]
  },
  {
   "cell_type": "code",
   "execution_count": 7,
   "metadata": {},
   "outputs": [
    {
     "data": {
      "text/plain": [
       "[1, 2, 3, 4, 5, 6]"
      ]
     },
     "execution_count": 7,
     "metadata": {},
     "output_type": "execute_result"
    }
   ],
   "source": [
    "newdic[\"key2\"]"
   ]
  },
  {
   "cell_type": "code",
   "execution_count": 8,
   "metadata": {},
   "outputs": [
    {
     "data": {
      "text/plain": [
       "3"
      ]
     },
     "execution_count": 8,
     "metadata": {},
     "output_type": "execute_result"
    }
   ],
   "source": [
    "newdic[\"key2\"][2]"
   ]
  },
  {
   "cell_type": "code",
   "execution_count": 9,
   "metadata": {},
   "outputs": [
    {
     "data": {
      "text/plain": [
       "[2, 3, 4]"
      ]
     },
     "execution_count": 9,
     "metadata": {},
     "output_type": "execute_result"
    }
   ],
   "source": [
    "newdic[\"key2\"][1:4]"
   ]
  },
  {
   "cell_type": "markdown",
   "metadata": {},
   "source": [
    "---"
   ]
  },
  {
   "cell_type": "code",
   "execution_count": 10,
   "metadata": {},
   "outputs": [
    {
     "data": {
      "text/plain": [
       "{'name': 'Hassan',\n",
       " 100: 12000,\n",
       " 1: 'Nasir Hussain',\n",
       " 'class': 'AI',\n",
       " 'batch': 6,\n",
       " 'students': ['ansir', 'ali', 'imran']}"
      ]
     },
     "execution_count": 10,
     "metadata": {},
     "output_type": "execute_result"
    }
   ],
   "source": [
    "mydic"
   ]
  },
  {
   "cell_type": "code",
   "execution_count": 11,
   "metadata": {},
   "outputs": [
    {
     "data": {
      "text/plain": [
       "{'name': 'Hassan',\n",
       " 100: 12000,\n",
       " 1: 'Nasir Hussain',\n",
       " 'class': 'AI',\n",
       " 'batch': 11,\n",
       " 'students': ['ansir', 'ali', 'imran']}"
      ]
     },
     "execution_count": 11,
     "metadata": {},
     "output_type": "execute_result"
    }
   ],
   "source": [
    "mydic[\"batch\"] = 11\n",
    "mydic"
   ]
  },
  {
   "cell_type": "markdown",
   "metadata": {},
   "source": [
    "---"
   ]
  },
  {
   "cell_type": "code",
   "execution_count": 12,
   "metadata": {},
   "outputs": [
    {
     "data": {
      "text/plain": [
       "{'key1': {'name': 'Hassan', 'age': 29},\n",
       " 'key2': {'name': 'Zubair', 'age': 25},\n",
       " 'key3': [1, 2, 3, 4, 5]}"
      ]
     },
     "execution_count": 12,
     "metadata": {},
     "output_type": "execute_result"
    }
   ],
   "source": [
    "nestDic = {\"key1\":{\"name\":\"Hassan\",\"age\":29},\"key2\":{\"name\":\"Zubair\",\"age\":25},\"key3\":[1,2,3,4,5]}\n",
    "nestDic"
   ]
  },
  {
   "cell_type": "code",
   "execution_count": 13,
   "metadata": {},
   "outputs": [
    {
     "data": {
      "text/plain": [
       "'Zubair'"
      ]
     },
     "execution_count": 13,
     "metadata": {},
     "output_type": "execute_result"
    }
   ],
   "source": [
    "nestDic[\"key2\"][\"name\"]"
   ]
  },
  {
   "cell_type": "code",
   "execution_count": 14,
   "metadata": {},
   "outputs": [
    {
     "data": {
      "text/plain": [
       "1"
      ]
     },
     "execution_count": 14,
     "metadata": {},
     "output_type": "execute_result"
    }
   ],
   "source": [
    "nestDic[\"key3\"][0]"
   ]
  },
  {
   "cell_type": "markdown",
   "metadata": {},
   "source": [
    "---"
   ]
  },
  {
   "cell_type": "code",
   "execution_count": 15,
   "metadata": {},
   "outputs": [
    {
     "data": {
      "text/plain": [
       "[1, 2, 3, 4, 5, 6]"
      ]
     },
     "execution_count": 15,
     "metadata": {},
     "output_type": "execute_result"
    }
   ],
   "source": [
    "list1"
   ]
  },
  {
   "cell_type": "code",
   "execution_count": 16,
   "metadata": {},
   "outputs": [
    {
     "name": "stdout",
     "output_type": "stream",
     "text": [
      "1\n",
      "2\n",
      "3\n",
      "4\n",
      "5\n",
      "6\n"
     ]
    }
   ],
   "source": [
    "for a in list1:\n",
    "    print(a)"
   ]
  },
  {
   "cell_type": "code",
   "execution_count": 17,
   "metadata": {},
   "outputs": [
    {
     "data": {
      "text/plain": [
       "{'name': 'Hassan',\n",
       " 100: 12000,\n",
       " 1: 'Nasir Hussain',\n",
       " 'class': 'AI',\n",
       " 'batch': 11,\n",
       " 'students': ['ansir', 'ali', 'imran']}"
      ]
     },
     "execution_count": 17,
     "metadata": {},
     "output_type": "execute_result"
    }
   ],
   "source": [
    "mydic"
   ]
  },
  {
   "cell_type": "code",
   "execution_count": 18,
   "metadata": {},
   "outputs": [
    {
     "name": "stdout",
     "output_type": "stream",
     "text": [
      "name\n",
      "100\n",
      "1\n",
      "class\n",
      "batch\n",
      "students\n"
     ]
    }
   ],
   "source": [
    "for k in mydic.keys():\n",
    "    print(k)"
   ]
  },
  {
   "cell_type": "code",
   "execution_count": 19,
   "metadata": {},
   "outputs": [
    {
     "name": "stdout",
     "output_type": "stream",
     "text": [
      "Hassan\n",
      "12000\n",
      "Nasir Hussain\n",
      "AI\n",
      "11\n",
      "['ansir', 'ali', 'imran']\n"
     ]
    }
   ],
   "source": [
    "for v in mydic.values():\n",
    "    print(v)"
   ]
  },
  {
   "cell_type": "code",
   "execution_count": 20,
   "metadata": {},
   "outputs": [
    {
     "name": "stdout",
     "output_type": "stream",
     "text": [
      "Hassan\n",
      "12000\n",
      "Nasir Hussain\n",
      "AI\n",
      "11\n",
      "['ansir', 'ali', 'imran']\n"
     ]
    }
   ],
   "source": [
    "for k in mydic.keys():\n",
    "    print(mydic[k])"
   ]
  },
  {
   "cell_type": "code",
   "execution_count": 21,
   "metadata": {},
   "outputs": [
    {
     "name": "stdout",
     "output_type": "stream",
     "text": [
      "name Hassan\n",
      "100 12000\n",
      "1 Nasir Hussain\n",
      "class AI\n",
      "batch 11\n",
      "students ['ansir', 'ali', 'imran']\n"
     ]
    }
   ],
   "source": [
    "for v,k in mydic.items():\n",
    "    print(v,k)"
   ]
  },
  {
   "cell_type": "markdown",
   "metadata": {},
   "source": [
    "---"
   ]
  },
  {
   "cell_type": "code",
   "execution_count": 22,
   "metadata": {},
   "outputs": [
    {
     "data": {
      "text/plain": [
       "{'key1': {'name': 'Hassan', 'age': 29},\n",
       " 'key2': {'name': 'Zubair', 'age': 25},\n",
       " 'key3': {'name': 'Umair', 'age': 28}}"
      ]
     },
     "execution_count": 22,
     "metadata": {},
     "output_type": "execute_result"
    }
   ],
   "source": [
    "nestDic = {'key1': {'name': 'Hassan', 'age': 29},\n",
    "            'key2': {'name': 'Zubair', 'age': 25},\n",
    "            'key3': {'name': 'Umair', 'age': 28},\n",
    "            }\n",
    "nestDic"
   ]
  },
  {
   "cell_type": "code",
   "execution_count": 23,
   "metadata": {},
   "outputs": [
    {
     "name": "stdout",
     "output_type": "stream",
     "text": [
      "name\n",
      "age\n",
      "name\n",
      "age\n",
      "name\n",
      "age\n"
     ]
    }
   ],
   "source": [
    "for k in nestDic.keys():\n",
    "    for k2 in nestDic[k].keys():\n",
    "        print(k2)"
   ]
  },
  {
   "cell_type": "markdown",
   "metadata": {},
   "source": [
    "---"
   ]
  },
  {
   "cell_type": "code",
   "execution_count": 24,
   "metadata": {},
   "outputs": [
    {
     "data": {
      "text/plain": [
       "{'studemts': ['asad', 'fahad', 'ali', 'nasir', 'qasim'],\n",
       " 'rollNum': [12, 13, 14, 15, 16],\n",
       " 'age': [22, 23, 46, 13, 26],\n",
       " 'course': ['AI', 'BCC', 'CNC', 'IOT', '5G']}"
      ]
     },
     "execution_count": 24,
     "metadata": {},
     "output_type": "execute_result"
    }
   ],
   "source": [
    "import pandas as pd\n",
    "data = {\"studemts\":[\"asad\",\"fahad\",\"ali\",\"nasir\",\"qasim\"],\n",
    "        \"rollNum\":[12,13,14,15,16],\n",
    "        \"age\":[22,23,46,13,26],\n",
    "        \"course\":[\"AI\",\"BCC\",\"CNC\",\"IOT\",\"5G\"]}\n",
    "data"
   ]
  },
  {
   "cell_type": "code",
   "execution_count": 25,
   "metadata": {},
   "outputs": [
    {
     "data": {
      "text/html": [
       "<div>\n",
       "<style scoped>\n",
       "    .dataframe tbody tr th:only-of-type {\n",
       "        vertical-align: middle;\n",
       "    }\n",
       "\n",
       "    .dataframe tbody tr th {\n",
       "        vertical-align: top;\n",
       "    }\n",
       "\n",
       "    .dataframe thead th {\n",
       "        text-align: right;\n",
       "    }\n",
       "</style>\n",
       "<table border=\"1\" class=\"dataframe\">\n",
       "  <thead>\n",
       "    <tr style=\"text-align: right;\">\n",
       "      <th></th>\n",
       "      <th>studemts</th>\n",
       "      <th>rollNum</th>\n",
       "      <th>age</th>\n",
       "      <th>course</th>\n",
       "    </tr>\n",
       "  </thead>\n",
       "  <tbody>\n",
       "    <tr>\n",
       "      <th>0</th>\n",
       "      <td>asad</td>\n",
       "      <td>12</td>\n",
       "      <td>22</td>\n",
       "      <td>AI</td>\n",
       "    </tr>\n",
       "    <tr>\n",
       "      <th>1</th>\n",
       "      <td>fahad</td>\n",
       "      <td>13</td>\n",
       "      <td>23</td>\n",
       "      <td>BCC</td>\n",
       "    </tr>\n",
       "    <tr>\n",
       "      <th>2</th>\n",
       "      <td>ali</td>\n",
       "      <td>14</td>\n",
       "      <td>46</td>\n",
       "      <td>CNC</td>\n",
       "    </tr>\n",
       "    <tr>\n",
       "      <th>3</th>\n",
       "      <td>nasir</td>\n",
       "      <td>15</td>\n",
       "      <td>13</td>\n",
       "      <td>IOT</td>\n",
       "    </tr>\n",
       "    <tr>\n",
       "      <th>4</th>\n",
       "      <td>qasim</td>\n",
       "      <td>16</td>\n",
       "      <td>26</td>\n",
       "      <td>5G</td>\n",
       "    </tr>\n",
       "  </tbody>\n",
       "</table>\n",
       "</div>"
      ],
      "text/plain": [
       "  studemts  rollNum  age course\n",
       "0     asad       12   22     AI\n",
       "1    fahad       13   23    BCC\n",
       "2      ali       14   46    CNC\n",
       "3    nasir       15   13    IOT\n",
       "4    qasim       16   26     5G"
      ]
     },
     "execution_count": 25,
     "metadata": {},
     "output_type": "execute_result"
    }
   ],
   "source": [
    "dataframe = pd.DataFrame(data)\n",
    "dataframe"
   ]
  },
  {
   "cell_type": "code",
   "execution_count": 26,
   "metadata": {},
   "outputs": [
    {
     "data": {
      "text/plain": [
       "('nasir', 22)"
      ]
     },
     "execution_count": 26,
     "metadata": {},
     "output_type": "execute_result"
    }
   ],
   "source": [
    "value = data[\"studemts\"][3],data[\"age\"][0]\n",
    "value"
   ]
  },
  {
   "cell_type": "markdown",
   "metadata": {},
   "source": [
    "---"
   ]
  },
  {
   "cell_type": "code",
   "execution_count": 27,
   "metadata": {},
   "outputs": [
    {
     "data": {
      "text/plain": [
       "[1, 2, 3, 4, 5, 6, 2, 3, 5, 7]"
      ]
     },
     "execution_count": 27,
     "metadata": {},
     "output_type": "execute_result"
    }
   ],
   "source": [
    "list1 = [1, 2, 3, 4, 5, 6]\n",
    "list0 = list1+[2,3,5,7]\n",
    "list0"
   ]
  },
  {
   "cell_type": "code",
   "execution_count": 28,
   "metadata": {},
   "outputs": [
    {
     "data": {
      "text/plain": [
       "{1, 2, 3, 4, 5, 6, 7}"
      ]
     },
     "execution_count": 28,
     "metadata": {},
     "output_type": "execute_result"
    }
   ],
   "source": [
    "myset = set(list0)\n",
    "myset"
   ]
  },
  {
   "cell_type": "code",
   "execution_count": 29,
   "metadata": {},
   "outputs": [
    {
     "name": "stdout",
     "output_type": "stream",
     "text": [
      "{'studemts': ['asad', 'fahad', 'ali', 'nasir', 'qasim'], 'rollNum': [12, 13, 14, 15, 16], 'age': [22, 23, 46, 13, 26], 'course': ['AI', 'BCC', 'CNC', 'IOT', '5G']}\n",
      "{'studemts': ['asad', 'fahad', 'ali', 'nasir', 'qasim'], 'rollNum': [12, 13, 14, 15, 16], 'age': [22, 23, 46, 13, 26], 'course': ['AI', 'BCC', 'CNC', 'IOT', '5G']}\n"
     ]
    }
   ],
   "source": [
    "print(data)\n",
    "print(data)"
   ]
  },
  {
   "cell_type": "code",
   "execution_count": 30,
   "metadata": {},
   "outputs": [
    {
     "data": {
      "text/plain": [
       "3"
      ]
     },
     "execution_count": 30,
     "metadata": {},
     "output_type": "execute_result"
    }
   ],
   "source": [
    "i = 250\n",
    "len(str(i))"
   ]
  }
 ],
 "metadata": {
  "kernelspec": {
   "display_name": "Python 3",
   "language": "python",
   "name": "python3"
  },
  "language_info": {
   "codemirror_mode": {
    "name": "ipython",
    "version": 3
   },
   "file_extension": ".py",
   "mimetype": "text/x-python",
   "name": "python",
   "nbconvert_exporter": "python",
   "pygments_lexer": "ipython3",
   "version": "3.10.1"
  }
 },
 "nbformat": 4,
 "nbformat_minor": 2
}
