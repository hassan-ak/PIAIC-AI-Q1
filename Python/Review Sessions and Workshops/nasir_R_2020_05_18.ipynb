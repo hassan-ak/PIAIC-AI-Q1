{
  "cells": [
    {
      "cell_type": "markdown",
      "metadata": {
        "id": "28dEXxinfBKg"
      },
      "source": [
        "# Review - Nasir Hussain - 2020/05/18"
      ]
    },
    {
      "cell_type": "code",
      "execution_count": 1,
      "metadata": {},
      "outputs": [
        {
          "name": "stdout",
          "output_type": "stream",
          "text": [
            "Muhammad Ali\n",
            "Muhammad Husnain\n",
            "Muhammad Khan\n",
            "Nasir Ali\n",
            "Nasir Husnain\n",
            "Nasir Khan\n",
            "Hussain Ali\n",
            "Hussain Husnain\n",
            "Hussain Khan\n"
          ]
        }
      ],
      "source": [
        "first_name = [\"Muhammad\", \"Nasir\", \"Hussain\"]\n",
        "last_name = [\"Ali\", \"Husnain\", \"Khan\"]\n",
        "for fname in first_name:\n",
        "    for lname in last_name:\n",
        "        full_name = f\"{fname} {lname}\"\n",
        "        print(full_name)"
      ]
    },
    {
      "cell_type": "code",
      "execution_count": 2,
      "metadata": {},
      "outputs": [
        {
          "name": "stdout",
          "output_type": "stream",
          "text": [
            "Your marks are = 75\n",
            "Your grade is = B\n"
          ]
        }
      ],
      "source": [
        "marks = int(input(\"Enter your marks : \"))\n",
        "print(f\"Your marks are = {marks}\")\n",
        "grade = \"\"\n",
        "if marks >= 90:\n",
        "    grade = \"A+\"\n",
        "elif marks >= 80:\n",
        "    grade = \"A\"\n",
        "elif marks >= 70:\n",
        "    grade = \"B\"\n",
        "elif marks >= 60:\n",
        "    grade = \"C\"\n",
        "elif marks >= 50:\n",
        "    grade = \"D\"\n",
        "else:\n",
        "    grade = \"F\"\n",
        "print(f\"Your grade is = {grade}\")"
      ]
    },
    {
      "cell_type": "code",
      "execution_count": 3,
      "metadata": {},
      "outputs": [
        {
          "name": "stdout",
          "output_type": "stream",
          "text": [
            "Age = 29\n",
            "You are good to go as you are above 20 years of age\n",
            "Gender = male\n",
            "You are good to go as you are male\n",
            "Job Status = employed\n",
            "Sorry this discount is only for un-employed\n",
            "No discount for you\n"
          ]
        }
      ],
      "source": [
        "age = int(input(\"Enter your age : \"))\n",
        "print(f\"Age = {age}\")\n",
        "if age >20:\n",
        "    print(\"You are good to go as you are above 20 years of age\")\n",
        "    gender = input(\"Enter your gender ( male / female ) : \")\n",
        "    print(f\"Gender = {gender}\")\n",
        "    if gender == \"male\":\n",
        "        print(\"You are good to go as you are male\")\n",
        "        job_status = input(\"Enter your job status ( employed / un-employed ) : \")\n",
        "        print(f\"Job Status = {job_status}\")\n",
        "        if job_status == \"un-employed\":    \n",
        "            print(\"You got 50% discount on fee\")\n",
        "        else:\n",
        "            print(\"Sorry this discount is only for un-employed\")\n",
        "            print(\"No discount for you\")   \n",
        "    else:\n",
        "        print(\"Sorry this discount is only for males\")\n",
        "        print(\"No discount for you\")\n",
        "else:\n",
        "    print(\"Sorry you are less than 20 years old\")\n",
        "    print(\"No discount for you\")"
      ]
    },
    {
      "cell_type": "code",
      "execution_count": 4,
      "metadata": {},
      "outputs": [
        {
          "name": "stdout",
          "output_type": "stream",
          "text": [
            "H\n",
            "a\n",
            "s\n",
            "s\n",
            "a\n",
            "n\n",
            " \n",
            "A\n",
            "l\n",
            "i\n",
            " \n",
            "K\n",
            "h\n",
            "a\n",
            "n\n"
          ]
        }
      ],
      "source": [
        "name = \"Hassan Ali Khan\"\n",
        "for letter in name:\n",
        "    print(letter)"
      ]
    },
    {
      "cell_type": "code",
      "execution_count": 5,
      "metadata": {},
      "outputs": [
        {
          "name": "stdout",
          "output_type": "stream",
          "text": [
            "Hassan\n",
            "Ali\n",
            "Khan\n"
          ]
        }
      ],
      "source": [
        "names= [\"Hassan\", \"Ali\", \"Khan\"]\n",
        "for name in names:\n",
        "    print(name)"
      ]
    },
    {
      "cell_type": "markdown",
      "metadata": {},
      "source": [
        "---"
      ]
    },
    {
      "cell_type": "code",
      "execution_count": 6,
      "metadata": {},
      "outputs": [],
      "source": [
        "# Class\n",
        "# Object\n",
        "# Constructor"
      ]
    },
    {
      "cell_type": "code",
      "execution_count": 7,
      "metadata": {},
      "outputs": [],
      "source": [
        "class Student():\n",
        "    # property / characteristic >>> Variable\n",
        "    def __init__(self,name,age,course,fee):\n",
        "        self.name = name\n",
        "        self.age = age\n",
        "        self.course = course\n",
        "        self.fee= fee\n",
        "    # behaviour >>> function / method\n",
        "    def attendingClass(self):\n",
        "        print(f\"{self.name} is of {self.age} attending class of {self.course} and fee is {self.fee}.\")\n",
        "    # submittingFee\n",
        "    # appearingExam\n"
      ]
    },
    {
      "cell_type": "code",
      "execution_count": 8,
      "metadata": {},
      "outputs": [
        {
          "name": "stdout",
          "output_type": "stream",
          "text": [
            "Hassan\n",
            "29\n",
            "AI\n",
            "1500\n"
          ]
        }
      ],
      "source": [
        "st1 = Student(\"Hassan\",29,\"AI\",1500)\n",
        "print(st1.name)\n",
        "print(st1.age)\n",
        "print(st1.course)\n",
        "print(st1.fee)"
      ]
    },
    {
      "cell_type": "code",
      "execution_count": 9,
      "metadata": {},
      "outputs": [
        {
          "name": "stdout",
          "output_type": "stream",
          "text": [
            "Hassan is of 29 attending class of AI and fee is 1500.\n"
          ]
        }
      ],
      "source": [
        "st1.attendingClass()"
      ]
    },
    {
      "cell_type": "markdown",
      "metadata": {},
      "source": [
        "---"
      ]
    },
    {
      "cell_type": "code",
      "execution_count": 10,
      "metadata": {},
      "outputs": [
        {
          "name": "stdout",
          "output_type": "stream",
          "text": [
            "0\n",
            "1\n",
            "2\n",
            "3\n",
            "4\n",
            "5\n",
            "6\n",
            "7\n",
            "8\n",
            "9\n"
          ]
        }
      ],
      "source": [
        "a = range(10)\n",
        "for i in a:\n",
        "    print(i)"
      ]
    },
    {
      "cell_type": "code",
      "execution_count": 11,
      "metadata": {},
      "outputs": [
        {
          "name": "stdout",
          "output_type": "stream",
          "text": [
            "My name is Hassan Ali Khan\n",
            "I am function not returning anything\n"
          ]
        },
        {
          "data": {
            "text/plain": [
              "200"
            ]
          },
          "execution_count": 11,
          "metadata": {},
          "output_type": "execute_result"
        }
      ],
      "source": [
        "def myFunction():\n",
        "    print(\"My name is Hassan Ali Khan\")\n",
        "    print(\"I am function not returning anything\")\n",
        "    return 100+100\n",
        "    print(\"After return\")\n",
        "value = myFunction()\n",
        "value"
      ]
    },
    {
      "cell_type": "markdown",
      "metadata": {},
      "source": [
        "---"
      ]
    },
    {
      "cell_type": "code",
      "execution_count": 12,
      "metadata": {},
      "outputs": [
        {
          "name": "stdout",
          "output_type": "stream",
          "text": [
            "{'myd1': {'name': ['w', 'e', 'r', 't']}, 'myd2': {'nums': [1, 2, 3, 4]}}\n",
            "{'name': ['w', 'e', 'r', 't']}\n",
            "{'nums': [1, 2, 3, 4]}\n",
            "[1, 2, 3, 4]\n",
            "3\n"
          ]
        }
      ],
      "source": [
        "dic1 = {\"name\":[\"w\",\"e\",\"r\",\"t\"]}\n",
        "dic2 = {\"nums\":[1,2,3,4]}\n",
        "mydic = {\"myd1\":dic1,\"myd2\":dic2}\n",
        "print(mydic)\n",
        "print(mydic[\"myd1\"])\n",
        "print(mydic[\"myd2\"])\n",
        "print(mydic[\"myd2\"][\"nums\"])\n",
        "print(mydic[\"myd2\"][\"nums\"][2])"
      ]
    },
    {
      "cell_type": "code",
      "execution_count": 13,
      "metadata": {},
      "outputs": [
        {
          "name": "stdout",
          "output_type": "stream",
          "text": [
            "[[1, 2, 3], [11, 22, 33], [111, 222, 333], [1111, 2222, 3333]]\n",
            "222\n"
          ]
        }
      ],
      "source": [
        "d2List = [[1,2,3],[11,22,33],[111,222,333],[1111,2222,3333]]\n",
        "print(d2List)\n",
        "print(d2List[2][1])"
      ]
    },
    {
      "cell_type": "code",
      "execution_count": 14,
      "metadata": {},
      "outputs": [
        {
          "name": "stdout",
          "output_type": "stream",
          "text": [
            "[[ 0  1  2  3  4]\n",
            " [ 5  6  7  8  9]\n",
            " [10 11 12 13 14]\n",
            " [15 16 17 18 19]]\n",
            "12\n"
          ]
        }
      ],
      "source": [
        "import numpy as np\n",
        "q = np.arange(20).reshape(4,5)\n",
        "print(q)\n",
        "print(q[2,2])"
      ]
    },
    {
      "cell_type": "code",
      "execution_count": 15,
      "metadata": {},
      "outputs": [
        {
          "data": {
            "text/plain": [
              "[0, 1, 2, 3, 4, 5, 6, 7, 8, 9]"
            ]
          },
          "execution_count": 15,
          "metadata": {},
          "output_type": "execute_result"
        }
      ],
      "source": [
        "b = []\n",
        "for i in range(10):\n",
        "    b.append(i)\n",
        "b"
      ]
    }
  ],
  "metadata": {
    "colab": {
      "collapsed_sections": [],
      "name": "inam_R_2020_04_19.ipynb",
      "provenance": []
    },
    "interpreter": {
      "hash": "36936de28985cacfc4da12bbbf55d3c1f6084aa27c30ac425efd6e5a861cd2e0"
    },
    "kernelspec": {
      "display_name": "Python 3.10.1 64-bit",
      "language": "python",
      "name": "python3"
    },
    "language_info": {
      "codemirror_mode": {
        "name": "ipython",
        "version": 3
      },
      "file_extension": ".py",
      "mimetype": "text/x-python",
      "name": "python",
      "nbconvert_exporter": "python",
      "pygments_lexer": "ipython3",
      "version": "3.10.1"
    },
    "orig_nbformat": 4
  },
  "nbformat": 4,
  "nbformat_minor": 0
}
