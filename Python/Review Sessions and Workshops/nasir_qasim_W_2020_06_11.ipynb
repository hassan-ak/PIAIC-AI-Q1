{
 "cells": [
  {
   "cell_type": "markdown",
   "metadata": {},
   "source": [
    "# WorkShop - Nasir Hussain and Muhammad Qasim - 2020/06/11"
   ]
  },
  {
   "cell_type": "markdown",
   "metadata": {},
   "source": [
    "- Topics:\n",
    "    - function\n",
    "        - function decleration\n",
    "        - function body\n",
    "        - function calling\n",
    "    - pre define function\n",
    "        - return function\n",
    "        - Non return function\n",
    "            - defualt function\n",
    "            - required arguments\n",
    "            - postional/keyword arguments\n",
    "            - optional arguments\n",
    "    - User define function\n",
    "        -Same as above "
   ]
  },
  {
   "cell_type": "markdown",
   "metadata": {},
   "source": [
    "# why we need of function in programming?"
   ]
  },
  {
   "cell_type": "code",
   "execution_count": 1,
   "metadata": {},
   "outputs": [
    {
     "name": "stdout",
     "output_type": "stream",
     "text": [
      "pakistan zinda bad\n",
      "We are pakistani\n",
      "We love our country\n"
     ]
    }
   ],
   "source": [
    "print(\"pakistan zinda bad\")\n",
    "print(\"We are pakistani\")\n",
    "print(\"We love our country\")"
   ]
  },
  {
   "cell_type": "code",
   "execution_count": 2,
   "metadata": {},
   "outputs": [
    {
     "name": "stdout",
     "output_type": "stream",
     "text": [
      "pakistan zinda bad\n",
      "We are pakistani\n",
      "We love our country\n",
      "pakistan zinda bad\n",
      "We are pakistani\n",
      "We love our country\n",
      "pakistan zinda bad\n",
      "We are pakistani\n",
      "We love our country\n"
     ]
    }
   ],
   "source": [
    "print(\"pakistan zinda bad\")\n",
    "print(\"We are pakistani\")\n",
    "print(\"We love our country\")\n",
    "\n",
    "print(\"pakistan zinda bad\")\n",
    "print(\"We are pakistani\")\n",
    "print(\"We love our country\")\n",
    "\n",
    "print(\"pakistan zinda bad\")\n",
    "print(\"We are pakistani\")\n",
    "print(\"We love our country\")"
   ]
  },
  {
   "cell_type": "markdown",
   "metadata": {},
   "source": [
    "# Now Create Function:"
   ]
  },
  {
   "cell_type": "code",
   "execution_count": 3,
   "metadata": {},
   "outputs": [
    {
     "name": "stdout",
     "output_type": "stream",
     "text": [
      "pakistan zinda bad\n",
      "We are pakistani\n",
      "We love our country\n",
      "========\n",
      "Hello World!\n",
      "pakistan zinda bad\n",
      "We are pakistani\n",
      "We love our country\n"
     ]
    }
   ],
   "source": [
    "# we have created defual user define fucntion.\n",
    "\n",
    "def abc(): # function decleration\n",
    "    print(\"pakistan zinda bad\") #function body \n",
    "    print(\"We are pakistani\")\n",
    "    print(\"We love our country\")# function body\n",
    "    \n",
    "abc() # function calling   \n",
    "print(\"========\")\n",
    "print(\"Hello World!\")\n",
    "abc()"
   ]
  },
  {
   "cell_type": "markdown",
   "metadata": {},
   "source": [
    "# Return Vs Non Return Function:"
   ]
  },
  {
   "cell_type": "code",
   "execution_count": 4,
   "metadata": {},
   "outputs": [
    {
     "name": "stdout",
     "output_type": "stream",
     "text": [
      "Pakistan\n",
      "None\n"
     ]
    }
   ],
   "source": [
    "a = print(\"Pakistan\") #Non Return\n",
    "print(a)"
   ]
  },
  {
   "cell_type": "code",
   "execution_count": 5,
   "metadata": {},
   "outputs": [
    {
     "name": "stdout",
     "output_type": "stream",
     "text": [
      "pakistan zinda bad\n",
      "We are pakistani\n",
      "We love our country\n",
      "None\n"
     ]
    }
   ],
   "source": [
    "\n",
    "def abc(): # function decleration\n",
    "    print(\"pakistan zinda bad\") #function body \n",
    "    print(\"We are pakistani\")\n",
    "    print(\"We love our country\")# function body\n",
    "    \n",
    "a = abc() # Non Return Fuction    \n",
    "print(a)"
   ]
  },
  {
   "cell_type": "code",
   "execution_count": 6,
   "metadata": {},
   "outputs": [
    {
     "name": "stdout",
     "output_type": "stream",
     "text": [
      "21\n"
     ]
    }
   ],
   "source": [
    "a = input(\"Enter any number\") # Return Fucntion\n",
    "print(a)"
   ]
  },
  {
   "cell_type": "code",
   "execution_count": 7,
   "metadata": {},
   "outputs": [
    {
     "data": {
      "text/plain": [
       "int"
      ]
     },
     "execution_count": 7,
     "metadata": {},
     "output_type": "execute_result"
    }
   ],
   "source": [
    "a = int(\"27\") # Return Function\n",
    "type(a) # Return Function"
   ]
  },
  {
   "cell_type": "markdown",
   "metadata": {},
   "source": [
    "# Required Argument Function"
   ]
  },
  {
   "cell_type": "code",
   "execution_count": 8,
   "metadata": {},
   "outputs": [
    {
     "name": "stdout",
     "output_type": "stream",
     "text": [
      "5\n",
      "7\n",
      "14\n"
     ]
    }
   ],
   "source": [
    "def add_two_numbers(n1,n2):\n",
    "    return n1 + n2\n",
    "\n",
    "a = add_two_numbers(2,3) #return function\n",
    "print(a)\n",
    "\n",
    "a = add_two_numbers(2,5) #return function\n",
    "print(a)\n",
    "\n",
    "a = add_two_numbers(5,9) #return function\n",
    "print(a)\n",
    "    \n",
    "    "
   ]
  },
  {
   "cell_type": "code",
   "execution_count": 9,
   "metadata": {},
   "outputs": [
    {
     "name": "stdout",
     "output_type": "stream",
     "text": [
      "5\n",
      "None\n"
     ]
    }
   ],
   "source": [
    "def add_two_numbers(n1,n2):\n",
    "    print(n1 + n2)\n",
    "    \n",
    "a = add_two_numbers(2,3) #return function\n",
    "print(a)\n",
    "    "
   ]
  },
  {
   "cell_type": "code",
   "execution_count": 10,
   "metadata": {},
   "outputs": [],
   "source": [
    "# add_two_numbers(8)"
   ]
  },
  {
   "cell_type": "markdown",
   "metadata": {},
   "source": [
    "# postional Argument\n",
    "- def add_two_numbers(n1,n2):\n",
    "- add_two_numbers(6,7)   # n1=6, n2=7 "
   ]
  },
  {
   "cell_type": "code",
   "execution_count": 11,
   "metadata": {},
   "outputs": [
    {
     "name": "stdout",
     "output_type": "stream",
     "text": [
      "13\n"
     ]
    }
   ],
   "source": [
    "add_two_numbers(6,7)"
   ]
  },
  {
   "cell_type": "code",
   "execution_count": 12,
   "metadata": {},
   "outputs": [
    {
     "name": "stdout",
     "output_type": "stream",
     "text": [
      "4\n",
      "-7\n"
     ]
    }
   ],
   "source": [
    "def subtract_n1_n2(n1,n2):\n",
    "    return n1 - n2\n",
    "\n",
    "print(subtract_n1_n2(7,3))\n",
    "print(subtract_n1_n2(5,12))"
   ]
  },
  {
   "cell_type": "markdown",
   "metadata": {},
   "source": [
    "##### Passing key word argument "
   ]
  },
  {
   "cell_type": "code",
   "execution_count": 13,
   "metadata": {},
   "outputs": [
    {
     "name": "stdout",
     "output_type": "stream",
     "text": [
      "4\n",
      "7\n"
     ]
    }
   ],
   "source": [
    "def subtract_n1_n2(n1,n2):\n",
    "    return n1 - n2\n",
    "\n",
    "print(subtract_n1_n2(n1=7,n2=3))\n",
    "print(subtract_n1_n2(n2=5,n1=12))"
   ]
  },
  {
   "cell_type": "code",
   "execution_count": 14,
   "metadata": {},
   "outputs": [
    {
     "name": "stdout",
     "output_type": "stream",
     "text": [
      "\n",
      "    PIAIC Student Card\n",
      "    Name: 1\n",
      "    Fahter's Name: Qasim\n",
      "    Course: Aslam\n",
      "    Timing: A.I\n",
      "    \n"
     ]
    }
   ],
   "source": [
    "def card(id, name, fname, course):\n",
    "    return \"\"\"\n",
    "    PIAIC Student Card\n",
    "    Name: {}\n",
    "    Fahter's Name: {}\n",
    "    Course: {}\n",
    "    Timing: {}\n",
    "    \"\"\".format(id,name,fname, course)\n",
    "\n",
    "print(card(1,\"Qasim\",\"Aslam\",\"A.I\"))"
   ]
  },
  {
   "cell_type": "code",
   "execution_count": 15,
   "metadata": {},
   "outputs": [
    {
     "name": "stdout",
     "output_type": "stream",
     "text": [
      "\n",
      "    PIAIC Student Card\n",
      "    Name: 12\n",
      "    Fahter's Name: Aslam\n",
      "    Course: Qasim\n",
      "    Timing: A.I\n",
      "    \n"
     ]
    }
   ],
   "source": [
    "print(card(12,\"Aslam\",\"Qasim\",\"A.I\"))"
   ]
  },
  {
   "cell_type": "code",
   "execution_count": 16,
   "metadata": {},
   "outputs": [
    {
     "name": "stdout",
     "output_type": "stream",
     "text": [
      "\n",
      "    PIAIC Student Card\n",
      "    Name: 7\n",
      "    Fahter's Name: Qasim\n",
      "    Course: Aslam\n",
      "    Timing: A.I\n",
      "    \n"
     ]
    }
   ],
   "source": [
    "print(card(name=\"Qasim\", id=7, fname=\"Aslam\", course=\"A.I\"))"
   ]
  },
  {
   "cell_type": "code",
   "execution_count": 17,
   "metadata": {},
   "outputs": [],
   "source": [
    "# card(1,'A')"
   ]
  },
  {
   "cell_type": "markdown",
   "metadata": {},
   "source": [
    "##### pass postional argument with list"
   ]
  },
  {
   "cell_type": "code",
   "execution_count": 18,
   "metadata": {},
   "outputs": [],
   "source": [
    "def card(id, name, fname, course):\n",
    "    return \"\"\"\n",
    "    PIAIC Student Card\n",
    "    Name: {}\n",
    "    Fahter's Name: {}\n",
    "    Course: {}\n",
    "    Timing: {}\n",
    "    \"\"\".format(id,name,fname, course)\n",
    "\n"
   ]
  },
  {
   "cell_type": "code",
   "execution_count": 19,
   "metadata": {},
   "outputs": [
    {
     "name": "stdout",
     "output_type": "stream",
     "text": [
      "\n",
      "    PIAIC Student Card\n",
      "    Name: 0\n",
      "    Fahter's Name: Asif\n",
      "    Course: Abid Khan\n",
      "    Timing: A.I\n",
      "    \n"
     ]
    }
   ],
   "source": [
    "l1 = [0,\"Asif\",\"Abid Khan\", \"A.I\"]\n",
    "\n",
    "print(card(l1[0], l1[1], l1[2], l1[3]))"
   ]
  },
  {
   "cell_type": "code",
   "execution_count": 20,
   "metadata": {},
   "outputs": [
    {
     "name": "stdout",
     "output_type": "stream",
     "text": [
      "\n",
      "    PIAIC Student Card\n",
      "    Name: 0\n",
      "    Fahter's Name: Asif\n",
      "    Course: Abid Khan\n",
      "    Timing: A.I\n",
      "    \n"
     ]
    }
   ],
   "source": [
    "l1 = [0,\"Asif\",\"Abid Khan\", \"A.I\"]\n",
    "print(card(*l1))"
   ]
  },
  {
   "cell_type": "code",
   "execution_count": 21,
   "metadata": {},
   "outputs": [
    {
     "name": "stdout",
     "output_type": "stream",
     "text": [
      "\n",
      "    PIAIC Student Card\n",
      "    Name: 0\n",
      "    Fahter's Name: Asif\n",
      "    Course: Abid Khan\n",
      "    Timing: A.I\n",
      "    \n"
     ]
    }
   ],
   "source": [
    "l1 = (0,\"Asif\",\"Abid Khan\", \"A.I\")\n",
    "\n",
    "print(card(*l1))"
   ]
  },
  {
   "cell_type": "markdown",
   "metadata": {},
   "source": [
    "##### pass keyword arguments with dictionary"
   ]
  },
  {
   "cell_type": "code",
   "execution_count": 22,
   "metadata": {},
   "outputs": [],
   "source": [
    "def card(sid, name, fname, course):\n",
    "    return \"\"\"\n",
    "    PIAIC Student Card\n",
    "    Id: {}\n",
    "    Name: {}\n",
    "    Fahter's Name: {}\n",
    "    Course: {}\n",
    "    \"\"\".format(sid,name,fname, course)"
   ]
  },
  {
   "cell_type": "code",
   "execution_count": 23,
   "metadata": {},
   "outputs": [
    {
     "name": "stdout",
     "output_type": "stream",
     "text": [
      "\n",
      "    PIAIC Student Card\n",
      "    Id: 27\n",
      "    Name: Qasim\n",
      "    Fahter's Name: Aslam\n",
      "    Course: A.I\n",
      "    \n"
     ]
    }
   ],
   "source": [
    "dic = {'name':'Qasim',\n",
    "      'fname':\"Aslam\",\n",
    "      'course':\"A.I\",\n",
    "      'sid': 27}\n",
    "\n",
    "print(card(**dic))"
   ]
  },
  {
   "cell_type": "markdown",
   "metadata": {},
   "source": [
    "### set defual argument values"
   ]
  },
  {
   "cell_type": "code",
   "execution_count": 24,
   "metadata": {},
   "outputs": [
    {
     "name": "stdout",
     "output_type": "stream",
     "text": [
      "2 9 0\n"
     ]
    },
    {
     "data": {
      "text/plain": [
       "11"
      ]
     },
     "execution_count": 24,
     "metadata": {},
     "output_type": "execute_result"
    }
   ],
   "source": [
    "def xyz_add(x=0, y=0, z=0):\n",
    "    print(x,y,z)\n",
    "    return x+y+z\n",
    "\n",
    "xyz_add(2,9)"
   ]
  },
  {
   "cell_type": "code",
   "execution_count": 25,
   "metadata": {},
   "outputs": [
    {
     "name": "stdout",
     "output_type": "stream",
     "text": [
      "8 20 5\n"
     ]
    },
    {
     "data": {
      "text/plain": [
       "33"
      ]
     },
     "execution_count": 25,
     "metadata": {},
     "output_type": "execute_result"
    }
   ],
   "source": [
    "xyz_add(8,20,5)"
   ]
  },
  {
   "cell_type": "code",
   "execution_count": 26,
   "metadata": {},
   "outputs": [
    {
     "name": "stdout",
     "output_type": "stream",
     "text": [
      "0 0 0\n"
     ]
    },
    {
     "data": {
      "text/plain": [
       "0"
      ]
     },
     "execution_count": 26,
     "metadata": {},
     "output_type": "execute_result"
    }
   ],
   "source": [
    "xyz_add()"
   ]
  },
  {
   "cell_type": "markdown",
   "metadata": {},
   "source": [
    "# Create function with unlimited parameters"
   ]
  },
  {
   "cell_type": "code",
   "execution_count": 27,
   "metadata": {},
   "outputs": [
    {
     "data": {
      "text/plain": [
       "2"
      ]
     },
     "execution_count": 27,
     "metadata": {},
     "output_type": "execute_result"
    }
   ],
   "source": [
    "def add_numbers(n1, *l):\n",
    "    return n1 + sum(l)\n",
    "\n",
    "add_numbers(2)"
   ]
  },
  {
   "cell_type": "code",
   "execution_count": 28,
   "metadata": {},
   "outputs": [
    {
     "data": {
      "text/plain": [
       "10"
      ]
     },
     "execution_count": 28,
     "metadata": {},
     "output_type": "execute_result"
    }
   ],
   "source": [
    "add_numbers(2,8)"
   ]
  },
  {
   "cell_type": "code",
   "execution_count": 29,
   "metadata": {},
   "outputs": [
    {
     "data": {
      "text/plain": [
       "75"
      ]
     },
     "execution_count": 29,
     "metadata": {},
     "output_type": "execute_result"
    }
   ],
   "source": [
    "add_numbers(2,9,9,38,3,2,2,3,4,3)"
   ]
  },
  {
   "cell_type": "code",
   "execution_count": 30,
   "metadata": {},
   "outputs": [],
   "source": [
    "# add_numbers(2,n2=3,n3=6)"
   ]
  },
  {
   "cell_type": "code",
   "execution_count": 31,
   "metadata": {},
   "outputs": [
    {
     "name": "stdout",
     "output_type": "stream",
     "text": [
      "{'n2': 3, 'n3': 7, 'n6': 7}\n"
     ]
    },
    {
     "data": {
      "text/plain": [
       "24"
      ]
     },
     "execution_count": 31,
     "metadata": {},
     "output_type": "execute_result"
    }
   ],
   "source": [
    "# Create function with unlimited parameters (key words)\n",
    "def add_key_numbers(n1, **d):\n",
    "    l1 = []\n",
    "    l1.append(n1)\n",
    "    \n",
    "    print(d)\n",
    "    for k, v in d.items():\n",
    "        l1.append(d[k])\n",
    "        \n",
    "    return sum(l1)\n",
    "\n",
    "add_key_numbers(n1=7,n2=3,n3=7,n6=7)"
   ]
  }
 ],
 "metadata": {
  "kernelspec": {
   "display_name": "Python 3",
   "language": "python",
   "name": "python3"
  },
  "language_info": {
   "codemirror_mode": {
    "name": "ipython",
    "version": 3
   },
   "file_extension": ".py",
   "mimetype": "text/x-python",
   "name": "python",
   "nbconvert_exporter": "python",
   "pygments_lexer": "ipython3",
   "version": "3.10.1"
  }
 },
 "nbformat": 4,
 "nbformat_minor": 4
}
