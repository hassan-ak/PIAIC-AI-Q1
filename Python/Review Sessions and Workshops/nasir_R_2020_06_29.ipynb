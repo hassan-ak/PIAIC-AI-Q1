{
  "cells": [
    {
      "cell_type": "markdown",
      "metadata": {
        "id": "28dEXxinfBKg"
      },
      "source": [
        "# Review - Nasir Hussain - 2020/06/29"
      ]
    },
    {
      "cell_type": "code",
      "execution_count": 1,
      "metadata": {},
      "outputs": [],
      "source": [
        "class Car():\n",
        "    \"\"\"A simple attempt to represent a car.\"\"\"\n",
        "    def __init__(self, make, model, year):\n",
        "        \"\"\"Initialize attributes to describe a car.\"\"\"\n",
        "        self.make = make\n",
        "        self.model = model\n",
        "        self.year = year\n",
        "        self.odometer_reading = 0\n",
        " \n",
        "    def get_descriptive_name(self):\n",
        "        \"\"\"Return a neatly formatted descriptive name.\"\"\"\n",
        "        long_name = str(self.year) + ' ' + self.make + ' ' + self.model\n",
        "        return long_name.title()\n",
        " \n",
        "    def read_odometer(self):\n",
        "        \"\"\"Print a statement showing the car's mileage.\"\"\"\n",
        "        print(\"This car has \" + str(self.odometer_reading) + \" miles on it.\")\n",
        " \n",
        "    def update_odometer(self, mileage):\n",
        "        \"\"\"\n",
        "        Set the odometer reading to the given value.\n",
        "        Reject the change if it attempts to roll the odometer back.\n",
        "        \"\"\"\n",
        "        if mileage >= self.odometer_reading:\n",
        "            self.odometer_reading = mileage\n",
        "        else:\n",
        "            print(\"You can't roll back an odometer!\")\n",
        "        \n",
        "    def increment_odometer(self, miles):\n",
        "        \"\"\"Add the given amount to the odometer reading.\"\"\"\n",
        "        self.odometer_reading += miles\n",
        "\n",
        "    def fill_tank(self):\n",
        "        print(\"Petrol tank is competelty filled\")"
      ]
    },
    {
      "cell_type": "code",
      "execution_count": 2,
      "metadata": {},
      "outputs": [],
      "source": [
        "class Battery():\n",
        "    def __init__(self, battery_size, battery_name, battery_weight,battery_plates):\n",
        "        self.battery_size = battery_size\n",
        "        self.battery_name = battery_name\n",
        "        self.battery_weight = battery_weight\n",
        "        self.battery_plates = battery_plates\n",
        "    def describe_battery(self):\n",
        "        \"\"\"Print a statement describing the battery size.\"\"\"\n",
        "        print(\"This car has a \" + str(self.battery_size) + \"-kWh battery.\")\n",
        "        print(\"This car has a \" + str(self.battery_name) + \"battery\")\n",
        "        print(\"This car has a \" + str(self.battery_weight) + \"-Kg battery.\")\n",
        "        print(\"This car has a battery with \" + str(self.battery_plates) + \" plates\")\n"
      ]
    },
    {
      "cell_type": "code",
      "execution_count": 3,
      "metadata": {},
      "outputs": [],
      "source": [
        "class ElectricCar(Car):\n",
        "    \"\"\"Represent aspects of a car, specific to electric vehicles.\"\"\"\n",
        "    def __init__(self, make, model, year):\n",
        "        \"\"\"Initialize attributes of the parent class.\"\"\"\n",
        "        super().__init__(make, model, year)\n",
        "        self.battery = Battery(12,\"Exide\",100,26)\n",
        "    def fill_tank(self):\n",
        "        print(\"No petrol tank installed\")"
      ]
    },
    {
      "cell_type": "code",
      "execution_count": 4,
      "metadata": {},
      "outputs": [
        {
          "name": "stdout",
          "output_type": "stream",
          "text": [
            "2016 Tesla Model S\n"
          ]
        }
      ],
      "source": [
        "my_tesla = ElectricCar('tesla', 'model s', 2016)\n",
        "print(my_tesla.get_descriptive_name())"
      ]
    },
    {
      "cell_type": "code",
      "execution_count": 5,
      "metadata": {},
      "outputs": [
        {
          "name": "stdout",
          "output_type": "stream",
          "text": [
            "This car has a 12-kWh battery.\n",
            "This car has a Exidebattery\n",
            "This car has a 100-Kg battery.\n",
            "This car has a battery with 26 plates\n"
          ]
        }
      ],
      "source": [
        "my_tesla.battery.describe_battery()"
      ]
    },
    {
      "cell_type": "code",
      "execution_count": 6,
      "metadata": {},
      "outputs": [
        {
          "name": "stdout",
          "output_type": "stream",
          "text": [
            "No petrol tank installed\n"
          ]
        }
      ],
      "source": [
        "my_tesla.fill_tank()"
      ]
    },
    {
      "cell_type": "markdown",
      "metadata": {},
      "source": [
        "---"
      ]
    },
    {
      "cell_type": "code",
      "execution_count": 7,
      "metadata": {},
      "outputs": [
        {
          "data": {
            "text/plain": [
              "43"
            ]
          },
          "execution_count": 7,
          "metadata": {},
          "output_type": "execute_result"
        }
      ],
      "source": [
        "import nasir_R_2020_06_29_my_module\n",
        "nasir_R_2020_06_29_my_module.myadd(15,28)"
      ]
    },
    {
      "cell_type": "code",
      "execution_count": 8,
      "metadata": {},
      "outputs": [
        {
          "data": {
            "text/plain": [
              "-13"
            ]
          },
          "execution_count": 8,
          "metadata": {},
          "output_type": "execute_result"
        }
      ],
      "source": [
        "nasir_R_2020_06_29_my_module.mysub(15,28)"
      ]
    },
    {
      "cell_type": "code",
      "execution_count": 9,
      "metadata": {},
      "outputs": [
        {
          "data": {
            "text/plain": [
              "420"
            ]
          },
          "execution_count": 9,
          "metadata": {},
          "output_type": "execute_result"
        }
      ],
      "source": [
        "nasir_R_2020_06_29_my_module.mymul(15,28)"
      ]
    },
    {
      "cell_type": "code",
      "execution_count": 10,
      "metadata": {},
      "outputs": [
        {
          "data": {
            "text/plain": [
              "0.5357142857142857"
            ]
          },
          "execution_count": 10,
          "metadata": {},
          "output_type": "execute_result"
        }
      ],
      "source": [
        "nasir_R_2020_06_29_my_module.mydiv(15,28)"
      ]
    },
    {
      "cell_type": "code",
      "execution_count": 11,
      "metadata": {},
      "outputs": [],
      "source": [
        "# %load nasir_R_2020_06_29_my_module\n",
        "def myadd(val1, val2):\n",
        "    return val1 + val2\n",
        "\n",
        "\n",
        "def mysub(val1, val2):\n",
        "    return val1 - val2\n",
        "\n",
        "\n",
        "def mymul(val1, val2):\n",
        "    return val1 * val2\n",
        "\n",
        "\n",
        "def mydiv(val1, val2):\n",
        "    return val1 / val2\n"
      ]
    },
    {
      "cell_type": "markdown",
      "metadata": {},
      "source": [
        "---"
      ]
    },
    {
      "cell_type": "code",
      "execution_count": 12,
      "metadata": {},
      "outputs": [
        {
          "ename": "ZeroDivisionError",
          "evalue": "division by zero",
          "output_type": "error",
          "traceback": [
            "\u001b[1;31m---------------------------------------------------------------------------\u001b[0m",
            "\u001b[1;31mZeroDivisionError\u001b[0m                         Traceback (most recent call last)",
            "\u001b[1;32mc:\\Users\\Hassan\\Desktop\\PIAIC\\AI\\Q1\\Python\\Review Sessions and Workshops\\nasir_R_2020_06_29\\nasir_R_2020_06_29.ipynb Cell 15'\u001b[0m in \u001b[0;36m<module>\u001b[1;34m\u001b[0m\n\u001b[1;32m----> <a href='vscode-notebook-cell:/c%3A/Users/Hassan/Desktop/PIAIC/AI/Q1/Python/Review%20Sessions%20and%20Workshops/nasir_R_2020_06_29/nasir_R_2020_06_29.ipynb#ch0000015?line=0'>1</a>\u001b[0m \u001b[39m5\u001b[39;49m\u001b[39m/\u001b[39;49m\u001b[39m0\u001b[39;49m\n",
            "\u001b[1;31mZeroDivisionError\u001b[0m: division by zero"
          ]
        }
      ],
      "source": [
        "5/0"
      ]
    },
    {
      "cell_type": "code",
      "execution_count": 13,
      "metadata": {},
      "outputs": [
        {
          "name": "stdout",
          "output_type": "stream",
          "text": [
            "2.5\n"
          ]
        }
      ],
      "source": [
        "a = 5\n",
        "b = 2\n",
        "try:\n",
        "    c = a/b\n",
        "except ZeroDivisionError:\n",
        "    print(\"Enter something other than zero\")\n",
        "except TypeError:\n",
        "    print(\"Enter some number\")\n",
        "else:\n",
        "    print(c) "
      ]
    },
    {
      "cell_type": "code",
      "execution_count": 14,
      "metadata": {},
      "outputs": [
        {
          "name": "stdout",
          "output_type": "stream",
          "text": [
            "unsupported operand type(s) for /: 'int' and 'str'\n",
            "*****\n"
          ]
        }
      ],
      "source": [
        "a = 5\n",
        "b = \"A\"\n",
        "try:\n",
        "    c = a/b\n",
        "except Exception as e:\n",
        "    print(f\"{e}\")\n",
        "else:\n",
        "    print(c) \n",
        "finally:\n",
        "    print(\"*****\")"
      ]
    }
  ],
  "metadata": {
    "colab": {
      "collapsed_sections": [],
      "name": "inam_R_2020_04_19.ipynb",
      "provenance": []
    },
    "interpreter": {
      "hash": "36936de28985cacfc4da12bbbf55d3c1f6084aa27c30ac425efd6e5a861cd2e0"
    },
    "kernelspec": {
      "display_name": "Python 3.10.1 64-bit",
      "language": "python",
      "name": "python3"
    },
    "language_info": {
      "codemirror_mode": {
        "name": "ipython",
        "version": 3
      },
      "file_extension": ".py",
      "mimetype": "text/x-python",
      "name": "python",
      "nbconvert_exporter": "python",
      "pygments_lexer": "ipython3",
      "version": "3.10.1"
    },
    "orig_nbformat": 4
  },
  "nbformat": 4,
  "nbformat_minor": 0
}
