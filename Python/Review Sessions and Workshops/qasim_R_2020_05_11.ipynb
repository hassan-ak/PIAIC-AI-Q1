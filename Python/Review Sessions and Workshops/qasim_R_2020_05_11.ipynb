{
 "cells": [
  {
   "cell_type": "markdown",
   "metadata": {},
   "source": [
    "# Review - Muhammad Qasim - 2020/05/11"
   ]
  },
  {
   "cell_type": "code",
   "execution_count": 1,
   "metadata": {},
   "outputs": [
    {
     "data": {
      "text/plain": [
       "['A',\n",
       " 1,\n",
       " 1.5,\n",
       " [1, 2, 3],\n",
       " ('a', 'b', 'c'),\n",
       " {8, 9, 12},\n",
       " {'key1': [1, 2, 3], 'key2': 'Ali'}]"
      ]
     },
     "execution_count": 1,
     "metadata": {},
     "output_type": "execute_result"
    }
   ],
   "source": [
    "# index   0   1   2      3          4           6                     6\n",
    "aList = [\"A\", 1, 1.5, [1,2,3],(\"a\",\"b\",\"c\"), {8,9,12}, {\"key1\":[1,2,3],\"key2\":\"Ali\"}]\n",
    "# index   -7  -6 -5     -4         -3           -2                    -1\n",
    "aList"
   ]
  },
  {
   "cell_type": "code",
   "execution_count": 2,
   "metadata": {},
   "outputs": [
    {
     "name": "stdout",
     "output_type": "stream",
     "text": [
      "('a', 'b', 'c')\n",
      "('a', 'b', 'c')\n"
     ]
    }
   ],
   "source": [
    "print(aList[4])\n",
    "print(aList[-3])\n"
   ]
  },
  {
   "cell_type": "code",
   "execution_count": 3,
   "metadata": {},
   "outputs": [
    {
     "name": "stdout",
     "output_type": "stream",
     "text": [
      "Name :  Hassan\n",
      "Father's name :  Zaheer\n",
      "Course :  AI\n",
      "Class time :  4:00\n"
     ]
    }
   ],
   "source": [
    "name = input(\"Enter your name : \")\n",
    "f_name = input(\"Enter your father's name : \")\n",
    "course = input(\"Enter your course : \")\n",
    "time = input(\"Enter your class time : \")\n",
    "print(\"Name : \",name)\n",
    "print(\"Father's name : \", f_name)\n",
    "print(\"Course : \", course)\n",
    "print(\"Class time : \", time)"
   ]
  },
  {
   "cell_type": "code",
   "execution_count": 4,
   "metadata": {},
   "outputs": [
    {
     "data": {
      "text/plain": [
       "{'name': 'Hassan', 'f_name': 'Zaheer', 'course': 'AI', 'time': '4:00'}"
      ]
     },
     "execution_count": 4,
     "metadata": {},
     "output_type": "execute_result"
    }
   ],
   "source": [
    "aDict = {\n",
    "    \"name\":name,\n",
    "    \"f_name\":f_name,\n",
    "    \"course\":course,\n",
    "    \"time\":time\n",
    "    }\n",
    "aDict"
   ]
  },
  {
   "cell_type": "code",
   "execution_count": 5,
   "metadata": {},
   "outputs": [
    {
     "name": "stdout",
     "output_type": "stream",
     "text": [
      "1112\n"
     ]
    }
   ],
   "source": [
    "a = input(\"Enter number1 : \")\n",
    "b = input(\"Enter number2 : \")\n",
    "print(a + b)"
   ]
  },
  {
   "cell_type": "code",
   "execution_count": 6,
   "metadata": {},
   "outputs": [
    {
     "name": "stdout",
     "output_type": "stream",
     "text": [
      "<class 'str'> <class 'str'>\n"
     ]
    }
   ],
   "source": [
    "print(type(a),type(b))"
   ]
  },
  {
   "cell_type": "code",
   "execution_count": 7,
   "metadata": {},
   "outputs": [
    {
     "name": "stdout",
     "output_type": "stream",
     "text": [
      "23\n"
     ]
    }
   ],
   "source": [
    "print(int(a) + int(b))"
   ]
  },
  {
   "cell_type": "code",
   "execution_count": 8,
   "metadata": {},
   "outputs": [
    {
     "name": "stdout",
     "output_type": "stream",
     "text": [
      "33188jnjnf-'';6897851meflerl9\n",
      "3318868978519\n"
     ]
    }
   ],
   "source": [
    "a = input(\"Enter yor CNIC\")\n",
    "print(a)\n",
    "cnic = int(\"\".join([x for x in a if str.isnumeric(x)]))\n",
    "print(cnic)"
   ]
  },
  {
   "cell_type": "code",
   "execution_count": 9,
   "metadata": {},
   "outputs": [
    {
     "data": {
      "text/plain": [
       "{'name': 'Hassan', 'f_name': 'Zaheer', 'course': 'AI', 'time': '4:00'}"
      ]
     },
     "execution_count": 9,
     "metadata": {},
     "output_type": "execute_result"
    }
   ],
   "source": [
    "aDict"
   ]
  },
  {
   "cell_type": "code",
   "execution_count": 10,
   "metadata": {},
   "outputs": [
    {
     "data": {
      "text/plain": [
       "'Hassan'"
      ]
     },
     "execution_count": 10,
     "metadata": {},
     "output_type": "execute_result"
    }
   ],
   "source": [
    "aDict[\"name\"]"
   ]
  },
  {
   "cell_type": "code",
   "execution_count": 11,
   "metadata": {},
   "outputs": [],
   "source": [
    "aDict.get(\"NAme\")"
   ]
  },
  {
   "cell_type": "code",
   "execution_count": 12,
   "metadata": {},
   "outputs": [
    {
     "data": {
      "text/plain": [
       "'Hassan'"
      ]
     },
     "execution_count": 12,
     "metadata": {},
     "output_type": "execute_result"
    }
   ],
   "source": [
    "aDict.get(\"name\")"
   ]
  },
  {
   "cell_type": "code",
   "execution_count": 13,
   "metadata": {},
   "outputs": [],
   "source": [
    "q = True\n",
    "newDic = {}\n",
    "while q == True:\n",
    "    k = input(\"Key : \")\n",
    "    if k == \"no\":\n",
    "        q = False\n",
    "    else:\n",
    "        v = input(\"Value : \")\n",
    "        newDic[k]=v\n"
   ]
  },
  {
   "cell_type": "code",
   "execution_count": 14,
   "metadata": {},
   "outputs": [
    {
     "data": {
      "text/plain": [
       "{'k1': 'v1', 'k2': 'v2'}"
      ]
     },
     "execution_count": 14,
     "metadata": {},
     "output_type": "execute_result"
    }
   ],
   "source": [
    "newDic"
   ]
  },
  {
   "cell_type": "code",
   "execution_count": 15,
   "metadata": {},
   "outputs": [
    {
     "data": {
      "text/plain": [
       "\"\\nPIAIC Student Card\\nRoll No: 1\\nName : Hassan\\nFather's Name : Zaheer\\nCourse: A.I\\n\""
      ]
     },
     "execution_count": 15,
     "metadata": {},
     "output_type": "execute_result"
    }
   ],
   "source": [
    "card = \"\"\"\n",
    "PIAIC Student Card\n",
    "Roll No: 1\n",
    "Name : Hassan\n",
    "Father's Name : Zaheer\n",
    "Course: A.I\n",
    "\"\"\"\n",
    "card"
   ]
  },
  {
   "cell_type": "code",
   "execution_count": 16,
   "metadata": {},
   "outputs": [
    {
     "data": {
      "text/plain": [
       "[[1, 'Hassan', 'Zaheer', 'A.I'],\n",
       " [2, 'Umair', 'Hafeez', 'CNC'],\n",
       " [3, 'Zubair', 'Hafeez', 'BCC'],\n",
       " [4, 'Saad', 'Farooq', 'IOT']]"
      ]
     },
     "execution_count": 16,
     "metadata": {},
     "output_type": "execute_result"
    }
   ],
   "source": [
    "database = [[1,\"Hassan\",\"Zaheer\",\"A.I\"],\n",
    "            [2,\"Umair\",\"Hafeez\",\"CNC\"],\n",
    "            [3,\"Zubair\",\"Hafeez\",\"BCC\"],\n",
    "            [4,\"Saad\",\"Farooq\",\"IOT\"]]\n",
    "database"
   ]
  },
  {
   "cell_type": "code",
   "execution_count": 17,
   "metadata": {},
   "outputs": [
    {
     "name": "stdout",
     "output_type": "stream",
     "text": [
      "\n",
      "    PIAIC Student Card\n",
      "    Roll No: 1\n",
      "    Name : Hassan\n",
      "    Father's Name : Zaheer\n",
      "    Course: A.I\n",
      "    \n",
      "\n",
      "    PIAIC Student Card\n",
      "    Roll No: 2\n",
      "    Name : Umair\n",
      "    Father's Name : Hafeez\n",
      "    Course: CNC\n",
      "    \n",
      "\n",
      "    PIAIC Student Card\n",
      "    Roll No: 3\n",
      "    Name : Zubair\n",
      "    Father's Name : Hafeez\n",
      "    Course: BCC\n",
      "    \n",
      "\n",
      "    PIAIC Student Card\n",
      "    Roll No: 4\n",
      "    Name : Saad\n",
      "    Father's Name : Farooq\n",
      "    Course: IOT\n",
      "    \n"
     ]
    }
   ],
   "source": [
    "for r in database:\n",
    "    card = \"\"\"\n",
    "    PIAIC Student Card\n",
    "    Roll No: {}\n",
    "    Name : {}\n",
    "    Father's Name : {}\n",
    "    Course: {}\n",
    "    \"\"\".format(r[0],r[1],r[2],r[3])\n",
    "    print(card)"
   ]
  },
  {
   "cell_type": "code",
   "execution_count": 18,
   "metadata": {},
   "outputs": [
    {
     "name": "stdout",
     "output_type": "stream",
     "text": [
      "\n",
      "    PIAIC Student Card\n",
      "    Roll No: 1\n",
      "    Name : Hassan\n",
      "    Father's Name : Zaheer\n",
      "    Course: A.I\n",
      "    \n",
      "\n",
      "    PIAIC Student Card\n",
      "    Roll No: 2\n",
      "    Name : Umair\n",
      "    Father's Name : Hafeez\n",
      "    Course: CNC\n",
      "    \n",
      "\n",
      "    PIAIC Student Card\n",
      "    Roll No: 3\n",
      "    Name : Zubair\n",
      "    Father's Name : Hafeez\n",
      "    Course: BCC\n",
      "    \n",
      "\n",
      "    PIAIC Student Card\n",
      "    Roll No: 4\n",
      "    Name : Saad\n",
      "    Father's Name : Farooq\n",
      "    Course: IOT\n",
      "    \n"
     ]
    }
   ],
   "source": [
    "for r in database:\n",
    "    card = f\"\"\"\n",
    "    PIAIC Student Card\n",
    "    Roll No: {r[0]}\n",
    "    Name : {r[1]}\n",
    "    Father's Name : {r[2]}\n",
    "    Course: {r[3]}\n",
    "    \"\"\"\n",
    "    print(card)"
   ]
  },
  {
   "cell_type": "code",
   "execution_count": 19,
   "metadata": {},
   "outputs": [
    {
     "data": {
      "text/plain": [
       "'Pakistan Zindabad'"
      ]
     },
     "execution_count": 19,
     "metadata": {},
     "output_type": "execute_result"
    }
   ],
   "source": [
    "a = \"Pakistan Zindabad\"\n",
    "a"
   ]
  },
  {
   "cell_type": "code",
   "execution_count": 20,
   "metadata": {},
   "outputs": [
    {
     "name": "stdout",
     "output_type": "stream",
     "text": [
      "['P', 'a', 'k', 'i', 's', 't', 'a', 'n', ' ', 'Z', 'i', 'n', 'd', 'a', 'b', 'a', 'd']\n"
     ]
    }
   ],
   "source": [
    "print(list(a))"
   ]
  },
  {
   "cell_type": "code",
   "execution_count": 21,
   "metadata": {},
   "outputs": [
    {
     "name": "stdout",
     "output_type": "stream",
     "text": [
      "['Pakistan', 'Zindabad']\n"
     ]
    }
   ],
   "source": [
    "print(a.split(\" \"))"
   ]
  },
  {
   "cell_type": "code",
   "execution_count": 22,
   "metadata": {},
   "outputs": [
    {
     "name": "stdout",
     "output_type": "stream",
     "text": [
      "['P', 'kist', 'n Zind', 'b', 'd']\n"
     ]
    }
   ],
   "source": [
    "print(a.split(\"a\"))"
   ]
  },
  {
   "cell_type": "code",
   "execution_count": 23,
   "metadata": {},
   "outputs": [
    {
     "data": {
      "text/plain": [
       "[1, 2, 3, 4, 5, 6, 7, 8, 9, 10]"
      ]
     },
     "execution_count": 23,
     "metadata": {},
     "output_type": "execute_result"
    }
   ],
   "source": [
    "list1 = [1,2,3,4,5,6,7,8,9,10]\n",
    "list1"
   ]
  },
  {
   "cell_type": "code",
   "execution_count": 24,
   "metadata": {},
   "outputs": [
    {
     "data": {
      "text/plain": [
       "10"
      ]
     },
     "execution_count": 24,
     "metadata": {},
     "output_type": "execute_result"
    }
   ],
   "source": [
    "last_element = list1.pop()\n",
    "last_element"
   ]
  },
  {
   "cell_type": "code",
   "execution_count": 25,
   "metadata": {},
   "outputs": [
    {
     "data": {
      "text/plain": [
       "[1, 2, 3, 4, 5, 6, 7, 8, 9]"
      ]
     },
     "execution_count": 25,
     "metadata": {},
     "output_type": "execute_result"
    }
   ],
   "source": [
    "list1"
   ]
  }
 ],
 "metadata": {
  "interpreter": {
   "hash": "36936de28985cacfc4da12bbbf55d3c1f6084aa27c30ac425efd6e5a861cd2e0"
  },
  "kernelspec": {
   "display_name": "Python 3.10.1 64-bit",
   "language": "python",
   "name": "python3"
  },
  "language_info": {
   "codemirror_mode": {
    "name": "ipython",
    "version": 3
   },
   "file_extension": ".py",
   "mimetype": "text/x-python",
   "name": "python",
   "nbconvert_exporter": "python",
   "pygments_lexer": "ipython3",
   "version": "3.10.1"
  },
  "orig_nbformat": 4
 },
 "nbformat": 4,
 "nbformat_minor": 2
}
