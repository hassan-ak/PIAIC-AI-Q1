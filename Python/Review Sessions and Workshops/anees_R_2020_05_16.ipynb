{
 "cells": [
  {
   "cell_type": "markdown",
   "metadata": {},
   "source": [
    "# Review - Anees Ahmad - 2020/05/16"
   ]
  },
  {
   "cell_type": "code",
   "execution_count": 1,
   "metadata": {},
   "outputs": [
    {
     "data": {
      "text/plain": [
       "{'rooms': [2, 3, 4],\n",
       " 'size': [100, 200, 300],\n",
       " 'area_rating': [3, 3, 3],\n",
       " 'location': [1, 2, 3],\n",
       " 'age': [20, 30, 30],\n",
       " 'condition': [4, 4, 4],\n",
       " 'price': [45, 75, 85]}"
      ]
     },
     "execution_count": 1,
     "metadata": {},
     "output_type": "execute_result"
    }
   ],
   "source": [
    "housingData = {\n",
    "    \"rooms\":[2,3,4],\n",
    "    \"size\":[100,200,300],\n",
    "    \"area_rating\":[3,3,3],\n",
    "    \"location\":[1,2,3],\n",
    "    \"age\":[20,30,30],\n",
    "    \"condition\":[4,4,4],\n",
    "    \"price\":[45,75,85]\n",
    "    }\n",
    "housingData"
   ]
  },
  {
   "cell_type": "code",
   "execution_count": 2,
   "metadata": {},
   "outputs": [],
   "source": [
    "housingDataValues = []\n",
    "housingDataLabels = []\n",
    "for x in housingData.values():\n",
    "    housingDataValues.append(x)\n",
    "for y in housingData.keys():\n",
    "    housingDataLabels.append(y)\n"
   ]
  },
  {
   "cell_type": "code",
   "execution_count": 3,
   "metadata": {},
   "outputs": [
    {
     "name": "stdout",
     "output_type": "stream",
     "text": [
      "['rooms', 'size', 'area_rating', 'location', 'age', 'condition', 'price']\n",
      "[[2, 3, 4], [100, 200, 300], [3, 3, 3], [1, 2, 3], [20, 30, 30], [4, 4, 4], [45, 75, 85]]\n"
     ]
    }
   ],
   "source": [
    "print(housingDataLabels)\n",
    "print(housingDataValues)"
   ]
  },
  {
   "cell_type": "code",
   "execution_count": 4,
   "metadata": {},
   "outputs": [
    {
     "name": "stdout",
     "output_type": "stream",
     "text": [
      "rooms  :  2\n",
      "size  :  100\n",
      "area_rating  :  3\n",
      "location  :  1\n",
      "age  :  20\n",
      "condition  :  4\n",
      "price  :  45\n"
     ]
    }
   ],
   "source": [
    "houseData = []\n",
    "houseNumber = int(input(\"Enter House No : \"))\n",
    "for x in housingDataValues:\n",
    "    houseData.append(x[houseNumber-1])\n",
    "for x in range(len(houseData)):\n",
    "    print(housingDataLabels[x],\" : \",houseData[x])"
   ]
  }
 ],
 "metadata": {
  "interpreter": {
   "hash": "36936de28985cacfc4da12bbbf55d3c1f6084aa27c30ac425efd6e5a861cd2e0"
  },
  "kernelspec": {
   "display_name": "Python 3.10.1 64-bit",
   "language": "python",
   "name": "python3"
  },
  "language_info": {
   "codemirror_mode": {
    "name": "ipython",
    "version": 3
   },
   "file_extension": ".py",
   "mimetype": "text/x-python",
   "name": "python",
   "nbconvert_exporter": "python",
   "pygments_lexer": "ipython3",
   "version": "3.10.1"
  },
  "orig_nbformat": 4
 },
 "nbformat": 4,
 "nbformat_minor": 2
}
